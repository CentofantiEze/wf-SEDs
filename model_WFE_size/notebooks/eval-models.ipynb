{
 "cells": [
  {
   "cell_type": "code",
   "execution_count": 17,
   "id": "7ab5ba7f",
   "metadata": {},
   "outputs": [],
   "source": [
    "import numpy as np\n",
    "\n",
    "import wf_psf as wf\n",
    "\n",
    "import matplotlib.pyplot as plt\n",
    "import matplotlib as mpl\n",
    "import matplotlib.ticker as mtick\n",
    "import seaborn as sns\n",
    "\n",
    "\n",
    "import sys\n",
    "import numpy as np\n",
    "import time\n",
    "import tensorflow as tf\n",
    "import tensorflow_addons as tfa\n"
   ]
  },
  {
   "cell_type": "code",
   "execution_count": 18,
   "id": "c208e41d",
   "metadata": {},
   "outputs": [],
   "source": [
    "def define_plot_style():\n",
    "    # Define plot paramters\n",
    "    # Use seaborn style\n",
    "    sns.set()\n",
    "    \n",
    "    plot_style = {\n",
    "        'figure.figsize': (12,8),\n",
    "        'figure.dpi': 200,\n",
    "        'figure.autolayout':True,\n",
    "        'lines.linewidth': 2,\n",
    "        'lines.linestyle': '-',\n",
    "        'lines.marker': 'o',\n",
    "        'lines.markersize': 10,\n",
    "        'legend.fontsize': 20,\n",
    "        'legend.loc': 'best',\n",
    "        'axes.titlesize': 24,\n",
    "        'font.size': 22\n",
    "    }\n",
    "    mpl.rcParams.update(plot_style)\n",
    "\n",
    "saving_folder ='../figures/'\n",
    "\n",
    "define_plot_style()\n",
    "sns.set(font_scale=1.5)\n"
   ]
  },
  {
   "cell_type": "code",
   "execution_count": 19,
   "id": "c4186440",
   "metadata": {},
   "outputs": [
    {
     "data": {
      "text/plain": [
       "dict_keys(['stars', 'super_res_stars', 'positions', 'SEDs', 'zernike_coef', 'C_poly', 'parameters'])"
      ]
     },
     "execution_count": 19,
     "metadata": {},
     "output_type": "execute_result"
    }
   ],
   "source": [
    "dataset_base_path = '/gpfswork/rech/ynx/ulx23va/repo/wf-SEDs/WFE_sampling_test/multires_dataset/4096/'\n",
    "\n",
    "data_4096 = np.load(dataset_base_path+'test_Euclid_res_id_005_wfeRes_4096.npy', allow_pickle=True)[()]\n",
    "data_256 = np.load(dataset_base_path+'test_Euclid_res_id_005_wfeRes_256.npy', allow_pickle=True)[()]\n",
    "\n",
    "\n",
    "data_4096.keys()\n"
   ]
  },
  {
   "cell_type": "code",
   "execution_count": 20,
   "id": "7c550d65",
   "metadata": {},
   "outputs": [],
   "source": [
    "def compute_stats(GT_preds, preds):\n",
    "    # Calculate residuals\n",
    "    residuals = np.sqrt(np.mean((GT_preds - preds)**2, axis=(1, 2)))\n",
    "    GT_star_mean = np.sqrt(np.mean((GT_preds)**2, axis=(1, 2)))\n",
    "\n",
    "    # RMSE calculations\n",
    "    rmse = np.mean(residuals)\n",
    "    rel_rmse = 100. * np.mean(residuals / GT_star_mean)\n",
    "\n",
    "    # STD calculations\n",
    "    std_rmse = np.std(residuals)\n",
    "    std_rel_rmse = 100. * np.std(residuals / GT_star_mean)\n",
    "\n",
    "    # Print RMSE values\n",
    "    print('Absolute RMSE:\\t %.4e \\t +/- %.4e' % (rmse, std_rmse))\n",
    "    print('Relative RMSE:\\t %.4e %% \\t +/- %.4e %%' % (rel_rmse, std_rel_rmse))\n",
    "\n",
    "    return rmse, rel_rmse, std_rmse, std_rel_rmse\n",
    "\n"
   ]
  },
  {
   "cell_type": "markdown",
   "id": "f62d606e",
   "metadata": {},
   "source": [
    "## Base error resolution x1"
   ]
  },
  {
   "cell_type": "code",
   "execution_count": 5,
   "id": "0fdaa0a1",
   "metadata": {},
   "outputs": [
    {
     "name": "stdout",
     "output_type": "stream",
     "text": [
      "Absolute RMSE:\t 3.4710e-05 \t +/- 7.3129e-06\n",
      "Relative RMSE:\t 4.6788e-01 % \t +/- 1.0713e-01 %\n"
     ]
    }
   ],
   "source": [
    "\n",
    "GT_preds = data_4096['stars']\n",
    "preds = data_256['stars']\n",
    "\n",
    "_ = compute_stats(GT_preds, preds)\n",
    "\n"
   ]
  },
  {
   "cell_type": "markdown",
   "id": "8c9dce36",
   "metadata": {},
   "source": [
    "## Base error resolution x3"
   ]
  },
  {
   "cell_type": "code",
   "execution_count": 6,
   "id": "79cb9be6",
   "metadata": {},
   "outputs": [
    {
     "name": "stdout",
     "output_type": "stream",
     "text": [
      "Absolute RMSE:\t 8.5248e-06 \t +/- 1.3512e-06\n",
      "Relative RMSE:\t 5.7081e-01 % \t +/- 1.0100e-01 %\n"
     ]
    }
   ],
   "source": [
    "\n",
    "GT_preds = data_4096['super_res_stars']\n",
    "preds = data_256['super_res_stars']\n",
    "\n",
    "_ = compute_stats(GT_preds, preds)\n"
   ]
  },
  {
   "cell_type": "markdown",
   "id": "d1f40fe8",
   "metadata": {},
   "source": [
    "## Generate x3 reconstructions"
   ]
  },
  {
   "cell_type": "code",
   "execution_count": 16,
   "id": "0c491b54",
   "metadata": {},
   "outputs": [],
   "source": [
    "args = {\n",
    "    'model': 'poly',\n",
    "    'model_eval': 'poly',\n",
    "    'base_id_name': '_wfe_study_resx3_256_bis_',\n",
    "    'id_name': '_wfe_study_resx3_256_bis_1',\n",
    "    'train_dataset_file': 'train_Euclid_res_2000_TrainStars_id_005_wfeRes_4096.npy',\n",
    "    'test_dataset_file': 'test_Euclid_res_id_005_wfeRes_4096.npy',\n",
    "    'n_epochs_param': [15, 15],\n",
    "    'n_epochs_non_param': [100, 50],\n",
    "    'n_zernikes': 15,\n",
    "    'gt_n_zernikes': 45,\n",
    "    'pupil_diameter': 256,\n",
    "    'oversampling_rate': 3.,\n",
    "    'output_q': 3.,\n",
    "    'output_dim': 32,\n",
    "    'batch_size': 32,\n",
    "    'd_max': 2,\n",
    "    'x_lims': [0, 1e3],\n",
    "    'y_lims': [0, 1e3],\n",
    "    'd_max_nonparam': 5,\n",
    "    'n_bins_lda': 20,\n",
    "    'eval_batch_size': 16,\n",
    "    'interpolation_type': 'none',\n",
    "    'l_rate_param': [0.01, 0.004],\n",
    "    'l_rate_non_param': [0.1, 0.06],\n",
    "    'saved_model_type': 'checkpoint',\n",
    "    'saved_cycle': 'cycle2',\n",
    "    'total_cycles': 2,\n",
    "    'use_sample_weights': True,\n",
    "    'l2_param': 0.,\n",
    "    'cycle_def': 'complete',\n",
    "    'suffix_id_name': ['1','2','3','4','5'],\n",
    "    'star_numbers': [1, 2, 3, 4, 5],\n",
    "    'train_opt': True,\n",
    "    'eval_opt':  True,\n",
    "    'plot_opt': True,\n",
    "    'base_path':  '/gpfswork/rech/ynx/ulx23va/repo/wf-SEDs/model_WFE_size/wf-outputs/',\n",
    "    'dataset_folder':  '/gpfswork/rech/ynx/ulx23va/repo/wf-SEDs/WFE_sampling_test/multires_dataset/4096/',\n",
    "    'metric_base_path':  '/gpfswork/rech/ynx/ulx23va/repo/wf-SEDs/model_WFE_size/wf-outputs/metrics/wfe_study_resx3_bis/',\n",
    "    'chkp_save_path':  '/gpfswork/rech/ynx/ulx23va/repo/wf-SEDs/model_WFE_size/wf-outputs/chkp/wfe_study_resx3_bis/',\n",
    "    'log_folder':  'log-files/wfe_study_resx3_bis/',\n",
    "    'model_folder':  'chkp/wfe_study_resx3_bis/',\n",
    "    'optim_hist_folder':  'optim-hist/wfe_study_resx3_bis/',\n",
    "    'plots_folder':  'plots/wfe_study_resx3_bis/',\n",
    "}\n"
   ]
  },
  {
   "cell_type": "code",
   "execution_count": 8,
   "id": "606eae09",
   "metadata": {},
   "outputs": [
    {
     "name": "stderr",
     "output_type": "stream",
     "text": [
      "2022-08-20 17:43:39.293704: I tensorflow/core/platform/cpu_feature_guard.cc:151] This TensorFlow binary is optimized with oneAPI Deep Neural Network Library (oneDNN) to use the following CPU instructions in performance-critical operations:  SSE3 SSE4.1 SSE4.2 AVX AVX2 AVX512F FMA\n",
      "To enable them in other operations, rebuild TensorFlow with the appropriate compiler flags.\n",
      "2022-08-20 17:43:39.963836: I tensorflow/core/common_runtime/gpu/gpu_device.cc:1525] Created device /job:localhost/replica:0/task:0/device:GPU:0 with 30986 MB memory:  -> device: 0, name: Tesla V100-SXM2-32GB, pci bus id: 0000:8a:00.0, compute capability: 7.0\n"
     ]
    }
   ],
   "source": [
    "# Load models\n",
    "test_dataset = np.load(args['dataset_folder'] + args['test_dataset_file'], allow_pickle=True)[()]\n",
    "test_stars = test_dataset['stars']\n",
    "test_pos = test_dataset['positions']\n",
    "test_SEDs = test_dataset['SEDs']\n",
    "# test_zernike_coef = test_dataset['zernike_coef']\n",
    "test_C_poly = test_dataset['C_poly']\n",
    "test_parameters = test_dataset['parameters']\n",
    "\n",
    "\n",
    "tf_test_pos = tf.convert_to_tensor(test_dataset['positions'], dtype=tf.float32)\n"
   ]
  },
  {
   "cell_type": "code",
   "execution_count": 12,
   "id": "95169b8e",
   "metadata": {},
   "outputs": [],
   "source": [
    "\n",
    "# Iterate through the model (bis_id), then through the pupil_diameter\n",
    "dataset_list = [\n",
    "    '064',\n",
    "    '128',\n",
    "    '256',\n",
    "    '256_benchmark',\n",
    "]\n",
    "\n",
    "pupil_diameter_list = [64, 128, 256, 256]\n",
    "\n",
    "n_realisations = 5\n",
    "\n",
    "# run_id_name = args['model'] + args['id_name']\n",
    "# poly_wfe_study_resx3_256_bis_1\n"
   ]
  },
  {
   "cell_type": "code",
   "execution_count": null,
   "id": "c61afd24",
   "metadata": {},
   "outputs": [
    {
     "name": "stdout",
     "output_type": "stream",
     "text": [
      "poly_wfe_study_resx3_064_bis_1\n",
      "poly_wfe_study_resx3_064_bis_2\n",
      "poly_wfe_study_resx3_064_bis_3\n",
      "poly_wfe_study_resx3_064_bis_4\n",
      "poly_wfe_study_resx3_064_bis_5\n",
      "WARNING:tensorflow:Unresolved object in checkpoint: (root).optimizer.iter\n",
      "WARNING:tensorflow:Unresolved object in checkpoint: (root).optimizer.beta_1\n",
      "WARNING:tensorflow:Unresolved object in checkpoint: (root).optimizer.beta_2\n",
      "WARNING:tensorflow:Unresolved object in checkpoint: (root).optimizer.decay\n",
      "WARNING:tensorflow:Unresolved object in checkpoint: (root).optimizer.learning_rate\n",
      "WARNING:tensorflow:Unresolved object in checkpoint: (root).optimizer.min_lr\n",
      "WARNING:tensorflow:Unresolved object in checkpoint: (root).optimizer.sma_threshold\n",
      "WARNING:tensorflow:Unresolved object in checkpoint: (root).optimizer.total_steps\n",
      "WARNING:tensorflow:Unresolved object in checkpoint: (root).optimizer.warmup_proportion\n",
      "WARNING:tensorflow:Unresolved object in checkpoint: (root).optimizer.weight_decay\n",
      "WARNING:tensorflow:Unresolved object in checkpoint: (root).optimizer's state 'm' for (root).tf_np_poly_opd.S_mat\n",
      "WARNING:tensorflow:Unresolved object in checkpoint: (root).optimizer's state 'm' for (root).tf_np_poly_opd.alpha_mat\n",
      "WARNING:tensorflow:Unresolved object in checkpoint: (root).optimizer's state 'v' for (root).tf_np_poly_opd.S_mat\n",
      "WARNING:tensorflow:Unresolved object in checkpoint: (root).optimizer's state 'v' for (root).tf_np_poly_opd.alpha_mat\n",
      "WARNING:tensorflow:A checkpoint was restored (e.g. tf.train.Checkpoint.restore or tf.keras.Model.load_weights) but not all checkpointed values were used. See above for specific issues. Use expect_partial() on the load status object, e.g. tf.train.Checkpoint.restore(...).expect_partial(), to silence these warnings, or use assert_consumed() to make the check explicit. See https://www.tensorflow.org/guide/checkpoint#loading_mechanics for details.\n",
      "WARNING:tensorflow:Unresolved object in checkpoint: (root).optimizer.iter\n",
      "WARNING:tensorflow:Unresolved object in checkpoint: (root).optimizer.beta_1\n",
      "WARNING:tensorflow:Unresolved object in checkpoint: (root).optimizer.beta_2\n",
      "WARNING:tensorflow:Unresolved object in checkpoint: (root).optimizer.decay\n",
      "WARNING:tensorflow:Unresolved object in checkpoint: (root).optimizer.learning_rate\n",
      "WARNING:tensorflow:Unresolved object in checkpoint: (root).optimizer.min_lr\n",
      "WARNING:tensorflow:Unresolved object in checkpoint: (root).optimizer.sma_threshold\n",
      "WARNING:tensorflow:Unresolved object in checkpoint: (root).optimizer.total_steps\n",
      "WARNING:tensorflow:Unresolved object in checkpoint: (root).optimizer.warmup_proportion\n",
      "WARNING:tensorflow:Unresolved object in checkpoint: (root).optimizer.weight_decay\n",
      "WARNING:tensorflow:Unresolved object in checkpoint: (root).optimizer's state 'm' for (root).tf_np_poly_opd.S_mat\n",
      "WARNING:tensorflow:Unresolved object in checkpoint: (root).optimizer's state 'm' for (root).tf_np_poly_opd.alpha_mat\n",
      "WARNING:tensorflow:Unresolved object in checkpoint: (root).optimizer's state 'v' for (root).tf_np_poly_opd.S_mat\n",
      "WARNING:tensorflow:Unresolved object in checkpoint: (root).optimizer's state 'v' for (root).tf_np_poly_opd.alpha_mat\n",
      "WARNING:tensorflow:A checkpoint was restored (e.g. tf.train.Checkpoint.restore or tf.keras.Model.load_weights) but not all checkpointed values were used. See above for specific issues. Use expect_partial() on the load status object, e.g. tf.train.Checkpoint.restore(...).expect_partial(), to silence these warnings, or use assert_consumed() to make the check explicit. See https://www.tensorflow.org/guide/checkpoint#loading_mechanics for details.\n",
      "WARNING:tensorflow:Unresolved object in checkpoint: (root).optimizer.iter\n",
      "WARNING:tensorflow:Unresolved object in checkpoint: (root).optimizer.beta_1\n",
      "WARNING:tensorflow:Unresolved object in checkpoint: (root).optimizer.beta_2\n",
      "WARNING:tensorflow:Unresolved object in checkpoint: (root).optimizer.decay\n",
      "WARNING:tensorflow:Unresolved object in checkpoint: (root).optimizer.learning_rate\n",
      "WARNING:tensorflow:Unresolved object in checkpoint: (root).optimizer.min_lr\n",
      "WARNING:tensorflow:Unresolved object in checkpoint: (root).optimizer.sma_threshold\n",
      "WARNING:tensorflow:Unresolved object in checkpoint: (root).optimizer.total_steps\n",
      "WARNING:tensorflow:Unresolved object in checkpoint: (root).optimizer.warmup_proportion\n",
      "WARNING:tensorflow:Unresolved object in checkpoint: (root).optimizer.weight_decay\n",
      "WARNING:tensorflow:Unresolved object in checkpoint: (root).optimizer's state 'm' for (root).tf_np_poly_opd.S_mat\n",
      "WARNING:tensorflow:Unresolved object in checkpoint: (root).optimizer's state 'm' for (root).tf_np_poly_opd.alpha_mat\n",
      "WARNING:tensorflow:Unresolved object in checkpoint: (root).optimizer's state 'v' for (root).tf_np_poly_opd.S_mat\n",
      "WARNING:tensorflow:Unresolved object in checkpoint: (root).optimizer's state 'v' for (root).tf_np_poly_opd.alpha_mat\n",
      "WARNING:tensorflow:A checkpoint was restored (e.g. tf.train.Checkpoint.restore or tf.keras.Model.load_weights) but not all checkpointed values were used. See above for specific issues. Use expect_partial() on the load status object, e.g. tf.train.Checkpoint.restore(...).expect_partial(), to silence these warnings, or use assert_consumed() to make the check explicit. See https://www.tensorflow.org/guide/checkpoint#loading_mechanics for details.\n",
      "WARNING:tensorflow:Unresolved object in checkpoint: (root).optimizer.iter\n",
      "WARNING:tensorflow:Unresolved object in checkpoint: (root).optimizer.beta_1\n",
      "WARNING:tensorflow:Unresolved object in checkpoint: (root).optimizer.beta_2\n",
      "WARNING:tensorflow:Unresolved object in checkpoint: (root).optimizer.decay\n",
      "WARNING:tensorflow:Unresolved object in checkpoint: (root).optimizer.learning_rate\n",
      "WARNING:tensorflow:Unresolved object in checkpoint: (root).optimizer.min_lr\n",
      "WARNING:tensorflow:Unresolved object in checkpoint: (root).optimizer.sma_threshold\n",
      "WARNING:tensorflow:Unresolved object in checkpoint: (root).optimizer.total_steps\n",
      "WARNING:tensorflow:Unresolved object in checkpoint: (root).optimizer.warmup_proportion\n",
      "WARNING:tensorflow:Unresolved object in checkpoint: (root).optimizer.weight_decay\n",
      "WARNING:tensorflow:Unresolved object in checkpoint: (root).optimizer's state 'm' for (root).tf_np_poly_opd.S_mat\n",
      "WARNING:tensorflow:Unresolved object in checkpoint: (root).optimizer's state 'm' for (root).tf_np_poly_opd.alpha_mat\n",
      "WARNING:tensorflow:Unresolved object in checkpoint: (root).optimizer's state 'v' for (root).tf_np_poly_opd.S_mat\n",
      "WARNING:tensorflow:Unresolved object in checkpoint: (root).optimizer's state 'v' for (root).tf_np_poly_opd.alpha_mat\n",
      "WARNING:tensorflow:A checkpoint was restored (e.g. tf.train.Checkpoint.restore or tf.keras.Model.load_weights) but not all checkpointed values were used. See above for specific issues. Use expect_partial() on the load status object, e.g. tf.train.Checkpoint.restore(...).expect_partial(), to silence these warnings, or use assert_consumed() to make the check explicit. See https://www.tensorflow.org/guide/checkpoint#loading_mechanics for details.\n",
      "WARNING:tensorflow:Unresolved object in checkpoint: (root).optimizer.iter\n",
      "WARNING:tensorflow:Unresolved object in checkpoint: (root).optimizer.beta_1\n",
      "WARNING:tensorflow:Unresolved object in checkpoint: (root).optimizer.beta_2\n",
      "WARNING:tensorflow:Unresolved object in checkpoint: (root).optimizer.decay\n",
      "WARNING:tensorflow:Unresolved object in checkpoint: (root).optimizer.learning_rate\n",
      "WARNING:tensorflow:Unresolved object in checkpoint: (root).optimizer.min_lr\n",
      "WARNING:tensorflow:Unresolved object in checkpoint: (root).optimizer.sma_threshold\n",
      "WARNING:tensorflow:Unresolved object in checkpoint: (root).optimizer.total_steps\n",
      "WARNING:tensorflow:Unresolved object in checkpoint: (root).optimizer.warmup_proportion\n",
      "WARNING:tensorflow:Unresolved object in checkpoint: (root).optimizer.weight_decay\n",
      "WARNING:tensorflow:Unresolved object in checkpoint: (root).optimizer's state 'm' for (root).tf_np_poly_opd.S_mat\n",
      "WARNING:tensorflow:Unresolved object in checkpoint: (root).optimizer's state 'm' for (root).tf_np_poly_opd.alpha_mat\n",
      "WARNING:tensorflow:Unresolved object in checkpoint: (root).optimizer's state 'v' for (root).tf_np_poly_opd.S_mat\n",
      "WARNING:tensorflow:Unresolved object in checkpoint: (root).optimizer's state 'v' for (root).tf_np_poly_opd.alpha_mat\n"
     ]
    },
    {
     "name": "stdout",
     "output_type": "stream",
     "text": [
      "WARNING:tensorflow:A checkpoint was restored (e.g. tf.train.Checkpoint.restore or tf.keras.Model.load_weights) but not all checkpointed values were used. See above for specific issues. Use expect_partial() on the load status object, e.g. tf.train.Checkpoint.restore(...).expect_partial(), to silence these warnings, or use assert_consumed() to make the check explicit. See https://www.tensorflow.org/guide/checkpoint#loading_mechanics for details.\n",
      "WARNING:tensorflow:Unresolved object in checkpoint: (root).optimizer.iter\n",
      "WARNING:tensorflow:Unresolved object in checkpoint: (root).optimizer.beta_1\n",
      "WARNING:tensorflow:Unresolved object in checkpoint: (root).optimizer.beta_2\n",
      "WARNING:tensorflow:Unresolved object in checkpoint: (root).optimizer.decay\n",
      "WARNING:tensorflow:Unresolved object in checkpoint: (root).optimizer.learning_rate\n",
      "WARNING:tensorflow:Unresolved object in checkpoint: (root).optimizer.min_lr\n",
      "WARNING:tensorflow:Unresolved object in checkpoint: (root).optimizer.sma_threshold\n",
      "WARNING:tensorflow:Unresolved object in checkpoint: (root).optimizer.total_steps\n",
      "WARNING:tensorflow:Unresolved object in checkpoint: (root).optimizer.warmup_proportion\n",
      "WARNING:tensorflow:Unresolved object in checkpoint: (root).optimizer.weight_decay\n",
      "WARNING:tensorflow:Unresolved object in checkpoint: (root).optimizer's state 'm' for (root).tf_np_poly_opd.S_mat\n",
      "WARNING:tensorflow:Unresolved object in checkpoint: (root).optimizer's state 'm' for (root).tf_np_poly_opd.alpha_mat\n",
      "WARNING:tensorflow:Unresolved object in checkpoint: (root).optimizer's state 'v' for (root).tf_np_poly_opd.S_mat\n",
      "WARNING:tensorflow:Unresolved object in checkpoint: (root).optimizer's state 'v' for (root).tf_np_poly_opd.alpha_mat\n",
      "WARNING:tensorflow:A checkpoint was restored (e.g. tf.train.Checkpoint.restore or tf.keras.Model.load_weights) but not all checkpointed values were used. See above for specific issues. Use expect_partial() on the load status object, e.g. tf.train.Checkpoint.restore(...).expect_partial(), to silence these warnings, or use assert_consumed() to make the check explicit. See https://www.tensorflow.org/guide/checkpoint#loading_mechanics for details.\n",
      "poly_wfe_study_resx3_128_bis_1\n",
      "poly_wfe_study_resx3_128_bis_2\n",
      "poly_wfe_study_resx3_128_bis_3\n",
      "poly_wfe_study_resx3_128_bis_4\n",
      "poly_wfe_study_resx3_128_bis_5\n",
      "poly_wfe_study_resx3_256_bis_1\n"
     ]
    }
   ],
   "source": [
    "\n",
    "for it_j in range(len(pupil_diameter_list)):\n",
    "    \n",
    "    \n",
    "    pupil_diameter = pupil_diameter_list[it_j]\n",
    "    dataset_name = dataset_list[it_j]\n",
    "    result_x3_list = []\n",
    "    \n",
    "    for idx in range(1, n_realisations+1):\n",
    "\n",
    "        run_id_name = 'poly_wfe_study_resx3_' + dataset_name + '_bis_' + str(idx)\n",
    "        print(run_id_name)\n",
    "\n",
    "        n_bins_lda=args['n_bins_lda']\n",
    "        output_Q=1\n",
    "        output_dim=64\n",
    "        batch_size=args['eval_batch_size']\n",
    "\n",
    "        # Define weights\n",
    "        weights_paths = args['chkp_save_path'] + 'chkp_callback_' + run_id_name + '_' + args['saved_cycle']\n",
    "\n",
    "\n",
    "        ## Prepare models\n",
    "        # Generate Zernike maps\n",
    "        zernikes = wf.utils.zernike_generator(\n",
    "            n_zernikes=args['n_zernikes'], wfe_dim=pupil_diameter\n",
    "        )\n",
    "        # Now as cubes\n",
    "        np_zernike_cube = np.zeros((len(zernikes), zernikes[0].shape[0], zernikes[0].shape[1]))\n",
    "\n",
    "        for it in range(len(zernikes)):\n",
    "            np_zernike_cube[it, :, :] = zernikes[it]\n",
    "\n",
    "        np_zernike_cube[np.isnan(np_zernike_cube)] = 0\n",
    "        tf_zernike_cube = tf.convert_to_tensor(np_zernike_cube, dtype=tf.float32)\n",
    "\n",
    "        # Prepare np input\n",
    "        simPSF_np = wf.SimPSFToolkit(\n",
    "            zernikes,\n",
    "            max_order=args['n_zernikes'],\n",
    "            pupil_diameter=pupil_diameter,\n",
    "            output_dim=args['output_dim'],\n",
    "            oversampling_rate=args['oversampling_rate'],\n",
    "            output_Q=args['output_q']\n",
    "        )\n",
    "        simPSF_np.gen_random_Z_coeffs(max_order=args['n_zernikes'])\n",
    "        z_coeffs = simPSF_np.normalize_zernikes(simPSF_np.get_z_coeffs(), simPSF_np.max_wfe_rms)\n",
    "        simPSF_np.set_z_coeffs(z_coeffs)\n",
    "        simPSF_np.generate_mono_PSF(lambda_obs=0.7, regen_sample=False)\n",
    "\n",
    "        # Obscurations\n",
    "        obscurations = simPSF_np.generate_pupil_obscurations(N_pix=pupil_diameter, N_filter=2)\n",
    "        tf_obscurations = tf.convert_to_tensor(obscurations, dtype=tf.complex64)\n",
    "\n",
    "\n",
    "        # Initialize the model\n",
    "        tf_semiparam_field = wf.tf_psf_field.TF_SemiParam_field(\n",
    "            zernike_maps=tf_zernike_cube,\n",
    "            obscurations=tf_obscurations,\n",
    "            batch_size=args['batch_size'],\n",
    "            output_Q=args['output_q'],\n",
    "            d_max_nonparam=args['d_max_nonparam'],\n",
    "            l2_param=args['l2_param'],\n",
    "            output_dim=args['output_dim'],\n",
    "            n_zernikes=args['n_zernikes'],\n",
    "            d_max=args['d_max'],\n",
    "            x_lims=args['x_lims'],\n",
    "            y_lims=args['y_lims']\n",
    "        )\n",
    "\n",
    "        tf_semiparam_field.load_weights(weights_paths)\n",
    "\n",
    "\n",
    "\n",
    "        # Save original output_Q and output_dim\n",
    "        original_out_Q = tf_semiparam_field.output_Q\n",
    "        original_out_dim = tf_semiparam_field.output_dim\n",
    "\n",
    "        # Set the required output_Q and output_dim parameters in the models\n",
    "        tf_semiparam_field.set_output_Q(output_Q=output_Q, output_dim=output_dim)\n",
    "\n",
    "\n",
    "        # Need to compile the models again\n",
    "        tf_semiparam_field = wf.tf_psf_field.build_PSF_model(tf_semiparam_field)\n",
    "\n",
    "\n",
    "        # Generate SED data list\n",
    "        packed_SED_data = [\n",
    "            wf.utils.generate_packed_elems(_sed, simPSF_np, n_bins=n_bins_lda) for _sed in test_SEDs\n",
    "        ]\n",
    "\n",
    "\n",
    "        # Prepare inputs\n",
    "        tf_packed_SED_data = tf.convert_to_tensor(packed_SED_data, dtype=tf.float32)\n",
    "        tf_packed_SED_data = tf.transpose(tf_packed_SED_data, perm=[0, 2, 1])\n",
    "        pred_inputs = [tf_test_pos, tf_packed_SED_data]\n",
    "\n",
    "        # PSF model\n",
    "        predictions = tf_semiparam_field.predict(x=pred_inputs, batch_size=16)\n",
    "\n",
    "        # Save results\n",
    "        result_x3_list.append(predictions)\n",
    "\n",
    "    # Save the realisations\n",
    "    np.save(\n",
    "        saving_folder+'model_x3_res_'+dataset_name+'.npy',\n",
    "        np.array(result_x3_list),\n",
    "        allow_pickle=True\n",
    "    )\n",
    "\n",
    "\n"
   ]
  },
  {
   "cell_type": "code",
   "execution_count": null,
   "id": "c95ea56e",
   "metadata": {},
   "outputs": [],
   "source": [
    "\n"
   ]
  },
  {
   "cell_type": "markdown",
   "id": "37560697",
   "metadata": {},
   "source": [
    "# Evaluate the results"
   ]
  },
  {
   "cell_type": "code",
   "execution_count": 21,
   "id": "03684132",
   "metadata": {},
   "outputs": [
    {
     "name": "stdout",
     "output_type": "stream",
     "text": [
      "Absolute RMSE:\t 8.5248e-06 \t +/- 1.3512e-06\n",
      "Relative RMSE:\t 5.7081e-01 % \t +/- 1.0100e-01 %\n"
     ]
    }
   ],
   "source": [
    "GT_preds = data_4096['super_res_stars']\n",
    "preds = data_256['super_res_stars']\n",
    "\n",
    "_ = compute_stats(GT_preds, preds)\n"
   ]
  },
  {
   "cell_type": "code",
   "execution_count": 36,
   "id": "e7a3dfef",
   "metadata": {},
   "outputs": [
    {
     "name": "stdout",
     "output_type": "stream",
     "text": [
      "Absolute RMSE:\t 9.4269e-05 \t +/- 2.5365e-05\n",
      "Relative RMSE:\t 6.4396e+00 % \t +/- 2.4688e+00 %\n",
      "Absolute RMSE:\t 6.6703e-05 \t +/- 2.6952e-05\n",
      "Relative RMSE:\t 4.5149e+00 % \t +/- 2.0408e+00 %\n",
      "Absolute RMSE:\t 1.0155e-04 \t +/- 4.6715e-05\n",
      "Relative RMSE:\t 7.0313e+00 % \t +/- 4.1970e+00 %\n",
      "Absolute RMSE:\t 7.6872e-05 \t +/- 2.4688e-05\n",
      "Relative RMSE:\t 5.1850e+00 % \t +/- 1.8659e+00 %\n",
      "Absolute RMSE:\t 8.3664e-05 \t +/- 1.9890e-05\n",
      "Relative RMSE:\t 5.6681e+00 % \t +/- 1.6947e+00 %\n",
      "Absolute RMSE:\t 7.7474e-05 \t +/- 4.6199e-05\n",
      "Relative RMSE:\t 5.4210e+00 % \t +/- 4.0749e+00 %\n",
      "Absolute RMSE:\t 3.0989e-05 \t +/- 1.6024e-05\n",
      "Relative RMSE:\t 2.1129e+00 % \t +/- 1.2930e+00 %\n",
      "Absolute RMSE:\t 3.0936e-05 \t +/- 1.4791e-05\n",
      "Relative RMSE:\t 2.1063e+00 % \t +/- 1.2030e+00 %\n",
      "Absolute RMSE:\t 5.0795e-05 \t +/- 1.1759e-05\n",
      "Relative RMSE:\t 3.4587e+00 % \t +/- 1.1840e+00 %\n",
      "Absolute RMSE:\t 4.7770e-05 \t +/- 1.4813e-05\n",
      "Relative RMSE:\t 3.2805e+00 % \t +/- 1.4319e+00 %\n",
      "Absolute RMSE:\t 6.0919e-05 \t +/- 1.9148e-05\n",
      "Relative RMSE:\t 4.1841e+00 % \t +/- 1.8544e+00 %\n",
      "Absolute RMSE:\t 9.2278e-05 \t +/- 4.3873e-05\n",
      "Relative RMSE:\t 6.3361e+00 % \t +/- 3.5497e+00 %\n",
      "Absolute RMSE:\t 4.7825e-05 \t +/- 1.2753e-05\n",
      "Relative RMSE:\t 3.2794e+00 % \t +/- 1.3279e+00 %\n",
      "Absolute RMSE:\t 6.7937e-05 \t +/- 2.4962e-05\n",
      "Relative RMSE:\t 4.6759e+00 % \t +/- 2.2343e+00 %\n",
      "Absolute RMSE:\t 6.9716e-05 \t +/- 2.5686e-05\n",
      "Relative RMSE:\t 4.8022e+00 % \t +/- 2.3316e+00 %\n",
      "Absolute RMSE:\t 3.7682e-05 \t +/- 1.5906e-05\n",
      "Relative RMSE:\t 2.5898e+00 % \t +/- 1.4002e+00 %\n",
      "Absolute RMSE:\t 5.8025e-05 \t +/- 1.4097e-05\n",
      "Relative RMSE:\t 3.9249e+00 % \t +/- 1.2096e+00 %\n",
      "Absolute RMSE:\t 8.0968e-05 \t +/- 4.4172e-05\n",
      "Relative RMSE:\t 5.6345e+00 % \t +/- 3.8966e+00 %\n",
      "Absolute RMSE:\t 5.1375e-05 \t +/- 1.2422e-05\n",
      "Relative RMSE:\t 3.4888e+00 % \t +/- 1.1531e+00 %\n",
      "Absolute RMSE:\t 3.9479e-05 \t +/- 1.0988e-05\n",
      "Relative RMSE:\t 2.7035e+00 % \t +/- 1.0715e+00 %\n"
     ]
    }
   ],
   "source": [
    "\n",
    "\n",
    "# model_64 = np.load(saving_folder+'model_x3_res_064.npy', allow_pickle=True)\n",
    "# model_128 = np.load(saving_folder+'model_x3_res_128.npy', allow_pickle=True)\n",
    "# model_256 = np.load(saving_folder+'model_x3_res_256.npy', allow_pickle=True)\n",
    "# model_256_bench = np.load(saving_folder+'model_x3_res_256_benchmark.npy', allow_pickle=True)\n",
    "\n",
    "dataset_list = [\n",
    "    '064',\n",
    "    '128',\n",
    "    '256',\n",
    "    '256_benchmark',\n",
    "]\n",
    "\n",
    "GT_preds = data_4096['super_res_stars']\n",
    "\n",
    "save_dict = {}\n",
    "\n",
    "# rmse, rel_rmse, std_rmse, std_rel_rmse\n",
    "\n",
    "for it_j in range(len(dataset_list)):\n",
    "    rel_rmse_list = []  \n",
    "    std_rel_rmse_list = [] \n",
    "    \n",
    "    model = np.load(saving_folder+'model_x3_res_'+dataset_list[it_j]+'.npy', allow_pickle=True)\n",
    "    \n",
    "    for it in range(model_64.shape[0]):\n",
    "\n",
    "        preds = model[it,:,:,:]\n",
    "\n",
    "        rmse, rel_rmse, std_rmse, std_rel_rmse = compute_stats(GT_preds, preds)\n",
    "\n",
    "        rel_rmse_list.append(rel_rmse)\n",
    "        std_rel_rmse_list.append(std_rel_rmse)\n",
    "    \n",
    "    save_dict['model_'+dataset_list[it_j]+'_rel_rmse'] = np.array(rel_rmse_list)\n",
    "    save_dict['model_'+dataset_list[it_j]+'_std_rel_rmse'] = np.array(std_rel_rmse_list)\n"
   ]
  },
  {
   "cell_type": "code",
   "execution_count": 38,
   "id": "ec2fe44e",
   "metadata": {},
   "outputs": [],
   "source": [
    "\n",
    "np.save(saving_folder+'result_dict.npy', save_dict, allow_pickle=True)\n"
   ]
  },
  {
   "cell_type": "code",
   "execution_count": 37,
   "id": "a7b43bf3",
   "metadata": {},
   "outputs": [
    {
     "data": {
      "text/plain": [
       "{'model_064_rel_rmse': array([6.43958849, 4.5148942 , 7.03129339, 5.18500449, 5.66809588]),\n",
       " 'model_064_std_rel_rmse': array([2.46884952, 2.04078886, 4.19700985, 1.8659101 , 1.69467889]),\n",
       " 'model_128_rel_rmse': array([5.42097046, 2.11293908, 2.10626005, 3.45872813, 3.28045238]),\n",
       " 'model_128_std_rel_rmse': array([4.0749473 , 1.29302873, 1.20299272, 1.18403576, 1.43188567]),\n",
       " 'model_256_rel_rmse': array([4.18412105, 6.33608123, 3.2794323 , 4.67587151, 4.80224664]),\n",
       " 'model_256_std_rel_rmse': array([1.85443559, 3.54970007, 1.32788761, 2.23428099, 2.3315903 ]),\n",
       " 'model_256_benchmark_rel_rmse': array([2.58978528, 3.92488443, 5.63453092, 3.48876644, 2.70354226]),\n",
       " 'model_256_benchmark_std_rel_rmse': array([1.40024367, 1.20963646, 3.8965619 , 1.1530999 , 1.07147565])}"
      ]
     },
     "execution_count": 37,
     "metadata": {},
     "output_type": "execute_result"
    }
   ],
   "source": [
    "save_dict"
   ]
  },
  {
   "cell_type": "code",
   "execution_count": null,
   "id": "574a23a6",
   "metadata": {},
   "outputs": [],
   "source": [
    "\n",
    "\n"
   ]
  },
  {
   "cell_type": "code",
   "execution_count": null,
   "id": "9c54243a",
   "metadata": {},
   "outputs": [],
   "source": [
    "\n"
   ]
  },
  {
   "cell_type": "code",
   "execution_count": null,
   "id": "494331ef",
   "metadata": {},
   "outputs": [],
   "source": []
  },
  {
   "cell_type": "code",
   "execution_count": null,
   "id": "bfc762b9",
   "metadata": {},
   "outputs": [],
   "source": []
  }
 ],
 "metadata": {
  "kernelspec": {
   "display_name": "Python 3",
   "language": "python",
   "name": "python3"
  },
  "language_info": {
   "codemirror_mode": {
    "name": "ipython",
    "version": 3
   },
   "file_extension": ".py",
   "mimetype": "text/x-python",
   "name": "python",
   "nbconvert_exporter": "python",
   "pygments_lexer": "ipython3",
   "version": "3.6.12"
  },
  "varInspector": {
   "cols": {
    "lenName": 16,
    "lenType": 16,
    "lenVar": 40
   },
   "kernels_config": {
    "python": {
     "delete_cmd_postfix": "",
     "delete_cmd_prefix": "del ",
     "library": "var_list.py",
     "varRefreshCmd": "print(var_dic_list())"
    },
    "r": {
     "delete_cmd_postfix": ") ",
     "delete_cmd_prefix": "rm(",
     "library": "var_list.r",
     "varRefreshCmd": "cat(var_dic_list()) "
    }
   },
   "types_to_exclude": [
    "module",
    "function",
    "builtin_function_or_method",
    "instance",
    "_Feature"
   ],
   "window_display": false
  }
 },
 "nbformat": 4,
 "nbformat_minor": 5
}
