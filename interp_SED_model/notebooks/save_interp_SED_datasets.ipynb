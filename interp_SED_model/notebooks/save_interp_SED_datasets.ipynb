{
 "cells": [
  {
   "cell_type": "code",
   "execution_count": 31,
   "metadata": {},
   "outputs": [],
   "source": [
    "import numpy as np\n",
    "import matplotlib.pyplot as plt\n",
    "\n",
    "import wf_psf"
   ]
  },
  {
   "cell_type": "code",
   "execution_count": 32,
   "metadata": {},
   "outputs": [],
   "source": [
    "# Paths\n",
    "\n",
    "# SED folder path\n",
    "SED_path = './../../../wf-psf/data/SEDs/save_SEDs/'\n",
    "\n",
    "# Reference dataset PATH\n",
    "reference_data = '../interp_SED_data/reference_dataset/'\n",
    "ref_train = 'train_Euclid_res_2000_TrainStars_id_001.npy'\n",
    "ref_test  = 'test_Euclid_res_id_001.npy'\n",
    "\n",
    "# Datasets PATH\n",
    "dataset_path = '/Users/ec270266/Desktop/Stage-CEA/output/interp_SEDs/'\n",
    "dataset_train_file = 'train_Euclid_res_2000_TrainStars_id_009GT_350_bins.npy'\n",
    "dataset_test_file = 'test_Euclid_res_id_009GT_350_bins.npy'\n"
   ]
  },
  {
   "cell_type": "code",
   "execution_count": 33,
   "metadata": {},
   "outputs": [],
   "source": [
    "# Load the SEDs\n",
    "stellar_SEDs = np.load(SED_path + 'SEDs.npy', allow_pickle=True)\n",
    "stellar_lambdas = np.load(SED_path + 'lambdas.npy', allow_pickle=True)\n",
    "\n",
    "SED_name = ['O5V', 'B0V', 'B5-7V', 'A0V', 'A5V', 'F0V', 'F5V', 'G0V', 'G5V', 'K0V', 'K5V', 'M0V', 'M5V']"
   ]
  },
  {
   "cell_type": "code",
   "execution_count": 34,
   "metadata": {},
   "outputs": [
    {
     "name": "stdout",
     "output_type": "stream",
     "text": [
      "Reference datasets keys:\n",
      "['stars', 'noisy_stars', 'positions', 'SEDs', 'zernike_coef', 'C_poly', 'parameters']\n",
      "['stars', 'positions', 'SEDs', 'zernike_coef', 'C_poly', 'parameters']\n",
      "\n",
      "GT dataset keys:\n",
      "['stars', 'noisy_stars', 'super_res_stars', 'positions', 'SEDs', 'zernike_coef', 'C_poly', 'parameters']\n",
      "['stars', 'super_res_stars', 'positions', 'SEDs', 'zernike_coef', 'C_poly', 'parameters']\n"
     ]
    }
   ],
   "source": [
    "# Load datasets\n",
    "train_dataset_ref = np.load(reference_data+ref_train, allow_pickle=True)[()]\n",
    "test_dataset_ref = np.load(reference_data+ref_test, allow_pickle=True)[()]\n",
    "\n",
    "train_dataset = np.load(dataset_path+dataset_train_file, allow_pickle=True)[()]\n",
    "test_dataset = np.load(dataset_path+dataset_test_file, allow_pickle=True)[()]\n",
    "\n",
    "print('Reference datasets keys:')\n",
    "print(list(train_dataset_ref.keys()))\n",
    "print(list(test_dataset_ref.keys()))\n",
    "\n",
    "print('\\nGT dataset keys:')\n",
    "print(list(train_dataset.keys()))\n",
    "print(list(test_dataset.keys()))"
   ]
  },
  {
   "cell_type": "code",
   "execution_count": 35,
   "metadata": {},
   "outputs": [
    {
     "data": {
      "image/png": "[encoded data removed]",
      "text/plain": [
       "<Figure size 1152x288 with 6 Axes>"
      ]
     },
     "metadata": {
      "needs_background": "light"
     },
     "output_type": "display_data"
    }
   ],
   "source": [
    "# Display some PSFs\n",
    "\n",
    "display_star = 4\n",
    "\n",
    "fig, ax = plt.subplots(1,3, figsize=(16,4))\n",
    "im = ax[0].imshow(train_dataset_ref['stars'][display_star,:,:], cmap='gist_stern')\n",
    "plt.colorbar(im, ax=ax[0])\n",
    "ax[0].set_title('Reference - 20 bins')\n",
    "ax[0].set_xticks([])\n",
    "ax[0].set_yticks([])\n",
    "\n",
    "im = ax[1].imshow(train_dataset['stars'][display_star,:,:], cmap='gist_stern')\n",
    "plt.colorbar(im, ax=ax[1])\n",
    "ax[1].set_title('New - 350 bins')\n",
    "ax[1].set_xticks([])\n",
    "ax[1].set_yticks([])\n",
    "\n",
    "im = ax[2].imshow(np.abs(train_dataset['stars'][display_star,:,:]- train_dataset_ref['stars'][display_star,:,:]), cmap='gist_stern')\n",
    "plt.colorbar(im, ax=ax[2])\n",
    "ax[2].set_title('Difference')\n",
    "ax[2].set_xticks([])\n",
    "ax[2].set_yticks([])\n",
    "\n",
    "\n",
    "plt.show()"
   ]
  },
  {
   "cell_type": "markdown",
   "metadata": {},
   "source": [
    "# Generate SEDs"
   ]
  },
  {
   "cell_type": "code",
   "execution_count": 36,
   "metadata": {},
   "outputs": [],
   "source": [
    "# Parameters\n",
    "d_max = 2\n",
    "max_order = 45\n",
    "x_lims = [0, 1e3]\n",
    "y_lims = [0, 1e3]\n",
    "grid_points = [4, 4]\n",
    "n_bins = 8\n",
    "auto_init = True\n",
    "verbose = True\n",
    "\n",
    "oversampling_rate = 3.\n",
    "output_Q = 3.\n",
    "\n",
    "max_wfe_rms = 0.1\n",
    "output_dim = 32\n",
    "LP_filter_length = 2\n",
    "euclid_obsc = True\n",
    "\n",
    "pupil_diameter = 256\n",
    "\n",
    "# Super resolved PSFs\n",
    "super_out_Q = 1\n",
    "super_out_res = 64"
   ]
  },
  {
   "cell_type": "code",
   "execution_count": 37,
   "metadata": {},
   "outputs": [],
   "source": [
    "# Generate Zernike maps\n",
    "zernikes = wf_psf.utils.zernike_generator(n_zernikes=max_order, wfe_dim=pupil_diameter)\n",
    "\n",
    "# Initialize PSF simulator\n",
    "sim_PSF_toolkit = wf_psf.SimPSFToolkit(\n",
    "    zernikes, max_order=max_order, max_wfe_rms=max_wfe_rms, oversampling_rate=oversampling_rate,\n",
    "    output_Q=super_out_Q, output_dim=super_out_res, pupil_diameter=pupil_diameter, euclid_obsc=euclid_obsc,\n",
    "    LP_filter_length=LP_filter_length)\n",
    "\n",
    "# Initialize PSF field\n",
    "gen_poly_fieldPSF = wf_psf.GenPolyFieldPSF(sim_PSF_toolkit, d_max=d_max,\n",
    "                                    grid_points=grid_points, max_order=max_order,\n",
    "                                    x_lims=x_lims, y_lims=y_lims, n_bins=n_bins,\n",
    "                                    lim_max_wfe_rms=max_wfe_rms, verbose=verbose)"
   ]
  },
  {
   "cell_type": "code",
   "execution_count": 38,
   "metadata": {},
   "outputs": [],
   "source": [
    "# Generate binned and interpolated SEDs for training and testing\n",
    "\n",
    "SED_8_train_list = [gen_poly_fieldPSF.sim_psf_toolkit.filter_SED(star_SED,8) for star_SED in train_dataset['SEDs']]\n",
    "SED_16_train_list = [gen_poly_fieldPSF.sim_psf_toolkit.interp_SED(star_SED, 1, 8) for star_SED in SED_8_train_list ]\n",
    "SED_32_train_list = [gen_poly_fieldPSF.sim_psf_toolkit.interp_SED(star_SED, 3, 8) for star_SED in SED_8_train_list ]\n",
    "\n",
    "SED_8_test_list = [gen_poly_fieldPSF.sim_psf_toolkit.filter_SED(star_SED,8) for star_SED in test_dataset['SEDs']]\n",
    "SED_16_test_list = [gen_poly_fieldPSF.sim_psf_toolkit.interp_SED(star_SED, 1, 8) for star_SED in SED_8_test_list ]\n",
    "SED_32_test_list = [gen_poly_fieldPSF.sim_psf_toolkit.interp_SED(star_SED, 3, 8) for star_SED in SED_8_test_list ]\n",
    "\n",
    "SED_8_train = np.stack(SED_8_train_list)\n",
    "SED_16_train = np.stack(SED_16_train_list)\n",
    "SED_32_train = np.stack(SED_32_train_list)\n",
    "\n",
    "SED_8_test = np.stack(SED_8_test_list)\n",
    "SED_16_test = np.stack(SED_16_test_list)\n",
    "SED_32_test = np.stack(SED_32_test_list)\n"
   ]
  },
  {
   "cell_type": "code",
   "execution_count": 10,
   "metadata": {},
   "outputs": [],
   "source": [
    "# Save the noisless datasets\n",
    "\n",
    "# 8 bins\n",
    "train_dataset['SEDs'] = SED_8_train \n",
    "test_dataset['SEDs'] = SED_8_test\n",
    "np.save(dataset_path+'train_Euclid_res_2000_TrainStars_id_009_8_bins_sigma_0.npy', train_dataset, allow_pickle=True)\n",
    "np.save(dataset_path+'test_Euclid_res_id_009_8_bins.npy', test_dataset, allow_pickle=True)\n",
    "\n",
    "# 16 bins\n",
    "train_dataset['SEDs'] = SED_16_train \n",
    "test_dataset['SEDs'] = SED_16_test\n",
    "np.save(dataset_path+'train_Euclid_res_2000_TrainStars_id_009_16_bins_sigma_0.npy', train_dataset, allow_pickle=True)\n",
    "np.save(dataset_path+'test_Euclid_res_id_009_16_bins.npy', test_dataset, allow_pickle=True)\n",
    "\n",
    "# 32 bins\n",
    "train_dataset['SEDs'] = SED_32_train \n",
    "test_dataset['SEDs'] = SED_32_test\n",
    "np.save(dataset_path+'train_Euclid_res_2000_TrainStars_id_009_32_bins_sigma_0.npy', train_dataset, allow_pickle=True)\n",
    "np.save(dataset_path+'test_Euclid_res_id_009_32_bins.npy', test_dataset, allow_pickle=True)"
   ]
  },
  {
   "cell_type": "code",
   "execution_count": 40,
   "metadata": {},
   "outputs": [],
   "source": [
    "# Add noise to the 8 bin SED\n",
    "sigma_list = [0.005, 0.01, 0.02]\n",
    "\n",
    "for sigma in sigma_list:\n",
    "    # Load the 8 bin dataset add noise and save it\n",
    "    train_dataset = np.load(dataset_path+'train_Euclid_res_2000_TrainStars_id_009_8_bins_sigma_0.npy', allow_pickle=True)[()]\n",
    "    train_dataset['SEDs'][:,:,1] += np.multiply(train_dataset['SEDs'][:,:,1], gen_poly_fieldPSF.sim_psf_toolkit.SED_gen_noise(train_dataset['SEDs'].shape[:2], sigma))\n",
    "    np.save(dataset_path+'train_Euclid_res_2000_TrainStars_id_009_8_bins_sigma_{}.npy'.format(sigma), train_dataset, allow_pickle=True)\n",
    "    # Interpolate from the noisy 8 bin dataset\n",
    "    SED_16_train = np.stack([gen_poly_fieldPSF.sim_psf_toolkit.interp_SED(star_SED, 1, 8) for star_SED in train_dataset['SEDs']])\n",
    "    SED_32_train = np.stack([gen_poly_fieldPSF.sim_psf_toolkit.interp_SED(star_SED, 3, 8) for star_SED in train_dataset['SEDs']])\n",
    "    # Save interpolated SEDs data\n",
    "    train_dataset['SEDs'] = SED_16_train \n",
    "    np.save(dataset_path+'train_Euclid_res_2000_TrainStars_id_009_16_bins_sigma_{}.npy'.format(sigma), train_dataset, allow_pickle=True)\n",
    "    train_dataset['SEDs'] = SED_32_train \n",
    "    np.save(dataset_path+'train_Euclid_res_2000_TrainStars_id_009_32_bins_sigma_{}.npy'.format(sigma), train_dataset, allow_pickle=True)\n",
    "\n"
   ]
  },
  {
   "cell_type": "code",
   "execution_count": null,
   "metadata": {},
   "outputs": [],
   "source": []
  }
 ],
 "metadata": {
  "interpreter": {
   "hash": "31f2aee4e71d21fbe5cf8b01ff0e069b9275f58929596ceb00d14d90e3e16cd6"
  },
  "kernelspec": {
   "display_name": "Python 3.8.2 64-bit",
   "language": "python",
   "name": "python3"
  },
  "language_info": {
   "codemirror_mode": {
    "name": "ipython",
    "version": 3
   },
   "file_extension": ".py",
   "mimetype": "text/x-python",
   "name": "python",
   "nbconvert_exporter": "python",
   "pygments_lexer": "ipython3",
   "version": "3.8.2"
  },
  "orig_nbformat": 4
 },
 "nbformat": 4,
 "nbformat_minor": 2
}
