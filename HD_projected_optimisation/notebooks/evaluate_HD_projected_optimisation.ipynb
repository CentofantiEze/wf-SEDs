{
 "cells": [
  {
   "cell_type": "code",
   "execution_count": 2,
   "metadata": {},
   "outputs": [],
   "source": [
    "import numpy as np\n",
    "import matplotlib.pyplot as plt\n",
    "import matplotlib as mpl\n",
    "import matplotlib.ticker as mtick\n",
    "import seaborn as sns\n",
    "\n",
    "import wf_psf.script_utils as wf_script_utils"
   ]
  },
  {
   "cell_type": "code",
   "execution_count": 3,
   "metadata": {},
   "outputs": [],
   "source": [
    "def define_plot_style():\n",
    "    # Define plot paramters\n",
    "    # Use seaborn style\n",
    "    sns.set()\n",
    "    \n",
    "    plot_style = {\n",
    "        'figure.figsize': (12,8),\n",
    "        'figure.dpi': 200,\n",
    "        'figure.autolayout':True,\n",
    "        'lines.linewidth': 2,\n",
    "        'lines.linestyle': '-',\n",
    "        'lines.marker': 'o',\n",
    "        'lines.markersize': 10,\n",
    "        'legend.fontsize': 20,\n",
    "        'legend.loc': 'best',\n",
    "        'axes.titlesize': 24,\n",
    "        'font.size': 22\n",
    "    }\n",
    "    mpl.rcParams.update(plot_style)"
   ]
  },
  {
   "cell_type": "markdown",
   "metadata": {},
   "source": [
    "# Metrics"
   ]
  },
  {
   "cell_type": "code",
   "execution_count": 4,
   "metadata": {},
   "outputs": [],
   "source": [
    "metrics_file = '../wf-outputs/metrics/metrics-poly_%s_cycles_256_%s_d%s_%sz_%s.npy'\n",
    "dataset_list = [('2', 'no_proj', '2', '45'),('2', 'no_proj', '2', '60'),('5', 'no_proj', '2', '45'),('5', 'proj', '2', '45'),('5', 'proj', '2', '60'),('5', 'proj', '5', '45'),('9', 'no_proj', '2', '45'),('9', 'proj', '2', '45')]\n",
    "\n",
    "n_cycles_list = [2,5,9]"
   ]
  },
  {
   "cell_type": "code",
   "execution_count": 5,
   "metadata": {},
   "outputs": [],
   "source": [
    "n_realisations = 5\n",
    "metrics_dict_list = []\n",
    "for idx in range(n_realisations):\n",
    "    metrics_dict_list_ = wf_script_utils.extract_shape_pix_results([np.load(metrics_file % (dataset+(str(idx),)), allow_pickle=True)[()] for dataset in dataset_list ])\n",
    "    metrics_dict_list.append(metrics_dict_list_)\n",
    "\n",
    "metrics_dict_list_np = np.array(metrics_dict_list)"
   ]
  },
  {
   "cell_type": "code",
   "execution_count": 8,
   "metadata": {},
   "outputs": [],
   "source": [
    "metrics_mean = np.mean(metrics_dict_list_np,axis=0)\n",
    "metrics_median = np.median(metrics_dict_list_np,axis=0)\n",
    "metrics_std = np.std(metrics_dict_list_np, axis=0)\n",
    "metrics_best = np.min(metrics_dict_list_np[:,2,:], axis=0)\n"
   ]
  },
  {
   "cell_type": "code",
   "execution_count": 39,
   "metadata": {},
   "outputs": [
    {
     "name": "stdout",
     "output_type": "stream",
     "text": [
      "[1.88103262 2.81541776 1.87898725 4.03888412 1.93350483]\n",
      "[2.84832492 3.32769454 1.98153164 2.00902279 2.99401265]\n",
      "[3.99563275 3.35177407 1.95338465 2.02785488 2.21465081]\n"
     ]
    }
   ],
   "source": [
    "print(metrics_dict_list_np[:,2,0])\n",
    "print(metrics_dict_list_np[:,2,3])\n",
    "print(metrics_dict_list_np[:,2,4])"
   ]
  },
  {
   "cell_type": "code",
   "execution_count": 10,
   "metadata": {},
   "outputs": [
    {
     "name": "stdout",
     "output_type": "stream",
     "text": [
      "n cycles | project | d_max param | n_zernikes   mean SR RMSE\n",
      "\n",
      "2 cycles - no_proj - d_max=2 - 45z  --->  2.5095653161406517  +/-  0.843432207349185  |  1.8789872527122498\n",
      "2 cycles - no_proj - d_max=2 - 60z  --->  2.673838548362255  +/-  0.9607127966411424  |  1.9220437854528427\n",
      "5 cycles - no_proj - d_max=2 - 45z  --->  3.655898980796337  +/-  0.9367677950643569  |  2.418283000588417\n",
      "5 cycles -    proj - d_max=2 - 45z  --->  2.632117308676243  +/-  0.5427799055604208  |  1.9815316423773766\n",
      "5 cycles -    proj - d_max=2 - 60z  --->  2.7086594328284264  +/-  0.818275761321406  |  1.9533846527338028\n",
      "5 cycles -    proj - d_max=5 - 45z  --->  4.2982543259859085  +/-  0.3727477067059895  |  3.742995858192444\n",
      "9 cycles - no_proj - d_max=2 - 45z  --->  4.28766630589962  +/-  0.5112127721789963  |  3.3537711948156357\n",
      "9 cycles -    proj - d_max=2 - 45z  --->  4.0511442720890045  +/-  0.8070779865104847  |  2.5172319263219833\n"
     ]
    }
   ],
   "source": [
    "print('n cycles | project | d_max param | n_zernikes   mean SR RMSE\\n')\n",
    "for idx, dataset in enumerate(dataset_list):\n",
    "    print('%s cycles - %7s - d_max=%s - %sz' % dataset, ' ---> ', metrics_mean[2][idx], ' +/- ', metrics_std[2][idx],' | ' ,metrics_best[idx])"
   ]
  },
  {
   "cell_type": "code",
   "execution_count": 41,
   "metadata": {},
   "outputs": [
    {
     "name": "stdout",
     "output_type": "stream",
     "text": [
      "n cycles | project | d_max param | n_zernikes   median SR RMSE\n",
      "\n",
      "2 cycles - no_proj - d_max=2 - 45z  --->  1.9335048273205757  +/-  0.843432207349185\n",
      "2 cycles - no_proj - d_max=2 - 60z  --->  2.0488252863287926  +/-  0.9607127966411424\n",
      "5 cycles - no_proj - d_max=2 - 45z  --->  3.9321020245552063  +/-  0.9367677950643569\n",
      "5 cycles -    proj - d_max=2 - 45z  --->  2.8483249247074127  +/-  0.5427799055604208\n",
      "5 cycles -    proj - d_max=2 - 60z  --->  2.214650809764862  +/-  0.818275761321406\n",
      "5 cycles -    proj - d_max=5 - 45z  --->  4.448523372411728  +/-  0.3727477067059895\n",
      "9 cycles - no_proj - d_max=2 - 45z  --->  4.420590028166771  +/-  0.5112127721789963\n",
      "9 cycles -    proj - d_max=2 - 45z  --->  4.197609052062035  +/-  0.8070779865104847\n"
     ]
    }
   ],
   "source": [
    "print('n cycles | project | d_max param | n_zernikes   median SR RMSE\\n')\n",
    "for idx, dataset in enumerate(dataset_list):\n",
    "    print('%s cycles - %7s - d_max=%s - %sz' % dataset, ' ---> ', metrics_median[2][idx], ' +/- ', metrics_std[2][idx])"
   ]
  },
  {
   "cell_type": "markdown",
   "metadata": {},
   "source": [
    "# Evaluate only the parametric model"
   ]
  },
  {
   "cell_type": "code",
   "execution_count": 42,
   "metadata": {},
   "outputs": [],
   "source": [
    "metrics_file = '../wf-outputs/metrics/metrics-poly_%s_cycles_256_eval_param_%s_d%s_%sz_%s.npy'\n",
    "dataset_list = [('2', 'no_proj', '2', '45'),('2', 'no_proj', '2', '60'),('5', 'no_proj', '2', '45'),('5', 'proj', '2', '45'),('5', 'proj', '2', '60'),('5', 'proj', '5', '45'),('9', 'no_proj', '2', '45'),('9', 'proj', '2', '45')]\n",
    "\n",
    "n_cycles_list = [2,5,9]"
   ]
  },
  {
   "cell_type": "code",
   "execution_count": 43,
   "metadata": {},
   "outputs": [],
   "source": [
    "n_realisations = 5\n",
    "metrics_dict_list = []\n",
    "for idx in range(n_realisations):\n",
    "    metrics_dict_list_ = wf_script_utils.extract_shape_pix_results([np.load(metrics_file % (dataset+(str(idx),)), allow_pickle=True)[()] for dataset in dataset_list ])\n",
    "    metrics_dict_list.append(metrics_dict_list_)\n",
    "\n",
    "metrics_dict_list_np = np.array(metrics_dict_list)"
   ]
  },
  {
   "cell_type": "code",
   "execution_count": 44,
   "metadata": {},
   "outputs": [],
   "source": [
    "metrics_param_mean = np.mean(metrics_dict_list_np,axis=0)\n",
    "metrics_param_median = np.median(metrics_dict_list_np,axis=0)\n",
    "metrics_param_std = np.std(metrics_dict_list_np, axis=0)\n",
    "\n"
   ]
  },
  {
   "cell_type": "code",
   "execution_count": 45,
   "metadata": {},
   "outputs": [
    {
     "name": "stdout",
     "output_type": "stream",
     "text": [
      "n cycles | project | d_max param | n_zernikes   mean Param SR RMSE\n",
      "\n",
      "2 cycles - no_proj - d_max=2 - 45z  --->  10.839911997318268  +/-  0.843432207349185\n",
      "2 cycles - no_proj - d_max=2 - 60z  --->  11.287786960601807  +/-  0.9607127966411424\n",
      "5 cycles - no_proj - d_max=2 - 45z  --->  12.353712320327759  +/-  0.9367677950643569\n",
      "5 cycles -    proj - d_max=2 - 45z  --->  7.461188435554504  +/-  0.5427799055604208\n",
      "5 cycles -    proj - d_max=2 - 60z  --->  6.62824422121048  +/-  0.818275761321406\n",
      "5 cycles -    proj - d_max=5 - 45z  --->  13.290652185678482  +/-  0.3727477067059895\n",
      "9 cycles - no_proj - d_max=2 - 45z  --->  14.938069581985474  +/-  0.5112127721789963\n",
      "9 cycles -    proj - d_max=2 - 45z  --->  10.770474076271057  +/-  0.8070779865104847\n"
     ]
    }
   ],
   "source": [
    "print('n cycles | project | d_max param | n_zernikes   mean Param SR RMSE\\n')\n",
    "for idx, dataset in enumerate(dataset_list):\n",
    "    print('%s cycles - %7s - d_max=%s - %sz' % dataset, ' ---> ', metrics_param_mean[2][idx], ' +/- ', metrics_std[2][idx])"
   ]
  },
  {
   "cell_type": "markdown",
   "metadata": {},
   "source": [
    "### Projecting every model"
   ]
  },
  {
   "cell_type": "code",
   "execution_count": 46,
   "metadata": {},
   "outputs": [],
   "source": [
    "metrics_file = '../wf-outputs/metrics/metrics-poly_%s_cycles_256_eval_param_%s_d%s_%sz_%s.npy'\n",
    "dataset_list = [('2', 'no_proj_proj_end', '2', '45'),('2', 'no_proj_proj_end', '2', '60'),('5', 'no_proj_proj_end', '2', '45'),('5', 'proj', '2', '45'),('5', 'proj', '2', '60'),('5', 'proj', '5', '45'),('9', 'no_proj_proj_end', '2', '45'),('9', 'proj', '2', '45')]\n",
    "\n",
    "n_cycles_list = [2,5,9]"
   ]
  },
  {
   "cell_type": "code",
   "execution_count": 47,
   "metadata": {},
   "outputs": [],
   "source": [
    "n_realisations = 5\n",
    "metrics_dict_list = []\n",
    "for idx in range(n_realisations):\n",
    "    metrics_dict_list_ = wf_script_utils.extract_shape_pix_results([np.load(metrics_file % (dataset+(str(idx),)), allow_pickle=True)[()] for dataset in dataset_list ])\n",
    "    metrics_dict_list.append(metrics_dict_list_)\n",
    "\n",
    "metrics_dict_list_np = np.array(metrics_dict_list)"
   ]
  },
  {
   "cell_type": "code",
   "execution_count": 48,
   "metadata": {},
   "outputs": [],
   "source": [
    "metrics_param_proj_end_mean = np.mean(metrics_dict_list_np,axis=0)\n",
    "metrics_param_proj_end_median = np.median(metrics_dict_list_np,axis=0)\n",
    "metrics_param_proj_end_std = np.std(metrics_dict_list_np, axis=0)"
   ]
  },
  {
   "cell_type": "code",
   "execution_count": 49,
   "metadata": {},
   "outputs": [
    {
     "name": "stdout",
     "output_type": "stream",
     "text": [
      "n cycles | project | d_max param | n_zernikes   mean Param SR RMSE\n",
      "\n",
      "2 cycles - no_proj_proj_end - d_max=2 - 45z  --->  5.806027725338936  +/-  0.843432207349185\n",
      "2 cycles - no_proj_proj_end - d_max=2 - 60z  --->  6.356428191065788  +/-  0.9607127966411424\n",
      "5 cycles - no_proj_proj_end - d_max=2 - 45z  --->  9.14859876036644  +/-  0.9367677950643569\n",
      "5 cycles -             proj - d_max=2 - 45z  --->  7.461188435554504  +/-  0.5427799055604208\n",
      "5 cycles -             proj - d_max=2 - 60z  --->  6.62824422121048  +/-  0.818275761321406\n",
      "5 cycles -             proj - d_max=5 - 45z  --->  13.290652185678482  +/-  0.3727477067059895\n",
      "9 cycles - no_proj_proj_end - d_max=2 - 45z  --->  10.707536190748215  +/-  0.5112127721789963\n",
      "9 cycles -             proj - d_max=2 - 45z  --->  10.770474076271057  +/-  0.8070779865104847\n"
     ]
    }
   ],
   "source": [
    "print('n cycles | project | d_max param | n_zernikes   mean Param SR RMSE\\n')\n",
    "for idx, dataset in enumerate(dataset_list):\n",
    "    print('%s cycles - %16s - d_max=%s - %sz' % dataset, ' ---> ', metrics_param_proj_end_mean[2][idx], ' +/- ', metrics_std[2][idx])"
   ]
  },
  {
   "cell_type": "markdown",
   "metadata": {},
   "source": [
    "# WFE errors"
   ]
  },
  {
   "cell_type": "code",
   "execution_count": 50,
   "metadata": {},
   "outputs": [],
   "source": [
    "metrics_file = '../wf-outputs/metrics/metrics-poly_%s_cycles_256_eval_param_%s_d%s_%sz_%s.npy'\n",
    "dataset_list = [('2', 'no_proj_proj_end', '2', '45'),('2', 'no_proj_proj_end', '2', '60'),('5', 'no_proj_proj_end', '2', '45'),('5', 'proj', '2', '45'),('5', 'proj', '2', '60'),('5', 'proj', '5', '45'),('9', 'no_proj_proj_end', '2', '45'),('9', 'proj', '2', '45')]\n",
    "\n",
    "n_cycles_list = [2,5,9]"
   ]
  },
  {
   "cell_type": "code",
   "execution_count": 51,
   "metadata": {},
   "outputs": [],
   "source": [
    "n_realisations = 5\n",
    "metrics_dict_list = []\n",
    "for idx in range(n_realisations):\n",
    "    metrics_dict_list_ = wf_script_utils.extract_opd_results([np.load(metrics_file % (dataset+(str(idx),)), allow_pickle=True)[()] for dataset in dataset_list ])\n",
    "    metrics_dict_list.append(metrics_dict_list_)\n",
    "\n",
    "metrics_dict_list_np = np.array(metrics_dict_list)"
   ]
  },
  {
   "cell_type": "code",
   "execution_count": 52,
   "metadata": {},
   "outputs": [
    {
     "data": {
      "text/plain": [
       "21.05453813772265"
      ]
     },
     "execution_count": 52,
     "metadata": {},
     "output_type": "execute_result"
    }
   ],
   "source": [
    "metrics_dict_list_np[0,2,0]"
   ]
  },
  {
   "cell_type": "code",
   "execution_count": 27,
   "metadata": {},
   "outputs": [],
   "source": [
    "metrics_param_proj_end_mean = np.mean(metrics_dict_list_np,axis=0)\n",
    "metrics_param_proj_end_median = np.median(metrics_dict_list_np,axis=0)\n",
    "metrics_param_proj_end_std = np.std(metrics_dict_list_np, axis=0)"
   ]
  },
  {
   "cell_type": "code",
   "execution_count": 31,
   "metadata": {},
   "outputs": [
    {
     "name": "stdout",
     "output_type": "stream",
     "text": [
      "n cycles | project | d_max param | n_zernikes   mean Param OPD RMSE\n",
      "\n",
      "2 cycles - no_proj_proj_end - d_max=2 - 45z  --->  59.538323161681  +/-  45.781605650066915\n",
      "2 cycles - no_proj_proj_end - d_max=2 - 60z  --->  81.92068838788694  +/-  37.921716154249815\n",
      "5 cycles - no_proj_proj_end - d_max=2 - 45z  --->  91.79701670759388  +/-  29.464330208790443\n",
      "5 cycles -             proj - d_max=2 - 45z  --->  74.26032859011416  +/-  39.335111831009336\n",
      "5 cycles -             proj - d_max=2 - 60z  --->  95.31287064351417  +/-  44.13749166054337\n",
      "5 cycles -             proj - d_max=5 - 45z  --->  121.45078449504688  +/-  7.355585737704699\n",
      "9 cycles - no_proj_proj_end - d_max=2 - 45z  --->  102.14559778231435  +/-  22.279322499130664\n",
      "9 cycles -             proj - d_max=2 - 45z  --->  112.63092088842977  +/-  29.681921160214884\n"
     ]
    }
   ],
   "source": [
    "print('n cycles | project | d_max param | n_zernikes   mean Param OPD RMSE\\n')\n",
    "for idx, dataset in enumerate(dataset_list):\n",
    "    print('%s cycles - %16s - d_max=%s - %sz' % dataset, ' ---> ', metrics_param_proj_end_mean[2][idx], ' +/- ', metrics_param_proj_end_std[2][idx])"
   ]
  },
  {
   "cell_type": "code",
   "execution_count": null,
   "metadata": {},
   "outputs": [],
   "source": []
  }
 ],
 "metadata": {
  "kernelspec": {
   "display_name": "Python 3",
   "language": "python",
   "name": "python3"
  },
  "language_info": {
   "codemirror_mode": {
    "name": "ipython",
    "version": 3
   },
   "file_extension": ".py",
   "mimetype": "text/x-python",
   "name": "python",
   "nbconvert_exporter": "python",
   "pygments_lexer": "ipython3",
   "version": "3.6.12"
  },
  "varInspector": {
   "cols": {
    "lenName": 16,
    "lenType": 16,
    "lenVar": 40
   },
   "kernels_config": {
    "python": {
     "delete_cmd_postfix": "",
     "delete_cmd_prefix": "del ",
     "library": "var_list.py",
     "varRefreshCmd": "print(var_dic_list())"
    },
    "r": {
     "delete_cmd_postfix": ") ",
     "delete_cmd_prefix": "rm(",
     "library": "var_list.r",
     "varRefreshCmd": "cat(var_dic_list()) "
    }
   },
   "types_to_exclude": [
    "module",
    "function",
    "builtin_function_or_method",
    "instance",
    "_Feature"
   ],
   "window_display": false
  },
  "vscode": {
   "interpreter": {
    "hash": "31f2aee4e71d21fbe5cf8b01ff0e069b9275f58929596ceb00d14d90e3e16cd6"
   }
  }
 },
 "nbformat": 4,
 "nbformat_minor": 2
}
