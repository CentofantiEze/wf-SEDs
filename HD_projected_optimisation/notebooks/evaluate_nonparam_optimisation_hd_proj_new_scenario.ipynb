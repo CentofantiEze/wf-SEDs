{
 "cells": [
  {
   "cell_type": "code",
   "execution_count": 1,
   "metadata": {},
   "outputs": [],
   "source": [
    "import numpy as np\n",
    "import matplotlib.pyplot as plt\n",
    "import matplotlib as mpl\n",
    "import matplotlib.ticker as mtick\n",
    "import seaborn as sns\n",
    "\n",
    "import wf_psf.script_utils as wf_script_utils"
   ]
  },
  {
   "cell_type": "code",
   "execution_count": 2,
   "metadata": {},
   "outputs": [],
   "source": [
    "def define_plot_style():\n",
    "    # Define plot paramters\n",
    "    # Use seaborn style\n",
    "    sns.set()\n",
    "    \n",
    "    plot_style = {\n",
    "        'figure.figsize': (12,8),\n",
    "        'figure.dpi': 200,\n",
    "        'figure.autolayout':True,\n",
    "        'lines.linewidth': 2,\n",
    "        'lines.linestyle': '-',\n",
    "        'lines.marker': 'o',\n",
    "        'lines.markersize': 10,\n",
    "        'legend.fontsize': 20,\n",
    "        'legend.loc': 'best',\n",
    "        'axes.titlesize': 24,\n",
    "        'font.size': 22\n",
    "    }\n",
    "    mpl.rcParams.update(plot_style)"
   ]
  },
  {
   "cell_type": "markdown",
   "metadata": {},
   "source": [
    "# Metrics"
   ]
  },
  {
   "cell_type": "code",
   "execution_count": 5,
   "metadata": {},
   "outputs": [],
   "source": [
    "metrics_file = '../wf-outputs/metrics/metrics-poly_%s_cycles_256_hd_proj_%s_%s_%s.npy'\n",
    "dataset_list = [('2', 'eval', 'param'),('2', 'eval', 'full'),('2', 'reset_eval', 'param'),('2', 'reset_eval', 'full'),('5', 'eval', 'param'),('5', 'eval', 'full'),('5', 'reset_eval', 'param'),('5', 'reset_eval', 'full')]\n",
    "n_cycles_list = [2,5]"
   ]
  },
  {
   "cell_type": "code",
   "execution_count": 6,
   "metadata": {},
   "outputs": [],
   "source": [
    "n_realisations = 5\n",
    "metrics_dict_list = []\n",
    "for idx in range(n_realisations):\n",
    "    metrics_dict_list_ = wf_script_utils.extract_shape_pix_results([np.load(metrics_file % (dataset+(str(idx),)), allow_pickle=True)[()] for dataset in dataset_list ])\n",
    "    metrics_dict_list.append(metrics_dict_list_)\n",
    "\n",
    "metrics_dict_list_np = np.array(metrics_dict_list)\n",
    "\n",
    "metrics_mean = np.mean(metrics_dict_list_np,axis=0)\n",
    "metrics_median = np.median(metrics_dict_list_np,axis=0)\n",
    "metrics_std = np.std(metrics_dict_list_np, axis=0)\n",
    "metrics_best = np.min(metrics_dict_list_np, axis=0)"
   ]
  },
  {
   "cell_type": "code",
   "execution_count": 64,
   "metadata": {},
   "outputs": [],
   "source": [
    "wfe_metrics_dict_list = []\n",
    "for idx in range(n_realisations):\n",
    "    wfe_metrics_dict_list_ = wf_script_utils.extract_opd_results([np.load(metrics_file % (dataset+(str(idx),)), allow_pickle=True)[()] for dataset in dataset_list ])\n",
    "    wfe_metrics_dict_list.append(wfe_metrics_dict_list_)\n",
    "\n",
    "wfe_metrics_dict_list_np = np.array(wfe_metrics_dict_list)\n",
    "\n",
    "wfe_metrics_mean = np.mean(wfe_metrics_dict_list_np,axis=0)\n",
    "wfe_metrics_median = np.median(wfe_metrics_dict_list_np,axis=0)\n",
    "wfe_metrics_std = np.std(wfe_metrics_dict_list_np, axis=0)\n",
    "wfe_metrics_best = np.min(wfe_metrics_dict_list_np, axis=0)\n"
   ]
  },
  {
   "cell_type": "code",
   "execution_count": 68,
   "metadata": {},
   "outputs": [
    {
     "name": "stdout",
     "output_type": "stream",
     "text": [
      "n cycles  | reset | model eval        Mean SR PSF RMSE \t  | Best model |   Median  ||       WFE RMSE       | Best model\n",
      "\n",
      "2 cycles  -    no -   param    --->   18.85  +/-  00.98   |    18.19   |   18.51   ||  108.72  +/-  013.57   |  091.00\n",
      "2 cycles  -    no -    full    --->   04.32  +/-  01.26   |    02.40   |   04.01   ||  169.73  +/-  028.31   |  123.92\n",
      "2 cycles  -   yes -   param    --->   14.55  +/-  01.54   |    11.82   |   14.76   ||  092.28  +/-  021.66   |  062.30\n",
      "2 cycles  -   yes -    full    --->   03.96  +/-  01.39   |    02.15   |   03.49   ||  142.80  +/-  030.33   |  090.75\n",
      "5 cycles  -    no -   param    --->   17.89  +/-  02.34   |    15.20   |   18.81   ||  088.56  +/-  017.70   |  066.08\n",
      "5 cycles  -    no -    full    --->   04.37  +/-  00.50   |    03.72   |   04.44   ||  207.34  +/-  008.23   |  193.79\n",
      "5 cycles  -   yes -   param    --->   08.15  +/-  03.42   |    04.12   |   07.94   ||  081.43  +/-  039.30   |  031.25\n",
      "5 cycles  -   yes -    full    --->   03.40  +/-  01.09   |    01.72   |   03.08   ||  138.03  +/-  051.90   |  037.41\n"
     ]
    }
   ],
   "source": [
    "print('n cycles  | reset | model eval        Mean SR PSF RMSE \\t  | Best model |   Median  ||       WFE RMSE       | Best model\\n')\n",
    "for idx, dataset in enumerate(dataset_list):\n",
    "    print('%s cycles  - %5s - %7s' % (dataset[0], 'no' if dataset[1] == 'eval' else 'yes', dataset[2]), '   --->   %05.2f' % metrics_mean[2][idx], ' +/-  %05.2f' % metrics_std[2][idx], '  |    %05.2f' % metrics_best[2][idx], '  |   %05.2f' % metrics_median[2][idx], '  ||  %06.2f' % wfe_metrics_mean[2][idx], ' +/-  %06.2f' % wfe_metrics_std[2][idx], '  |  %06.2f' % wfe_metrics_best[2][idx])"
   ]
  }
 ],
 "metadata": {
  "kernelspec": {
   "display_name": "Python 3.8.2 64-bit",
   "language": "python",
   "name": "python3"
  },
  "language_info": {
   "codemirror_mode": {
    "name": "ipython",
    "version": 3
   },
   "file_extension": ".py",
   "mimetype": "text/x-python",
   "name": "python",
   "nbconvert_exporter": "python",
   "pygments_lexer": "ipython3",
   "version": "3.8.2"
  },
  "orig_nbformat": 4,
  "vscode": {
   "interpreter": {
    "hash": "31f2aee4e71d21fbe5cf8b01ff0e069b9275f58929596ceb00d14d90e3e16cd6"
   }
  }
 },
 "nbformat": 4,
 "nbformat_minor": 2
}
