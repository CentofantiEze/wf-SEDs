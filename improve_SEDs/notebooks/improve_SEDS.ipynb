{
 "cells": [
  {
   "cell_type": "markdown",
   "metadata": {},
   "source": [
    "# Improve SEDs\n",
    "\n",
    "In this notebook we explore the idea of interpolating the 8-point SEDs to be able to generate PSFs closer to the ground truth."
   ]
  },
  {
   "cell_type": "code",
   "execution_count": 1,
   "metadata": {},
   "outputs": [],
   "source": [
    "interactive_plots = False\n",
    "if interactive_plots:\n",
    "    interactive = ''\n",
    "else:\n",
    "    interactive = 'svg'"
   ]
  },
  {
   "cell_type": "code",
   "execution_count": 2,
   "metadata": {},
   "outputs": [],
   "source": [
    "import numpy as np\n",
    "import matplotlib.pyplot as plt\n",
    "#import tensorflow as tf\n",
    "\n",
    "import wf_psf\n",
    "\n",
    "#import wf_psf.SimPSFToolkit as SimPSFToolkit\n",
    "#import wf_psf.utils as wf_utils\n",
    "#import wf_psf.tf_psf_field as tf_psf_field\n",
    "\n",
    "# Plot style & colormap\n",
    "\n",
    "import matplotlib as mpl\n",
    "#import matplotlib.ticker as mtick\n",
    "#import seaborn as sns\n",
    "#from mpl_toolkits.axes_grid1 import make_axes_locatable\n",
    "from matplotlib.colors import ListedColormap, LinearSegmentedColormap\n",
    "#from mpl_toolkits.axes_grid1 import ImageGrid\n",
    "\n",
    "#from IPython.display import display, HTML\n",
    "\n",
    "# Tables in python notebooks\n",
    "from tabulate import tabulate\n",
    "\n",
    "# Interactive plots\n",
    "import plotly\n",
    "import plotly.graph_objects as go\n",
    "import plotly.io as pio   \n",
    "pio.kaleido.scope.mathjax = None\n",
    "\n",
    "# Pre-defined colormap\n",
    "top = mpl.cm.get_cmap('Oranges_r', 128)\n",
    "bottom = mpl.cm.get_cmap('Blues', 128)\n",
    "newcolors = np.vstack((top(np.linspace(0, 1, 128)),\n",
    "                       bottom(np.linspace(0, 1, 128))))\n",
    "newcmp = ListedColormap(newcolors, name='OrangeBlue')\n",
    "\n",
    "\n",
    "plot_style = {\n",
    "    'mpl_toolkits.legacy_colorbar': False,\n",
    "    'axes.formatter.use_mathtext': True,\n",
    "    'text.usetex': False,\n",
    "}\n",
    "mpl.rcParams.update(plot_style)\n",
    "\n",
    "plt.rc('xtick', labelsize=12)    # fontsize of the tick labels\n",
    "plt.rc('ytick', labelsize=12)    # fontsize of the tick labels"
   ]
  },
  {
   "cell_type": "markdown",
   "metadata": {},
   "source": [
    "# Model Parameters"
   ]
  },
  {
   "cell_type": "code",
   "execution_count": 3,
   "metadata": {},
   "outputs": [],
   "source": [
    "# Parameters\n",
    "d_max = 2\n",
    "max_order = 45\n",
    "x_lims = [0, 1e3]\n",
    "y_lims = [0, 1e3]\n",
    "grid_points = [4, 4]\n",
    "n_bins = 20\n",
    "auto_init = True\n",
    "verbose = True\n",
    "\n",
    "oversampling_rate = 3.\n",
    "output_Q = 3.\n",
    "\n",
    "max_wfe_rms = 0.1\n",
    "output_dim = 32\n",
    "LP_filter_length = 2\n",
    "euclid_obsc = True\n",
    "\n",
    "pupil_diameter = 256\n",
    "\n",
    "# Super resolved PSFs\n",
    "super_out_Q = 1\n",
    "super_out_res = 64\n",
    "\n",
    "max_bins = 350"
   ]
  },
  {
   "cell_type": "markdown",
   "metadata": {},
   "source": [
    "# Load Star SEDs"
   ]
  },
  {
   "cell_type": "code",
   "execution_count": 4,
   "metadata": {},
   "outputs": [],
   "source": [
    "# SED folder path\n",
    "SED_path = './../../../wf-psf/data/SEDs/save_SEDs/'\n",
    "# Output saving path\n",
    "output_folder = './../outputs/output-SEDs/'\n",
    "plots_folder = './../outputs/plots/'\n",
    "\n",
    "stellar_SEDs = np.load(SED_path + 'SEDs.npy', allow_pickle=True)\n",
    "stellar_lambdas = np.load(SED_path + 'lambdas.npy', allow_pickle=True)\n",
    "SED_name = ['O5V', 'B0V', 'B5-7V', 'A0V', 'A5V', 'F0V', 'F5V', 'G0V', 'G5V', 'K0V', 'K5V', 'M0V', 'M5V']\n",
    "n_SEDs = len(SED_name)\n",
    "# Create packed SEDs and lambdas lists\n",
    "SED_list = []\n",
    "for it in range(n_SEDs):\n",
    "    concat_SED_wv = np.concatenate((stellar_lambdas.reshape(-1,1),\n",
    "                                    stellar_SEDs[it,:].reshape(-1,1)), axis=1)\n",
    "    SED_list.append(concat_SED_wv)\n",
    "SED_np = np.array(SED_list)"
   ]
  },
  {
   "cell_type": "markdown",
   "metadata": {},
   "source": [
    "# Generate Zernikes and Initialize PSF generator"
   ]
  },
  {
   "cell_type": "code",
   "execution_count": 5,
   "metadata": {},
   "outputs": [],
   "source": [
    "# Generate Zernike maps\n",
    "zernikes = wf_psf.utils.zernike_generator(n_zernikes=max_order, wfe_dim=pupil_diameter)\n",
    "\n",
    "# Initialize PSF simulator\n",
    "sim_PSF_toolkit = wf_psf.SimPSFToolkit(\n",
    "    zernikes, max_order=max_order, max_wfe_rms=max_wfe_rms, oversampling_rate=oversampling_rate,\n",
    "    output_Q=super_out_Q, output_dim=super_out_res, pupil_diameter=pupil_diameter, euclid_obsc=euclid_obsc,\n",
    "    LP_filter_length=LP_filter_length)\n",
    "\n",
    "# Initialize PSF field\n",
    "gen_poly_fieldPSF = wf_psf.GenPolyFieldPSF(sim_PSF_toolkit, d_max=d_max,\n",
    "                                    grid_points=grid_points, max_order=max_order,\n",
    "                                    x_lims=x_lims, y_lims=y_lims, n_bins=max_bins,\n",
    "                                    lim_max_wfe_rms=max_wfe_rms, verbose=verbose)"
   ]
  },
  {
   "cell_type": "code",
   "execution_count": 6,
   "metadata": {},
   "outputs": [],
   "source": [
    "# Load C_poly\n",
    "C_poly = np.load('../outputs/ground_truth/C_poly.npy', allow_pickle=True)\n",
    "gen_poly_fieldPSF.C_poly = C_poly\n",
    "# Load saved position\n",
    "pos_np = np.load('../outputs/ground_truth/pos.npy', allow_pickle=True)"
   ]
  },
  {
   "cell_type": "markdown",
   "metadata": {},
   "source": [
    "# Load Ground Truth PSFs"
   ]
  },
  {
   "cell_type": "code",
   "execution_count": 7,
   "metadata": {},
   "outputs": [],
   "source": [
    "# Load data\n",
    "gt_poly_psf_np = np.load('../outputs/ground_truth/gt_poly_psf.npy', allow_pickle=True)\n",
    "zernike_coef_np = np.load('../outputs/ground_truth/gt_zernike_coef.npy', allow_pickle=True)"
   ]
  },
  {
   "cell_type": "markdown",
   "metadata": {},
   "source": [
    "# Load 8-point-SED PSFs"
   ]
  },
  {
   "cell_type": "code",
   "execution_count": 8,
   "metadata": {},
   "outputs": [],
   "source": [
    "# Load binned PSFs\n",
    "binned_poly_psf =  np.load('../outputs/predictions/binned_poly_psf.npy',allow_pickle=True)"
   ]
  },
  {
   "cell_type": "markdown",
   "metadata": {},
   "source": [
    "# Interpolate SED and generate PSFs"
   ]
  },
  {
   "cell_type": "code",
   "execution_count": 142,
   "metadata": {},
   "outputs": [],
   "source": [
    "generate_PSF = False"
   ]
  },
  {
   "cell_type": "code",
   "execution_count": 143,
   "metadata": {},
   "outputs": [],
   "source": [
    "SED_points_per_bin_list = [0,1,2]\n",
    "n_bins = 8\n",
    "gen_poly_fieldPSF.sim_psf_toolkit.SED_sigma = 0\n",
    "gen_poly_fieldPSF.sim_psf_toolkit.extrapolate = True\n",
    "gen_poly_fieldPSF.sim_psf_toolkit.SED_interp_kind = 'cubic'\n",
    "\n",
    "if generate_PSF:\n",
    "    # Generate all the polychromatic PSFs\n",
    "    interp_poly_psf = []\n",
    "\n",
    "    for points_per_bin in SED_points_per_bin_list:\n",
    "\n",
    "        # Set right number of bins\n",
    "        gen_poly_fieldPSF.n_bins = n_bins\n",
    "\n",
    "        ########### add parameter to control the upsampling ############\n",
    "        gen_poly_fieldPSF.sim_psf_toolkit.interp_pts_per_bin = points_per_bin\n",
    "\n",
    "        psf_list = []\n",
    "        # Generate polychromatic PSF at 3x Euclid resolution\n",
    "        for it in range(n_SEDs):\n",
    "            _psf, _, _ = gen_poly_fieldPSF.get_poly_PSF(xv_flat=pos_np[0, 0],\n",
    "                                                                yv_flat=pos_np[0, 1],\n",
    "                                                                SED=SED_list[it])\n",
    "            psf_list.append(_psf)\n",
    "\n",
    "        interp_poly_psf.append(psf_list)\n",
    "\n",
    "    gen_poly_fieldPSF.sim_psf_toolkit.interp_pts_per_bin = 0\n",
    "    np.save('../outputs/predictions/interp_extra_cubic_poly_psf.npy',np.array(interp_poly_psf),allow_pickle=True)\n",
    "\n",
    "# Load numpy psf array\n",
    "interp_poly_psf_np = np.load('../outputs/predictions/interp_extra_cubic_poly_psf.npy', allow_pickle=True)"
   ]
  },
  {
   "cell_type": "code",
   "execution_count": 144,
   "metadata": {},
   "outputs": [
    {
     "data": {
      "image/png": "[encoded data removed]",
      "text/plain": [
       "<Figure size 1080x936 with 15 Axes>"
      ]
     },
     "metadata": {},
     "output_type": "display_data"
    }
   ],
   "source": [
    "display_star = 0\n",
    "\n",
    "fig, ax = plt.subplots(3, 3, figsize=(15,13), facecolor='white')\n",
    "fig.suptitle('Interpolated SED PSFs', fontsize=22)\n",
    "\n",
    "vmax_psf = np.max(gt_poly_psf_np[display_star,:,:])\n",
    "vmax_dif = np.max(np.abs(gt_poly_psf_np[display_star,:,:] - interp_poly_psf_np[0,display_star]))\n",
    "\n",
    "for itr, n_points in enumerate(SED_points_per_bin_list):\n",
    "    im = ax[itr][0].imshow(gt_poly_psf_np[display_star,:,:], cmap='gist_stern', vmax=vmax_psf)\n",
    "    ax[itr][0].set_title('Ground truth PSF - 350 pts')\n",
    "    ax[itr][0].set_xticks([])\n",
    "    ax[itr][0].set_yticks([])\n",
    "\n",
    "    im = ax[itr][1].imshow(interp_poly_psf_np[itr,display_star],cmap='gist_stern', vmax=vmax_psf)\n",
    "    ax[itr][1].set_title('+{} point per bin - {} pts'.format(n_points, n_bins*(n_points+1)))\n",
    "    ax[itr][1].set_xticks([])\n",
    "    ax[itr][1].set_yticks([])\n",
    "    cbar = plt.colorbar(im, ax=ax[itr][1])\n",
    "    cbar.formatter.set_powerlimits((0, 0))\n",
    "\n",
    "    im = ax[itr][2].imshow(np.abs(interp_poly_psf_np[itr,display_star]-gt_poly_psf_np[display_star,:,:]),cmap='gist_stern', vmax=vmax_dif)\n",
    "    ax[itr][2].set_title('Absolute difference')\n",
    "    ax[itr][2].set_xticks([])\n",
    "    ax[itr][2].set_yticks([])\n",
    "    cbar = plt.colorbar(im, ax=ax[itr][2])\n",
    "    cbar.formatter.set_powerlimits((0, 0))\n",
    "\n",
    "\n",
    "#plt.savefig('../outputs/plots/interpolated_SED_PSFs.pdf')\n",
    "plt.show()"
   ]
  },
  {
   "cell_type": "code",
   "execution_count": 145,
   "metadata": {},
   "outputs": [
    {
     "data": {
      "image/png": "[encoded data removed]",
      "text/plain": [
       "<Figure size 1152x576 with 12 Axes>"
      ]
     },
     "metadata": {},
     "output_type": "display_data"
    }
   ],
   "source": [
    "display_star = 0\n",
    "\n",
    "fig, ax = plt.subplots(2, 3, figsize=(16,8), facecolor='white')\n",
    "#fig.suptitle('Interpolated SED PSFs', fontsize=22)\n",
    "\n",
    "vmax_psf = np.max(gt_poly_psf_np[display_star,:,:])\n",
    "vmax_dif = np.max(np.abs(gt_poly_psf_np[display_star,:,:] - interp_poly_psf_np[0,display_star]))\n",
    "\n",
    "for itr, n_points in enumerate(SED_points_per_bin_list):\n",
    "    im = ax[0][itr].imshow(interp_poly_psf_np[itr,display_star],cmap='gist_stern', vmax=vmax_psf)\n",
    "    ax[0][itr].set_title('+{} point per bin - {} pts'.format(n_points, n_bins*(n_points+1)))\n",
    "    ax[0][itr].set_xticks([])\n",
    "    ax[0][itr].set_yticks([])\n",
    "    cbar = plt.colorbar(im, ax=ax[0][itr])\n",
    "    cbar.formatter.set_powerlimits((0, 0))\n",
    "\n",
    "    im = ax[1][itr].imshow(np.abs(interp_poly_psf_np[itr,display_star]-gt_poly_psf_np[display_star,:,:]),cmap='gist_stern', vmax=vmax_dif)\n",
    "    ax[1][itr].set_title('Ground truth residual')\n",
    "    ax[1][itr].set_xticks([])\n",
    "    ax[1][itr].set_yticks([])\n",
    "    cbar = plt.colorbar(im, ax=ax[1][itr])\n",
    "    cbar.formatter.set_powerlimits((0, 0))\n",
    "\n",
    "\n",
    "#plt.savefig('../outputs/plots/interpolated_SED_PSFs_noGT.pdf')\n",
    "plt.show()"
   ]
  },
  {
   "cell_type": "markdown",
   "metadata": {},
   "source": [
    "# PSF reconstruction errors"
   ]
  },
  {
   "cell_type": "code",
   "execution_count": 146,
   "metadata": {},
   "outputs": [],
   "source": [
    "def get_RMSE(psf1, psf2):\n",
    "    residual = np.sqrt(np.mean((psf1 - psf2)**2, axis=(0,1)))\n",
    "    gt_mean  = np.sqrt(np.mean(psf1**2, axis=(0,1)))\n",
    "    return residual, 100. * (residual/gt_mean)"
   ]
  },
  {
   "cell_type": "code",
   "execution_count": 147,
   "metadata": {},
   "outputs": [],
   "source": [
    "abs_rmse_mat_interp = np.zeros((len(SED_points_per_bin_list), len(SED_name)))\n",
    "rel_rmse_mat_interp = np.zeros((len(SED_points_per_bin_list), len(SED_name)))\n",
    "\n",
    "for n_points in range(len(SED_points_per_bin_list)):\n",
    "    for star_id in range(len(SED_name)):\n",
    "        abs_rmse_mat_interp[n_points, star_id], rel_rmse_mat_interp[n_points, star_id] = get_RMSE(gt_poly_psf_np[star_id,:,:],interp_poly_psf_np[n_points,star_id])"
   ]
  },
  {
   "cell_type": "code",
   "execution_count": 148,
   "metadata": {},
   "outputs": [
    {
     "name": "stdout",
     "output_type": "stream",
     "text": [
      "\t\t\t\tRelative PSF error [%]\n",
      "------  ----  ----  -----  ----  ----  ----  ----  ----  ----  ----  ----  ----  ----  --------\n",
      "n_bins  O5V   B0V   B5-7V  A0V   A5V   F0V   F5V   G0V   G5V   K0V   K5V   M0V   M5V   Avg RMSE\n",
      "8       0.31  0.31  0.26   0.25  0.23  0.19  0.17  0.16  0.15  0.14  0.11  0.11  0.12  ->  0.19\n",
      "16      0.12  0.11  0.08   0.06  0.06  0.06  0.06  0.04  0.04  0.05  0.05  0.14  0.5   ->  0.11\n",
      "24      0.09  0.09  0.08   0.09  0.08  0.06  0.05  0.06  0.05  0.04  0.04  0.06  0.27  ->  0.08\n",
      "------  ----  ----  -----  ----  ----  ----  ----  ----  ----  ----  ----  ----  ----  --------\n"
     ]
    }
   ],
   "source": [
    "rel_rmse_mean_interp = np.around(np.mean(rel_rmse_mat_interp, axis=1), decimals=2)\n",
    "table = (np.around(rel_rmse_mat_interp, decimals=2)).tolist()\n",
    "\n",
    "table.insert(0,SED_name.copy())\n",
    "table[0].insert(0,'n_bins')\n",
    "table[0].append('Avg RMSE')\n",
    "for idx, n_points in enumerate(SED_points_per_bin_list):\n",
    "    table[idx+1].insert(0, n_bins*(n_points+1))\n",
    "    table[idx+1].append('->  '+str(rel_rmse_mean_interp[idx]))\n",
    "print('\\t\\t\\t\\tRelative PSF error [%]')\n",
    "print(tabulate(table))"
   ]
  },
  {
   "cell_type": "markdown",
   "metadata": {},
   "source": [
    "# Interpolated SEDs visualisation"
   ]
  },
  {
   "cell_type": "code",
   "execution_count": 18,
   "metadata": {},
   "outputs": [
    {
     "data": {
      "image/svg+xml": "<svg class=\"main-svg\" xmlns=\"http://www.w3.org/2000/svg\" xmlns:xlink=\"http://www.w3.org/1999/xlink\" width=\"900\" height=\"520\" style=\"\" viewBox=\"0 0 900 520\"><rect x=\"0\" y=\"0\" width=\"900\" height=\"520\" style=\"fill: rgb(255, 255, 255); fill-opacity: 1;\"/><defs id=\"defs-59ebdb\"><g class=\"clips\"><clipPath id=\"clip59ebdbxyplot\" class=\"plotclip\"><rect width=\"654\" height=\"340\"/></clipPath><clipPath class=\"axesclip\" id=\"clip59ebdbx\"><rect x=\"80\" y=\"0\" width=\"654\" height=\"520\"/></clipPath><clipPath class=\"axesclip\" id=\"clip59ebdby\"><rect x=\"0\" y=\"100\" width=\"900\" height=\"340\"/></clipPath><clipPath class=\"axesclip\" id=\"clip59ebdbxy\"><rect x=\"80\" y=\"100\" width=\"654\" height=\"340\"/></clipPath></g><g class=\"gradients\"/><g class=\"patterns\"/></defs><g class=\"bglayer\"><rect class=\"bg\" x=\"80\" y=\"100\" width=\"654\" height=\"340\" style=\"fill: rgb(229, 236, 246); fill-opacity: 1; stroke-width: 0;\"/></g><g class=\"layer-below\"><g class=\"imagelayer\"/><g class=\"shapelayer\"/></g><g class=\"cartesianlayer\"><g class=\"subplot xy\"><g class=\"layer-subplot\"><g class=\"shapelayer\"/><g class=\"imagelayer\"/></g><g class=\"minor-gridlayer\"><g class=\"x\"/><g class=\"y\"/></g><g class=\"gridlayer\"><g class=\"x\"><path class=\"xgrid crisp\" transform=\"translate(119.58,0)\" d=\"M0,100v340\" style=\"stroke: rgb(255, 255, 255); stroke-opacity: 1; stroke-width: 1px;\"/><path class=\"xgrid crisp\" transform=\"translate(201.7,0)\" d=\"M0,100v340\" style=\"stroke: rgb(255, 255, 255); stroke-opacity: 1; stroke-width: 1px;\"/><path class=\"xgrid crisp\" transform=\"translate(283.82,0)\" d=\"M0,100v340\" style=\"stroke: rgb(255, 255, 255); stroke-opacity: 1; stroke-width: 1px;\"/><path class=\"xgrid crisp\" transform=\"translate(365.94,0)\" d=\"M0,100v340\" style=\"stroke: rgb(255, 255, 255); stroke-opacity: 1; stroke-width: 1px;\"/><path class=\"xgrid crisp\" transform=\"translate(448.06,0)\" d=\"M0,100v340\" style=\"stroke: rgb(255, 255, 255); stroke-opacity: 1; stroke-width: 1px;\"/><path class=\"xgrid crisp\" transform=\"translate(530.1800000000001,0)\" d=\"M0,100v340\" style=\"stroke: rgb(255, 255, 255); stroke-opacity: 1; stroke-width: 1px;\"/><path class=\"xgrid crisp\" transform=\"translate(612.3,0)\" d=\"M0,100v340\" style=\"stroke: rgb(255, 255, 255); stroke-opacity: 1; stroke-width: 1px;\"/><path class=\"xgrid crisp\" transform=\"translate(694.43,0)\" d=\"M0,100v340\" style=\"stroke: rgb(255, 255, 255); stroke-opacity: 1; stroke-width: 1px;\"/></g><g class=\"y\"><path class=\"ygrid crisp\" transform=\"translate(0,396.85)\" d=\"M80,0h654\" style=\"stroke: rgb(255, 255, 255); stroke-opacity: 1; stroke-width: 1px;\"/><path class=\"ygrid crisp\" transform=\"translate(0,324.81)\" d=\"M80,0h654\" style=\"stroke: rgb(255, 255, 255); stroke-opacity: 1; stroke-width: 1px;\"/><path class=\"ygrid crisp\" transform=\"translate(0,252.77)\" d=\"M80,0h654\" style=\"stroke: rgb(255, 255, 255); stroke-opacity: 1; stroke-width: 1px;\"/><path class=\"ygrid crisp\" transform=\"translate(0,180.73000000000002)\" d=\"M80,0h654\" style=\"stroke: rgb(255, 255, 255); stroke-opacity: 1; stroke-width: 1px;\"/><path class=\"ygrid crisp\" transform=\"translate(0,108.69)\" d=\"M80,0h654\" style=\"stroke: rgb(255, 255, 255); stroke-opacity: 1; stroke-width: 1px;\"/></g></g><g class=\"zerolinelayer\"/><path class=\"xlines-below\"/><path class=\"ylines-below\"/><g class=\"overlines-below\"/><g class=\"xaxislayer-below\"/><g class=\"yaxislayer-below\"/><g class=\"overaxes-below\"/><g class=\"plot\" transform=\"translate(80,100)\" clip-path=\"url(#clip59ebdbxyplot)\"><g class=\"scatterlayer mlayer\"><g class=\"trace scatter trace7b9a56\" style=\"stroke-miterlimit: 2; opacity: 1;\"><g class=\"fills\"/><g class=\"errorbars\"/><g class=\"lines\"><path class=\"js-line\" d=\"M40.4,20.43L46.97,32.38L48.61,33.32L51.89,36.7L53.54,40.25L55.18,46.1L56.82,44.95L60.11,49.54L61.75,51.45L66.68,58.13L68.32,61.69L69.96,62.5L71.6,61.52L73.24,67.51L74.89,68.71L78.17,74.65L79.81,77.52L83.1,80.75L84.74,87.23L86.38,94.52L88.03,92.9L89.67,99.26L91.31,97.1L92.95,91.17L94.6,92.21L97.88,97.71L99.52,98.36L101.17,111.37L102.81,113.21L104.45,134.71L106.09,111.33L107.74,107.31L109.38,110.78L111.02,111.52L112.66,114.56L115.95,118.07L117.59,120.23L119.23,121.38L120.88,121.25L124.16,126.31L125.8,126.17L134.01,134.97L135.66,135.62L137.3,135.97L138.94,138.17L142.23,141.67L143.87,141.86L147.15,144.48L148.8,148.04L150.44,151.63L152.08,150.67L153.72,150.64L155.37,153.08L157.01,152.51L158.65,153.63L160.29,156.56L161.94,155.7L163.58,155.43L165.22,157.59L166.86,163.71L168.51,173.76L170.15,165.28L171.79,166.43L173.43,170.24L175.08,166.81L176.72,166.57L178.36,167.78L184.93,174.4L186.57,174.71L188.21,178.43L189.86,178.65L191.5,177.01L193.14,177.67L198.07,182.21L199.71,183.05L203,184.88L204.64,184.2L206.28,185.81L207.92,190.39L209.57,190.98L211.21,189.46L212.85,199.85L214.49,219.18L216.14,197.96L217.78,191.43L221.06,192.52L222.71,194.74L227.63,197.49L229.28,199.51L232.56,204.76L234.2,209.29L235.85,205.08L237.49,204.66L240.77,205.39L242.41,206.37L245.7,209.06L247.34,209.58L252.27,213.31L253.91,212.88L255.55,214.56L257.2,214.75L258.84,215.4L260.48,217.97L280.19,226.67L281.83,226.13L283.48,226.52L285.12,229.16L291.69,230.54L293.33,231.99L294.97,232.91L296.62,236.02L299.9,234.38L301.54,234.2L303.18,235.61L304.83,236.02L308.11,235.04L309.75,235.62L311.4,236.73L313.04,239.03L314.68,245.94L316.32,248.44L317.97,245.89L319.61,244.98L321.25,241.06L322.89,241.37L326.18,246.87L327.82,246.97L329.46,247.6L331.11,249.47L332.75,248.74L334.39,249.94L340.96,251.86L342.6,252.16L352.46,257.62L354.1,258.66L355.74,259.13L357.38,260.92L360.67,261.13L362.31,262.02L365.6,263.35L367.24,264.08L372.17,265.36L373.81,266.29L388.59,271.13L390.23,271.72L411.59,278.78L413.23,278.98L416.51,280.07L418.15,280.4L426.37,282.17L428.01,283.42L431.29,283.83L432.94,284.38L449.36,288.31L451,288.18L459.22,288.52L460.86,289.13L469.07,291.81L470.71,291.72L474,292.76L475.64,294.21L477.28,295.27L478.92,295.07L483.85,295.09L485.49,295.88L488.78,299.77L490.42,299.05L492.06,296.92L493.71,296.87L498.63,298.31L500.28,298L508.49,301.09L510.13,302.01L515.06,301.18L516.7,301.05L533.12,304.52L534.77,304.33L541.34,306.44L542.98,305.91L549.55,308.77L551.19,308.35L561.05,308.85L562.69,308.44L567.62,308.98L569.26,309.18L574.19,311.09L575.83,310.32L579.11,310.48L580.76,310.29L587.32,311.03L588.97,312.1L592.25,315.02L593.89,314.58L597.18,313.53L598.82,313.63L602.11,314.03L603.75,311.81L605.39,311.68L607.03,313.52L613.6,317.9\" style=\"vector-effect: non-scaling-stroke; fill: none; stroke: rgb(99, 110, 250); stroke-opacity: 1; stroke-width: 2px; opacity: 1;\"/></g><g class=\"points\"/><g class=\"text\"/></g><g class=\"trace scatter tracec58ee3\" style=\"stroke-miterlimit: 2; opacity: 1;\"><g class=\"fills\"/><g class=\"errorbars\"/><g class=\"lines\"><path class=\"js-line\" d=\"M75.5,71.07L147.36,145.08L219.22,195L291.07,230.86L362.93,261.36L434.78,284.23L506.64,299.87L578.5,311.02\" style=\"vector-effect: non-scaling-stroke; fill: none; stroke: rgb(239, 85, 59); stroke-opacity: 1; stroke-width: 2px; opacity: 1;\"/></g><g class=\"points\"><path class=\"point\" transform=\"translate(75.5,71.07)\" d=\"M7.5,0A7.5,7.5 0 1,1 0,-7.5A7.5,7.5 0 0,1 7.5,0Z\" style=\"opacity: 1; stroke-width: 0px; fill: rgb(239, 85, 59); fill-opacity: 1;\"/><path class=\"point\" transform=\"translate(147.36,145.08)\" d=\"M7.5,0A7.5,7.5 0 1,1 0,-7.5A7.5,7.5 0 0,1 7.5,0Z\" style=\"opacity: 1; stroke-width: 0px; fill: rgb(239, 85, 59); fill-opacity: 1;\"/><path class=\"point\" transform=\"translate(219.22,195)\" d=\"M7.5,0A7.5,7.5 0 1,1 0,-7.5A7.5,7.5 0 0,1 7.5,0Z\" style=\"opacity: 1; stroke-width: 0px; fill: rgb(239, 85, 59); fill-opacity: 1;\"/><path class=\"point\" transform=\"translate(291.07,230.86)\" d=\"M7.5,0A7.5,7.5 0 1,1 0,-7.5A7.5,7.5 0 0,1 7.5,0Z\" style=\"opacity: 1; stroke-width: 0px; fill: rgb(239, 85, 59); fill-opacity: 1;\"/><path class=\"point\" transform=\"translate(362.93,261.36)\" d=\"M7.5,0A7.5,7.5 0 1,1 0,-7.5A7.5,7.5 0 0,1 7.5,0Z\" style=\"opacity: 1; stroke-width: 0px; fill: rgb(239, 85, 59); fill-opacity: 1;\"/><path class=\"point\" transform=\"translate(434.78,284.23)\" d=\"M7.5,0A7.5,7.5 0 1,1 0,-7.5A7.5,7.5 0 0,1 7.5,0Z\" style=\"opacity: 1; stroke-width: 0px; fill: rgb(239, 85, 59); fill-opacity: 1;\"/><path class=\"point\" transform=\"translate(506.64,299.87)\" d=\"M7.5,0A7.5,7.5 0 1,1 0,-7.5A7.5,7.5 0 0,1 7.5,0Z\" style=\"opacity: 1; stroke-width: 0px; fill: rgb(239, 85, 59); fill-opacity: 1;\"/><path class=\"point\" transform=\"translate(578.5,311.02)\" d=\"M7.5,0A7.5,7.5 0 1,1 0,-7.5A7.5,7.5 0 0,1 7.5,0Z\" style=\"opacity: 1; stroke-width: 0px; fill: rgb(239, 85, 59); fill-opacity: 1;\"/></g><g class=\"text\"/></g><g class=\"trace scatter trace560088\" style=\"stroke-miterlimit: 2; opacity: 1;\"><g class=\"fills\"/><g class=\"errorbars\"/><g class=\"lines\"><path class=\"js-line\" d=\"M39.58,23.88L75.5,72.63L111.43,113.03L147.36,146.26L183.29,173.49L219.22,195.92L255.14,214.79L291.07,231.58L327,247.45L362.93,261.93L398.86,274.33L434.78,284.68L470.71,293.2L506.64,300.23L542.57,306.15L614.43,316.13\" style=\"vector-effect: non-scaling-stroke; fill: none; stroke: rgb(0, 204, 150); stroke-opacity: 1; stroke-width: 2px; opacity: 1;\"/></g><g class=\"points\"><path class=\"point\" transform=\"translate(39.58,23.88)\" d=\"M5.5,0A5.5,5.5 0 1,1 0,-5.5A5.5,5.5 0 0,1 5.5,0Z\" style=\"opacity: 1; stroke-width: 0px; fill: rgb(0, 204, 150); fill-opacity: 1;\"/><path class=\"point\" transform=\"translate(75.5,72.63)\" d=\"M5.5,0A5.5,5.5 0 1,1 0,-5.5A5.5,5.5 0 0,1 5.5,0Z\" style=\"opacity: 1; stroke-width: 0px; fill: rgb(0, 204, 150); fill-opacity: 1;\"/><path class=\"point\" transform=\"translate(111.43,113.03)\" d=\"M5.5,0A5.5,5.5 0 1,1 0,-5.5A5.5,5.5 0 0,1 5.5,0Z\" style=\"opacity: 1; stroke-width: 0px; fill: rgb(0, 204, 150); fill-opacity: 1;\"/><path class=\"point\" transform=\"translate(147.36,146.26)\" d=\"M5.5,0A5.5,5.5 0 1,1 0,-5.5A5.5,5.5 0 0,1 5.5,0Z\" style=\"opacity: 1; stroke-width: 0px; fill: rgb(0, 204, 150); fill-opacity: 1;\"/><path class=\"point\" transform=\"translate(183.29,173.49)\" d=\"M5.5,0A5.5,5.5 0 1,1 0,-5.5A5.5,5.5 0 0,1 5.5,0Z\" style=\"opacity: 1; stroke-width: 0px; fill: rgb(0, 204, 150); fill-opacity: 1;\"/><path class=\"point\" transform=\"translate(219.22,195.92)\" d=\"M5.5,0A5.5,5.5 0 1,1 0,-5.5A5.5,5.5 0 0,1 5.5,0Z\" style=\"opacity: 1; stroke-width: 0px; fill: rgb(0, 204, 150); fill-opacity: 1;\"/><path class=\"point\" transform=\"translate(255.14,214.79)\" d=\"M5.5,0A5.5,5.5 0 1,1 0,-5.5A5.5,5.5 0 0,1 5.5,0Z\" style=\"opacity: 1; stroke-width: 0px; fill: rgb(0, 204, 150); fill-opacity: 1;\"/><path class=\"point\" transform=\"translate(291.07,231.58)\" d=\"M5.5,0A5.5,5.5 0 1,1 0,-5.5A5.5,5.5 0 0,1 5.5,0Z\" style=\"opacity: 1; stroke-width: 0px; fill: rgb(0, 204, 150); fill-opacity: 1;\"/><path class=\"point\" transform=\"translate(327,247.45)\" d=\"M5.5,0A5.5,5.5 0 1,1 0,-5.5A5.5,5.5 0 0,1 5.5,0Z\" style=\"opacity: 1; stroke-width: 0px; fill: rgb(0, 204, 150); fill-opacity: 1;\"/><path class=\"point\" transform=\"translate(362.93,261.93)\" d=\"M5.5,0A5.5,5.5 0 1,1 0,-5.5A5.5,5.5 0 0,1 5.5,0Z\" style=\"opacity: 1; stroke-width: 0px; fill: rgb(0, 204, 150); fill-opacity: 1;\"/><path class=\"point\" transform=\"translate(398.86,274.33)\" d=\"M5.5,0A5.5,5.5 0 1,1 0,-5.5A5.5,5.5 0 0,1 5.5,0Z\" style=\"opacity: 1; stroke-width: 0px; fill: rgb(0, 204, 150); fill-opacity: 1;\"/><path class=\"point\" transform=\"translate(434.78,284.68)\" d=\"M5.5,0A5.5,5.5 0 1,1 0,-5.5A5.5,5.5 0 0,1 5.5,0Z\" style=\"opacity: 1; stroke-width: 0px; fill: rgb(0, 204, 150); fill-opacity: 1;\"/><path class=\"point\" transform=\"translate(470.71,293.2)\" d=\"M5.5,0A5.5,5.5 0 1,1 0,-5.5A5.5,5.5 0 0,1 5.5,0Z\" style=\"opacity: 1; stroke-width: 0px; fill: rgb(0, 204, 150); fill-opacity: 1;\"/><path class=\"point\" transform=\"translate(506.64,300.23)\" d=\"M5.5,0A5.5,5.5 0 1,1 0,-5.5A5.5,5.5 0 0,1 5.5,0Z\" style=\"opacity: 1; stroke-width: 0px; fill: rgb(0, 204, 150); fill-opacity: 1;\"/><path class=\"point\" transform=\"translate(542.57,306.15)\" d=\"M5.5,0A5.5,5.5 0 1,1 0,-5.5A5.5,5.5 0 0,1 5.5,0Z\" style=\"opacity: 1; stroke-width: 0px; fill: rgb(0, 204, 150); fill-opacity: 1;\"/><path class=\"point\" transform=\"translate(578.5,311.33)\" d=\"M5.5,0A5.5,5.5 0 1,1 0,-5.5A5.5,5.5 0 0,1 5.5,0Z\" style=\"opacity: 1; stroke-width: 0px; fill: rgb(0, 204, 150); fill-opacity: 1;\"/><path class=\"point\" transform=\"translate(614.43,316.13)\" d=\"M5.5,0A5.5,5.5 0 1,1 0,-5.5A5.5,5.5 0 0,1 5.5,0Z\" style=\"opacity: 1; stroke-width: 0px; fill: rgb(0, 204, 150); fill-opacity: 1;\"/></g><g class=\"text\"/></g><g class=\"trace scatter trace69b5c0\" style=\"stroke-miterlimit: 2; opacity: 1;\"><g class=\"fills\"/><g class=\"errorbars\"/><g class=\"lines\"><path class=\"js-line\" d=\"M51.55,40.42L75.5,72L99.46,99.84L123.41,124.32L147.36,145.78L171.31,164.56L195.26,181.04L219.22,195.55L243.17,208.46L291.07,231.29L315.02,242L362.93,261.7L386.88,270.22L410.83,277.8L434.78,284.5L482.69,295.53L506.64,300.09L554.54,307.81L578.5,311.2L602.45,314.43\" style=\"vector-effect: non-scaling-stroke; fill: none; stroke: rgb(171, 99, 250); stroke-opacity: 1; stroke-width: 2px; opacity: 1;\"/></g><g class=\"points\"><path class=\"point\" transform=\"translate(51.55,40.42)\" d=\"M3.5,0A3.5,3.5 0 1,1 0,-3.5A3.5,3.5 0 0,1 3.5,0Z\" style=\"opacity: 1; stroke-width: 0px; fill: rgb(171, 99, 250); fill-opacity: 1;\"/><path class=\"point\" transform=\"translate(75.5,72)\" d=\"M3.5,0A3.5,3.5 0 1,1 0,-3.5A3.5,3.5 0 0,1 3.5,0Z\" style=\"opacity: 1; stroke-width: 0px; fill: rgb(171, 99, 250); fill-opacity: 1;\"/><path class=\"point\" transform=\"translate(99.46,99.84)\" d=\"M3.5,0A3.5,3.5 0 1,1 0,-3.5A3.5,3.5 0 0,1 3.5,0Z\" style=\"opacity: 1; stroke-width: 0px; fill: rgb(171, 99, 250); fill-opacity: 1;\"/><path class=\"point\" transform=\"translate(123.41,124.32)\" d=\"M3.5,0A3.5,3.5 0 1,1 0,-3.5A3.5,3.5 0 0,1 3.5,0Z\" style=\"opacity: 1; stroke-width: 0px; fill: rgb(171, 99, 250); fill-opacity: 1;\"/><path class=\"point\" transform=\"translate(147.36,145.78)\" d=\"M3.5,0A3.5,3.5 0 1,1 0,-3.5A3.5,3.5 0 0,1 3.5,0Z\" style=\"opacity: 1; stroke-width: 0px; fill: rgb(171, 99, 250); fill-opacity: 1;\"/><path class=\"point\" transform=\"translate(171.31,164.56)\" d=\"M3.5,0A3.5,3.5 0 1,1 0,-3.5A3.5,3.5 0 0,1 3.5,0Z\" style=\"opacity: 1; stroke-width: 0px; fill: rgb(171, 99, 250); fill-opacity: 1;\"/><path class=\"point\" transform=\"translate(195.26,181.04)\" d=\"M3.5,0A3.5,3.5 0 1,1 0,-3.5A3.5,3.5 0 0,1 3.5,0Z\" style=\"opacity: 1; stroke-width: 0px; fill: rgb(171, 99, 250); fill-opacity: 1;\"/><path class=\"point\" transform=\"translate(219.22,195.55)\" d=\"M3.5,0A3.5,3.5 0 1,1 0,-3.5A3.5,3.5 0 0,1 3.5,0Z\" style=\"opacity: 1; stroke-width: 0px; fill: rgb(171, 99, 250); fill-opacity: 1;\"/><path class=\"point\" transform=\"translate(243.17,208.46)\" d=\"M3.5,0A3.5,3.5 0 1,1 0,-3.5A3.5,3.5 0 0,1 3.5,0Z\" style=\"opacity: 1; stroke-width: 0px; fill: rgb(171, 99, 250); fill-opacity: 1;\"/><path class=\"point\" transform=\"translate(267.12,220.22)\" d=\"M3.5,0A3.5,3.5 0 1,1 0,-3.5A3.5,3.5 0 0,1 3.5,0Z\" style=\"opacity: 1; stroke-width: 0px; fill: rgb(171, 99, 250); fill-opacity: 1;\"/><path class=\"point\" transform=\"translate(291.07,231.29)\" d=\"M3.5,0A3.5,3.5 0 1,1 0,-3.5A3.5,3.5 0 0,1 3.5,0Z\" style=\"opacity: 1; stroke-width: 0px; fill: rgb(171, 99, 250); fill-opacity: 1;\"/><path class=\"point\" transform=\"translate(315.02,242)\" d=\"M3.5,0A3.5,3.5 0 1,1 0,-3.5A3.5,3.5 0 0,1 3.5,0Z\" style=\"opacity: 1; stroke-width: 0px; fill: rgb(171, 99, 250); fill-opacity: 1;\"/><path class=\"point\" transform=\"translate(338.98,252.22)\" d=\"M3.5,0A3.5,3.5 0 1,1 0,-3.5A3.5,3.5 0 0,1 3.5,0Z\" style=\"opacity: 1; stroke-width: 0px; fill: rgb(171, 99, 250); fill-opacity: 1;\"/><path class=\"point\" transform=\"translate(362.93,261.7)\" d=\"M3.5,0A3.5,3.5 0 1,1 0,-3.5A3.5,3.5 0 0,1 3.5,0Z\" style=\"opacity: 1; stroke-width: 0px; fill: rgb(171, 99, 250); fill-opacity: 1;\"/><path class=\"point\" transform=\"translate(386.88,270.22)\" d=\"M3.5,0A3.5,3.5 0 1,1 0,-3.5A3.5,3.5 0 0,1 3.5,0Z\" style=\"opacity: 1; stroke-width: 0px; fill: rgb(171, 99, 250); fill-opacity: 1;\"/><path class=\"point\" transform=\"translate(410.83,277.8)\" d=\"M3.5,0A3.5,3.5 0 1,1 0,-3.5A3.5,3.5 0 0,1 3.5,0Z\" style=\"opacity: 1; stroke-width: 0px; fill: rgb(171, 99, 250); fill-opacity: 1;\"/><path class=\"point\" transform=\"translate(434.78,284.5)\" d=\"M3.5,0A3.5,3.5 0 1,1 0,-3.5A3.5,3.5 0 0,1 3.5,0Z\" style=\"opacity: 1; stroke-width: 0px; fill: rgb(171, 99, 250); fill-opacity: 1;\"/><path class=\"point\" transform=\"translate(458.74,290.37)\" d=\"M3.5,0A3.5,3.5 0 1,1 0,-3.5A3.5,3.5 0 0,1 3.5,0Z\" style=\"opacity: 1; stroke-width: 0px; fill: rgb(171, 99, 250); fill-opacity: 1;\"/><path class=\"point\" transform=\"translate(482.69,295.53)\" d=\"M3.5,0A3.5,3.5 0 1,1 0,-3.5A3.5,3.5 0 0,1 3.5,0Z\" style=\"opacity: 1; stroke-width: 0px; fill: rgb(171, 99, 250); fill-opacity: 1;\"/><path class=\"point\" transform=\"translate(506.64,300.09)\" d=\"M3.5,0A3.5,3.5 0 1,1 0,-3.5A3.5,3.5 0 0,1 3.5,0Z\" style=\"opacity: 1; stroke-width: 0px; fill: rgb(171, 99, 250); fill-opacity: 1;\"/><path class=\"point\" transform=\"translate(530.59,304.14)\" d=\"M3.5,0A3.5,3.5 0 1,1 0,-3.5A3.5,3.5 0 0,1 3.5,0Z\" style=\"opacity: 1; stroke-width: 0px; fill: rgb(171, 99, 250); fill-opacity: 1;\"/><path class=\"point\" transform=\"translate(554.54,307.81)\" d=\"M3.5,0A3.5,3.5 0 1,1 0,-3.5A3.5,3.5 0 0,1 3.5,0Z\" style=\"opacity: 1; stroke-width: 0px; fill: rgb(171, 99, 250); fill-opacity: 1;\"/><path class=\"point\" transform=\"translate(578.5,311.2)\" d=\"M3.5,0A3.5,3.5 0 1,1 0,-3.5A3.5,3.5 0 0,1 3.5,0Z\" style=\"opacity: 1; stroke-width: 0px; fill: rgb(171, 99, 250); fill-opacity: 1;\"/><path class=\"point\" transform=\"translate(602.45,314.43)\" d=\"M3.5,0A3.5,3.5 0 1,1 0,-3.5A3.5,3.5 0 0,1 3.5,0Z\" style=\"opacity: 1; stroke-width: 0px; fill: rgb(171, 99, 250); fill-opacity: 1;\"/></g><g class=\"text\"/></g></g></g><g class=\"overplot\"/><path class=\"xlines-above crisp\" d=\"M0,0\" style=\"fill: none;\"/><path class=\"ylines-above crisp\" d=\"M0,0\" style=\"fill: none;\"/><g class=\"overlines-above\"/><g class=\"xaxislayer-above\"><g class=\"xtick\"><text text-anchor=\"middle\" x=\"0\" y=\"453\" transform=\"translate(119.58,0)\" style=\"font-family: 'Open Sans', verdana, arial, sans-serif; font-size: 12px; fill: rgb(42, 63, 95); fill-opacity: 1; white-space: pre; opacity: 1;\">550</text></g><g class=\"xtick\"><text text-anchor=\"middle\" x=\"0\" y=\"453\" style=\"font-family: 'Open Sans', verdana, arial, sans-serif; font-size: 12px; fill: rgb(42, 63, 95); fill-opacity: 1; white-space: pre; opacity: 1;\" transform=\"translate(201.7,0)\">600</text></g><g class=\"xtick\"><text text-anchor=\"middle\" x=\"0\" y=\"453\" style=\"font-family: 'Open Sans', verdana, arial, sans-serif; font-size: 12px; fill: rgb(42, 63, 95); fill-opacity: 1; white-space: pre; opacity: 1;\" transform=\"translate(283.82,0)\">650</text></g><g class=\"xtick\"><text text-anchor=\"middle\" x=\"0\" y=\"453\" style=\"font-family: 'Open Sans', verdana, arial, sans-serif; font-size: 12px; fill: rgb(42, 63, 95); fill-opacity: 1; white-space: pre; opacity: 1;\" transform=\"translate(365.94,0)\">700</text></g><g class=\"xtick\"><text text-anchor=\"middle\" x=\"0\" y=\"453\" style=\"font-family: 'Open Sans', verdana, arial, sans-serif; font-size: 12px; fill: rgb(42, 63, 95); fill-opacity: 1; white-space: pre; opacity: 1;\" transform=\"translate(448.06,0)\">750</text></g><g class=\"xtick\"><text text-anchor=\"middle\" x=\"0\" y=\"453\" style=\"font-family: 'Open Sans', verdana, arial, sans-serif; font-size: 12px; fill: rgb(42, 63, 95); fill-opacity: 1; white-space: pre; opacity: 1;\" transform=\"translate(530.1800000000001,0)\">800</text></g><g class=\"xtick\"><text text-anchor=\"middle\" x=\"0\" y=\"453\" style=\"font-family: 'Open Sans', verdana, arial, sans-serif; font-size: 12px; fill: rgb(42, 63, 95); fill-opacity: 1; white-space: pre; opacity: 1;\" transform=\"translate(612.3,0)\">850</text></g><g class=\"xtick\"><text text-anchor=\"middle\" x=\"0\" y=\"453\" style=\"font-family: 'Open Sans', verdana, arial, sans-serif; font-size: 12px; fill: rgb(42, 63, 95); fill-opacity: 1; white-space: pre; opacity: 1;\" transform=\"translate(694.43,0)\">900</text></g></g><g class=\"yaxislayer-above\"><g class=\"ytick\"><text text-anchor=\"end\" x=\"79\" y=\"4.199999999999999\" transform=\"translate(0,396.85)\" style=\"font-family: 'Open Sans', verdana, arial, sans-serif; font-size: 12px; fill: rgb(42, 63, 95); fill-opacity: 1; white-space: pre; opacity: 1;\">0.5</text></g><g class=\"ytick\"><text text-anchor=\"end\" x=\"79\" y=\"4.199999999999999\" style=\"font-family: 'Open Sans', verdana, arial, sans-serif; font-size: 12px; fill: rgb(42, 63, 95); fill-opacity: 1; white-space: pre; opacity: 1;\" transform=\"translate(0,324.81)\">1</text></g><g class=\"ytick\"><text text-anchor=\"end\" x=\"79\" y=\"4.199999999999999\" style=\"font-family: 'Open Sans', verdana, arial, sans-serif; font-size: 12px; fill: rgb(42, 63, 95); fill-opacity: 1; white-space: pre; opacity: 1;\" transform=\"translate(0,252.77)\">1.5</text></g><g class=\"ytick\"><text text-anchor=\"end\" x=\"79\" y=\"4.199999999999999\" style=\"font-family: 'Open Sans', verdana, arial, sans-serif; font-size: 12px; fill: rgb(42, 63, 95); fill-opacity: 1; white-space: pre; opacity: 1;\" transform=\"translate(0,180.73000000000002)\">2</text></g><g class=\"ytick\"><text text-anchor=\"end\" x=\"79\" y=\"4.199999999999999\" style=\"font-family: 'Open Sans', verdana, arial, sans-serif; font-size: 12px; fill: rgb(42, 63, 95); fill-opacity: 1; white-space: pre; opacity: 1;\" transform=\"translate(0,108.69)\">2.5</text></g></g><g class=\"overaxes-above\"/></g></g><g class=\"polarlayer\"/><g class=\"smithlayer\"/><g class=\"ternarylayer\"/><g class=\"geolayer\"/><g class=\"funnelarealayer\"/><g class=\"pielayer\"/><g class=\"iciclelayer\"/><g class=\"treemaplayer\"/><g class=\"sunburstlayer\"/><g class=\"glimages\"/><defs id=\"topdefs-59ebdb\"><g class=\"clips\"/><clipPath id=\"legend59ebdb\"><rect width=\"141\" height=\"105\" x=\"0\" y=\"0\"/></clipPath></defs><g class=\"layer-above\"><g class=\"imagelayer\"/><g class=\"shapelayer\"/></g><g class=\"infolayer\"><g class=\"legend\" pointer-events=\"all\" transform=\"translate(747.08,100)\"><rect class=\"bg\" shape-rendering=\"crispEdges\" style=\"stroke: rgb(68, 68, 68); stroke-opacity: 1; fill: rgb(255, 255, 255); fill-opacity: 1; stroke-width: 0px;\" width=\"141\" height=\"105\" x=\"0\" y=\"0\"/><g class=\"scrollbox\" transform=\"\" clip-path=\"url(#legend59ebdb)\"><text class=\"legendtitletext\" text-anchor=\"start\" x=\"2\" y=\"18.2\" style=\"font-family: 'Open Sans', verdana, arial, sans-serif; font-size: 14px; fill: rgb(42, 63, 95); fill-opacity: 1; white-space: pre;\">SED:</text><g class=\"groups\"><g class=\"traces\" transform=\"translate(0,32.7)\" style=\"opacity: 1;\"><text class=\"legendtext\" text-anchor=\"start\" x=\"40\" y=\"4.680000000000001\" style=\"font-family: 'Open Sans', verdana, arial, sans-serif; font-size: 12px; fill: rgb(42, 63, 95); fill-opacity: 1; white-space: pre;\">GT - 350 bins</text><g class=\"layers\" style=\"opacity: 1;\"><g class=\"legendfill\"/><g class=\"legendlines\"><path class=\"js-line\" d=\"M5,0h30\" style=\"fill: none; stroke: rgb(99, 110, 250); stroke-opacity: 1; stroke-width: 2px;\"/></g><g class=\"legendsymbols\"><g class=\"legendpoints\"/></g></g><rect class=\"legendtoggle\" x=\"0\" y=\"-9.5\" width=\"135.109375\" height=\"19\" style=\"fill: rgb(0, 0, 0); fill-opacity: 0;\"/></g><g class=\"traces\" transform=\"translate(0,51.7)\" style=\"opacity: 1;\"><text class=\"legendtext\" text-anchor=\"start\" x=\"40\" y=\"4.680000000000001\" style=\"font-family: 'Open Sans', verdana, arial, sans-serif; font-size: 12px; fill: rgb(42, 63, 95); fill-opacity: 1; white-space: pre;\">Bins - 8 bins</text><g class=\"layers\" style=\"opacity: 1;\"><g class=\"legendfill\"/><g class=\"legendlines\"><path class=\"js-line\" d=\"M5,0h30\" style=\"fill: none; stroke: rgb(239, 85, 59); stroke-opacity: 1; stroke-width: 2px;\"/></g><g class=\"legendsymbols\"><g class=\"legendpoints\"><path class=\"scatterpts\" transform=\"translate(20,0)\" d=\"M7.5,0A7.5,7.5 0 1,1 0,-7.5A7.5,7.5 0 0,1 7.5,0Z\" style=\"opacity: 1; stroke-width: 0px; fill: rgb(239, 85, 59); fill-opacity: 1;\"/></g></g></g><rect class=\"legendtoggle\" x=\"0\" y=\"-9.5\" width=\"135.109375\" height=\"19\" style=\"fill: rgb(0, 0, 0); fill-opacity: 0;\"/></g><g class=\"traces\" transform=\"translate(0,70.7)\" style=\"opacity: 1;\"><text class=\"legendtext\" text-anchor=\"start\" x=\"40\" y=\"4.680000000000001\" style=\"font-family: 'Open Sans', verdana, arial, sans-serif; font-size: 12px; fill: rgb(42, 63, 95); fill-opacity: 1; white-space: pre;\">Interp - 16 bins</text><g class=\"layers\" style=\"opacity: 1;\"><g class=\"legendfill\"/><g class=\"legendlines\"><path class=\"js-line\" d=\"M5,0h30\" style=\"fill: none; stroke: rgb(0, 204, 150); stroke-opacity: 1; stroke-width: 2px;\"/></g><g class=\"legendsymbols\"><g class=\"legendpoints\"><path class=\"scatterpts\" transform=\"translate(20,0)\" d=\"M5.5,0A5.5,5.5 0 1,1 0,-5.5A5.5,5.5 0 0,1 5.5,0Z\" style=\"opacity: 1; stroke-width: 0px; fill: rgb(0, 204, 150); fill-opacity: 1;\"/></g></g></g><rect class=\"legendtoggle\" x=\"0\" y=\"-9.5\" width=\"135.109375\" height=\"19\" style=\"fill: rgb(0, 0, 0); fill-opacity: 0;\"/></g><g class=\"traces\" transform=\"translate(0,89.7)\" style=\"opacity: 1;\"><text class=\"legendtext\" text-anchor=\"start\" x=\"40\" y=\"4.680000000000001\" style=\"font-family: 'Open Sans', verdana, arial, sans-serif; font-size: 12px; fill: rgb(42, 63, 95); fill-opacity: 1; white-space: pre;\">Interp - 24 bins</text><g class=\"layers\" style=\"opacity: 1;\"><g class=\"legendfill\"/><g class=\"legendlines\"><path class=\"js-line\" d=\"M5,0h30\" style=\"fill: none; stroke: rgb(171, 99, 250); stroke-opacity: 1; stroke-width: 2px;\"/></g><g class=\"legendsymbols\"><g class=\"legendpoints\"><path class=\"scatterpts\" transform=\"translate(20,0)\" d=\"M3.5,0A3.5,3.5 0 1,1 0,-3.5A3.5,3.5 0 0,1 3.5,0Z\" style=\"opacity: 1; stroke-width: 0px; fill: rgb(171, 99, 250); fill-opacity: 1;\"/></g></g></g><rect class=\"legendtoggle\" x=\"0\" y=\"-9.5\" width=\"135.109375\" height=\"19\" style=\"fill: rgb(0, 0, 0); fill-opacity: 0;\"/></g></g></g><rect class=\"scrollbar\" rx=\"20\" ry=\"3\" width=\"0\" height=\"0\" style=\"fill: rgb(128, 139, 164); fill-opacity: 1;\" x=\"0\" y=\"0\"/></g><g class=\"g-gtitle\"><text class=\"gtitle\" x=\"450\" y=\"50\" text-anchor=\"middle\" dy=\"0em\" style=\"font-family: 'Open Sans', verdana, arial, sans-serif; font-size: 17px; fill: rgb(42, 63, 95); opacity: 1; font-weight: normal; white-space: pre;\">SED before and after interpolation</text></g><g class=\"g-xtitle\"><text class=\"xtitle\" x=\"407\" y=\"480.3\" text-anchor=\"middle\" style=\"font-family: 'Open Sans', verdana, arial, sans-serif; font-size: 14px; fill: rgb(42, 63, 95); opacity: 1; font-weight: normal; white-space: pre;\">Wavelength [nm]</text></g><g class=\"g-ytitle\"><text class=\"ytitle\" transform=\"rotate(-90,34.575,270)\" x=\"34.575\" y=\"270\" text-anchor=\"middle\" style=\"font-family: 'Open Sans', verdana, arial, sans-serif; font-size: 14px; fill: rgb(42, 63, 95); opacity: 1; font-weight: normal; white-space: pre;\">Flux unit</text></g></g></svg>"
     },
     "metadata": {},
     "output_type": "display_data"
    }
   ],
   "source": [
    "# Apply various interpolations to one SED and compare to ground truth\n",
    "test_SED = SED_list[display_star]\n",
    "filt_SED = gen_poly_fieldPSF.sim_psf_toolkit.filter_SED(test_SED,8)\n",
    "interp_SED_1 = gen_poly_fieldPSF.sim_psf_toolkit.interp_SED(filt_SED, 1, 8)\n",
    "interp_SED_2 = gen_poly_fieldPSF.sim_psf_toolkit.interp_SED(filt_SED, 2, 8)\n",
    "\n",
    "fig = go.Figure()\n",
    "\n",
    "fig.add_trace(go.Scatter(x=test_SED[:,0],y=test_SED[:,1]*len(test_SED),name='GT - 350 bins'))\n",
    "fig.add_trace(go.Scatter(x=filt_SED[:,0],y=filt_SED[:,1]*len(filt_SED),name='Bins - 8 bins',marker=dict(size=15)))\n",
    "fig.add_trace(go.Scatter(x=interp_SED_1[:,0],y=interp_SED_1[:,1]*sum(interp_SED_1[:,2])/interp_SED_1[:,2],name='Interp - 16 bins',marker=dict(size=11)))\n",
    "fig.add_trace(go.Scatter(x=interp_SED_2[:,0],y=interp_SED_2[:,1]*sum(interp_SED_2[:,2])/interp_SED_2[:,2],name='Interp - 24 bins',mode='lines+markers',marker=dict(size=7)))\n",
    "\n",
    "fig.update_layout(legend_title_text='SED:', title={'text':'SED before and after interpolation', 'x':0.5}, width=900, height=520)\n",
    "\n",
    "fig.update_xaxes(title_text=\"Wavelength [nm]\")\n",
    "fig.update_yaxes(title_text=\"Flux unit\")\n",
    "\n",
    "#fig.write_image('../outputs/plots/SED_interp_vs_GT.pdf', engine='kaleido')\n",
    "fig.show(interactive)\n"
   ]
  },
  {
   "cell_type": "code",
   "execution_count": 19,
   "metadata": {},
   "outputs": [
    {
     "data": {
      "image/svg+xml": "<svg class=\"main-svg\" xmlns=\"http://www.w3.org/2000/svg\" xmlns:xlink=\"http://www.w3.org/1999/xlink\" width=\"900\" height=\"520\" style=\"\" viewBox=\"0 0 900 520\"><rect x=\"0\" y=\"0\" width=\"900\" height=\"520\" style=\"fill: rgb(255, 255, 255); fill-opacity: 1;\"/><defs id=\"defs-f1182e\"><g class=\"clips\"><clipPath id=\"clipf1182exyplot\" class=\"plotclip\"><rect width=\"667\" height=\"340\"/></clipPath><clipPath class=\"axesclip\" id=\"clipf1182ex\"><rect x=\"80\" y=\"0\" width=\"667\" height=\"520\"/></clipPath><clipPath class=\"axesclip\" id=\"clipf1182ey\"><rect x=\"0\" y=\"100\" width=\"900\" height=\"340\"/></clipPath><clipPath class=\"axesclip\" id=\"clipf1182exy\"><rect x=\"80\" y=\"100\" width=\"667\" height=\"340\"/></clipPath></g><g class=\"gradients\"/><g class=\"patterns\"/></defs><g class=\"bglayer\"><rect class=\"bg\" x=\"80\" y=\"100\" width=\"667\" height=\"340\" style=\"fill: rgb(229, 236, 246); fill-opacity: 1; stroke-width: 0;\"/></g><g class=\"layer-below\"><g class=\"imagelayer\"/><g class=\"shapelayer\"/></g><g class=\"cartesianlayer\"><g class=\"subplot xy\"><g class=\"layer-subplot\"><g class=\"shapelayer\"/><g class=\"imagelayer\"/></g><g class=\"minor-gridlayer\"><g class=\"x\"/><g class=\"y\"/></g><g class=\"gridlayer\"><g class=\"x\"><path class=\"xgrid crisp\" transform=\"translate(130.02,0)\" d=\"M0,100v340\" style=\"stroke: rgb(255, 255, 255); stroke-opacity: 1; stroke-width: 1px;\"/><path class=\"xgrid crisp\" transform=\"translate(213.4,0)\" d=\"M0,100v340\" style=\"stroke: rgb(255, 255, 255); stroke-opacity: 1; stroke-width: 1px;\"/><path class=\"xgrid crisp\" transform=\"translate(296.77,0)\" d=\"M0,100v340\" style=\"stroke: rgb(255, 255, 255); stroke-opacity: 1; stroke-width: 1px;\"/><path class=\"xgrid crisp\" transform=\"translate(380.15,0)\" d=\"M0,100v340\" style=\"stroke: rgb(255, 255, 255); stroke-opacity: 1; stroke-width: 1px;\"/><path class=\"xgrid crisp\" transform=\"translate(463.53,0)\" d=\"M0,100v340\" style=\"stroke: rgb(255, 255, 255); stroke-opacity: 1; stroke-width: 1px;\"/><path class=\"xgrid crisp\" transform=\"translate(546.9,0)\" d=\"M0,100v340\" style=\"stroke: rgb(255, 255, 255); stroke-opacity: 1; stroke-width: 1px;\"/><path class=\"xgrid crisp\" transform=\"translate(630.28,0)\" d=\"M0,100v340\" style=\"stroke: rgb(255, 255, 255); stroke-opacity: 1; stroke-width: 1px;\"/><path class=\"xgrid crisp\" transform=\"translate(713.65,0)\" d=\"M0,100v340\" style=\"stroke: rgb(255, 255, 255); stroke-opacity: 1; stroke-width: 1px;\"/></g><g class=\"y\"><path class=\"ygrid crisp\" transform=\"translate(0,401.35)\" d=\"M80,0h667\" style=\"stroke: rgb(255, 255, 255); stroke-opacity: 1; stroke-width: 1px;\"/><path class=\"ygrid crisp\" transform=\"translate(0,327.24)\" d=\"M80,0h667\" style=\"stroke: rgb(255, 255, 255); stroke-opacity: 1; stroke-width: 1px;\"/><path class=\"ygrid crisp\" transform=\"translate(0,253.14)\" d=\"M80,0h667\" style=\"stroke: rgb(255, 255, 255); stroke-opacity: 1; stroke-width: 1px;\"/><path class=\"ygrid crisp\" transform=\"translate(0,179.03)\" d=\"M80,0h667\" style=\"stroke: rgb(255, 255, 255); stroke-opacity: 1; stroke-width: 1px;\"/><path class=\"ygrid crisp\" transform=\"translate(0,104.92)\" d=\"M80,0h667\" style=\"stroke: rgb(255, 255, 255); stroke-opacity: 1; stroke-width: 1px;\"/></g></g><g class=\"zerolinelayer\"/><path class=\"xlines-below\"/><path class=\"ylines-below\"/><g class=\"overlines-below\"/><g class=\"xaxislayer-below\"/><g class=\"yaxislayer-below\"/><g class=\"overaxes-below\"/><g class=\"plot\" transform=\"translate(80,100)\" clip-path=\"url(#clipf1182exyplot)\"><g class=\"scatterlayer mlayer\"><g class=\"trace scatter trace0783e6\" style=\"stroke-miterlimit: 2; opacity: 1;\"><g class=\"fills\"/><g class=\"errorbars\"/><g class=\"lines\"><path class=\"js-line\" d=\"M50.86,17L57.53,29.29L59.2,30.25L62.53,33.73L64.2,37.38L65.87,43.41L67.53,42.22L70.87,46.94L72.54,48.91L77.54,55.78L79.21,59.44L80.87,60.28L82.54,59.27L84.21,65.43L85.88,66.66L89.21,72.78L90.88,75.73L94.21,79.05L95.88,85.72L97.55,93.21L99.22,91.55L100.88,98.08L102.55,95.87L104.22,89.77L105.89,90.83L109.22,96.49L110.89,97.16L112.56,110.55L114.22,112.44L115.89,134.55L117.56,110.51L119.23,106.37L120.89,109.94L122.56,110.7L124.23,113.83L127.56,117.44L129.23,119.66L130.9,120.84L132.57,120.71L135.9,125.91L137.57,125.77L145.91,134.82L147.57,135.5L149.24,135.85L150.91,138.11L154.24,141.71L155.91,141.91L159.25,144.61L160.91,148.27L162.58,151.97L164.25,150.98L165.92,150.95L167.58,153.45L169.25,152.87L170.92,154.02L172.59,157.03L174.25,156.14L175.92,155.87L177.59,158.09L179.26,164.39L180.92,174.72L182.59,166L184.26,167.19L185.93,171.11L187.59,167.57L189.26,167.33L190.93,168.58L197.6,175.38L199.27,175.71L200.93,179.53L202.6,179.76L204.27,178.07L205.94,178.75L210.94,183.42L212.61,184.28L215.94,186.17L217.61,185.46L219.28,187.12L220.94,191.84L222.61,192.44L224.28,190.88L225.95,201.57L227.61,221.45L229.28,199.63L230.95,192.91L234.28,194.03L235.95,196.3L239.29,198.09L240.95,199.14L244.29,203.45L245.96,206.61L247.62,211.28L249.29,206.94L252.63,206.77L254.29,207.26L262.63,213.06L264.3,214.43L265.97,215.41L267.63,214.96L269.3,216.69L270.97,216.89L272.64,217.56L274.3,220.2L294.31,229.15L295.98,228.6L297.65,229L299.32,231.71L305.99,233.14L307.65,234.62L309.32,235.57L310.99,238.77L314.32,237.09L315.99,236.9L317.66,238.35L319.33,238.77L322.66,237.77L324.33,238.36L326,239.5L327.66,241.87L329.33,248.98L331,251.55L332.67,248.92L334.33,247.99L336,243.95L337.67,244.27L341,249.93L342.67,250.04L344.34,250.69L346.01,252.61L347.67,251.86L349.34,253.09L354.34,254.67L356.01,255.07L359.35,256.23L361.01,257.51L362.68,257.73L364.35,258.96L366.02,259.51L367.68,261L372.69,264.39L374.35,264.47L376.02,264.6L377.69,265.52L381.02,266.88L382.69,267.63L387.69,268.96L389.36,269.91L404.37,274.89L406.04,275.5L427.71,282.76L429.38,282.96L432.72,284.09L434.38,284.42L442.72,286.24L444.39,287.53L447.72,287.95L449.39,288.52L466.07,292.56L467.73,292.43L476.07,292.77L477.74,293.41L486.08,296.16L487.74,296.07L491.08,297.14L492.75,298.63L494.41,299.72L496.08,299.51L501.08,299.54L502.75,300.35L506.09,304.36L507.75,303.62L509.42,301.42L511.09,301.36L516.09,302.85L517.76,302.53L526.1,305.71L527.76,306.66L532.77,305.81L534.43,305.66L549.44,308.93L551.11,309.24L554.44,309.59L556.11,310.45L559.45,311.22L561.11,310.67L567.78,313.61L569.45,313.18L579.46,313.69L581.12,313.27L586.13,313.83L587.79,314.03L592.8,315.99L594.46,315.21L597.8,315.37L599.47,315.18L606.14,315.94L607.8,317.03L611.14,320.04L612.81,319.59L616.14,318.5L617.81,318.61L621.14,319.02L622.81,316.74L624.48,316.6L626.15,318.5L632.82,323\" style=\"vector-effect: non-scaling-stroke; fill: none; stroke: rgb(99, 110, 250); stroke-opacity: 1; stroke-width: 2px; opacity: 1;\"/></g><g class=\"points\"/><g class=\"text\"/></g><g class=\"trace scatter trace32e876\" style=\"stroke-miterlimit: 2; opacity: 1;\"><g class=\"fills\"/><g class=\"errorbars\"/><g class=\"lines\"><path class=\"js-line\" d=\"M86.5,69.09L159.45,145.22L232.41,196.58L305.36,233.46L378.31,264.84L451.27,288.37L524.22,304.46L597.17,315.93\" style=\"vector-effect: non-scaling-stroke; fill: none; stroke: rgb(239, 85, 59); stroke-opacity: 1; stroke-width: 2px; opacity: 1;\"/></g><g class=\"points\"><path class=\"point\" transform=\"translate(86.5,69.09)\" d=\"M5.5,0A5.5,5.5 0 1,1 0,-5.5A5.5,5.5 0 0,1 5.5,0Z\" style=\"opacity: 1; stroke-width: 0px; fill: rgb(239, 85, 59); fill-opacity: 1;\"/><path class=\"point\" transform=\"translate(159.45,145.22)\" d=\"M5.5,0A5.5,5.5 0 1,1 0,-5.5A5.5,5.5 0 0,1 5.5,0Z\" style=\"opacity: 1; stroke-width: 0px; fill: rgb(239, 85, 59); fill-opacity: 1;\"/><path class=\"point\" transform=\"translate(232.41,196.58)\" d=\"M5.5,0A5.5,5.5 0 1,1 0,-5.5A5.5,5.5 0 0,1 5.5,0Z\" style=\"opacity: 1; stroke-width: 0px; fill: rgb(239, 85, 59); fill-opacity: 1;\"/><path class=\"point\" transform=\"translate(305.36,233.46)\" d=\"M5.5,0A5.5,5.5 0 1,1 0,-5.5A5.5,5.5 0 0,1 5.5,0Z\" style=\"opacity: 1; stroke-width: 0px; fill: rgb(239, 85, 59); fill-opacity: 1;\"/><path class=\"point\" transform=\"translate(378.31,264.84)\" d=\"M5.5,0A5.5,5.5 0 1,1 0,-5.5A5.5,5.5 0 0,1 5.5,0Z\" style=\"opacity: 1; stroke-width: 0px; fill: rgb(239, 85, 59); fill-opacity: 1;\"/><path class=\"point\" transform=\"translate(451.27,288.37)\" d=\"M5.5,0A5.5,5.5 0 1,1 0,-5.5A5.5,5.5 0 0,1 5.5,0Z\" style=\"opacity: 1; stroke-width: 0px; fill: rgb(239, 85, 59); fill-opacity: 1;\"/><path class=\"point\" transform=\"translate(524.22,304.46)\" d=\"M5.5,0A5.5,5.5 0 1,1 0,-5.5A5.5,5.5 0 0,1 5.5,0Z\" style=\"opacity: 1; stroke-width: 0px; fill: rgb(239, 85, 59); fill-opacity: 1;\"/><path class=\"point\" transform=\"translate(597.17,315.93)\" d=\"M5.5,0A5.5,5.5 0 1,1 0,-5.5A5.5,5.5 0 0,1 5.5,0Z\" style=\"opacity: 1; stroke-width: 0px; fill: rgb(239, 85, 59); fill-opacity: 1;\"/></g><g class=\"text\"/></g><g class=\"trace scatter tracee82f9d\" style=\"stroke-miterlimit: 2; opacity: 1;\"><g class=\"fills\"/><g class=\"errorbars\"/><g class=\"lines\"><path class=\"js-line\" d=\"M84.91,68.55L158.92,145.87L230.39,196.27L304.4,233.7L375.87,264.44L449.88,288.42L523.9,304.74L595.37,315.96\" style=\"vector-effect: non-scaling-stroke; fill: none; stroke: rgb(0, 204, 150); stroke-opacity: 1; stroke-width: 2px; opacity: 1;\"/></g><g class=\"points\"><path class=\"point\" transform=\"translate(84.91,68.55)\" d=\"M3.5,0A3.5,3.5 0 1,1 0,-3.5A3.5,3.5 0 0,1 3.5,0Z\" style=\"opacity: 1; stroke-width: 0px; fill: rgb(0, 204, 150); fill-opacity: 1;\"/><path class=\"point\" transform=\"translate(158.92,145.87)\" d=\"M3.5,0A3.5,3.5 0 1,1 0,-3.5A3.5,3.5 0 0,1 3.5,0Z\" style=\"opacity: 1; stroke-width: 0px; fill: rgb(0, 204, 150); fill-opacity: 1;\"/><path class=\"point\" transform=\"translate(230.39,196.27)\" d=\"M3.5,0A3.5,3.5 0 1,1 0,-3.5A3.5,3.5 0 0,1 3.5,0Z\" style=\"opacity: 1; stroke-width: 0px; fill: rgb(0, 204, 150); fill-opacity: 1;\"/><path class=\"point\" transform=\"translate(304.4,233.7)\" d=\"M3.5,0A3.5,3.5 0 1,1 0,-3.5A3.5,3.5 0 0,1 3.5,0Z\" style=\"opacity: 1; stroke-width: 0px; fill: rgb(0, 204, 150); fill-opacity: 1;\"/><path class=\"point\" transform=\"translate(375.87,264.44)\" d=\"M3.5,0A3.5,3.5 0 1,1 0,-3.5A3.5,3.5 0 0,1 3.5,0Z\" style=\"opacity: 1; stroke-width: 0px; fill: rgb(0, 204, 150); fill-opacity: 1;\"/><path class=\"point\" transform=\"translate(449.88,288.42)\" d=\"M3.5,0A3.5,3.5 0 1,1 0,-3.5A3.5,3.5 0 0,1 3.5,0Z\" style=\"opacity: 1; stroke-width: 0px; fill: rgb(0, 204, 150); fill-opacity: 1;\"/><path class=\"point\" transform=\"translate(523.9,304.74)\" d=\"M3.5,0A3.5,3.5 0 1,1 0,-3.5A3.5,3.5 0 0,1 3.5,0Z\" style=\"opacity: 1; stroke-width: 0px; fill: rgb(0, 204, 150); fill-opacity: 1;\"/><path class=\"point\" transform=\"translate(595.37,315.96)\" d=\"M3.5,0A3.5,3.5 0 1,1 0,-3.5A3.5,3.5 0 0,1 3.5,0Z\" style=\"opacity: 1; stroke-width: 0px; fill: rgb(0, 204, 150); fill-opacity: 1;\"/></g><g class=\"text\"/></g></g></g><g class=\"overplot\"/><path class=\"xlines-above crisp\" d=\"M0,0\" style=\"fill: none;\"/><path class=\"ylines-above crisp\" d=\"M0,0\" style=\"fill: none;\"/><g class=\"overlines-above\"/><g class=\"xaxislayer-above\"><g class=\"xtick\"><text text-anchor=\"middle\" x=\"0\" y=\"453\" transform=\"translate(130.02,0)\" style=\"font-family: 'Open Sans', verdana, arial, sans-serif; font-size: 12px; fill: rgb(42, 63, 95); fill-opacity: 1; white-space: pre; opacity: 1;\">550</text></g><g class=\"xtick\"><text text-anchor=\"middle\" x=\"0\" y=\"453\" style=\"font-family: 'Open Sans', verdana, arial, sans-serif; font-size: 12px; fill: rgb(42, 63, 95); fill-opacity: 1; white-space: pre; opacity: 1;\" transform=\"translate(213.4,0)\">600</text></g><g class=\"xtick\"><text text-anchor=\"middle\" x=\"0\" y=\"453\" style=\"font-family: 'Open Sans', verdana, arial, sans-serif; font-size: 12px; fill: rgb(42, 63, 95); fill-opacity: 1; white-space: pre; opacity: 1;\" transform=\"translate(296.77,0)\">650</text></g><g class=\"xtick\"><text text-anchor=\"middle\" x=\"0\" y=\"453\" style=\"font-family: 'Open Sans', verdana, arial, sans-serif; font-size: 12px; fill: rgb(42, 63, 95); fill-opacity: 1; white-space: pre; opacity: 1;\" transform=\"translate(380.15,0)\">700</text></g><g class=\"xtick\"><text text-anchor=\"middle\" x=\"0\" y=\"453\" style=\"font-family: 'Open Sans', verdana, arial, sans-serif; font-size: 12px; fill: rgb(42, 63, 95); fill-opacity: 1; white-space: pre; opacity: 1;\" transform=\"translate(463.53,0)\">750</text></g><g class=\"xtick\"><text text-anchor=\"middle\" x=\"0\" y=\"453\" style=\"font-family: 'Open Sans', verdana, arial, sans-serif; font-size: 12px; fill: rgb(42, 63, 95); fill-opacity: 1; white-space: pre; opacity: 1;\" transform=\"translate(546.9,0)\">800</text></g><g class=\"xtick\"><text text-anchor=\"middle\" x=\"0\" y=\"453\" style=\"font-family: 'Open Sans', verdana, arial, sans-serif; font-size: 12px; fill: rgb(42, 63, 95); fill-opacity: 1; white-space: pre; opacity: 1;\" transform=\"translate(630.28,0)\">850</text></g><g class=\"xtick\"><text text-anchor=\"middle\" x=\"0\" y=\"453\" style=\"font-family: 'Open Sans', verdana, arial, sans-serif; font-size: 12px; fill: rgb(42, 63, 95); fill-opacity: 1; white-space: pre; opacity: 1;\" transform=\"translate(713.65,0)\">900</text></g></g><g class=\"yaxislayer-above\"><g class=\"ytick\"><text text-anchor=\"end\" x=\"79\" y=\"4.199999999999999\" transform=\"translate(0,401.35)\" style=\"font-family: 'Open Sans', verdana, arial, sans-serif; font-size: 12px; fill: rgb(42, 63, 95); fill-opacity: 1; white-space: pre; opacity: 1;\">0.5</text></g><g class=\"ytick\"><text text-anchor=\"end\" x=\"79\" y=\"4.199999999999999\" style=\"font-family: 'Open Sans', verdana, arial, sans-serif; font-size: 12px; fill: rgb(42, 63, 95); fill-opacity: 1; white-space: pre; opacity: 1;\" transform=\"translate(0,327.24)\">1</text></g><g class=\"ytick\"><text text-anchor=\"end\" x=\"79\" y=\"4.199999999999999\" style=\"font-family: 'Open Sans', verdana, arial, sans-serif; font-size: 12px; fill: rgb(42, 63, 95); fill-opacity: 1; white-space: pre; opacity: 1;\" transform=\"translate(0,253.14)\">1.5</text></g><g class=\"ytick\"><text text-anchor=\"end\" x=\"79\" y=\"4.199999999999999\" style=\"font-family: 'Open Sans', verdana, arial, sans-serif; font-size: 12px; fill: rgb(42, 63, 95); fill-opacity: 1; white-space: pre; opacity: 1;\" transform=\"translate(0,179.03)\">2</text></g><g class=\"ytick\"><text text-anchor=\"end\" x=\"79\" y=\"4.199999999999999\" style=\"font-family: 'Open Sans', verdana, arial, sans-serif; font-size: 12px; fill: rgb(42, 63, 95); fill-opacity: 1; white-space: pre; opacity: 1;\" transform=\"translate(0,104.92)\">2.5</text></g></g><g class=\"overaxes-above\"/></g></g><g class=\"polarlayer\"/><g class=\"smithlayer\"/><g class=\"ternarylayer\"/><g class=\"geolayer\"/><g class=\"funnelarealayer\"/><g class=\"pielayer\"/><g class=\"iciclelayer\"/><g class=\"treemaplayer\"/><g class=\"sunburstlayer\"/><g class=\"glimages\"/><defs id=\"topdefs-f1182e\"><g class=\"clips\"/><clipPath id=\"legendf1182e\"><rect width=\"128\" height=\"86\" x=\"0\" y=\"0\"/></clipPath></defs><g class=\"layer-above\"><g class=\"imagelayer\"/><g class=\"shapelayer\"/></g><g class=\"infolayer\"><g class=\"legend\" pointer-events=\"all\" transform=\"translate(760.34,100)\"><rect class=\"bg\" shape-rendering=\"crispEdges\" style=\"stroke: rgb(68, 68, 68); stroke-opacity: 1; fill: rgb(255, 255, 255); fill-opacity: 1; stroke-width: 0px;\" width=\"128\" height=\"86\" x=\"0\" y=\"0\"/><g class=\"scrollbox\" transform=\"\" clip-path=\"url(#legendf1182e)\"><text class=\"legendtitletext\" text-anchor=\"start\" x=\"2\" y=\"18.2\" style=\"font-family: 'Open Sans', verdana, arial, sans-serif; font-size: 14px; fill: rgb(42, 63, 95); fill-opacity: 1; white-space: pre;\">SED:</text><g class=\"groups\"><g class=\"traces\" transform=\"translate(0,32.7)\" style=\"opacity: 1;\"><text class=\"legendtext\" text-anchor=\"start\" x=\"40\" y=\"4.680000000000001\" style=\"font-family: 'Open Sans', verdana, arial, sans-serif; font-size: 12px; fill: rgb(42, 63, 95); fill-opacity: 1; white-space: pre;\">GT - 350 bins</text><g class=\"layers\" style=\"opacity: 1;\"><g class=\"legendfill\"/><g class=\"legendlines\"><path class=\"js-line\" d=\"M5,0h30\" style=\"fill: none; stroke: rgb(99, 110, 250); stroke-opacity: 1; stroke-width: 2px;\"/></g><g class=\"legendsymbols\"><g class=\"legendpoints\"/></g></g><rect class=\"legendtoggle\" x=\"0\" y=\"-9.5\" width=\"122.3125\" height=\"19\" style=\"fill: rgb(0, 0, 0); fill-opacity: 0;\"/></g><g class=\"traces\" transform=\"translate(0,51.7)\" style=\"opacity: 1;\"><text class=\"legendtext\" text-anchor=\"start\" x=\"40\" y=\"4.680000000000001\" style=\"font-family: 'Open Sans', verdana, arial, sans-serif; font-size: 12px; fill: rgb(42, 63, 95); fill-opacity: 1; white-space: pre;\">8 bins</text><g class=\"layers\" style=\"opacity: 1;\"><g class=\"legendfill\"/><g class=\"legendlines\"><path class=\"js-line\" d=\"M5,0h30\" style=\"fill: none; stroke: rgb(239, 85, 59); stroke-opacity: 1; stroke-width: 2px;\"/></g><g class=\"legendsymbols\"><g class=\"legendpoints\"><path class=\"scatterpts\" transform=\"translate(20,0)\" d=\"M5.5,0A5.5,5.5 0 1,1 0,-5.5A5.5,5.5 0 0,1 5.5,0Z\" style=\"opacity: 1; stroke-width: 0px; fill: rgb(239, 85, 59); fill-opacity: 1;\"/></g></g></g><rect class=\"legendtoggle\" x=\"0\" y=\"-9.5\" width=\"122.3125\" height=\"19\" style=\"fill: rgb(0, 0, 0); fill-opacity: 0;\"/></g><g class=\"traces\" transform=\"translate(0,70.7)\" style=\"opacity: 1;\"><text class=\"legendtext\" text-anchor=\"start\" x=\"40\" y=\"4.680000000000001\" style=\"font-family: 'Open Sans', verdana, arial, sans-serif; font-size: 12px; fill: rgb(42, 63, 95); fill-opacity: 1; white-space: pre;\">Feasible λ</text><g class=\"layers\" style=\"opacity: 1;\"><g class=\"legendfill\"/><g class=\"legendlines\"><path class=\"js-line\" d=\"M5,0h30\" style=\"fill: none; stroke: rgb(0, 204, 150); stroke-opacity: 1; stroke-width: 2px;\"/></g><g class=\"legendsymbols\"><g class=\"legendpoints\"><path class=\"scatterpts\" transform=\"translate(20,0)\" d=\"M3.5,0A3.5,3.5 0 1,1 0,-3.5A3.5,3.5 0 0,1 3.5,0Z\" style=\"opacity: 1; stroke-width: 0px; fill: rgb(0, 204, 150); fill-opacity: 1;\"/></g></g></g><rect class=\"legendtoggle\" x=\"0\" y=\"-9.5\" width=\"122.3125\" height=\"19\" style=\"fill: rgb(0, 0, 0); fill-opacity: 0;\"/></g></g></g><rect class=\"scrollbar\" rx=\"20\" ry=\"3\" width=\"0\" height=\"0\" style=\"fill: rgb(128, 139, 164); fill-opacity: 1;\" x=\"0\" y=\"0\"/></g><g class=\"g-gtitle\"><text class=\"gtitle\" x=\"450\" y=\"50\" text-anchor=\"middle\" dy=\"0em\" style=\"font-family: 'Open Sans', verdana, arial, sans-serif; font-size: 17px; fill: rgb(42, 63, 95); opacity: 1; font-weight: normal; white-space: pre;\">SED 8 bins - Relocated wavelength points</text></g><g class=\"g-xtitle\"><text class=\"xtitle\" x=\"413.5\" y=\"480.3\" text-anchor=\"middle\" style=\"font-family: 'Open Sans', verdana, arial, sans-serif; font-size: 14px; fill: rgb(42, 63, 95); opacity: 1; font-weight: normal; white-space: pre;\">Wavelength [nm]</text></g><g class=\"g-ytitle\"><text class=\"ytitle\" transform=\"rotate(-90,34.575,270)\" x=\"34.575\" y=\"270\" text-anchor=\"middle\" style=\"font-family: 'Open Sans', verdana, arial, sans-serif; font-size: 14px; fill: rgb(42, 63, 95); opacity: 1; font-weight: normal; white-space: pre;\">Flux unit</text></g></g></svg>"
     },
     "metadata": {},
     "output_type": "display_data"
    }
   ],
   "source": [
    "gen_poly_fieldPSF.sim_psf_toolkit.interp_pts_per_bin = 0\n",
    "filt_SED_feasible_wv, filt_SED_feasible = gen_poly_fieldPSF.sim_psf_toolkit.calc_SED_wave_values(test_SED,8)\n",
    "\n",
    "fig = go.Figure()\n",
    "\n",
    "fig.add_trace(go.Scatter(x=test_SED[:,0],y=test_SED[:,1]*len(test_SED),name='GT - 350 bins'))\n",
    "fig.add_trace(go.Scatter(x=filt_SED[:,0],y=filt_SED[:,1]*len(filt_SED),name='8 bins',marker=dict(size=11)))\n",
    "fig.add_trace(go.Scatter(x=filt_SED_feasible_wv*1e3,y=filt_SED_feasible*len(filt_SED),name='Feasible λ',marker=dict(size=7)))\n",
    "\n",
    "fig.update_xaxes(title_text=\"Wavelength [nm]\")\n",
    "fig.update_yaxes(title_text=\"Flux unit\")\n",
    "\n",
    "fig.update_layout(legend_title_text='SED:', title={'text':'SED 8 bins - Relocated wavelength points', 'x':0.5}, width=900, height=520,\n",
    "                    xaxis=dict(range=[520, 920]))\n",
    "\n",
    "#fig.write_image('../outputs/plots/SED_feasible_8_pts.pdf', engine='kaleido')\n",
    "fig.show(interactive)"
   ]
  },
  {
   "cell_type": "code",
   "execution_count": 20,
   "metadata": {},
   "outputs": [
    {
     "data": {
      "image/svg+xml": "<svg class=\"main-svg\" xmlns=\"http://www.w3.org/2000/svg\" xmlns:xlink=\"http://www.w3.org/1999/xlink\" width=\"900\" height=\"520\" style=\"\" viewBox=\"0 0 900 520\"><rect x=\"0\" y=\"0\" width=\"900\" height=\"520\" style=\"fill: rgb(255, 255, 255); fill-opacity: 1;\"/><defs id=\"defs-c941a4\"><g class=\"clips\"><clipPath id=\"clipc941a4xyplot\" class=\"plotclip\"><rect width=\"667\" height=\"340\"/></clipPath><clipPath class=\"axesclip\" id=\"clipc941a4x\"><rect x=\"80\" y=\"0\" width=\"667\" height=\"520\"/></clipPath><clipPath class=\"axesclip\" id=\"clipc941a4y\"><rect x=\"0\" y=\"100\" width=\"900\" height=\"340\"/></clipPath><clipPath class=\"axesclip\" id=\"clipc941a4xy\"><rect x=\"80\" y=\"100\" width=\"667\" height=\"340\"/></clipPath></g><g class=\"gradients\"/><g class=\"patterns\"/></defs><g class=\"bglayer\"><rect class=\"bg\" x=\"80\" y=\"100\" width=\"667\" height=\"340\" style=\"fill: rgb(229, 236, 246); fill-opacity: 1; stroke-width: 0;\"/></g><g class=\"layer-below\"><g class=\"imagelayer\"/><g class=\"shapelayer\"/></g><g class=\"cartesianlayer\"><g class=\"subplot xy\"><g class=\"layer-subplot\"><g class=\"shapelayer\"/><g class=\"imagelayer\"/></g><g class=\"minor-gridlayer\"><g class=\"x\"/><g class=\"y\"/></g><g class=\"gridlayer\"><g class=\"x\"><path class=\"xgrid crisp\" transform=\"translate(120.22999999999999,0)\" d=\"M0,100v340\" style=\"stroke: rgb(255, 255, 255); stroke-opacity: 1; stroke-width: 1px;\"/><path class=\"xgrid crisp\" transform=\"translate(204.01999999999998,0)\" d=\"M0,100v340\" style=\"stroke: rgb(255, 255, 255); stroke-opacity: 1; stroke-width: 1px;\"/><path class=\"xgrid crisp\" transform=\"translate(287.81,0)\" d=\"M0,100v340\" style=\"stroke: rgb(255, 255, 255); stroke-opacity: 1; stroke-width: 1px;\"/><path class=\"xgrid crisp\" transform=\"translate(371.6,0)\" d=\"M0,100v340\" style=\"stroke: rgb(255, 255, 255); stroke-opacity: 1; stroke-width: 1px;\"/><path class=\"xgrid crisp\" transform=\"translate(455.4,0)\" d=\"M0,100v340\" style=\"stroke: rgb(255, 255, 255); stroke-opacity: 1; stroke-width: 1px;\"/><path class=\"xgrid crisp\" transform=\"translate(539.19,0)\" d=\"M0,100v340\" style=\"stroke: rgb(255, 255, 255); stroke-opacity: 1; stroke-width: 1px;\"/><path class=\"xgrid crisp\" transform=\"translate(622.98,0)\" d=\"M0,100v340\" style=\"stroke: rgb(255, 255, 255); stroke-opacity: 1; stroke-width: 1px;\"/><path class=\"xgrid crisp\" transform=\"translate(706.78,0)\" d=\"M0,100v340\" style=\"stroke: rgb(255, 255, 255); stroke-opacity: 1; stroke-width: 1px;\"/></g><g class=\"y\"><path class=\"ygrid crisp\" transform=\"translate(0,396.85)\" d=\"M80,0h667\" style=\"stroke: rgb(255, 255, 255); stroke-opacity: 1; stroke-width: 1px;\"/><path class=\"ygrid crisp\" transform=\"translate(0,324.81)\" d=\"M80,0h667\" style=\"stroke: rgb(255, 255, 255); stroke-opacity: 1; stroke-width: 1px;\"/><path class=\"ygrid crisp\" transform=\"translate(0,252.77)\" d=\"M80,0h667\" style=\"stroke: rgb(255, 255, 255); stroke-opacity: 1; stroke-width: 1px;\"/><path class=\"ygrid crisp\" transform=\"translate(0,180.73000000000002)\" d=\"M80,0h667\" style=\"stroke: rgb(255, 255, 255); stroke-opacity: 1; stroke-width: 1px;\"/><path class=\"ygrid crisp\" transform=\"translate(0,108.69)\" d=\"M80,0h667\" style=\"stroke: rgb(255, 255, 255); stroke-opacity: 1; stroke-width: 1px;\"/></g></g><g class=\"zerolinelayer\"/><path class=\"xlines-below\"/><path class=\"ylines-below\"/><g class=\"overlines-below\"/><g class=\"xaxislayer-below\"/><g class=\"yaxislayer-below\"/><g class=\"overaxes-below\"/><g class=\"plot\" transform=\"translate(80,100)\" clip-path=\"url(#clipc941a4xyplot)\"><g class=\"scatterlayer mlayer\"><g class=\"trace scatter trace8d8ef9\" style=\"stroke-miterlimit: 2; opacity: 1;\"><g class=\"fills\"/><g class=\"errorbars\"/><g class=\"lines\"><path class=\"js-line\" d=\"M41.06,20.43L47.77,32.38L49.44,33.32L52.79,36.7L54.47,40.25L56.15,46.1L57.82,44.95L61.17,49.54L62.85,51.45L67.88,58.13L69.55,61.69L71.23,62.5L72.9,61.52L74.58,67.51L76.26,68.71L79.61,74.65L81.28,77.52L84.64,80.75L86.31,87.23L87.99,94.52L89.66,92.9L91.34,99.26L93.01,97.1L94.69,91.17L96.37,92.21L99.72,97.71L101.39,98.36L103.07,111.37L104.75,113.21L106.42,134.71L108.1,111.33L109.77,107.31L111.45,110.78L113.12,111.52L114.8,114.56L118.15,118.07L119.83,120.23L121.5,121.38L123.18,121.25L126.53,126.31L128.21,126.17L136.59,134.97L138.26,135.62L139.94,135.97L141.61,138.17L144.97,141.67L146.64,141.86L149.99,144.48L151.67,148.04L153.35,151.63L155.02,150.67L156.7,150.64L158.37,153.08L160.05,152.51L161.72,153.63L163.4,156.56L165.08,155.7L166.75,155.43L168.43,157.59L170.1,163.71L171.78,173.76L173.46,165.28L175.13,166.43L176.81,170.24L178.48,166.81L180.16,166.57L181.83,167.78L188.54,174.4L190.21,174.71L191.89,178.43L193.57,178.65L195.24,177.01L196.92,177.67L201.95,182.21L203.62,183.05L206.97,184.88L208.65,184.2L210.32,185.81L212,190.39L213.68,190.98L215.35,189.46L217.03,199.85L218.7,219.18L220.38,197.96L222.06,191.43L225.41,192.52L227.08,194.74L232.11,197.49L233.79,199.51L237.14,204.76L238.81,209.29L240.49,205.08L242.17,204.66L245.52,205.39L247.19,206.37L250.55,209.06L252.22,209.58L257.25,213.31L258.92,212.88L260.6,214.56L262.28,214.75L263.95,215.4L265.63,217.97L285.74,226.67L287.41,226.13L289.09,226.52L290.77,229.16L297.47,230.54L299.14,231.99L300.82,232.91L302.5,236.02L305.85,234.38L307.52,234.2L309.2,235.61L310.88,236.02L314.23,235.04L315.9,235.62L317.58,236.73L319.26,239.03L320.93,245.94L322.61,248.44L324.28,245.89L325.96,244.98L327.63,241.06L329.31,241.37L332.66,246.87L334.34,246.97L336.01,247.6L337.69,249.47L339.37,248.74L341.04,249.94L346.07,251.47L347.74,251.86L351.1,252.99L352.77,254.23L354.45,254.45L356.12,255.64L357.8,256.18L359.48,257.62L364.5,260.92L366.18,261L367.86,261.13L369.53,262.02L372.88,263.35L374.56,264.08L379.59,265.36L381.26,266.29L396.34,271.13L398.02,271.72L419.81,278.78L421.48,278.98L424.83,280.07L426.51,280.4L434.89,282.17L436.57,283.42L439.92,283.83L441.59,284.38L458.35,288.31L460.03,288.18L468.41,288.52L470.08,289.13L478.46,291.81L480.14,291.72L483.49,292.76L485.17,294.21L486.84,295.27L488.52,295.07L493.54,295.09L495.22,295.88L498.57,299.77L500.25,299.05L501.92,296.92L503.6,296.87L508.63,298.31L510.3,298L518.68,301.09L520.36,302.01L525.39,301.18L527.06,301.05L543.82,304.52L545.5,304.33L552.2,306.44L553.88,305.91L560.58,308.77L562.25,308.35L572.31,308.85L573.99,308.44L579.01,308.98L580.69,309.18L585.72,311.09L587.39,310.32L590.74,310.48L592.42,310.29L599.12,311.03L600.8,312.1L604.15,315.02L605.83,314.58L609.18,313.53L610.85,313.63L614.21,314.03L615.88,311.81L617.56,311.68L619.23,313.52L625.94,317.9\" style=\"vector-effect: non-scaling-stroke; fill: none; stroke: rgb(99, 110, 250); stroke-opacity: 1; stroke-width: 2px; opacity: 1;\"/></g><g class=\"points\"/><g class=\"text\"/></g><g class=\"trace scatter trace4fb69a\" style=\"stroke-miterlimit: 2; opacity: 1;\"><g class=\"fills\"/><g class=\"errorbars\"/><g class=\"lines\"><path class=\"js-line\" d=\"M40.23,23.88L76.88,72.63L113.54,113.03L150.2,146.26L186.86,173.49L223.52,195.92L260.18,214.79L296.84,231.58L333.5,247.45L370.16,261.93L406.82,274.33L443.48,284.68L480.14,293.2L516.8,300.23L553.46,306.15L626.78,316.13\" style=\"vector-effect: non-scaling-stroke; fill: none; stroke: rgb(239, 85, 59); stroke-opacity: 1; stroke-width: 2px; opacity: 1;\"/></g><g class=\"points\"><path class=\"point\" transform=\"translate(40.23,23.88)\" d=\"M5.5,0A5.5,5.5 0 1,1 0,-5.5A5.5,5.5 0 0,1 5.5,0Z\" style=\"opacity: 1; stroke-width: 0px; fill: rgb(239, 85, 59); fill-opacity: 1;\"/><path class=\"point\" transform=\"translate(76.88,72.63)\" d=\"M5.5,0A5.5,5.5 0 1,1 0,-5.5A5.5,5.5 0 0,1 5.5,0Z\" style=\"opacity: 1; stroke-width: 0px; fill: rgb(239, 85, 59); fill-opacity: 1;\"/><path class=\"point\" transform=\"translate(113.54,113.03)\" d=\"M5.5,0A5.5,5.5 0 1,1 0,-5.5A5.5,5.5 0 0,1 5.5,0Z\" style=\"opacity: 1; stroke-width: 0px; fill: rgb(239, 85, 59); fill-opacity: 1;\"/><path class=\"point\" transform=\"translate(150.2,146.26)\" d=\"M5.5,0A5.5,5.5 0 1,1 0,-5.5A5.5,5.5 0 0,1 5.5,0Z\" style=\"opacity: 1; stroke-width: 0px; fill: rgb(239, 85, 59); fill-opacity: 1;\"/><path class=\"point\" transform=\"translate(186.86,173.49)\" d=\"M5.5,0A5.5,5.5 0 1,1 0,-5.5A5.5,5.5 0 0,1 5.5,0Z\" style=\"opacity: 1; stroke-width: 0px; fill: rgb(239, 85, 59); fill-opacity: 1;\"/><path class=\"point\" transform=\"translate(223.52,195.92)\" d=\"M5.5,0A5.5,5.5 0 1,1 0,-5.5A5.5,5.5 0 0,1 5.5,0Z\" style=\"opacity: 1; stroke-width: 0px; fill: rgb(239, 85, 59); fill-opacity: 1;\"/><path class=\"point\" transform=\"translate(260.18,214.79)\" d=\"M5.5,0A5.5,5.5 0 1,1 0,-5.5A5.5,5.5 0 0,1 5.5,0Z\" style=\"opacity: 1; stroke-width: 0px; fill: rgb(239, 85, 59); fill-opacity: 1;\"/><path class=\"point\" transform=\"translate(296.84,231.58)\" d=\"M5.5,0A5.5,5.5 0 1,1 0,-5.5A5.5,5.5 0 0,1 5.5,0Z\" style=\"opacity: 1; stroke-width: 0px; fill: rgb(239, 85, 59); fill-opacity: 1;\"/><path class=\"point\" transform=\"translate(333.5,247.45)\" d=\"M5.5,0A5.5,5.5 0 1,1 0,-5.5A5.5,5.5 0 0,1 5.5,0Z\" style=\"opacity: 1; stroke-width: 0px; fill: rgb(239, 85, 59); fill-opacity: 1;\"/><path class=\"point\" transform=\"translate(370.16,261.93)\" d=\"M5.5,0A5.5,5.5 0 1,1 0,-5.5A5.5,5.5 0 0,1 5.5,0Z\" style=\"opacity: 1; stroke-width: 0px; fill: rgb(239, 85, 59); fill-opacity: 1;\"/><path class=\"point\" transform=\"translate(406.82,274.33)\" d=\"M5.5,0A5.5,5.5 0 1,1 0,-5.5A5.5,5.5 0 0,1 5.5,0Z\" style=\"opacity: 1; stroke-width: 0px; fill: rgb(239, 85, 59); fill-opacity: 1;\"/><path class=\"point\" transform=\"translate(443.48,284.68)\" d=\"M5.5,0A5.5,5.5 0 1,1 0,-5.5A5.5,5.5 0 0,1 5.5,0Z\" style=\"opacity: 1; stroke-width: 0px; fill: rgb(239, 85, 59); fill-opacity: 1;\"/><path class=\"point\" transform=\"translate(480.14,293.2)\" d=\"M5.5,0A5.5,5.5 0 1,1 0,-5.5A5.5,5.5 0 0,1 5.5,0Z\" style=\"opacity: 1; stroke-width: 0px; fill: rgb(239, 85, 59); fill-opacity: 1;\"/><path class=\"point\" transform=\"translate(516.8,300.23)\" d=\"M5.5,0A5.5,5.5 0 1,1 0,-5.5A5.5,5.5 0 0,1 5.5,0Z\" style=\"opacity: 1; stroke-width: 0px; fill: rgb(239, 85, 59); fill-opacity: 1;\"/><path class=\"point\" transform=\"translate(553.46,306.15)\" d=\"M5.5,0A5.5,5.5 0 1,1 0,-5.5A5.5,5.5 0 0,1 5.5,0Z\" style=\"opacity: 1; stroke-width: 0px; fill: rgb(239, 85, 59); fill-opacity: 1;\"/><path class=\"point\" transform=\"translate(590.12,311.33)\" d=\"M5.5,0A5.5,5.5 0 1,1 0,-5.5A5.5,5.5 0 0,1 5.5,0Z\" style=\"opacity: 1; stroke-width: 0px; fill: rgb(239, 85, 59); fill-opacity: 1;\"/><path class=\"point\" transform=\"translate(626.78,316.13)\" d=\"M5.5,0A5.5,5.5 0 1,1 0,-5.5A5.5,5.5 0 0,1 5.5,0Z\" style=\"opacity: 1; stroke-width: 0px; fill: rgb(239, 85, 59); fill-opacity: 1;\"/></g><g class=\"text\"/></g><g class=\"trace scatter trace376b69\" style=\"stroke-miterlimit: 2; opacity: 1;\"><g class=\"fills\"/><g class=\"errorbars\"/><g class=\"lines\"><path class=\"js-line\" d=\"M39.37,36.96L149.67,147.17L185.58,171.46L221.49,195.76L259.97,214.6L295.88,231.99L331.79,246.8L367.7,261.68L406.18,273.69L442.09,284.82L478,292.49L516.48,300.59L552.39,306.02L626.78,317.19\" style=\"vector-effect: non-scaling-stroke; fill: none; stroke: rgb(0, 204, 150); stroke-opacity: 1; stroke-width: 2px; opacity: 1;\"/></g><g class=\"points\"><path class=\"point\" transform=\"translate(39.37,36.96)\" d=\"M3.5,0A3.5,3.5 0 1,1 0,-3.5A3.5,3.5 0 0,1 3.5,0Z\" style=\"opacity: 1; stroke-width: 0px; fill: rgb(0, 204, 150); fill-opacity: 1;\"/><path class=\"point\" transform=\"translate(75.28,72.88)\" d=\"M3.5,0A3.5,3.5 0 1,1 0,-3.5A3.5,3.5 0 0,1 3.5,0Z\" style=\"opacity: 1; stroke-width: 0px; fill: rgb(0, 204, 150); fill-opacity: 1;\"/><path class=\"point\" transform=\"translate(111.19,108.58)\" d=\"M3.5,0A3.5,3.5 0 1,1 0,-3.5A3.5,3.5 0 0,1 3.5,0Z\" style=\"opacity: 1; stroke-width: 0px; fill: rgb(0, 204, 150); fill-opacity: 1;\"/><path class=\"point\" transform=\"translate(149.67,147.17)\" d=\"M3.5,0A3.5,3.5 0 1,1 0,-3.5A3.5,3.5 0 0,1 3.5,0Z\" style=\"opacity: 1; stroke-width: 0px; fill: rgb(0, 204, 150); fill-opacity: 1;\"/><path class=\"point\" transform=\"translate(185.58,171.46)\" d=\"M3.5,0A3.5,3.5 0 1,1 0,-3.5A3.5,3.5 0 0,1 3.5,0Z\" style=\"opacity: 1; stroke-width: 0px; fill: rgb(0, 204, 150); fill-opacity: 1;\"/><path class=\"point\" transform=\"translate(221.49,195.76)\" d=\"M3.5,0A3.5,3.5 0 1,1 0,-3.5A3.5,3.5 0 0,1 3.5,0Z\" style=\"opacity: 1; stroke-width: 0px; fill: rgb(0, 204, 150); fill-opacity: 1;\"/><path class=\"point\" transform=\"translate(259.97,214.6)\" d=\"M3.5,0A3.5,3.5 0 1,1 0,-3.5A3.5,3.5 0 0,1 3.5,0Z\" style=\"opacity: 1; stroke-width: 0px; fill: rgb(0, 204, 150); fill-opacity: 1;\"/><path class=\"point\" transform=\"translate(295.88,231.99)\" d=\"M3.5,0A3.5,3.5 0 1,1 0,-3.5A3.5,3.5 0 0,1 3.5,0Z\" style=\"opacity: 1; stroke-width: 0px; fill: rgb(0, 204, 150); fill-opacity: 1;\"/><path class=\"point\" transform=\"translate(331.79,246.8)\" d=\"M3.5,0A3.5,3.5 0 1,1 0,-3.5A3.5,3.5 0 0,1 3.5,0Z\" style=\"opacity: 1; stroke-width: 0px; fill: rgb(0, 204, 150); fill-opacity: 1;\"/><path class=\"point\" transform=\"translate(367.7,261.68)\" d=\"M3.5,0A3.5,3.5 0 1,1 0,-3.5A3.5,3.5 0 0,1 3.5,0Z\" style=\"opacity: 1; stroke-width: 0px; fill: rgb(0, 204, 150); fill-opacity: 1;\"/><path class=\"point\" transform=\"translate(406.18,273.69)\" d=\"M3.5,0A3.5,3.5 0 1,1 0,-3.5A3.5,3.5 0 0,1 3.5,0Z\" style=\"opacity: 1; stroke-width: 0px; fill: rgb(0, 204, 150); fill-opacity: 1;\"/><path class=\"point\" transform=\"translate(442.09,284.82)\" d=\"M3.5,0A3.5,3.5 0 1,1 0,-3.5A3.5,3.5 0 0,1 3.5,0Z\" style=\"opacity: 1; stroke-width: 0px; fill: rgb(0, 204, 150); fill-opacity: 1;\"/><path class=\"point\" transform=\"translate(478,292.49)\" d=\"M3.5,0A3.5,3.5 0 1,1 0,-3.5A3.5,3.5 0 0,1 3.5,0Z\" style=\"opacity: 1; stroke-width: 0px; fill: rgb(0, 204, 150); fill-opacity: 1;\"/><path class=\"point\" transform=\"translate(516.48,300.59)\" d=\"M3.5,0A3.5,3.5 0 1,1 0,-3.5A3.5,3.5 0 0,1 3.5,0Z\" style=\"opacity: 1; stroke-width: 0px; fill: rgb(0, 204, 150); fill-opacity: 1;\"/><path class=\"point\" transform=\"translate(552.39,306.02)\" d=\"M3.5,0A3.5,3.5 0 1,1 0,-3.5A3.5,3.5 0 0,1 3.5,0Z\" style=\"opacity: 1; stroke-width: 0px; fill: rgb(0, 204, 150); fill-opacity: 1;\"/><path class=\"point\" transform=\"translate(588.3,311.4)\" d=\"M3.5,0A3.5,3.5 0 1,1 0,-3.5A3.5,3.5 0 0,1 3.5,0Z\" style=\"opacity: 1; stroke-width: 0px; fill: rgb(0, 204, 150); fill-opacity: 1;\"/><path class=\"point\" transform=\"translate(626.78,317.19)\" d=\"M3.5,0A3.5,3.5 0 1,1 0,-3.5A3.5,3.5 0 0,1 3.5,0Z\" style=\"opacity: 1; stroke-width: 0px; fill: rgb(0, 204, 150); fill-opacity: 1;\"/></g><g class=\"text\"/></g></g></g><g class=\"overplot\"/><path class=\"xlines-above crisp\" d=\"M0,0\" style=\"fill: none;\"/><path class=\"ylines-above crisp\" d=\"M0,0\" style=\"fill: none;\"/><g class=\"overlines-above\"/><g class=\"xaxislayer-above\"><g class=\"xtick\"><text text-anchor=\"middle\" x=\"0\" y=\"453\" transform=\"translate(120.22999999999999,0)\" style=\"font-family: 'Open Sans', verdana, arial, sans-serif; font-size: 12px; fill: rgb(42, 63, 95); fill-opacity: 1; white-space: pre; opacity: 1;\">550</text></g><g class=\"xtick\"><text text-anchor=\"middle\" x=\"0\" y=\"453\" style=\"font-family: 'Open Sans', verdana, arial, sans-serif; font-size: 12px; fill: rgb(42, 63, 95); fill-opacity: 1; white-space: pre; opacity: 1;\" transform=\"translate(204.01999999999998,0)\">600</text></g><g class=\"xtick\"><text text-anchor=\"middle\" x=\"0\" y=\"453\" style=\"font-family: 'Open Sans', verdana, arial, sans-serif; font-size: 12px; fill: rgb(42, 63, 95); fill-opacity: 1; white-space: pre; opacity: 1;\" transform=\"translate(287.81,0)\">650</text></g><g class=\"xtick\"><text text-anchor=\"middle\" x=\"0\" y=\"453\" style=\"font-family: 'Open Sans', verdana, arial, sans-serif; font-size: 12px; fill: rgb(42, 63, 95); fill-opacity: 1; white-space: pre; opacity: 1;\" transform=\"translate(371.6,0)\">700</text></g><g class=\"xtick\"><text text-anchor=\"middle\" x=\"0\" y=\"453\" style=\"font-family: 'Open Sans', verdana, arial, sans-serif; font-size: 12px; fill: rgb(42, 63, 95); fill-opacity: 1; white-space: pre; opacity: 1;\" transform=\"translate(455.4,0)\">750</text></g><g class=\"xtick\"><text text-anchor=\"middle\" x=\"0\" y=\"453\" style=\"font-family: 'Open Sans', verdana, arial, sans-serif; font-size: 12px; fill: rgb(42, 63, 95); fill-opacity: 1; white-space: pre; opacity: 1;\" transform=\"translate(539.19,0)\">800</text></g><g class=\"xtick\"><text text-anchor=\"middle\" x=\"0\" y=\"453\" style=\"font-family: 'Open Sans', verdana, arial, sans-serif; font-size: 12px; fill: rgb(42, 63, 95); fill-opacity: 1; white-space: pre; opacity: 1;\" transform=\"translate(622.98,0)\">850</text></g><g class=\"xtick\"><text text-anchor=\"middle\" x=\"0\" y=\"453\" style=\"font-family: 'Open Sans', verdana, arial, sans-serif; font-size: 12px; fill: rgb(42, 63, 95); fill-opacity: 1; white-space: pre; opacity: 1;\" transform=\"translate(706.78,0)\">900</text></g></g><g class=\"yaxislayer-above\"><g class=\"ytick\"><text text-anchor=\"end\" x=\"79\" y=\"4.199999999999999\" transform=\"translate(0,396.85)\" style=\"font-family: 'Open Sans', verdana, arial, sans-serif; font-size: 12px; fill: rgb(42, 63, 95); fill-opacity: 1; white-space: pre; opacity: 1;\">0.5</text></g><g class=\"ytick\"><text text-anchor=\"end\" x=\"79\" y=\"4.199999999999999\" style=\"font-family: 'Open Sans', verdana, arial, sans-serif; font-size: 12px; fill: rgb(42, 63, 95); fill-opacity: 1; white-space: pre; opacity: 1;\" transform=\"translate(0,324.81)\">1</text></g><g class=\"ytick\"><text text-anchor=\"end\" x=\"79\" y=\"4.199999999999999\" style=\"font-family: 'Open Sans', verdana, arial, sans-serif; font-size: 12px; fill: rgb(42, 63, 95); fill-opacity: 1; white-space: pre; opacity: 1;\" transform=\"translate(0,252.77)\">1.5</text></g><g class=\"ytick\"><text text-anchor=\"end\" x=\"79\" y=\"4.199999999999999\" style=\"font-family: 'Open Sans', verdana, arial, sans-serif; font-size: 12px; fill: rgb(42, 63, 95); fill-opacity: 1; white-space: pre; opacity: 1;\" transform=\"translate(0,180.73000000000002)\">2</text></g><g class=\"ytick\"><text text-anchor=\"end\" x=\"79\" y=\"4.199999999999999\" style=\"font-family: 'Open Sans', verdana, arial, sans-serif; font-size: 12px; fill: rgb(42, 63, 95); fill-opacity: 1; white-space: pre; opacity: 1;\" transform=\"translate(0,108.69)\">2.5</text></g></g><g class=\"overaxes-above\"/></g></g><g class=\"polarlayer\"/><g class=\"smithlayer\"/><g class=\"ternarylayer\"/><g class=\"geolayer\"/><g class=\"funnelarealayer\"/><g class=\"pielayer\"/><g class=\"iciclelayer\"/><g class=\"treemaplayer\"/><g class=\"sunburstlayer\"/><g class=\"glimages\"/><defs id=\"topdefs-c941a4\"><g class=\"clips\"/><clipPath id=\"legendc941a4\"><rect width=\"128\" height=\"86\" x=\"0\" y=\"0\"/></clipPath></defs><g class=\"layer-above\"><g class=\"imagelayer\"/><g class=\"shapelayer\"/></g><g class=\"infolayer\"><g class=\"legend\" pointer-events=\"all\" transform=\"translate(760.34,100)\"><rect class=\"bg\" shape-rendering=\"crispEdges\" style=\"stroke: rgb(68, 68, 68); stroke-opacity: 1; fill: rgb(255, 255, 255); fill-opacity: 1; stroke-width: 0px;\" width=\"128\" height=\"86\" x=\"0\" y=\"0\"/><g class=\"scrollbox\" transform=\"\" clip-path=\"url(#legendc941a4)\"><text class=\"legendtitletext\" text-anchor=\"start\" x=\"2\" y=\"18.2\" style=\"font-family: 'Open Sans', verdana, arial, sans-serif; font-size: 14px; fill: rgb(42, 63, 95); fill-opacity: 1; white-space: pre;\">SED:</text><g class=\"groups\"><g class=\"traces\" transform=\"translate(0,32.7)\" style=\"opacity: 1;\"><text class=\"legendtext\" text-anchor=\"start\" x=\"40\" y=\"4.680000000000001\" style=\"font-family: 'Open Sans', verdana, arial, sans-serif; font-size: 12px; fill: rgb(42, 63, 95); fill-opacity: 1; white-space: pre;\">GT - 350 bins</text><g class=\"layers\" style=\"opacity: 1;\"><g class=\"legendfill\"/><g class=\"legendlines\"><path class=\"js-line\" d=\"M5,0h30\" style=\"fill: none; stroke: rgb(99, 110, 250); stroke-opacity: 1; stroke-width: 2px;\"/></g><g class=\"legendsymbols\"><g class=\"legendpoints\"/></g></g><rect class=\"legendtoggle\" x=\"0\" y=\"-9.5\" width=\"122.3125\" height=\"19\" style=\"fill: rgb(0, 0, 0); fill-opacity: 0;\"/></g><g class=\"traces\" transform=\"translate(0,51.7)\" style=\"opacity: 1;\"><text class=\"legendtext\" text-anchor=\"start\" x=\"40\" y=\"4.680000000000001\" style=\"font-family: 'Open Sans', verdana, arial, sans-serif; font-size: 12px; fill: rgb(42, 63, 95); fill-opacity: 1; white-space: pre;\">16 bins</text><g class=\"layers\" style=\"opacity: 1;\"><g class=\"legendfill\"/><g class=\"legendlines\"><path class=\"js-line\" d=\"M5,0h30\" style=\"fill: none; stroke: rgb(239, 85, 59); stroke-opacity: 1; stroke-width: 2px;\"/></g><g class=\"legendsymbols\"><g class=\"legendpoints\"><path class=\"scatterpts\" transform=\"translate(20,0)\" d=\"M5.5,0A5.5,5.5 0 1,1 0,-5.5A5.5,5.5 0 0,1 5.5,0Z\" style=\"opacity: 1; stroke-width: 0px; fill: rgb(239, 85, 59); fill-opacity: 1;\"/></g></g></g><rect class=\"legendtoggle\" x=\"0\" y=\"-9.5\" width=\"122.3125\" height=\"19\" style=\"fill: rgb(0, 0, 0); fill-opacity: 0;\"/></g><g class=\"traces\" transform=\"translate(0,70.7)\" style=\"opacity: 1;\"><text class=\"legendtext\" text-anchor=\"start\" x=\"40\" y=\"4.680000000000001\" style=\"font-family: 'Open Sans', verdana, arial, sans-serif; font-size: 12px; fill: rgb(42, 63, 95); fill-opacity: 1; white-space: pre;\">Feasible λ</text><g class=\"layers\" style=\"opacity: 1;\"><g class=\"legendfill\"/><g class=\"legendlines\"><path class=\"js-line\" d=\"M5,0h30\" style=\"fill: none; stroke: rgb(0, 204, 150); stroke-opacity: 1; stroke-width: 2px;\"/></g><g class=\"legendsymbols\"><g class=\"legendpoints\"><path class=\"scatterpts\" transform=\"translate(20,0)\" d=\"M3.5,0A3.5,3.5 0 1,1 0,-3.5A3.5,3.5 0 0,1 3.5,0Z\" style=\"opacity: 1; stroke-width: 0px; fill: rgb(0, 204, 150); fill-opacity: 1;\"/></g></g></g><rect class=\"legendtoggle\" x=\"0\" y=\"-9.5\" width=\"122.3125\" height=\"19\" style=\"fill: rgb(0, 0, 0); fill-opacity: 0;\"/></g></g></g><rect class=\"scrollbar\" rx=\"20\" ry=\"3\" width=\"0\" height=\"0\" style=\"fill: rgb(128, 139, 164); fill-opacity: 1;\" x=\"0\" y=\"0\"/></g><g class=\"g-gtitle\"><text class=\"gtitle\" x=\"450\" y=\"50\" text-anchor=\"middle\" dy=\"0em\" style=\"font-family: 'Open Sans', verdana, arial, sans-serif; font-size: 17px; fill: rgb(42, 63, 95); opacity: 1; font-weight: normal; white-space: pre;\">SED 16 bins - Relocated wavelength points</text></g><g class=\"g-xtitle\"><text class=\"xtitle\" x=\"413.5\" y=\"480.3\" text-anchor=\"middle\" style=\"font-family: 'Open Sans', verdana, arial, sans-serif; font-size: 14px; fill: rgb(42, 63, 95); opacity: 1; font-weight: normal; white-space: pre;\">Wavelength [nm]</text></g><g class=\"g-ytitle\"><text class=\"ytitle\" transform=\"rotate(-90,34.575,270)\" x=\"34.575\" y=\"270\" text-anchor=\"middle\" style=\"font-family: 'Open Sans', verdana, arial, sans-serif; font-size: 14px; fill: rgb(42, 63, 95); opacity: 1; font-weight: normal; white-space: pre;\">Flux unit</text></g></g></svg>"
     },
     "metadata": {},
     "output_type": "display_data"
    }
   ],
   "source": [
    "gen_poly_fieldPSF.sim_psf_toolkit.interp_pts_per_bin = 1\n",
    "filt_SED_feasible_wv, filt_SED_feasible = gen_poly_fieldPSF.sim_psf_toolkit.calc_SED_wave_values(test_SED,8)\n",
    "\n",
    "fig = go.Figure()\n",
    "\n",
    "fig.add_trace(go.Scatter(x=test_SED[:,0],y=test_SED[:,1]*len(test_SED),name='GT - 350 bins'))\n",
    "fig.add_trace(go.Scatter(x=interp_SED_1[:,0],y=interp_SED_1[:,1]*sum(interp_SED_1[:,2])/interp_SED_1[:,2],name='16 bins',marker=dict(size=11)))\n",
    "fig.add_trace(go.Scatter(x=filt_SED_feasible_wv*1e3,y=filt_SED_feasible*sum(interp_SED_1[:,2])/interp_SED_1[:,2],name='Feasible λ',marker=dict(size=7)))\n",
    "\n",
    "fig.update_xaxes(title_text=\"Wavelength [nm]\")\n",
    "fig.update_yaxes(title_text=\"Flux unit\")\n",
    "\n",
    "fig.update_layout(legend_title_text='SED:', title={'text':'SED 16 bins - Relocated wavelength points', 'x':0.5}, width=900, height=520)\n",
    "\n",
    "#fig.write_image('../outputs/plots/SED_feasible_16_pts.pdf', engine='kaleido')\n",
    "fig.show(interactive)"
   ]
  },
  {
   "cell_type": "code",
   "execution_count": 21,
   "metadata": {},
   "outputs": [
    {
     "data": {
      "image/svg+xml": "<svg class=\"main-svg\" xmlns=\"http://www.w3.org/2000/svg\" xmlns:xlink=\"http://www.w3.org/1999/xlink\" width=\"900\" height=\"520\" style=\"\" viewBox=\"0 0 900 520\"><rect x=\"0\" y=\"0\" width=\"900\" height=\"520\" style=\"fill: rgb(255, 255, 255); fill-opacity: 1;\"/><defs id=\"defs-b84140\"><g class=\"clips\"><clipPath id=\"clipb84140xyplot\" class=\"plotclip\"><rect width=\"667\" height=\"340\"/></clipPath><clipPath class=\"axesclip\" id=\"clipb84140x\"><rect x=\"80\" y=\"0\" width=\"667\" height=\"520\"/></clipPath><clipPath class=\"axesclip\" id=\"clipb84140y\"><rect x=\"0\" y=\"100\" width=\"900\" height=\"340\"/></clipPath><clipPath class=\"axesclip\" id=\"clipb84140xy\"><rect x=\"80\" y=\"100\" width=\"667\" height=\"340\"/></clipPath></g><g class=\"gradients\"/><g class=\"patterns\"/></defs><g class=\"bglayer\"><rect class=\"bg\" x=\"80\" y=\"100\" width=\"667\" height=\"340\" style=\"fill: rgb(229, 236, 246); fill-opacity: 1; stroke-width: 0;\"/></g><g class=\"layer-below\"><g class=\"imagelayer\"/><g class=\"shapelayer\"/></g><g class=\"cartesianlayer\"><g class=\"subplot xy\"><g class=\"layer-subplot\"><g class=\"shapelayer\"/><g class=\"imagelayer\"/></g><g class=\"minor-gridlayer\"><g class=\"x\"/><g class=\"y\"/></g><g class=\"gridlayer\"><g class=\"x\"><path class=\"xgrid crisp\" transform=\"translate(107.47,0)\" d=\"M0,100v340\" style=\"stroke: rgb(255, 255, 255); stroke-opacity: 1; stroke-width: 1px;\"/><path class=\"xgrid crisp\" transform=\"translate(194.91,0)\" d=\"M0,100v340\" style=\"stroke: rgb(255, 255, 255); stroke-opacity: 1; stroke-width: 1px;\"/><path class=\"xgrid crisp\" transform=\"translate(282.35,0)\" d=\"M0,100v340\" style=\"stroke: rgb(255, 255, 255); stroke-opacity: 1; stroke-width: 1px;\"/><path class=\"xgrid crisp\" transform=\"translate(369.78,0)\" d=\"M0,100v340\" style=\"stroke: rgb(255, 255, 255); stroke-opacity: 1; stroke-width: 1px;\"/><path class=\"xgrid crisp\" transform=\"translate(457.22,0)\" d=\"M0,100v340\" style=\"stroke: rgb(255, 255, 255); stroke-opacity: 1; stroke-width: 1px;\"/><path class=\"xgrid crisp\" transform=\"translate(544.65,0)\" d=\"M0,100v340\" style=\"stroke: rgb(255, 255, 255); stroke-opacity: 1; stroke-width: 1px;\"/><path class=\"xgrid crisp\" transform=\"translate(632.09,0)\" d=\"M0,100v340\" style=\"stroke: rgb(255, 255, 255); stroke-opacity: 1; stroke-width: 1px;\"/><path class=\"xgrid crisp\" transform=\"translate(719.53,0)\" d=\"M0,100v340\" style=\"stroke: rgb(255, 255, 255); stroke-opacity: 1; stroke-width: 1px;\"/></g><g class=\"y\"><path class=\"ygrid crisp\" transform=\"translate(0,398.24)\" d=\"M80,0h667\" style=\"stroke: rgb(255, 255, 255); stroke-opacity: 1; stroke-width: 1px;\"/><path class=\"ygrid crisp\" transform=\"translate(0,324.95)\" d=\"M80,0h667\" style=\"stroke: rgb(255, 255, 255); stroke-opacity: 1; stroke-width: 1px;\"/><path class=\"ygrid crisp\" transform=\"translate(0,251.65)\" d=\"M80,0h667\" style=\"stroke: rgb(255, 255, 255); stroke-opacity: 1; stroke-width: 1px;\"/><path class=\"ygrid crisp\" transform=\"translate(0,178.35)\" d=\"M80,0h667\" style=\"stroke: rgb(255, 255, 255); stroke-opacity: 1; stroke-width: 1px;\"/><path class=\"ygrid crisp\" transform=\"translate(0,105.05)\" d=\"M80,0h667\" style=\"stroke: rgb(255, 255, 255); stroke-opacity: 1; stroke-width: 1px;\"/></g></g><g class=\"zerolinelayer\"/><path class=\"xlines-below\"/><path class=\"ylines-below\"/><g class=\"overlines-below\"/><g class=\"xaxislayer-below\"/><g class=\"yaxislayer-below\"/><g class=\"overaxes-below\"/><g class=\"plot\" transform=\"translate(80,100)\" clip-path=\"url(#clipb84140xyplot)\"><g class=\"scatterlayer mlayer\"><g class=\"trace scatter trace1877e1\" style=\"stroke-miterlimit: 2; opacity: 1;\"><g class=\"fills\"/><g class=\"errorbars\"/><g class=\"lines\"><path class=\"js-line\" d=\"M28.35,17L33.59,27.31L35.34,29.15L38.84,31.36L40.59,33.55L42.34,37.16L44.09,43.12L45.84,41.95L47.58,44.89L54.58,52.53L56.33,55.35L58.08,58.97L59.83,59.8L61.57,58.81L63.32,64.9L65.07,66.12L66.82,69.75L72.07,76.6L73.82,78.37L77.31,92.38L79.06,90.73L80.81,97.2L82.56,95.01L84.31,88.97L86.06,90.03L89.55,95.62L91.3,96.29L93.05,109.53L94.8,111.4L96.55,133.27L98.3,109.49L100.05,105.4L101.79,108.92L103.54,109.68L105.29,112.77L108.79,116.34L110.54,118.54L112.29,119.7L114.04,119.57L117.53,124.72L119.28,124.59L128.03,133.54L129.77,134.2L131.52,134.56L133.27,136.79L136.77,140.35L138.52,140.55L142.02,143.21L143.76,146.84L145.51,150.49L147.26,149.51L149.01,149.48L150.76,151.96L152.51,151.39L154.26,152.52L156,155.5L157.75,154.62L159.5,154.36L161.25,156.55L163,162.78L164.75,173L166.5,164.38L168.25,165.55L169.99,169.42L171.74,165.93L173.49,165.68L175.24,166.92L182.24,173.65L183.98,173.97L185.73,177.76L187.48,177.98L189.23,176.31L190.98,176.98L196.23,181.6L197.97,182.45L201.47,184.32L203.22,183.62L204.97,185.26L206.72,189.93L208.47,190.52L210.22,188.98L211.96,199.55L213.71,219.22L215.46,197.63L217.21,190.98L220.71,192.09L222.46,194.34L227.7,197.15L229.45,199.2L232.95,204.54L234.7,209.16L236.45,204.86L238.19,204.45L241.69,205.18L243.44,206.18L246.94,208.92L248.69,209.45L253.93,213.24L255.68,212.8L257.43,214.51L259.18,214.71L260.93,215.37L262.68,217.98L283.66,226.83L285.41,226.29L287.16,226.68L288.91,229.37L295.9,230.77L297.65,232.25L299.4,233.18L301.15,236.34L304.65,234.68L306.39,234.5L308.14,235.93L309.89,236.35L313.39,235.35L315.14,235.94L316.89,237.07L318.64,239.42L320.38,246.45L322.13,248.98L323.88,246.39L325.63,245.47L327.38,241.47L329.13,241.79L332.63,247.38L334.37,247.49L336.12,248.13L337.87,250.03L339.62,249.29L341.37,250.51L346.62,252.07L348.36,252.47L351.86,253.61L353.61,254.88L355.36,255.1L357.11,256.31L358.86,256.86L360.61,258.33L365.85,261.68L367.6,261.77L369.35,261.9L371.1,262.8L374.59,264.15L376.34,264.89L381.59,266.2L383.34,267.15L399.08,272.07L400.83,272.67L423.56,279.86L425.31,280.06L428.81,281.17L430.55,281.5L439.3,283.3L441.05,284.58L444.54,284.99L446.29,285.56L463.78,289.55L465.53,289.42L474.27,289.76L476.02,290.39L484.76,293.11L486.51,293.02L490.01,294.08L491.76,295.55L493.51,296.63L495.26,296.43L500.5,296.45L502.25,297.25L505.75,301.22L507.5,300.48L509.25,298.31L511,298.26L516.24,299.72L517.99,299.41L526.73,302.55L528.48,303.49L533.73,302.65L535.48,302.51L551.22,305.74L552.96,306.04L556.46,306.39L558.21,307.25L561.71,308L563.46,307.46L570.45,310.37L572.2,309.94L582.69,310.45L584.44,310.04L589.69,310.59L591.44,310.78L596.68,312.72L598.43,311.95L601.93,312.11L603.68,311.92L610.67,312.67L612.42,313.76L615.92,316.73L617.67,316.28L621.16,315.21L622.91,315.31L626.41,315.72L628.16,313.46L629.91,313.33L631.66,315.21L638.65,319.66\" style=\"vector-effect: non-scaling-stroke; fill: none; stroke: rgb(99, 110, 250); stroke-opacity: 1; stroke-width: 2px; opacity: 1;\"/></g><g class=\"points\"/><g class=\"text\"/></g><g class=\"trace scatter tracedec5ae\" style=\"stroke-miterlimit: 2; opacity: 1;\"><g class=\"fills\"/><g class=\"errorbars\"/><g class=\"lines\"><path class=\"js-line\" d=\"M40.23,37.34L65.73,69.46L91.23,97.8L116.73,122.7L142.23,144.53L167.74,163.65L193.24,180.41L218.74,195.17L244.24,208.31L295.25,231.53L320.75,242.43L371.75,262.48L397.26,271.15L422.76,278.86L448.26,285.67L499.26,296.9L524.77,301.53L575.77,309.39L601.27,312.84L626.78,316.13\" style=\"vector-effect: non-scaling-stroke; fill: none; stroke: rgb(239, 85, 59); stroke-opacity: 1; stroke-width: 2px; opacity: 1;\"/></g><g class=\"points\"><path class=\"point\" transform=\"translate(40.23,37.34)\" d=\"M5.5,0A5.5,5.5 0 1,1 0,-5.5A5.5,5.5 0 0,1 5.5,0Z\" style=\"opacity: 1; stroke-width: 0px; fill: rgb(239, 85, 59); fill-opacity: 1;\"/><path class=\"point\" transform=\"translate(65.73,69.46)\" d=\"M5.5,0A5.5,5.5 0 1,1 0,-5.5A5.5,5.5 0 0,1 5.5,0Z\" style=\"opacity: 1; stroke-width: 0px; fill: rgb(239, 85, 59); fill-opacity: 1;\"/><path class=\"point\" transform=\"translate(91.23,97.8)\" d=\"M5.5,0A5.5,5.5 0 1,1 0,-5.5A5.5,5.5 0 0,1 5.5,0Z\" style=\"opacity: 1; stroke-width: 0px; fill: rgb(239, 85, 59); fill-opacity: 1;\"/><path class=\"point\" transform=\"translate(116.73,122.7)\" d=\"M5.5,0A5.5,5.5 0 1,1 0,-5.5A5.5,5.5 0 0,1 5.5,0Z\" style=\"opacity: 1; stroke-width: 0px; fill: rgb(239, 85, 59); fill-opacity: 1;\"/><path class=\"point\" transform=\"translate(142.23,144.53)\" d=\"M5.5,0A5.5,5.5 0 1,1 0,-5.5A5.5,5.5 0 0,1 5.5,0Z\" style=\"opacity: 1; stroke-width: 0px; fill: rgb(239, 85, 59); fill-opacity: 1;\"/><path class=\"point\" transform=\"translate(167.74,163.65)\" d=\"M5.5,0A5.5,5.5 0 1,1 0,-5.5A5.5,5.5 0 0,1 5.5,0Z\" style=\"opacity: 1; stroke-width: 0px; fill: rgb(239, 85, 59); fill-opacity: 1;\"/><path class=\"point\" transform=\"translate(193.24,180.41)\" d=\"M5.5,0A5.5,5.5 0 1,1 0,-5.5A5.5,5.5 0 0,1 5.5,0Z\" style=\"opacity: 1; stroke-width: 0px; fill: rgb(239, 85, 59); fill-opacity: 1;\"/><path class=\"point\" transform=\"translate(218.74,195.17)\" d=\"M5.5,0A5.5,5.5 0 1,1 0,-5.5A5.5,5.5 0 0,1 5.5,0Z\" style=\"opacity: 1; stroke-width: 0px; fill: rgb(239, 85, 59); fill-opacity: 1;\"/><path class=\"point\" transform=\"translate(244.24,208.31)\" d=\"M5.5,0A5.5,5.5 0 1,1 0,-5.5A5.5,5.5 0 0,1 5.5,0Z\" style=\"opacity: 1; stroke-width: 0px; fill: rgb(239, 85, 59); fill-opacity: 1;\"/><path class=\"point\" transform=\"translate(269.74,220.27)\" d=\"M5.5,0A5.5,5.5 0 1,1 0,-5.5A5.5,5.5 0 0,1 5.5,0Z\" style=\"opacity: 1; stroke-width: 0px; fill: rgb(239, 85, 59); fill-opacity: 1;\"/><path class=\"point\" transform=\"translate(295.25,231.53)\" d=\"M5.5,0A5.5,5.5 0 1,1 0,-5.5A5.5,5.5 0 0,1 5.5,0Z\" style=\"opacity: 1; stroke-width: 0px; fill: rgb(239, 85, 59); fill-opacity: 1;\"/><path class=\"point\" transform=\"translate(320.75,242.43)\" d=\"M5.5,0A5.5,5.5 0 1,1 0,-5.5A5.5,5.5 0 0,1 5.5,0Z\" style=\"opacity: 1; stroke-width: 0px; fill: rgb(239, 85, 59); fill-opacity: 1;\"/><path class=\"point\" transform=\"translate(346.25,252.84)\" d=\"M5.5,0A5.5,5.5 0 1,1 0,-5.5A5.5,5.5 0 0,1 5.5,0Z\" style=\"opacity: 1; stroke-width: 0px; fill: rgb(239, 85, 59); fill-opacity: 1;\"/><path class=\"point\" transform=\"translate(371.75,262.48)\" d=\"M5.5,0A5.5,5.5 0 1,1 0,-5.5A5.5,5.5 0 0,1 5.5,0Z\" style=\"opacity: 1; stroke-width: 0px; fill: rgb(239, 85, 59); fill-opacity: 1;\"/><path class=\"point\" transform=\"translate(397.26,271.15)\" d=\"M5.5,0A5.5,5.5 0 1,1 0,-5.5A5.5,5.5 0 0,1 5.5,0Z\" style=\"opacity: 1; stroke-width: 0px; fill: rgb(239, 85, 59); fill-opacity: 1;\"/><path class=\"point\" transform=\"translate(422.76,278.86)\" d=\"M5.5,0A5.5,5.5 0 1,1 0,-5.5A5.5,5.5 0 0,1 5.5,0Z\" style=\"opacity: 1; stroke-width: 0px; fill: rgb(239, 85, 59); fill-opacity: 1;\"/><path class=\"point\" transform=\"translate(448.26,285.67)\" d=\"M5.5,0A5.5,5.5 0 1,1 0,-5.5A5.5,5.5 0 0,1 5.5,0Z\" style=\"opacity: 1; stroke-width: 0px; fill: rgb(239, 85, 59); fill-opacity: 1;\"/><path class=\"point\" transform=\"translate(473.76,291.65)\" d=\"M5.5,0A5.5,5.5 0 1,1 0,-5.5A5.5,5.5 0 0,1 5.5,0Z\" style=\"opacity: 1; stroke-width: 0px; fill: rgb(239, 85, 59); fill-opacity: 1;\"/><path class=\"point\" transform=\"translate(499.26,296.9)\" d=\"M5.5,0A5.5,5.5 0 1,1 0,-5.5A5.5,5.5 0 0,1 5.5,0Z\" style=\"opacity: 1; stroke-width: 0px; fill: rgb(239, 85, 59); fill-opacity: 1;\"/><path class=\"point\" transform=\"translate(524.77,301.53)\" d=\"M5.5,0A5.5,5.5 0 1,1 0,-5.5A5.5,5.5 0 0,1 5.5,0Z\" style=\"opacity: 1; stroke-width: 0px; fill: rgb(239, 85, 59); fill-opacity: 1;\"/><path class=\"point\" transform=\"translate(550.27,305.66)\" d=\"M5.5,0A5.5,5.5 0 1,1 0,-5.5A5.5,5.5 0 0,1 5.5,0Z\" style=\"opacity: 1; stroke-width: 0px; fill: rgb(239, 85, 59); fill-opacity: 1;\"/><path class=\"point\" transform=\"translate(575.77,309.39)\" d=\"M5.5,0A5.5,5.5 0 1,1 0,-5.5A5.5,5.5 0 0,1 5.5,0Z\" style=\"opacity: 1; stroke-width: 0px; fill: rgb(239, 85, 59); fill-opacity: 1;\"/><path class=\"point\" transform=\"translate(601.27,312.84)\" d=\"M5.5,0A5.5,5.5 0 1,1 0,-5.5A5.5,5.5 0 0,1 5.5,0Z\" style=\"opacity: 1; stroke-width: 0px; fill: rgb(239, 85, 59); fill-opacity: 1;\"/><path class=\"point\" transform=\"translate(626.78,316.13)\" d=\"M5.5,0A5.5,5.5 0 1,1 0,-5.5A5.5,5.5 0 0,1 5.5,0Z\" style=\"opacity: 1; stroke-width: 0px; fill: rgb(239, 85, 59); fill-opacity: 1;\"/></g><g class=\"text\"/></g><g class=\"trace scatter trace277b96\" style=\"stroke-miterlimit: 2; opacity: 1;\"><g class=\"fills\"/><g class=\"errorbars\"/><g class=\"lines\"><path class=\"js-line\" d=\"M39.96,46.41L141.68,145.61L165.77,161.64L216.62,195.15L243.39,208.02L294.24,232.04L318.33,241.79L369.19,262.29L395.95,270.52L446.81,285.88L473.58,291.47L524.43,301.95L548.52,305.51L626.14,316.89\" style=\"vector-effect: non-scaling-stroke; fill: none; stroke: rgb(0, 204, 150); stroke-opacity: 1; stroke-width: 2px; opacity: 1;\"/></g><g class=\"points\"><path class=\"point\" transform=\"translate(39.96,46.41)\" d=\"M3.5,0A3.5,3.5 0 1,1 0,-3.5A3.5,3.5 0 0,1 3.5,0Z\" style=\"opacity: 1; stroke-width: 0px; fill: rgb(0, 204, 150); fill-opacity: 1;\"/><path class=\"point\" transform=\"translate(64.05,69.87)\" d=\"M3.5,0A3.5,3.5 0 1,1 0,-3.5A3.5,3.5 0 0,1 3.5,0Z\" style=\"opacity: 1; stroke-width: 0px; fill: rgb(0, 204, 150); fill-opacity: 1;\"/><path class=\"point\" transform=\"translate(90.82,95.97)\" d=\"M3.5,0A3.5,3.5 0 1,1 0,-3.5A3.5,3.5 0 0,1 3.5,0Z\" style=\"opacity: 1; stroke-width: 0px; fill: rgb(0, 204, 150); fill-opacity: 1;\"/><path class=\"point\" transform=\"translate(114.91,119.37)\" d=\"M3.5,0A3.5,3.5 0 1,1 0,-3.5A3.5,3.5 0 0,1 3.5,0Z\" style=\"opacity: 1; stroke-width: 0px; fill: rgb(0, 204, 150); fill-opacity: 1;\"/><path class=\"point\" transform=\"translate(141.68,145.61)\" d=\"M3.5,0A3.5,3.5 0 1,1 0,-3.5A3.5,3.5 0 0,1 3.5,0Z\" style=\"opacity: 1; stroke-width: 0px; fill: rgb(0, 204, 150); fill-opacity: 1;\"/><path class=\"point\" transform=\"translate(165.77,161.64)\" d=\"M3.5,0A3.5,3.5 0 1,1 0,-3.5A3.5,3.5 0 0,1 3.5,0Z\" style=\"opacity: 1; stroke-width: 0px; fill: rgb(0, 204, 150); fill-opacity: 1;\"/><path class=\"point\" transform=\"translate(192.53,179.11)\" d=\"M3.5,0A3.5,3.5 0 1,1 0,-3.5A3.5,3.5 0 0,1 3.5,0Z\" style=\"opacity: 1; stroke-width: 0px; fill: rgb(0, 204, 150); fill-opacity: 1;\"/><path class=\"point\" transform=\"translate(216.62,195.15)\" d=\"M3.5,0A3.5,3.5 0 1,1 0,-3.5A3.5,3.5 0 0,1 3.5,0Z\" style=\"opacity: 1; stroke-width: 0px; fill: rgb(0, 204, 150); fill-opacity: 1;\"/><path class=\"point\" transform=\"translate(243.39,208.02)\" d=\"M3.5,0A3.5,3.5 0 1,1 0,-3.5A3.5,3.5 0 0,1 3.5,0Z\" style=\"opacity: 1; stroke-width: 0px; fill: rgb(0, 204, 150); fill-opacity: 1;\"/><path class=\"point\" transform=\"translate(267.48,219.34)\" d=\"M3.5,0A3.5,3.5 0 1,1 0,-3.5A3.5,3.5 0 0,1 3.5,0Z\" style=\"opacity: 1; stroke-width: 0px; fill: rgb(0, 204, 150); fill-opacity: 1;\"/><path class=\"point\" transform=\"translate(294.24,232.04)\" d=\"M3.5,0A3.5,3.5 0 1,1 0,-3.5A3.5,3.5 0 0,1 3.5,0Z\" style=\"opacity: 1; stroke-width: 0px; fill: rgb(0, 204, 150); fill-opacity: 1;\"/><path class=\"point\" transform=\"translate(318.33,241.79)\" d=\"M3.5,0A3.5,3.5 0 1,1 0,-3.5A3.5,3.5 0 0,1 3.5,0Z\" style=\"opacity: 1; stroke-width: 0px; fill: rgb(0, 204, 150); fill-opacity: 1;\"/><path class=\"point\" transform=\"translate(345.1,252.49)\" d=\"M3.5,0A3.5,3.5 0 1,1 0,-3.5A3.5,3.5 0 0,1 3.5,0Z\" style=\"opacity: 1; stroke-width: 0px; fill: rgb(0, 204, 150); fill-opacity: 1;\"/><path class=\"point\" transform=\"translate(369.19,262.29)\" d=\"M3.5,0A3.5,3.5 0 1,1 0,-3.5A3.5,3.5 0 0,1 3.5,0Z\" style=\"opacity: 1; stroke-width: 0px; fill: rgb(0, 204, 150); fill-opacity: 1;\"/><path class=\"point\" transform=\"translate(395.95,270.52)\" d=\"M3.5,0A3.5,3.5 0 1,1 0,-3.5A3.5,3.5 0 0,1 3.5,0Z\" style=\"opacity: 1; stroke-width: 0px; fill: rgb(0, 204, 150); fill-opacity: 1;\"/><path class=\"point\" transform=\"translate(422.72,278.56)\" d=\"M3.5,0A3.5,3.5 0 1,1 0,-3.5A3.5,3.5 0 0,1 3.5,0Z\" style=\"opacity: 1; stroke-width: 0px; fill: rgb(0, 204, 150); fill-opacity: 1;\"/><path class=\"point\" transform=\"translate(446.81,285.88)\" d=\"M3.5,0A3.5,3.5 0 1,1 0,-3.5A3.5,3.5 0 0,1 3.5,0Z\" style=\"opacity: 1; stroke-width: 0px; fill: rgb(0, 204, 150); fill-opacity: 1;\"/><path class=\"point\" transform=\"translate(473.58,291.47)\" d=\"M3.5,0A3.5,3.5 0 1,1 0,-3.5A3.5,3.5 0 0,1 3.5,0Z\" style=\"opacity: 1; stroke-width: 0px; fill: rgb(0, 204, 150); fill-opacity: 1;\"/><path class=\"point\" transform=\"translate(497.67,296.41)\" d=\"M3.5,0A3.5,3.5 0 1,1 0,-3.5A3.5,3.5 0 0,1 3.5,0Z\" style=\"opacity: 1; stroke-width: 0px; fill: rgb(0, 204, 150); fill-opacity: 1;\"/><path class=\"point\" transform=\"translate(524.43,301.95)\" d=\"M3.5,0A3.5,3.5 0 1,1 0,-3.5A3.5,3.5 0 0,1 3.5,0Z\" style=\"opacity: 1; stroke-width: 0px; fill: rgb(0, 204, 150); fill-opacity: 1;\"/><path class=\"point\" transform=\"translate(548.52,305.51)\" d=\"M3.5,0A3.5,3.5 0 1,1 0,-3.5A3.5,3.5 0 0,1 3.5,0Z\" style=\"opacity: 1; stroke-width: 0px; fill: rgb(0, 204, 150); fill-opacity: 1;\"/><path class=\"point\" transform=\"translate(575.29,309.43)\" d=\"M3.5,0A3.5,3.5 0 1,1 0,-3.5A3.5,3.5 0 0,1 3.5,0Z\" style=\"opacity: 1; stroke-width: 0px; fill: rgb(0, 204, 150); fill-opacity: 1;\"/><path class=\"point\" transform=\"translate(599.38,312.97)\" d=\"M3.5,0A3.5,3.5 0 1,1 0,-3.5A3.5,3.5 0 0,1 3.5,0Z\" style=\"opacity: 1; stroke-width: 0px; fill: rgb(0, 204, 150); fill-opacity: 1;\"/><path class=\"point\" transform=\"translate(626.14,316.89)\" d=\"M3.5,0A3.5,3.5 0 1,1 0,-3.5A3.5,3.5 0 0,1 3.5,0Z\" style=\"opacity: 1; stroke-width: 0px; fill: rgb(0, 204, 150); fill-opacity: 1;\"/></g><g class=\"text\"/></g></g></g><g class=\"overplot\"/><path class=\"xlines-above crisp\" d=\"M0,0\" style=\"fill: none;\"/><path class=\"ylines-above crisp\" d=\"M0,0\" style=\"fill: none;\"/><g class=\"overlines-above\"/><g class=\"xaxislayer-above\"><g class=\"xtick\"><text text-anchor=\"middle\" x=\"0\" y=\"453\" transform=\"translate(107.47,0)\" style=\"font-family: 'Open Sans', verdana, arial, sans-serif; font-size: 12px; fill: rgb(42, 63, 95); fill-opacity: 1; white-space: pre; opacity: 1;\">550</text></g><g class=\"xtick\"><text text-anchor=\"middle\" x=\"0\" y=\"453\" style=\"font-family: 'Open Sans', verdana, arial, sans-serif; font-size: 12px; fill: rgb(42, 63, 95); fill-opacity: 1; white-space: pre; opacity: 1;\" transform=\"translate(194.91,0)\">600</text></g><g class=\"xtick\"><text text-anchor=\"middle\" x=\"0\" y=\"453\" style=\"font-family: 'Open Sans', verdana, arial, sans-serif; font-size: 12px; fill: rgb(42, 63, 95); fill-opacity: 1; white-space: pre; opacity: 1;\" transform=\"translate(282.35,0)\">650</text></g><g class=\"xtick\"><text text-anchor=\"middle\" x=\"0\" y=\"453\" style=\"font-family: 'Open Sans', verdana, arial, sans-serif; font-size: 12px; fill: rgb(42, 63, 95); fill-opacity: 1; white-space: pre; opacity: 1;\" transform=\"translate(369.78,0)\">700</text></g><g class=\"xtick\"><text text-anchor=\"middle\" x=\"0\" y=\"453\" style=\"font-family: 'Open Sans', verdana, arial, sans-serif; font-size: 12px; fill: rgb(42, 63, 95); fill-opacity: 1; white-space: pre; opacity: 1;\" transform=\"translate(457.22,0)\">750</text></g><g class=\"xtick\"><text text-anchor=\"middle\" x=\"0\" y=\"453\" style=\"font-family: 'Open Sans', verdana, arial, sans-serif; font-size: 12px; fill: rgb(42, 63, 95); fill-opacity: 1; white-space: pre; opacity: 1;\" transform=\"translate(544.65,0)\">800</text></g><g class=\"xtick\"><text text-anchor=\"middle\" x=\"0\" y=\"453\" style=\"font-family: 'Open Sans', verdana, arial, sans-serif; font-size: 12px; fill: rgb(42, 63, 95); fill-opacity: 1; white-space: pre; opacity: 1;\" transform=\"translate(632.09,0)\">850</text></g><g class=\"xtick\"><text text-anchor=\"middle\" x=\"0\" y=\"453\" style=\"font-family: 'Open Sans', verdana, arial, sans-serif; font-size: 12px; fill: rgb(42, 63, 95); fill-opacity: 1; white-space: pre; opacity: 1;\" transform=\"translate(719.53,0)\">900</text></g></g><g class=\"yaxislayer-above\"><g class=\"ytick\"><text text-anchor=\"end\" x=\"79\" y=\"4.199999999999999\" transform=\"translate(0,398.24)\" style=\"font-family: 'Open Sans', verdana, arial, sans-serif; font-size: 12px; fill: rgb(42, 63, 95); fill-opacity: 1; white-space: pre; opacity: 1;\">0.5</text></g><g class=\"ytick\"><text text-anchor=\"end\" x=\"79\" y=\"4.199999999999999\" style=\"font-family: 'Open Sans', verdana, arial, sans-serif; font-size: 12px; fill: rgb(42, 63, 95); fill-opacity: 1; white-space: pre; opacity: 1;\" transform=\"translate(0,324.95)\">1</text></g><g class=\"ytick\"><text text-anchor=\"end\" x=\"79\" y=\"4.199999999999999\" style=\"font-family: 'Open Sans', verdana, arial, sans-serif; font-size: 12px; fill: rgb(42, 63, 95); fill-opacity: 1; white-space: pre; opacity: 1;\" transform=\"translate(0,251.65)\">1.5</text></g><g class=\"ytick\"><text text-anchor=\"end\" x=\"79\" y=\"4.199999999999999\" style=\"font-family: 'Open Sans', verdana, arial, sans-serif; font-size: 12px; fill: rgb(42, 63, 95); fill-opacity: 1; white-space: pre; opacity: 1;\" transform=\"translate(0,178.35)\">2</text></g><g class=\"ytick\"><text text-anchor=\"end\" x=\"79\" y=\"4.199999999999999\" style=\"font-family: 'Open Sans', verdana, arial, sans-serif; font-size: 12px; fill: rgb(42, 63, 95); fill-opacity: 1; white-space: pre; opacity: 1;\" transform=\"translate(0,105.05)\">2.5</text></g></g><g class=\"overaxes-above\"/></g></g><g class=\"polarlayer\"/><g class=\"smithlayer\"/><g class=\"ternarylayer\"/><g class=\"geolayer\"/><g class=\"funnelarealayer\"/><g class=\"pielayer\"/><g class=\"iciclelayer\"/><g class=\"treemaplayer\"/><g class=\"sunburstlayer\"/><g class=\"glimages\"/><defs id=\"topdefs-b84140\"><g class=\"clips\"/><clipPath id=\"legendb84140\"><rect width=\"128\" height=\"86\" x=\"0\" y=\"0\"/></clipPath></defs><g class=\"layer-above\"><g class=\"imagelayer\"/><g class=\"shapelayer\"/></g><g class=\"infolayer\"><g class=\"legend\" pointer-events=\"all\" transform=\"translate(760.34,100)\"><rect class=\"bg\" shape-rendering=\"crispEdges\" style=\"stroke: rgb(68, 68, 68); stroke-opacity: 1; fill: rgb(255, 255, 255); fill-opacity: 1; stroke-width: 0px;\" width=\"128\" height=\"86\" x=\"0\" y=\"0\"/><g class=\"scrollbox\" transform=\"\" clip-path=\"url(#legendb84140)\"><text class=\"legendtitletext\" text-anchor=\"start\" x=\"2\" y=\"18.2\" style=\"font-family: 'Open Sans', verdana, arial, sans-serif; font-size: 14px; fill: rgb(42, 63, 95); fill-opacity: 1; white-space: pre;\">SED:</text><g class=\"groups\"><g class=\"traces\" transform=\"translate(0,32.7)\" style=\"opacity: 1;\"><text class=\"legendtext\" text-anchor=\"start\" x=\"40\" y=\"4.680000000000001\" style=\"font-family: 'Open Sans', verdana, arial, sans-serif; font-size: 12px; fill: rgb(42, 63, 95); fill-opacity: 1; white-space: pre;\">GT - 350 bins</text><g class=\"layers\" style=\"opacity: 1;\"><g class=\"legendfill\"/><g class=\"legendlines\"><path class=\"js-line\" d=\"M5,0h30\" style=\"fill: none; stroke: rgb(99, 110, 250); stroke-opacity: 1; stroke-width: 2px;\"/></g><g class=\"legendsymbols\"><g class=\"legendpoints\"/></g></g><rect class=\"legendtoggle\" x=\"0\" y=\"-9.5\" width=\"122.3125\" height=\"19\" style=\"fill: rgb(0, 0, 0); fill-opacity: 0;\"/></g><g class=\"traces\" transform=\"translate(0,51.7)\" style=\"opacity: 1;\"><text class=\"legendtext\" text-anchor=\"start\" x=\"40\" y=\"4.680000000000001\" style=\"font-family: 'Open Sans', verdana, arial, sans-serif; font-size: 12px; fill: rgb(42, 63, 95); fill-opacity: 1; white-space: pre;\">24 bins</text><g class=\"layers\" style=\"opacity: 1;\"><g class=\"legendfill\"/><g class=\"legendlines\"><path class=\"js-line\" d=\"M5,0h30\" style=\"fill: none; stroke: rgb(239, 85, 59); stroke-opacity: 1; stroke-width: 2px;\"/></g><g class=\"legendsymbols\"><g class=\"legendpoints\"><path class=\"scatterpts\" transform=\"translate(20,0)\" d=\"M5.5,0A5.5,5.5 0 1,1 0,-5.5A5.5,5.5 0 0,1 5.5,0Z\" style=\"opacity: 1; stroke-width: 0px; fill: rgb(239, 85, 59); fill-opacity: 1;\"/></g></g></g><rect class=\"legendtoggle\" x=\"0\" y=\"-9.5\" width=\"122.3125\" height=\"19\" style=\"fill: rgb(0, 0, 0); fill-opacity: 0;\"/></g><g class=\"traces\" transform=\"translate(0,70.7)\" style=\"opacity: 1;\"><text class=\"legendtext\" text-anchor=\"start\" x=\"40\" y=\"4.680000000000001\" style=\"font-family: 'Open Sans', verdana, arial, sans-serif; font-size: 12px; fill: rgb(42, 63, 95); fill-opacity: 1; white-space: pre;\">Feasible λ</text><g class=\"layers\" style=\"opacity: 1;\"><g class=\"legendfill\"/><g class=\"legendlines\"><path class=\"js-line\" d=\"M5,0h30\" style=\"fill: none; stroke: rgb(0, 204, 150); stroke-opacity: 1; stroke-width: 2px;\"/></g><g class=\"legendsymbols\"><g class=\"legendpoints\"><path class=\"scatterpts\" transform=\"translate(20,0)\" d=\"M3.5,0A3.5,3.5 0 1,1 0,-3.5A3.5,3.5 0 0,1 3.5,0Z\" style=\"opacity: 1; stroke-width: 0px; fill: rgb(0, 204, 150); fill-opacity: 1;\"/></g></g></g><rect class=\"legendtoggle\" x=\"0\" y=\"-9.5\" width=\"122.3125\" height=\"19\" style=\"fill: rgb(0, 0, 0); fill-opacity: 0;\"/></g></g></g><rect class=\"scrollbar\" rx=\"20\" ry=\"3\" width=\"0\" height=\"0\" style=\"fill: rgb(128, 139, 164); fill-opacity: 1;\" x=\"0\" y=\"0\"/></g><g class=\"g-gtitle\"><text class=\"gtitle\" x=\"450\" y=\"50\" text-anchor=\"middle\" dy=\"0em\" style=\"font-family: 'Open Sans', verdana, arial, sans-serif; font-size: 17px; fill: rgb(42, 63, 95); opacity: 1; font-weight: normal; white-space: pre;\">SED 8 bins - Relocated wavelength points</text></g><g class=\"g-xtitle\"><text class=\"xtitle\" x=\"413.5\" y=\"480.3\" text-anchor=\"middle\" style=\"font-family: 'Open Sans', verdana, arial, sans-serif; font-size: 14px; fill: rgb(42, 63, 95); opacity: 1; font-weight: normal; white-space: pre;\">Wavelength [nm]</text></g><g class=\"g-ytitle\"><text class=\"ytitle\" transform=\"rotate(-90,34.575,270)\" x=\"34.575\" y=\"270\" text-anchor=\"middle\" style=\"font-family: 'Open Sans', verdana, arial, sans-serif; font-size: 14px; fill: rgb(42, 63, 95); opacity: 1; font-weight: normal; white-space: pre;\">Flux unit</text></g></g></svg>"
     },
     "metadata": {},
     "output_type": "display_data"
    }
   ],
   "source": [
    "gen_poly_fieldPSF.sim_psf_toolkit.interp_pts_per_bin = 2\n",
    "filt_SED_feasible_wv, filt_SED_feasible = gen_poly_fieldPSF.sim_psf_toolkit.calc_SED_wave_values(test_SED,8)\n",
    "\n",
    "fig = go.Figure()\n",
    "\n",
    "fig.add_trace(go.Scatter(x=test_SED[:,0],y=test_SED[:,1]*len(test_SED),name='GT - 350 bins'))\n",
    "fig.add_trace(go.Scatter(x=interp_SED_2[:,0],y=interp_SED_2[:,1]*sum(interp_SED_2[:,2])/interp_SED_2[:,2],mode='lines+markers',name='24 bins',marker=dict(size=11)))\n",
    "fig.add_trace(go.Scatter(x=filt_SED_feasible_wv*1e3,y=filt_SED_feasible*sum(interp_SED_2[:,2])/interp_SED_2[:,2],mode='lines+markers',name='Feasible λ',marker=dict(size=7)))\n",
    "\n",
    "fig.update_xaxes(title_text=\"Wavelength [nm]\")\n",
    "fig.update_yaxes(title_text=\"Flux unit\")\n",
    "\n",
    "fig.update_layout(legend_title_text='SED:', title={'text':'SED 8 bins - Relocated wavelength points', 'x':0.5}, width=900, height=520)\n",
    "\n",
    "#fig.write_image('../outputs/plots/SED_feasible_24_pts.pdf', engine='kaleido')\n",
    "fig.show(interactive)"
   ]
  },
  {
   "cell_type": "markdown",
   "metadata": {},
   "source": [
    "# Interpolating noisy SEDs\n",
    "\n",
    "In this section we will repeat the experiment but adding noise to the 8 bin SED measurements before performing the interpolation."
   ]
  },
  {
   "cell_type": "code",
   "execution_count": 121,
   "metadata": {},
   "outputs": [],
   "source": [
    "generate_PSF = False"
   ]
  },
  {
   "cell_type": "code",
   "execution_count": 122,
   "metadata": {},
   "outputs": [],
   "source": [
    "SED_points_per_bin_list = [0,1,2]\n",
    "sigma_list = [0.1, 0.05, 0.02, 0.01, 0.005]\n",
    "n_realisations = 10\n",
    "n_bins = 8\n",
    "gen_poly_fieldPSF.sim_psf_toolkit.SED_sigma = 0\n",
    "gen_poly_fieldPSF.sim_psf_toolkit.extrapolate = True\n",
    "gen_poly_fieldPSF.sim_psf_toolkit.SED_interp_kind = 'cubic'\n",
    "\n",
    "if generate_PSF:\n",
    "    noisy_interp_poly_psf = []\n",
    "\n",
    "    for sigma in sigma_list:\n",
    "        gen_poly_fieldPSF.sim_psf_toolkit.SED_sigma = sigma\n",
    "        # Generate all the polychromatic PSFs\n",
    "        interp_poly_psf = []\n",
    "\n",
    "        for realisation in range(n_realisations):\n",
    "\n",
    "            interp_poly_psf_realisation = []\n",
    "\n",
    "            for points_per_bin in SED_points_per_bin_list:\n",
    "\n",
    "                # Set right number of bins\n",
    "                gen_poly_fieldPSF.n_bins = n_bins\n",
    "\n",
    "                # Set number of points per bin to add\n",
    "                gen_poly_fieldPSF.sim_psf_toolkit.interp_pts_per_bin = points_per_bin\n",
    "\n",
    "                psf_list = []\n",
    "                # Generate polychromatic PSF at 3x Euclid resolution\n",
    "                for it in range(n_SEDs):\n",
    "                    _psf, _, _ = gen_poly_fieldPSF.get_poly_PSF(xv_flat=pos_np[0, 0],\n",
    "                                                                        yv_flat=pos_np[0, 1],\n",
    "                                                                        SED=SED_list[it])\n",
    "                    psf_list.append(_psf)\n",
    "\n",
    "                interp_poly_psf_realisation.append(psf_list)\n",
    "\n",
    "            interp_poly_psf.append(interp_poly_psf_realisation)\n",
    "        \n",
    "        noisy_interp_poly_psf.append(interp_poly_psf)\n",
    "\n",
    "    gen_poly_fieldPSF.sim_psf_toolkit.interp_pts_per_bin = 0\n",
    "    np.save('../outputs/predictions/noisy_interp_extra_cubic_poly_psf.npy',np.array(noisy_interp_poly_psf),allow_pickle=True)\n",
    "\n",
    "# Load numpy PSF array\n",
    "noisy_interp_poly_psf_np = np.load('../outputs/predictions/noisy_interp_extra_cubic_poly_psf.npy',allow_pickle=True)"
   ]
  },
  {
   "cell_type": "code",
   "execution_count": 123,
   "metadata": {},
   "outputs": [],
   "source": [
    "abs_rmse_mat_noisy_interp = np.zeros((len(sigma_list),n_realisations,len(SED_points_per_bin_list), len(SED_name)))\n",
    "rel_rmse_mat_noisy_interp = np.zeros((len(sigma_list),n_realisations,len(SED_points_per_bin_list), len(SED_name)))\n",
    "\n",
    "for sigma_id in range(len(sigma_list)):\n",
    "    for realisation in range(n_realisations):\n",
    "        for n_points in range(len(SED_points_per_bin_list)):\n",
    "            for star_id in range(len(SED_name)):\n",
    "                abs_rmse_mat_noisy_interp[sigma_id, realisation, n_points, star_id], rel_rmse_mat_noisy_interp[sigma_id, realisation, n_points, star_id] = get_RMSE(gt_poly_psf_np[star_id,:,:],noisy_interp_poly_psf_np[sigma_id,realisation,n_points,star_id])\n",
    "\n",
    "# Average for every star and for each set of 10 realisations\n",
    "rel_rmse_mean_noisy_interp = np.mean(rel_rmse_mat_noisy_interp, axis=3)\n",
    "rel_rmse_mean_noisy_interp = np.around(np.mean(rel_rmse_mean_noisy_interp, axis=1), decimals=2)"
   ]
  },
  {
   "cell_type": "code",
   "execution_count": 124,
   "metadata": {},
   "outputs": [
    {
     "name": "stdout",
     "output_type": "stream",
     "text": [
      "--------  ----  ----  ----  ----  -----  ----\n",
      "sigma ->  0.1   0.05  0.02  0.01  0.005  0\n",
      "n_bins\n",
      "8         0.7   0.35  0.23  0.2   0.19   0.19\n",
      "16        0.71  0.36  0.18  0.14  0.11   0.06\n",
      "24        0.69  0.34  0.16  0.11  0.09   0.07\n",
      "--------  ----  ----  ----  ----  -----  ----\n"
     ]
    }
   ],
   "source": [
    "table = (np.around(rel_rmse_mean_noisy_interp.T, decimals=2)).tolist()\n",
    "\n",
    "table.insert(0,[])\n",
    "table.insert(0,sigma_list.copy())\n",
    "table[0].append(0)\n",
    "table[0].insert(0, 'sigma ->')\n",
    "table[1].insert(0,'n_bins')\n",
    "for idx, n_points in enumerate(SED_points_per_bin_list):\n",
    "    table[idx+2].insert(0, n_bins*(n_points+1))\n",
    "    table[idx+2].append(rel_rmse_mean_interp[idx])\n",
    "print(tabulate(table))"
   ]
  },
  {
   "cell_type": "code",
   "execution_count": 125,
   "metadata": {},
   "outputs": [
    {
     "data": {
      "image/svg+xml": "<svg class=\"main-svg\" xmlns=\"http://www.w3.org/2000/svg\" xmlns:xlink=\"http://www.w3.org/1999/xlink\" width=\"900\" height=\"520\" style=\"\" viewBox=\"0 0 900 520\"><rect x=\"0\" y=\"0\" width=\"900\" height=\"520\" style=\"fill: rgb(255, 255, 255); fill-opacity: 1;\"/><defs id=\"defs-1786a3\"><g class=\"clips\"><clipPath id=\"clip1786a3xyplot\" class=\"plotclip\"><rect width=\"660\" height=\"340\"/></clipPath><clipPath class=\"axesclip\" id=\"clip1786a3x\"><rect x=\"80\" y=\"0\" width=\"660\" height=\"520\"/></clipPath><clipPath class=\"axesclip\" id=\"clip1786a3y\"><rect x=\"0\" y=\"100\" width=\"900\" height=\"340\"/></clipPath><clipPath class=\"axesclip\" id=\"clip1786a3xy\"><rect x=\"80\" y=\"100\" width=\"660\" height=\"340\"/></clipPath></g><g class=\"gradients\"/><g class=\"patterns\"/></defs><g class=\"bglayer\"><rect class=\"bg\" x=\"80\" y=\"100\" width=\"660\" height=\"340\" style=\"fill: rgb(229, 236, 246); fill-opacity: 1; stroke-width: 0;\"/></g><g class=\"layer-below\"><g class=\"imagelayer\"/><g class=\"shapelayer\"/></g><g class=\"cartesianlayer\"><g class=\"subplot xy\"><g class=\"layer-subplot\"><g class=\"shapelayer\"/><g class=\"imagelayer\"/></g><g class=\"minor-gridlayer\"><g class=\"x\"/><g class=\"y\"/></g><g class=\"gridlayer\"><g class=\"x\"><path class=\"xgrid crisp\" transform=\"translate(116.75,0)\" d=\"M0,100v340\" style=\"stroke: rgb(255, 255, 255); stroke-opacity: 1; stroke-width: 1px;\"/><path class=\"xgrid crisp\" transform=\"translate(410,0)\" d=\"M0,100v340\" style=\"stroke: rgb(255, 255, 255); stroke-opacity: 1; stroke-width: 1px;\"/><path class=\"xgrid crisp\" transform=\"translate(703.25,0)\" d=\"M0,100v340\" style=\"stroke: rgb(255, 255, 255); stroke-opacity: 1; stroke-width: 1px;\"/></g><g class=\"y\"><path class=\"ygrid crisp\" transform=\"translate(0,419.25)\" d=\"M80,0h660\" style=\"stroke: rgb(255, 255, 255); stroke-opacity: 1; stroke-width: 1px;\"/><path class=\"ygrid crisp\" transform=\"translate(0,400.63)\" d=\"M80,0h660\" style=\"stroke: rgb(255, 255, 255); stroke-opacity: 1; stroke-width: 1px;\"/><path class=\"ygrid crisp\" transform=\"translate(0,384.5)\" d=\"M80,0h660\" style=\"stroke: rgb(255, 255, 255); stroke-opacity: 1; stroke-width: 1px;\"/><path class=\"ygrid crisp\" transform=\"translate(0,370.27)\" d=\"M80,0h660\" style=\"stroke: rgb(255, 255, 255); stroke-opacity: 1; stroke-width: 1px;\"/><path class=\"ygrid crisp\" transform=\"translate(0,357.54)\" d=\"M80,0h660\" style=\"stroke: rgb(255, 255, 255); stroke-opacity: 1; stroke-width: 1px;\"/><path class=\"ygrid crisp\" transform=\"translate(0,273.8)\" d=\"M80,0h660\" style=\"stroke: rgb(255, 255, 255); stroke-opacity: 1; stroke-width: 1px;\"/><path class=\"ygrid crisp\" transform=\"translate(0,224.82)\" d=\"M80,0h660\" style=\"stroke: rgb(255, 255, 255); stroke-opacity: 1; stroke-width: 1px;\"/><path class=\"ygrid crisp\" transform=\"translate(0,190.07)\" d=\"M80,0h660\" style=\"stroke: rgb(255, 255, 255); stroke-opacity: 1; stroke-width: 1px;\"/><path class=\"ygrid crisp\" transform=\"translate(0,163.11)\" d=\"M80,0h660\" style=\"stroke: rgb(255, 255, 255); stroke-opacity: 1; stroke-width: 1px;\"/><path class=\"ygrid crisp\" transform=\"translate(0,141.09)\" d=\"M80,0h660\" style=\"stroke: rgb(255, 255, 255); stroke-opacity: 1; stroke-width: 1px;\"/><path class=\"ygrid crisp\" transform=\"translate(0,122.46000000000001)\" d=\"M80,0h660\" style=\"stroke: rgb(255, 255, 255); stroke-opacity: 1; stroke-width: 1px;\"/><path class=\"ygrid crisp\" transform=\"translate(0,106.33)\" d=\"M80,0h660\" style=\"stroke: rgb(255, 255, 255); stroke-opacity: 1; stroke-width: 1px;\"/></g></g><g class=\"zerolinelayer\"/><path class=\"xlines-below\"/><path class=\"ylines-below\"/><g class=\"overlines-below\"/><g class=\"xaxislayer-below\"/><g class=\"yaxislayer-below\"/><g class=\"overaxes-below\"/><g class=\"plot\" transform=\"translate(80,100)\" clip-path=\"url(#clip1786a3xyplot)\"><g class=\"scatterlayer mlayer\"><g class=\"trace scatter trace72c9d8\" style=\"stroke-miterlimit: 2; opacity: 1;\"><g class=\"fills\"/><g class=\"errorbars\"/><g class=\"lines\"><path class=\"js-line\" d=\"M36.75,22.46L330,20.75L623.25,24.2\" style=\"vector-effect: non-scaling-stroke; fill: none; stroke: rgb(99, 110, 250); stroke-opacity: 1; stroke-width: 2px; opacity: 1;\"/></g><g class=\"points\"><path class=\"point\" transform=\"translate(36.75,22.46)\" d=\"M3,0A3,3 0 1,1 0,-3A3,3 0 0,1 3,0Z\" style=\"opacity: 1; stroke-width: 0px; fill: rgb(99, 110, 250); fill-opacity: 1;\"/><path class=\"point\" transform=\"translate(330,20.75)\" d=\"M3,0A3,3 0 1,1 0,-3A3,3 0 0,1 3,0Z\" style=\"opacity: 1; stroke-width: 0px; fill: rgb(99, 110, 250); fill-opacity: 1;\"/><path class=\"point\" transform=\"translate(623.25,24.2)\" d=\"M3,0A3,3 0 1,1 0,-3A3,3 0 0,1 3,0Z\" style=\"opacity: 1; stroke-width: 0px; fill: rgb(99, 110, 250); fill-opacity: 1;\"/></g><g class=\"text\"/></g><g class=\"trace scatter tracef2ce36\" style=\"stroke-miterlimit: 2; opacity: 1;\"><g class=\"fills\"/><g class=\"errorbars\"/><g class=\"lines\"><path class=\"js-line\" d=\"M36.75,106.2L330,102.8L623.25,109.7\" style=\"vector-effect: non-scaling-stroke; fill: none; stroke: rgb(239, 85, 59); stroke-opacity: 1; stroke-width: 2px; opacity: 1;\"/></g><g class=\"points\"><path class=\"point\" transform=\"translate(36.75,106.2)\" d=\"M3,0A3,3 0 1,1 0,-3A3,3 0 0,1 3,0Z\" style=\"opacity: 1; stroke-width: 0px; fill: rgb(239, 85, 59); fill-opacity: 1;\"/><path class=\"point\" transform=\"translate(330,102.8)\" d=\"M3,0A3,3 0 1,1 0,-3A3,3 0 0,1 3,0Z\" style=\"opacity: 1; stroke-width: 0px; fill: rgb(239, 85, 59); fill-opacity: 1;\"/><path class=\"point\" transform=\"translate(623.25,109.7)\" d=\"M3,0A3,3 0 1,1 0,-3A3,3 0 0,1 3,0Z\" style=\"opacity: 1; stroke-width: 0px; fill: rgb(239, 85, 59); fill-opacity: 1;\"/></g><g class=\"text\"/></g><g class=\"trace scatter trace542bbe\" style=\"stroke-miterlimit: 2; opacity: 1;\"><g class=\"fills\"/><g class=\"errorbars\"/><g class=\"lines\"><path class=\"js-line\" d=\"M36.75,156.92L330,186.53L623.25,200.76\" style=\"vector-effect: non-scaling-stroke; fill: none; stroke: rgb(0, 204, 150); stroke-opacity: 1; stroke-width: 2px; opacity: 1;\"/></g><g class=\"points\"><path class=\"point\" transform=\"translate(36.75,156.92)\" d=\"M3,0A3,3 0 1,1 0,-3A3,3 0 0,1 3,0Z\" style=\"opacity: 1; stroke-width: 0px; fill: rgb(0, 204, 150); fill-opacity: 1;\"/><path class=\"point\" transform=\"translate(330,186.53)\" d=\"M3,0A3,3 0 1,1 0,-3A3,3 0 0,1 3,0Z\" style=\"opacity: 1; stroke-width: 0px; fill: rgb(0, 204, 150); fill-opacity: 1;\"/><path class=\"point\" transform=\"translate(623.25,200.76)\" d=\"M3,0A3,3 0 1,1 0,-3A3,3 0 0,1 3,0Z\" style=\"opacity: 1; stroke-width: 0px; fill: rgb(0, 204, 150); fill-opacity: 1;\"/></g><g class=\"text\"/></g><g class=\"trace scatter tracee8014e\" style=\"stroke-miterlimit: 2; opacity: 1;\"><g class=\"fills\"/><g class=\"errorbars\"/><g class=\"lines\"><path class=\"js-line\" d=\"M36.75,173.8L330,216.89L623.25,246.03\" style=\"vector-effect: non-scaling-stroke; fill: none; stroke: rgb(171, 99, 250); stroke-opacity: 1; stroke-width: 2px; opacity: 1;\"/></g><g class=\"points\"><path class=\"point\" transform=\"translate(36.75,173.8)\" d=\"M3,0A3,3 0 1,1 0,-3A3,3 0 0,1 3,0Z\" style=\"opacity: 1; stroke-width: 0px; fill: rgb(171, 99, 250); fill-opacity: 1;\"/><path class=\"point\" transform=\"translate(330,216.89)\" d=\"M3,0A3,3 0 1,1 0,-3A3,3 0 0,1 3,0Z\" style=\"opacity: 1; stroke-width: 0px; fill: rgb(171, 99, 250); fill-opacity: 1;\"/><path class=\"point\" transform=\"translate(623.25,246.03)\" d=\"M3,0A3,3 0 1,1 0,-3A3,3 0 0,1 3,0Z\" style=\"opacity: 1; stroke-width: 0px; fill: rgb(171, 99, 250); fill-opacity: 1;\"/></g><g class=\"text\"/></g><g class=\"trace scatter trace9949d0\" style=\"stroke-miterlimit: 2; opacity: 1;\"><g class=\"fills\"/><g class=\"errorbars\"/><g class=\"lines\"><path class=\"js-line\" d=\"M36.75,180L330,246.03L623.25,270.27\" style=\"vector-effect: non-scaling-stroke; fill: none; stroke: rgb(255, 161, 90); stroke-opacity: 1; stroke-width: 2px; opacity: 1;\"/></g><g class=\"points\"><path class=\"point\" transform=\"translate(36.75,180)\" d=\"M3,0A3,3 0 1,1 0,-3A3,3 0 0,1 3,0Z\" style=\"opacity: 1; stroke-width: 0px; fill: rgb(255, 161, 90); fill-opacity: 1;\"/><path class=\"point\" transform=\"translate(330,246.03)\" d=\"M3,0A3,3 0 1,1 0,-3A3,3 0 0,1 3,0Z\" style=\"opacity: 1; stroke-width: 0px; fill: rgb(255, 161, 90); fill-opacity: 1;\"/><path class=\"point\" transform=\"translate(623.25,270.27)\" d=\"M3,0A3,3 0 1,1 0,-3A3,3 0 0,1 3,0Z\" style=\"opacity: 1; stroke-width: 0px; fill: rgb(255, 161, 90); fill-opacity: 1;\"/></g><g class=\"text\"/></g><g class=\"trace scatter trace756809\" style=\"stroke-miterlimit: 2; opacity: 1;\"><g class=\"fills\"/><g class=\"errorbars\"/><g class=\"lines\"><path class=\"js-line\" d=\"M36.75,180L330,319.25L623.25,300.63\" style=\"vector-effect: non-scaling-stroke; fill: none; stroke: rgb(0, 0, 0); stroke-opacity: 1; stroke-width: 2px; opacity: 1; stroke-dasharray: 3px, 3px;\"/></g><g class=\"points\"><path class=\"point\" transform=\"translate(36.75,180)\" d=\"M3,0A3,3 0 1,1 0,-3A3,3 0 0,1 3,0Z\" style=\"opacity: 1; stroke-width: 0px; fill: rgb(0, 0, 0); fill-opacity: 1;\"/><path class=\"point\" transform=\"translate(330,319.25)\" d=\"M3,0A3,3 0 1,1 0,-3A3,3 0 0,1 3,0Z\" style=\"opacity: 1; stroke-width: 0px; fill: rgb(0, 0, 0); fill-opacity: 1;\"/><path class=\"point\" transform=\"translate(623.25,300.63)\" d=\"M3,0A3,3 0 1,1 0,-3A3,3 0 0,1 3,0Z\" style=\"opacity: 1; stroke-width: 0px; fill: rgb(0, 0, 0); fill-opacity: 1;\"/></g><g class=\"text\"/></g></g></g><g class=\"overplot\"/><path class=\"xlines-above crisp\" d=\"M0,0\" style=\"fill: none;\"/><path class=\"ylines-above crisp\" d=\"M0,0\" style=\"fill: none;\"/><g class=\"overlines-above\"/><g class=\"xaxislayer-above\"><g class=\"xtick\"><text text-anchor=\"middle\" x=\"0\" y=\"453\" transform=\"translate(116.75,0)\" style=\"font-family: 'Open Sans', verdana, arial, sans-serif; font-size: 12px; fill: rgb(42, 63, 95); fill-opacity: 1; white-space: pre; opacity: 1;\">8</text></g><g class=\"xtick\"><text text-anchor=\"middle\" x=\"0\" y=\"453\" style=\"font-family: 'Open Sans', verdana, arial, sans-serif; font-size: 12px; fill: rgb(42, 63, 95); fill-opacity: 1; white-space: pre; opacity: 1;\" transform=\"translate(410,0)\">16</text></g><g class=\"xtick\"><text text-anchor=\"middle\" x=\"0\" y=\"453\" style=\"font-family: 'Open Sans', verdana, arial, sans-serif; font-size: 12px; fill: rgb(42, 63, 95); fill-opacity: 1; white-space: pre; opacity: 1;\" transform=\"translate(703.25,0)\">24</text></g></g><g class=\"yaxislayer-above\"><g class=\"ytick\"><text text-anchor=\"end\" x=\"79\" y=\"3.15\" transform=\"translate(0,419.25)\" style=\"font-family: 'Open Sans', verdana, arial, sans-serif; font-size: 9px; fill: rgb(42, 63, 95); fill-opacity: 1; white-space: pre; opacity: 1;\">6</text></g><g class=\"ytick\"><text text-anchor=\"end\" x=\"79\" y=\"3.15\" style=\"font-family: 'Open Sans', verdana, arial, sans-serif; font-size: 9px; fill: rgb(42, 63, 95); fill-opacity: 1; white-space: pre; opacity: 1;\" transform=\"translate(0,400.63)\">7</text></g><g class=\"ytick\"><text text-anchor=\"end\" x=\"79\" y=\"3.15\" style=\"font-family: 'Open Sans', verdana, arial, sans-serif; font-size: 9px; fill: rgb(42, 63, 95); fill-opacity: 1; white-space: pre; opacity: 1;\" transform=\"translate(0,384.5)\">8</text></g><g class=\"ytick\"><text text-anchor=\"end\" x=\"79\" y=\"3.15\" style=\"font-family: 'Open Sans', verdana, arial, sans-serif; font-size: 9px; fill: rgb(42, 63, 95); fill-opacity: 1; white-space: pre; opacity: 1;\" transform=\"translate(0,370.27)\">9</text></g><g class=\"ytick\"><text text-anchor=\"end\" x=\"76\" y=\"2.1999999999999993\" style=\"font-family: 'Open Sans', verdana, arial, sans-serif; font-size: 12px; fill: rgb(42, 63, 95); fill-opacity: 1; white-space: pre; opacity: 1;\" transform=\"translate(0,357.54)\">0.1</text></g><g class=\"ytick\"><text text-anchor=\"end\" x=\"79\" y=\"3.15\" style=\"font-family: 'Open Sans', verdana, arial, sans-serif; font-size: 9px; fill: rgb(42, 63, 95); fill-opacity: 1; white-space: pre; opacity: 1;\" transform=\"translate(0,273.8)\">2</text></g><g class=\"ytick\"><text text-anchor=\"end\" x=\"79\" y=\"3.15\" style=\"font-family: 'Open Sans', verdana, arial, sans-serif; font-size: 9px; fill: rgb(42, 63, 95); fill-opacity: 1; white-space: pre; opacity: 1;\" transform=\"translate(0,224.82)\">3</text></g><g class=\"ytick\"><text text-anchor=\"end\" x=\"79\" y=\"3.15\" style=\"font-family: 'Open Sans', verdana, arial, sans-serif; font-size: 9px; fill: rgb(42, 63, 95); fill-opacity: 1; white-space: pre; opacity: 1;\" transform=\"translate(0,190.07)\">4</text></g><g class=\"ytick\"><text text-anchor=\"end\" x=\"79\" y=\"3.15\" style=\"font-family: 'Open Sans', verdana, arial, sans-serif; font-size: 9px; fill: rgb(42, 63, 95); fill-opacity: 1; white-space: pre; opacity: 1;\" transform=\"translate(0,163.11)\">5</text></g><g class=\"ytick\"><text text-anchor=\"end\" x=\"79\" y=\"3.15\" style=\"font-family: 'Open Sans', verdana, arial, sans-serif; font-size: 9px; fill: rgb(42, 63, 95); fill-opacity: 1; white-space: pre; opacity: 1;\" transform=\"translate(0,141.09)\">6</text></g><g class=\"ytick\"><text text-anchor=\"end\" x=\"79\" y=\"3.15\" style=\"font-family: 'Open Sans', verdana, arial, sans-serif; font-size: 9px; fill: rgb(42, 63, 95); fill-opacity: 1; white-space: pre; opacity: 1;\" transform=\"translate(0,122.46000000000001)\">7</text></g><g class=\"ytick\"><text text-anchor=\"end\" x=\"79\" y=\"3.15\" style=\"font-family: 'Open Sans', verdana, arial, sans-serif; font-size: 9px; fill: rgb(42, 63, 95); fill-opacity: 1; white-space: pre; opacity: 1;\" transform=\"translate(0,106.33)\">8</text></g></g><g class=\"overaxes-above\"/></g></g><g class=\"polarlayer\"/><g class=\"smithlayer\"/><g class=\"ternarylayer\"/><g class=\"geolayer\"/><g class=\"funnelarealayer\"/><g class=\"pielayer\"/><g class=\"iciclelayer\"/><g class=\"treemaplayer\"/><g class=\"sunburstlayer\"/><g class=\"glimages\"/><defs id=\"topdefs-1786a3\"><g class=\"clips\"/><clipPath id=\"legend1786a3\"><rect width=\"135\" height=\"143\" x=\"0\" y=\"0\"/></clipPath></defs><g class=\"layer-above\"><g class=\"imagelayer\"/><g class=\"shapelayer\"/></g><g class=\"infolayer\"><g class=\"legend\" pointer-events=\"all\" transform=\"translate(753.2,100)\"><rect class=\"bg\" shape-rendering=\"crispEdges\" width=\"135\" height=\"143\" x=\"0\" y=\"0\" style=\"stroke: rgb(68, 68, 68); stroke-opacity: 1; fill: rgb(255, 255, 255); fill-opacity: 1; stroke-width: 0px;\"/><g class=\"scrollbox\" transform=\"\" clip-path=\"url(#legend1786a3)\"><text class=\"legendtitletext\" text-anchor=\"start\" x=\"2\" y=\"18.2\" style=\"font-family: 'Open Sans', verdana, arial, sans-serif; font-size: 14px; fill: rgb(42, 63, 95); fill-opacity: 1; white-space: pre;\">Sigma values:</text><g class=\"groups\"><g class=\"traces\" transform=\"translate(0,32.7)\" style=\"opacity: 1;\"><text class=\"legendtext\" text-anchor=\"start\" x=\"40\" y=\"4.680000000000001\" style=\"font-family: 'Open Sans', verdana, arial, sans-serif; font-size: 12px; fill: rgb(42, 63, 95); fill-opacity: 1; white-space: pre;\">sigma = 0.1</text><g class=\"layers\" style=\"opacity: 1;\"><g class=\"legendfill\"/><g class=\"legendlines\"><path class=\"js-line\" d=\"M5,0h30\" style=\"fill: none; stroke: rgb(99, 110, 250); stroke-opacity: 1; stroke-width: 2px;\"/></g><g class=\"legendsymbols\"><g class=\"legendpoints\"><path class=\"scatterpts\" transform=\"translate(20,0)\" d=\"M3,0A3,3 0 1,1 0,-3A3,3 0 0,1 3,0Z\" style=\"opacity: 1; stroke-width: 0px; fill: rgb(99, 110, 250); fill-opacity: 1;\"/></g></g></g><rect class=\"legendtoggle\" x=\"0\" y=\"-9.5\" width=\"129.046875\" height=\"19\" style=\"fill: rgb(0, 0, 0); fill-opacity: 0;\"/></g><g class=\"traces\" transform=\"translate(0,51.7)\" style=\"opacity: 1;\"><text class=\"legendtext\" text-anchor=\"start\" x=\"40\" y=\"4.680000000000001\" style=\"font-family: 'Open Sans', verdana, arial, sans-serif; font-size: 12px; fill: rgb(42, 63, 95); fill-opacity: 1; white-space: pre;\">sigma = 0.05</text><g class=\"layers\" style=\"opacity: 1;\"><g class=\"legendfill\"/><g class=\"legendlines\"><path class=\"js-line\" d=\"M5,0h30\" style=\"fill: none; stroke: rgb(239, 85, 59); stroke-opacity: 1; stroke-width: 2px;\"/></g><g class=\"legendsymbols\"><g class=\"legendpoints\"><path class=\"scatterpts\" transform=\"translate(20,0)\" d=\"M3,0A3,3 0 1,1 0,-3A3,3 0 0,1 3,0Z\" style=\"opacity: 1; stroke-width: 0px; fill: rgb(239, 85, 59); fill-opacity: 1;\"/></g></g></g><rect class=\"legendtoggle\" x=\"0\" y=\"-9.5\" width=\"129.046875\" height=\"19\" style=\"fill: rgb(0, 0, 0); fill-opacity: 0;\"/></g><g class=\"traces\" transform=\"translate(0,70.7)\" style=\"opacity: 1;\"><text class=\"legendtext\" text-anchor=\"start\" x=\"40\" y=\"4.680000000000001\" style=\"font-family: 'Open Sans', verdana, arial, sans-serif; font-size: 12px; fill: rgb(42, 63, 95); fill-opacity: 1; white-space: pre;\">sigma = 0.02</text><g class=\"layers\" style=\"opacity: 1;\"><g class=\"legendfill\"/><g class=\"legendlines\"><path class=\"js-line\" d=\"M5,0h30\" style=\"fill: none; stroke: rgb(0, 204, 150); stroke-opacity: 1; stroke-width: 2px;\"/></g><g class=\"legendsymbols\"><g class=\"legendpoints\"><path class=\"scatterpts\" transform=\"translate(20,0)\" d=\"M3,0A3,3 0 1,1 0,-3A3,3 0 0,1 3,0Z\" style=\"opacity: 1; stroke-width: 0px; fill: rgb(0, 204, 150); fill-opacity: 1;\"/></g></g></g><rect class=\"legendtoggle\" x=\"0\" y=\"-9.5\" width=\"129.046875\" height=\"19\" style=\"fill: rgb(0, 0, 0); fill-opacity: 0;\"/></g><g class=\"traces\" transform=\"translate(0,89.7)\" style=\"opacity: 1;\"><text class=\"legendtext\" text-anchor=\"start\" x=\"40\" y=\"4.680000000000001\" style=\"font-family: 'Open Sans', verdana, arial, sans-serif; font-size: 12px; fill: rgb(42, 63, 95); fill-opacity: 1; white-space: pre;\">sigma = 0.01</text><g class=\"layers\" style=\"opacity: 1;\"><g class=\"legendfill\"/><g class=\"legendlines\"><path class=\"js-line\" d=\"M5,0h30\" style=\"fill: none; stroke: rgb(171, 99, 250); stroke-opacity: 1; stroke-width: 2px;\"/></g><g class=\"legendsymbols\"><g class=\"legendpoints\"><path class=\"scatterpts\" transform=\"translate(20,0)\" d=\"M3,0A3,3 0 1,1 0,-3A3,3 0 0,1 3,0Z\" style=\"opacity: 1; stroke-width: 0px; fill: rgb(171, 99, 250); fill-opacity: 1;\"/></g></g></g><rect class=\"legendtoggle\" x=\"0\" y=\"-9.5\" width=\"129.046875\" height=\"19\" style=\"fill: rgb(0, 0, 0); fill-opacity: 0;\"/></g><g class=\"traces\" transform=\"translate(0,108.7)\" style=\"opacity: 1;\"><text class=\"legendtext\" text-anchor=\"start\" x=\"40\" y=\"4.680000000000001\" style=\"font-family: 'Open Sans', verdana, arial, sans-serif; font-size: 12px; fill: rgb(42, 63, 95); fill-opacity: 1; white-space: pre;\">sigma = 0.005</text><g class=\"layers\" style=\"opacity: 1;\"><g class=\"legendfill\"/><g class=\"legendlines\"><path class=\"js-line\" d=\"M5,0h30\" style=\"fill: none; stroke: rgb(255, 161, 90); stroke-opacity: 1; stroke-width: 2px;\"/></g><g class=\"legendsymbols\"><g class=\"legendpoints\"><path class=\"scatterpts\" transform=\"translate(20,0)\" d=\"M3,0A3,3 0 1,1 0,-3A3,3 0 0,1 3,0Z\" style=\"opacity: 1; stroke-width: 0px; fill: rgb(255, 161, 90); fill-opacity: 1;\"/></g></g></g><rect class=\"legendtoggle\" x=\"0\" y=\"-9.5\" width=\"129.046875\" height=\"19\" style=\"fill: rgb(0, 0, 0); fill-opacity: 0;\"/></g><g class=\"traces\" transform=\"translate(0,127.7)\" style=\"opacity: 1;\"><text class=\"legendtext\" text-anchor=\"start\" x=\"40\" y=\"4.680000000000001\" style=\"font-family: 'Open Sans', verdana, arial, sans-serif; font-size: 12px; fill: rgb(42, 63, 95); fill-opacity: 1; white-space: pre;\">sigma = 0</text><g class=\"layers\" style=\"opacity: 1;\"><g class=\"legendfill\"/><g class=\"legendlines\"><path class=\"js-line\" d=\"M5,0h30\" style=\"fill: none; stroke: rgb(0, 0, 0); stroke-opacity: 1; stroke-dasharray: 3px, 3px; stroke-width: 2px;\"/></g><g class=\"legendsymbols\"><g class=\"legendpoints\"><path class=\"scatterpts\" transform=\"translate(20,0)\" d=\"M3,0A3,3 0 1,1 0,-3A3,3 0 0,1 3,0Z\" style=\"opacity: 1; stroke-width: 0px; fill: rgb(0, 0, 0); fill-opacity: 1;\"/></g></g></g><rect class=\"legendtoggle\" x=\"0\" y=\"-9.5\" width=\"129.046875\" height=\"19\" style=\"fill: rgb(0, 0, 0); fill-opacity: 0;\"/></g></g></g><rect class=\"scrollbar\" rx=\"20\" ry=\"3\" width=\"0\" height=\"0\" x=\"0\" y=\"0\" style=\"fill: rgb(128, 139, 164); fill-opacity: 1;\"/></g><g class=\"g-gtitle\"/><g class=\"g-xtitle\"><text class=\"xtitle\" x=\"410\" y=\"480.3\" text-anchor=\"middle\" style=\"font-family: 'Open Sans', verdana, arial, sans-serif; font-size: 14px; fill: rgb(42, 63, 95); opacity: 1; font-weight: normal; white-space: pre;\">Number of bins</text></g><g class=\"g-ytitle\"><text class=\"ytitle\" transform=\"rotate(-90,31.575000000000003,270)\" x=\"31.575000000000003\" y=\"270\" text-anchor=\"middle\" style=\"font-family: 'Open Sans', verdana, arial, sans-serif; font-size: 14px; fill: rgb(42, 63, 95); opacity: 1; font-weight: normal; white-space: pre;\">SR PSF relative error [%] (log)</text></g></g></svg>"
     },
     "metadata": {},
     "output_type": "display_data"
    }
   ],
   "source": [
    "fig = go.Figure()\n",
    "number_of_bins = [n_bins *(n_points + 1) for n_points in SED_points_per_bin_list]\n",
    "\n",
    "for sigma_id in range(len(sigma_list)):\n",
    "    fig.add_trace(go.Scatter(\n",
    "        #legendgroup=SED_name[star_id],\n",
    "        #legendgrouptitle_text=SED_name[star_id],\n",
    "        x=number_of_bins,\n",
    "        y=rel_rmse_mean_noisy_interp[sigma_id,:],\n",
    "        name='sigma = {}'.format(sigma_list[sigma_id]),\n",
    "    ))\n",
    "# Sigma = 0, no Gaussian noise\n",
    "fig.add_trace(go.Scatter(\n",
    "        x=number_of_bins,\n",
    "        y=rel_rmse_mean_interp,\n",
    "        name='sigma = 0',\n",
    "        line=dict(color='black', dash='dot')\n",
    "    ))\n",
    "\n",
    "fig.update_xaxes(tickvals=number_of_bins, title_text=\"Number of bins\")\n",
    "fig.update_yaxes(title_text=\"SR PSF relative error [%] (log)\", type=\"log\")\n",
    "fig.update_layout(legend_title_text='Sigma values:', width=900, height=520)\n",
    "\n",
    "#fig.write_image('../outputs/plots/noisy_interpolated_SED_PSF_errors.pdf', engine='kaleido')\n",
    "fig.show(interactive)"
   ]
  },
  {
   "cell_type": "markdown",
   "metadata": {},
   "source": [
    "# Noisy interpolated SED visualisation"
   ]
  },
  {
   "cell_type": "code",
   "execution_count": 77,
   "metadata": {},
   "outputs": [
    {
     "data": {
      "application/vnd.plotly.v1+json": {
       "config": {
        "plotlyServerURL": "https://plot.ly"
       },
       "data": [
        {
         "legendgroup": "0.1",
         "legendgrouptitle": {
          "text": "sigma = 0.1"
         },
         "line": {
          "color": "#636EFA"
         },
         "marker": {
          "size": 15
         },
         "name": "Bins - 8 bins",
         "opacity": 0.8,
         "type": "scatter",
         "x": [
          571.875,
          615.625,
          659.375,
          703.125,
          746.875,
          790.625,
          834.375,
          878.125
         ],
         "y": [
          2.2501195781868524,
          1.495734445147709,
          1.184300799419083,
          1.0449580883055019,
          1.00114849314301,
          0.2554620593306639,
          0.2768747322127357,
          0.4914018042544442
         ]
        },
        {
         "legendgroup": "0.1",
         "legendgrouptitle": {
          "text": "sigma = 0.1"
         },
         "line": {
          "color": "#636EFA"
         },
         "marker": {
          "size": 11
         },
         "name": "Interp - 16 bins",
         "opacity": 0.8,
         "type": "scatter",
         "x": [
          550,
          571.875,
          593.75,
          615.625,
          637.5,
          659.375,
          681.25,
          703.125,
          725,
          746.875,
          768.75,
          790.625,
          812.5,
          834.375,
          856.25,
          878.125,
          900
         ],
         "y": [
          2.9087794106015776,
          2.2360290858596557,
          1.7796057003776082,
          1.4863679941700858,
          1.3031747072517395,
          1.1768845796372196,
          1.0738520620015917,
          1.0384144476615786,
          1.0805576466128843,
          0.9948791929254707,
          0.6284799317226264,
          0.25386232826668687,
          0.1598489199659725,
          0.27514091267369506,
          0.43840917935428936,
          0.4883245929721899,
          0.2635580264918315
         ]
        },
        {
         "legendgroup": "0.1",
         "legendgrouptitle": {
          "text": "sigma = 0.1"
         },
         "line": {
          "color": "#636EFA"
         },
         "marker": {
          "size": 7
         },
         "mode": "lines+markers",
         "name": "Interp - 24 bins",
         "opacity": 0.8,
         "type": "scatter",
         "x": [
          557.2916666666666,
          571.875,
          586.4583333333334,
          601.0416666666666,
          615.625,
          630.2083333333334,
          644.7916666666666,
          659.375,
          673.9583333333334,
          688.5416666666666,
          703.125,
          717.7083333333334,
          732.2916666666666,
          746.875,
          761.4583333333334,
          776.0416666666666,
          790.625,
          805.2083333333334,
          819.7916666666666,
          834.375,
          848.9583333333334,
          863.5416666666666,
          878.125,
          892.7083333333334
         ],
         "y": [
          2.663711908059882,
          2.241498173039772,
          1.9156649054586625,
          1.6704280348560174,
          1.4900034907712962,
          1.3586072027439626,
          1.2604551003134798,
          1.1797631130193094,
          1.1065378059791269,
          1.0539482866234613,
          1.0409542979610529,
          1.0705218650170554,
          1.081642140882276,
          0.9973125606639326,
          0.7721188636802876,
          0.48700000609378064,
          0.2544832482778879,
          0.16035495062942945,
          0.18343787363856756,
          0.2758138778188022,
          0.38956482368363243,
          0.4767725717465574,
          0.48951898252107756,
          0.37988591652069154
         ]
        },
        {
         "legendgroup": "0.05",
         "legendgrouptitle": {
          "text": "sigma = 0.05"
         },
         "line": {
          "color": "#EF553B"
         },
         "marker": {
          "size": 15
         },
         "name": "Bins - 8 bins",
         "opacity": 0.8,
         "type": "scatter",
         "x": [
          571.875,
          615.625,
          659.375,
          703.125,
          746.875,
          790.625,
          834.375,
          878.125
         ],
         "y": [
          2.051035297043482,
          1.5888202545579497,
          1.2737653827259583,
          0.9261157065268688,
          0.7259767568869482,
          0.6116724685031284,
          0.40122461146514865,
          0.42138952229051685
         ]
        },
        {
         "legendgroup": "0.05",
         "legendgrouptitle": {
          "text": "sigma = 0.05"
         },
         "line": {
          "color": "#EF553B"
         },
         "marker": {
          "size": 11
         },
         "name": "Interp - 16 bins",
         "opacity": 0.8,
         "type": "scatter",
         "x": [
          550,
          571.875,
          593.75,
          615.625,
          637.5,
          659.375,
          681.25,
          703.125,
          725,
          746.875,
          768.75,
          790.625,
          812.5,
          834.375,
          856.25,
          878.125,
          900
         ],
         "y": [
          2.398504107595951,
          2.0264729660997114,
          1.7621249453866559,
          1.5697932154041758,
          1.4138109460996635,
          1.2585113074205103,
          1.0816940111801634,
          0.915024936656293,
          0.7942142086260611,
          0.7172827664003649,
          0.6671911312576946,
          0.6043473378131672,
          0.5006383974481745,
          0.39641971527257774,
          0.34916379482835497,
          0.4163431396574842,
          0.6554302533019438
         ]
        },
        {
         "legendgroup": "0.05",
         "legendgrouptitle": {
          "text": "sigma = 0.05"
         },
         "line": {
          "color": "#EF553B"
         },
         "marker": {
          "size": 7
         },
         "mode": "lines+markers",
         "name": "Interp - 24 bins",
         "opacity": 0.8,
         "type": "scatter",
         "x": [
          557.2916666666666,
          571.875,
          586.4583333333334,
          601.0416666666666,
          615.625,
          630.2083333333334,
          644.7916666666666,
          659.375,
          673.9583333333334,
          688.5416666666666,
          703.125,
          717.7083333333334,
          732.2916666666666,
          746.875,
          761.4583333333334,
          776.0416666666666,
          790.625,
          805.2083333333334,
          819.7916666666666,
          834.375,
          848.9583333333334,
          863.5416666666666,
          878.125,
          892.7083333333334
         ],
         "y": [
          2.271628086763956,
          2.0366045873782186,
          1.8496795310485217,
          1.7002321322590048,
          1.5776416054938087,
          1.4712871652370745,
          1.3705480259729437,
          1.2648034021855565,
          1.1474425438062401,
          1.027894842555066,
          0.9195997255992883,
          0.8331908706569275,
          0.7680789576490525,
          0.7208689170474942,
          0.6864867725965482,
          0.6531429211303621,
          0.6073688527555461,
          0.5407931472509142,
          0.46543274308409194,
          0.39840166839490615,
          0.35681395132318516,
          0.3577836200087568,
          0.41842470259144876,
          0.5558512272110894
         ]
        },
        {
         "legendgroup": "0.02",
         "legendgrouptitle": {
          "text": "sigma = 0.02"
         },
         "line": {
          "color": "#00CC96"
         },
         "marker": {
          "size": 15
         },
         "name": "Bins - 8 bins",
         "opacity": 0.8,
         "type": "scatter",
         "x": [
          571.875,
          615.625,
          659.375,
          703.125,
          746.875,
          790.625,
          834.375,
          878.125
         ],
         "y": [
          2.090732810222899,
          1.5461205731483232,
          1.2215473280811922,
          0.9613533854376515,
          0.7657089320332372,
          0.5824466531498659,
          0.41549960404902964,
          0.41659071387780056
         ]
        },
        {
         "legendgroup": "0.02",
         "legendgrouptitle": {
          "text": "sigma = 0.02"
         },
         "line": {
          "color": "#00CC96"
         },
         "marker": {
          "size": 11
         },
         "name": "Interp - 16 bins",
         "opacity": 0.8,
         "type": "scatter",
         "x": [
          550,
          571.875,
          593.75,
          615.625,
          637.5,
          659.375,
          681.25,
          703.125,
          725,
          746.875,
          768.75,
          790.625,
          812.5,
          834.375,
          856.25,
          878.125,
          900
         ],
         "y": [
          2.4835312193192696,
          2.069894663769442,
          1.7606014042081055,
          1.5307105280290076,
          1.355281122625899,
          1.209372275392527,
          1.0737204559020128,
          0.9517716624449651,
          0.8492243385231073,
          0.758077179765128,
          0.668449328231534,
          0.5766414595831332,
          0.48468568907654624,
          0.4113583567513398,
          0.3796218588428173,
          0.412438591586282,
          0.5327709512170373
         ]
        },
        {
         "legendgroup": "0.02",
         "legendgrouptitle": {
          "text": "sigma = 0.02"
         },
         "line": {
          "color": "#00CC96"
         },
         "marker": {
          "size": 7
         },
         "mode": "lines+markers",
         "name": "Interp - 24 bins",
         "opacity": 0.8,
         "type": "scatter",
         "x": [
          557.2916666666666,
          571.875,
          586.4583333333334,
          601.0416666666666,
          615.625,
          630.2083333333334,
          644.7916666666666,
          659.375,
          673.9583333333334,
          688.5416666666666,
          703.125,
          717.7083333333334,
          732.2916666666666,
          746.875,
          761.4583333333334,
          776.0416666666666,
          790.625,
          805.2083333333334,
          819.7916666666666,
          834.375,
          848.9583333333334,
          863.5416666666666,
          878.125,
          892.7083333333334
         ],
         "y": [
          2.342145031857196,
          2.078436781921361,
          1.861294711441774,
          1.6832984234731228,
          1.5370275210700926,
          1.4150616072873718,
          1.3099802851796483,
          1.214363157801608,
          1.1224789576334049,
          1.0353529348570545,
          0.9556994690800369,
          0.8852139558727063,
          0.8215158546569086,
          0.7612056408173609,
          0.7013435707597212,
          0.6408290249734037,
          0.5790211649687609,
          0.5165245837725525,
          0.45892560047716174,
          0.4130559656913765,
          0.3857474300239858,
          0.38383174408377874,
          0.4141406584795437,
          0.48350592382006974
         ]
        },
        {
         "legendgroup": "0.01",
         "legendgrouptitle": {
          "text": "sigma = 0.01"
         },
         "line": {
          "color": "#AB63FA"
         },
         "marker": {
          "size": 15
         },
         "name": "Bins - 8 bins",
         "opacity": 0.8,
         "type": "scatter",
         "x": [
          571.875,
          615.625,
          659.375,
          703.125,
          746.875,
          790.625,
          834.375,
          878.125
         ],
         "y": [
          2.0473777774981876,
          1.5437713026606843,
          1.2116950950515641,
          0.9590689014990175,
          0.739378825532289,
          0.6026620818262279,
          0.4889945118024756,
          0.40705150412955476
         ]
        },
        {
         "legendgroup": "0.01",
         "legendgrouptitle": {
          "text": "sigma = 0.01"
         },
         "line": {
          "color": "#AB63FA"
         },
         "marker": {
          "size": 11
         },
         "name": "Interp - 16 bins",
         "opacity": 0.8,
         "type": "scatter",
         "x": [
          550,
          571.875,
          593.75,
          615.625,
          637.5,
          659.375,
          681.25,
          703.125,
          725,
          746.875,
          768.75,
          790.625,
          812.5,
          834.375,
          856.25,
          878.125,
          900
         ],
         "y": [
          2.3793126237853333,
          2.035523008505568,
          1.7579620390924562,
          1.5348325262552664,
          1.3543372807032696,
          1.204679113145734,
          1.0744146375585828,
          0.9535156809843506,
          0.8365554753460643,
          0.7350976590221054,
          0.6596082696467431,
          0.5991725354224416,
          0.5409981059311689,
          0.4861631257047127,
          0.4392133630123158,
          0.4046945861232205,
          0.3871525633066696
         ]
        },
        {
         "legendgroup": "0.01",
         "legendgrouptitle": {
          "text": "sigma = 0.01"
         },
         "line": {
          "color": "#AB63FA"
         },
         "marker": {
          "size": 7
         },
         "mode": "lines+markers",
         "name": "Interp - 24 bins",
         "opacity": 0.8,
         "type": "scatter",
         "x": [
          557.2916666666666,
          571.875,
          586.4583333333334,
          601.0416666666666,
          615.625,
          630.2083333333334,
          644.7916666666666,
          659.375,
          673.9583333333334,
          688.5416666666666,
          703.125,
          717.7083333333334,
          732.2916666666666,
          746.875,
          761.4583333333334,
          776.0416666666666,
          790.625,
          805.2083333333334,
          819.7916666666666,
          834.375,
          848.9583333333334,
          863.5416666666666,
          878.125,
          892.7083333333334
         ],
         "y": [
          2.2620031755636667,
          2.040370505464306,
          1.8482428869639718,
          1.682116532296392,
          1.5384876536952932,
          1.413852463394405,
          1.3047071736274565,
          1.2075479966281741,
          1.1189762248766764,
          1.0360134718386365,
          0.9557864312261146,
          0.8766833425485485,
          0.8021386285048773,
          0.7368482575914141,
          0.68392066298835,
          0.6401141366113787,
          0.6005994350600694,
          0.5615772058113786,
          0.52336765985181,
          0.487320899045253,
          0.4547870252555978,
          0.4271161403467346,
          0.4056583461825529,
          0.3917637446269431
         ]
        },
        {
         "legendgroup": "0.005",
         "legendgrouptitle": {
          "text": "sigma = 0.005"
         },
         "line": {
          "color": "#FFA15A"
         },
         "marker": {
          "size": 15
         },
         "name": "Bins - 8 bins",
         "opacity": 0.8,
         "type": "scatter",
         "x": [
          571.875,
          615.625,
          659.375,
          703.125,
          746.875,
          790.625,
          834.375,
          878.125
         ],
         "y": [
          2.073484981105691,
          1.5552503362989571,
          1.2037000901558472,
          0.9525114044824169,
          0.7461262992424224,
          0.5899434565330527,
          0.47633720618578973,
          0.4026462259958224
         ]
        },
        {
         "legendgroup": "0.005",
         "legendgrouptitle": {
          "text": "sigma = 0.005"
         },
         "line": {
          "color": "#FFA15A"
         },
         "marker": {
          "size": 11
         },
         "name": "Interp - 16 bins",
         "opacity": 0.8,
         "type": "scatter",
         "x": [
          550,
          571.875,
          593.75,
          615.625,
          637.5,
          659.375,
          681.25,
          703.125,
          725,
          746.875,
          768.75,
          790.625,
          812.5,
          834.375,
          856.25,
          878.125,
          900
         ],
         "y": [
          2.401942043269515,
          2.0620313390208334,
          1.7796122197684192,
          1.5466593501733552,
          1.3551473948967243,
          1.1970510185996095,
          1.0641256612722367,
          0.947249864221407,
          0.8392980170891622,
          0.742004801541935,
          0.6582563981520261,
          0.5866846910908114,
          0.5252781628794131,
          0.4737059858388529,
          0.43205750474012905,
          0.4004220643542388,
          0.3788890094521802
         ]
        },
        {
         "legendgroup": "0.005",
         "legendgrouptitle": {
          "text": "sigma = 0.005"
         },
         "line": {
          "color": "#FFA15A"
         },
         "marker": {
          "size": 7
         },
         "mode": "lines+markers",
         "name": "Interp - 24 bins",
         "opacity": 0.8,
         "type": "scatter",
         "x": [
          557.2916666666666,
          571.875,
          586.4583333333334,
          601.0416666666666,
          615.625,
          630.2083333333334,
          644.7916666666666,
          659.375,
          673.9583333333334,
          688.5416666666666,
          703.125,
          717.7083333333334,
          732.2916666666666,
          746.875,
          761.4583333333334,
          776.0416666666666,
          790.625,
          805.2083333333334,
          819.7916666666666,
          834.375,
          848.9583333333334,
          863.5416666666666,
          878.125,
          892.7083333333334
         ],
         "y": [
          2.286920850326636,
          2.066699621165225,
          1.8720880549250385,
          1.7007028911356055,
          1.5501608693264537,
          1.4180787290271135,
          1.3020732097671153,
          1.1997610510759869,
          1.1086938899710097,
          1.0261629534204688,
          0.9493943658803983,
          0.8762720555884463,
          0.8073111659087057,
          0.7436846439868787,
          0.6862495904646365,
          0.6345997199675135,
          0.58801290061701,
          0.5458917779237973,
          0.5081381069552284,
          0.47477842016782545,
          0.445839250018112,
          0.42134712896261106,
          0.4013285894578452,
          0.38581016396033774
         ]
        },
        {
         "line": {
          "color": "black"
         },
         "name": "GT - 350 bins",
         "type": "scatter",
         "x": [
          550.5,
          551.5,
          552.5,
          553.5,
          554.5,
          555.5,
          556.5,
          557.5,
          558.5,
          559.5,
          560.5,
          561.5,
          562.5,
          563.5,
          564.5,
          565.5,
          566.5,
          567.5,
          568.5,
          569.5,
          570.5,
          571.5,
          572.5,
          573.5,
          574.5,
          575.5,
          576.5,
          577.5,
          578.5,
          579.5,
          580.5,
          581.5,
          582.5,
          583.5,
          584.5,
          585.5,
          586.5,
          587.5,
          588.5,
          589.5,
          590.5,
          591.5,
          592.5,
          593.5,
          594.5,
          595.5,
          596.5,
          597.5,
          598.5,
          599.5,
          600.5,
          601.5,
          602.5,
          603.5,
          604.5,
          605.5,
          606.5,
          607.5,
          608.5,
          609.5,
          610.5,
          611.5,
          612.5,
          613.5,
          614.5,
          615.5,
          616.5,
          617.5,
          618.5,
          619.5,
          620.5,
          621.5,
          622.5,
          623.5,
          624.5,
          625.5,
          626.5,
          627.5,
          628.5,
          629.5,
          630.5,
          631.5,
          632.5,
          633.5,
          634.5,
          635.5,
          636.5,
          637.5,
          638.5,
          639.5,
          640.5,
          641.5,
          642.5,
          643.5,
          644.5,
          645.5,
          646.5,
          647.5,
          648.5,
          649.5,
          650.5,
          651.5,
          652.5,
          653.5,
          654.5,
          655.5,
          656.5,
          657.5,
          658.5,
          659.5,
          660.5,
          661.5,
          662.5,
          663.5,
          664.5,
          665.5,
          666.5,
          667.5,
          668.5,
          669.5,
          670.5,
          671.5,
          672.5,
          673.5,
          674.5,
          675.5,
          676.5,
          677.5,
          678.5,
          679.5,
          680.5,
          681.5,
          682.5,
          683.5,
          684.5,
          685.5,
          686.5,
          687.5,
          688.5,
          689.5,
          690.5,
          691.5,
          692.5,
          693.5,
          694.5,
          695.5,
          696.5,
          697.5,
          698.5,
          699.5,
          700.5,
          701.5,
          702.5,
          703.5,
          704.5,
          705.5,
          706.5,
          707.5,
          708.5,
          709.5,
          710.5,
          711.5,
          712.5,
          713.5,
          714.5,
          715.5,
          716.5,
          717.5,
          718.5,
          719.5,
          720.5,
          721.5,
          722.5,
          723.5,
          724.5,
          725.5,
          726.5,
          727.5,
          728.5,
          729.5,
          730.5,
          731.5,
          732.5,
          733.5,
          734.5,
          735.5,
          736.5,
          737.5,
          738.5,
          739.5,
          740.5,
          741.5,
          742.5,
          743.5,
          744.5,
          745.5,
          746.5,
          747.5,
          748.5,
          749.5,
          750.5,
          751.5,
          752.5,
          753.5,
          754.5,
          755.5,
          756.5,
          757.5,
          758.5,
          759.5,
          760.5,
          761.5,
          762.5,
          763.5,
          764.5,
          765.5,
          766.5,
          767.5,
          768.5,
          769.5,
          770.5,
          771.5,
          772.5,
          773.5,
          774.5,
          775.5,
          776.5,
          777.5,
          778.5,
          779.5,
          780.5,
          781.5,
          782.5,
          783.5,
          784.5,
          785.5,
          786.5,
          787.5,
          788.5,
          789.5,
          790.5,
          791.5,
          792.5,
          793.5,
          794.5,
          795.5,
          796.5,
          797.5,
          798.5,
          799.5,
          800.5,
          801.5,
          802.5,
          803.5,
          804.5,
          805.5,
          806.5,
          807.5,
          808.5,
          809.5,
          810.5,
          811.5,
          812.5,
          813.5,
          814.5,
          815.5,
          816.5,
          817.5,
          818.5,
          819.5,
          820.5,
          821.5,
          822.5,
          823.5,
          824.5,
          825.5,
          826.5,
          827.5,
          828.5,
          829.5,
          830.5,
          831.5,
          832.5,
          833.5,
          834.5,
          835.5,
          836.5,
          837.5,
          838.5,
          839.5,
          840.5,
          841.5,
          842.5,
          843.5,
          844.5,
          845.5,
          846.5,
          847.5,
          848.5,
          849.5,
          850.5,
          851.5,
          852.5,
          853.5,
          854.5,
          855.5,
          856.5,
          857.5,
          858.5,
          859.5,
          860.5,
          861.5,
          862.5,
          863.5,
          864.5,
          865.5,
          866.5,
          867.5,
          868.5,
          869.5,
          870.5,
          871.5,
          872.5,
          873.5,
          874.5,
          875.5,
          876.5,
          877.5,
          878.5,
          879.5,
          880.5,
          881.5,
          882.5,
          883.5,
          884.5,
          885.5,
          886.5,
          887.5,
          888.5,
          889.5,
          890.5,
          891.5,
          892.5,
          893.5,
          894.5,
          895.5,
          896.5,
          897.5,
          898.5,
          899.5
         ],
         "y": [
          2.4184988062324497,
          2.3948798426474154,
          2.3750185205502694,
          2.348146569397454,
          2.335606789575722,
          2.3290857328287546,
          2.3205390996576316,
          2.3055909025068284,
          2.280980032940891,
          2.240338570574815,
          2.2483202233802104,
          2.2282291967401204,
          2.216494542942652,
          2.203212283790183,
          2.1888557498560632,
          2.1761535526807316,
          2.1568769330565387,
          2.132167452954488,
          2.126523449916952,
          2.133312495297353,
          2.0917359730241336,
          2.0834306456355005,
          2.058657358715964,
          2.042187078937152,
          2.022258469650659,
          2.0119565689367263,
          1.9998483552259736,
          1.9548726697667287,
          1.9042993862281408,
          1.9155456278408547,
          1.8714284341077678,
          1.8863603895232242,
          1.9275331886603588,
          1.9203566618792274,
          1.903176386240399,
          1.882181623039922,
          1.877631616891272,
          1.7873403296541883,
          1.774560404173925,
          1.6253696237784319,
          1.7876106385355417,
          1.815512779759751,
          1.7914413678325443,
          1.786297378219301,
          1.7652040044827177,
          1.7489738703624496,
          1.740835600823229,
          1.7258444790861165,
          1.7179045907430717,
          1.7187955659399567,
          1.7012544917513557,
          1.6836878948357699,
          1.6846090332554549,
          1.6733836738739098,
          1.6559516513370092,
          1.6511580191579445,
          1.6374012693081919,
          1.6235459089223137,
          1.6190098242611,
          1.6165932860643717,
          1.6013504174291677,
          1.5922457646360328,
          1.5770759838099697,
          1.5757163185355556,
          1.5677683093248436,
          1.5575371761721246,
          1.5328300163179764,
          1.5078966322927405,
          1.5145685051537545,
          1.5147761673415805,
          1.4978545993445669,
          1.5017908999213985,
          1.4940644743859588,
          1.4736984983687003,
          1.4796998195841375,
          1.4815200540683944,
          1.4665880986529571,
          1.4240962385798221,
          1.3543391453333635,
          1.4131771519222096,
          1.4051920187449358,
          1.3787609146947681,
          1.4025979815832006,
          1.4042546385899164,
          1.3958251779381536,
          1.382578882628288,
          1.3716435542353023,
          1.36107830538372,
          1.349897030712441,
          1.3477136774305039,
          1.3218962789521256,
          1.3203834773157648,
          1.3317689338029988,
          1.3271644018284983,
          1.314187255276003,
          1.3015279826869786,
          1.2956867585772107,
          1.2898652565746682,
          1.2859335964936325,
          1.2771340563004858,
          1.2819021657525076,
          1.2706837671147053,
          1.238877808784411,
          1.2348301363079128,
          1.2453547808210619,
          1.1732240739641964,
          1.0390917024951873,
          1.1863369550193403,
          1.231667638408579,
          1.227351977298674,
          1.2241117510944033,
          1.2087493896919432,
          1.20422838664212,
          1.1966980220549484,
          1.1896096646943577,
          1.1756371317890923,
          1.1605520400116698,
          1.139189517517697,
          1.1077025932748175,
          1.1369876022524983,
          1.1398357065602327,
          1.138118723107917,
          1.1348123698382673,
          1.127981559995489,
          1.1164220849151196,
          1.1093464889180116,
          1.1056909383380886,
          1.095710391959498,
          1.0864444819367103,
          1.079863098744116,
          1.0828434571826473,
          1.0711760905745216,
          1.0698500688947787,
          1.0653337063408097,
          1.0474968005438512,
          1.0424665030781433,
          1.0374362056124353,
          1.0324059081466885,
          1.0273756106809417,
          1.0223453132152338,
          1.0173150157495259,
          1.012284718283779,
          1.0072544208180323,
          1.0022241233523632,
          0.9971938258866164,
          0.9921635284208696,
          0.98713555120305,
          0.9908386668650904,
          0.9881576204067877,
          0.9698323024250943,
          0.9672788696017343,
          0.9635873551792129,
          0.9612566661551081,
          0.96024387794304,
          0.9502018449948468,
          0.943825803742171,
          0.9222451779447582,
          0.9299797243479235,
          0.9335761086061323,
          0.9348302026007171,
          0.9250607987817849,
          0.9222289362094238,
          0.9270457708675461,
          0.9289982594825996,
          0.9249703091133654,
          0.9172984094037662,
          0.9012944994545469,
          0.853336135308902,
          0.8360363669027981,
          0.853717816089844,
          0.8599964069303578,
          0.8872581597318296,
          0.8851003291768966,
          0.865418826292641,
          0.8469357314531856,
          0.8462245754692344,
          0.8418230651866865,
          0.8288772419809742,
          0.8339145001904247,
          0.8256288949089974,
          0.8235777957578572,
          0.8177945778458207,
          0.8149835975046094,
          0.8122596264600046,
          0.8102027266890466,
          0.8044357505123445,
          0.7958253105237623,
          0.7942823456645431,
          0.786030383977826,
          0.7823226278199702,
          0.7722701537562215,
          0.7650855061073936,
          0.7618255577958588,
          0.7493983099977397,
          0.7488310093840655,
          0.7479272728236785,
          0.7417565735109211,
          0.7346426934233263,
          0.7325533101816606,
          0.7274928494931332,
          0.7248802503481366,
          0.7226829755787534,
          0.7185598950452066,
          0.7121188868511152,
          0.7087498868879383,
          0.7071721183101232,
          0.7030768807515464,
          0.698983963440819,
          0.6948898860062058,
          0.6907958085715926,
          0.686702891260943,
          0.6826088138262909,
          0.6785147363916388,
          0.6744218190809892,
          0.6703265815224124,
          0.6662336642117628,
          0.6621407469010354,
          0.6580455093424586,
          0.653952592031809,
          0.6498596747211594,
          0.6457644371625437,
          0.6416715198518552,
          0.637577442417242,
          0.6330169951530074,
          0.6317304176877148,
          0.6295957896118587,
          0.6254181832525296,
          0.6240724394655617,
          0.6188681234067184,
          0.6164875490525301,
          0.6142148662260982,
          0.6120315129441611,
          0.6106300832074085,
          0.6048793487660797,
          0.6026530708978406,
          0.6019349541701469,
          0.5932224232735095,
          0.5930159212097053,
          0.5903928809490755,
          0.5865447497927556,
          0.5835040649086243,
          0.582285934756599,
          0.5773554079509802,
          0.5738866373276752,
          0.5738703955923408,
          0.5681776673487238,
          0.5658411777048011,
          0.5629385475712068,
          0.5609384938740358,
          0.5592864773631745,
          0.5602215372703057,
          0.5601797728079672,
          0.5579755372948025,
          0.5579094102294235,
          0.5557724619056792,
          0.5578641653952332,
          0.5535949092434822,
          0.5500263679601658,
          0.543475147990391,
          0.5379193143733862,
          0.534568876393432,
          0.5350097234960494,
          0.5356570726625487,
          0.5321210148499012,
          0.5283923764608567,
          0.5183503435127024,
          0.5109939975186661,
          0.5123977475033459,
          0.5129058817953058,
          0.5116506276767963,
          0.5122190884143951,
          0.5067491039699945,
          0.4912800111637028,
          0.479721696207297,
          0.4847229905741879,
          0.4995586557013876,
          0.4999148137553644,
          0.49602955863248255,
          0.4886500101593694,
          0.48989598328628703,
          0.4920213303705123,
          0.4878715669860756,
          0.4825605195234006,
          0.4824549482435325,
          0.47928664972445856,
          0.470614723166235,
          0.46421083893866677,
          0.46740814055667435,
          0.46901143186145466,
          0.46993721077695505,
          0.47089895353505384,
          0.46821558682878517,
          0.4660960403643777,
          0.4631667273798157,
          0.4590958524242794,
          0.4585610352813907,
          0.4565099361302116,
          0.454623574580576,
          0.44684262321925683,
          0.44884035666850064,
          0.4467973783850665,
          0.4481234000647316,
          0.44442260465061834,
          0.43859414190435264,
          0.43652216052202375,
          0.4334478320432211,
          0.4371277452261846,
          0.4309582060373518,
          0.4255009829564338,
          0.4186075264201672,
          0.4173012268476495,
          0.42021777846869,
          0.41909361835701375,
          0.4213697815552975,
          0.41680353367128387,
          0.418192202044515,
          0.41465498410798163,
          0.41674320722564495,
          0.41955882806267164,
          0.4199706720664331,
          0.4190588146383789,
          0.41580930744247735,
          0.41446704402736123,
          0.40970473519506,
          0.40593781271552887,
          0.4012184284696074,
          0.40652831580827997,
          0.40410829723968034,
          0.40539371458100937,
          0.4067104552691214,
          0.40617563812619384,
          0.40251428692649194,
          0.40375445943363064,
          0.4016001092505106,
          0.39418227668691075,
          0.38472262596380147,
          0.37388010748716227,
          0.3769706777013382,
          0.3811575650522592,
          0.3842713377455509,
          0.3835833842406766,
          0.38149052062715905,
          0.38077008365157705,
          0.3961730493924509,
          0.3971162301672493,
          0.3842957003485914,
          0.37623747936223473,
          0.3683776395720151,
          0.3652719877464683,
          0.35393641658924
         ]
        }
       ],
       "layout": {
        "height": 660,
        "legend": {
         "title": {
          "text": "Sigma value:"
         }
        },
        "template": {
         "data": {
          "bar": [
           {
            "error_x": {
             "color": "#2a3f5f"
            },
            "error_y": {
             "color": "#2a3f5f"
            },
            "marker": {
             "line": {
              "color": "#E5ECF6",
              "width": 0.5
             },
             "pattern": {
              "fillmode": "overlay",
              "size": 10,
              "solidity": 0.2
             }
            },
            "type": "bar"
           }
          ],
          "barpolar": [
           {
            "marker": {
             "line": {
              "color": "#E5ECF6",
              "width": 0.5
             },
             "pattern": {
              "fillmode": "overlay",
              "size": 10,
              "solidity": 0.2
             }
            },
            "type": "barpolar"
           }
          ],
          "carpet": [
           {
            "aaxis": {
             "endlinecolor": "#2a3f5f",
             "gridcolor": "white",
             "linecolor": "white",
             "minorgridcolor": "white",
             "startlinecolor": "#2a3f5f"
            },
            "baxis": {
             "endlinecolor": "#2a3f5f",
             "gridcolor": "white",
             "linecolor": "white",
             "minorgridcolor": "white",
             "startlinecolor": "#2a3f5f"
            },
            "type": "carpet"
           }
          ],
          "choropleth": [
           {
            "colorbar": {
             "outlinewidth": 0,
             "ticks": ""
            },
            "type": "choropleth"
           }
          ],
          "contour": [
           {
            "colorbar": {
             "outlinewidth": 0,
             "ticks": ""
            },
            "colorscale": [
             [
              0,
              "#0d0887"
             ],
             [
              0.1111111111111111,
              "#46039f"
             ],
             [
              0.2222222222222222,
              "#7201a8"
             ],
             [
              0.3333333333333333,
              "#9c179e"
             ],
             [
              0.4444444444444444,
              "#bd3786"
             ],
             [
              0.5555555555555556,
              "#d8576b"
             ],
             [
              0.6666666666666666,
              "#ed7953"
             ],
             [
              0.7777777777777778,
              "#fb9f3a"
             ],
             [
              0.8888888888888888,
              "#fdca26"
             ],
             [
              1,
              "#f0f921"
             ]
            ],
            "type": "contour"
           }
          ],
          "contourcarpet": [
           {
            "colorbar": {
             "outlinewidth": 0,
             "ticks": ""
            },
            "type": "contourcarpet"
           }
          ],
          "heatmap": [
           {
            "colorbar": {
             "outlinewidth": 0,
             "ticks": ""
            },
            "colorscale": [
             [
              0,
              "#0d0887"
             ],
             [
              0.1111111111111111,
              "#46039f"
             ],
             [
              0.2222222222222222,
              "#7201a8"
             ],
             [
              0.3333333333333333,
              "#9c179e"
             ],
             [
              0.4444444444444444,
              "#bd3786"
             ],
             [
              0.5555555555555556,
              "#d8576b"
             ],
             [
              0.6666666666666666,
              "#ed7953"
             ],
             [
              0.7777777777777778,
              "#fb9f3a"
             ],
             [
              0.8888888888888888,
              "#fdca26"
             ],
             [
              1,
              "#f0f921"
             ]
            ],
            "type": "heatmap"
           }
          ],
          "heatmapgl": [
           {
            "colorbar": {
             "outlinewidth": 0,
             "ticks": ""
            },
            "colorscale": [
             [
              0,
              "#0d0887"
             ],
             [
              0.1111111111111111,
              "#46039f"
             ],
             [
              0.2222222222222222,
              "#7201a8"
             ],
             [
              0.3333333333333333,
              "#9c179e"
             ],
             [
              0.4444444444444444,
              "#bd3786"
             ],
             [
              0.5555555555555556,
              "#d8576b"
             ],
             [
              0.6666666666666666,
              "#ed7953"
             ],
             [
              0.7777777777777778,
              "#fb9f3a"
             ],
             [
              0.8888888888888888,
              "#fdca26"
             ],
             [
              1,
              "#f0f921"
             ]
            ],
            "type": "heatmapgl"
           }
          ],
          "histogram": [
           {
            "marker": {
             "pattern": {
              "fillmode": "overlay",
              "size": 10,
              "solidity": 0.2
             }
            },
            "type": "histogram"
           }
          ],
          "histogram2d": [
           {
            "colorbar": {
             "outlinewidth": 0,
             "ticks": ""
            },
            "colorscale": [
             [
              0,
              "#0d0887"
             ],
             [
              0.1111111111111111,
              "#46039f"
             ],
             [
              0.2222222222222222,
              "#7201a8"
             ],
             [
              0.3333333333333333,
              "#9c179e"
             ],
             [
              0.4444444444444444,
              "#bd3786"
             ],
             [
              0.5555555555555556,
              "#d8576b"
             ],
             [
              0.6666666666666666,
              "#ed7953"
             ],
             [
              0.7777777777777778,
              "#fb9f3a"
             ],
             [
              0.8888888888888888,
              "#fdca26"
             ],
             [
              1,
              "#f0f921"
             ]
            ],
            "type": "histogram2d"
           }
          ],
          "histogram2dcontour": [
           {
            "colorbar": {
             "outlinewidth": 0,
             "ticks": ""
            },
            "colorscale": [
             [
              0,
              "#0d0887"
             ],
             [
              0.1111111111111111,
              "#46039f"
             ],
             [
              0.2222222222222222,
              "#7201a8"
             ],
             [
              0.3333333333333333,
              "#9c179e"
             ],
             [
              0.4444444444444444,
              "#bd3786"
             ],
             [
              0.5555555555555556,
              "#d8576b"
             ],
             [
              0.6666666666666666,
              "#ed7953"
             ],
             [
              0.7777777777777778,
              "#fb9f3a"
             ],
             [
              0.8888888888888888,
              "#fdca26"
             ],
             [
              1,
              "#f0f921"
             ]
            ],
            "type": "histogram2dcontour"
           }
          ],
          "mesh3d": [
           {
            "colorbar": {
             "outlinewidth": 0,
             "ticks": ""
            },
            "type": "mesh3d"
           }
          ],
          "parcoords": [
           {
            "line": {
             "colorbar": {
              "outlinewidth": 0,
              "ticks": ""
             }
            },
            "type": "parcoords"
           }
          ],
          "pie": [
           {
            "automargin": true,
            "type": "pie"
           }
          ],
          "scatter": [
           {
            "fillpattern": {
             "fillmode": "overlay",
             "size": 10,
             "solidity": 0.2
            },
            "type": "scatter"
           }
          ],
          "scatter3d": [
           {
            "line": {
             "colorbar": {
              "outlinewidth": 0,
              "ticks": ""
             }
            },
            "marker": {
             "colorbar": {
              "outlinewidth": 0,
              "ticks": ""
             }
            },
            "type": "scatter3d"
           }
          ],
          "scattercarpet": [
           {
            "marker": {
             "colorbar": {
              "outlinewidth": 0,
              "ticks": ""
             }
            },
            "type": "scattercarpet"
           }
          ],
          "scattergeo": [
           {
            "marker": {
             "colorbar": {
              "outlinewidth": 0,
              "ticks": ""
             }
            },
            "type": "scattergeo"
           }
          ],
          "scattergl": [
           {
            "marker": {
             "colorbar": {
              "outlinewidth": 0,
              "ticks": ""
             }
            },
            "type": "scattergl"
           }
          ],
          "scattermapbox": [
           {
            "marker": {
             "colorbar": {
              "outlinewidth": 0,
              "ticks": ""
             }
            },
            "type": "scattermapbox"
           }
          ],
          "scatterpolar": [
           {
            "marker": {
             "colorbar": {
              "outlinewidth": 0,
              "ticks": ""
             }
            },
            "type": "scatterpolar"
           }
          ],
          "scatterpolargl": [
           {
            "marker": {
             "colorbar": {
              "outlinewidth": 0,
              "ticks": ""
             }
            },
            "type": "scatterpolargl"
           }
          ],
          "scatterternary": [
           {
            "marker": {
             "colorbar": {
              "outlinewidth": 0,
              "ticks": ""
             }
            },
            "type": "scatterternary"
           }
          ],
          "surface": [
           {
            "colorbar": {
             "outlinewidth": 0,
             "ticks": ""
            },
            "colorscale": [
             [
              0,
              "#0d0887"
             ],
             [
              0.1111111111111111,
              "#46039f"
             ],
             [
              0.2222222222222222,
              "#7201a8"
             ],
             [
              0.3333333333333333,
              "#9c179e"
             ],
             [
              0.4444444444444444,
              "#bd3786"
             ],
             [
              0.5555555555555556,
              "#d8576b"
             ],
             [
              0.6666666666666666,
              "#ed7953"
             ],
             [
              0.7777777777777778,
              "#fb9f3a"
             ],
             [
              0.8888888888888888,
              "#fdca26"
             ],
             [
              1,
              "#f0f921"
             ]
            ],
            "type": "surface"
           }
          ],
          "table": [
           {
            "cells": {
             "fill": {
              "color": "#EBF0F8"
             },
             "line": {
              "color": "white"
             }
            },
            "header": {
             "fill": {
              "color": "#C8D4E3"
             },
             "line": {
              "color": "white"
             }
            },
            "type": "table"
           }
          ]
         },
         "layout": {
          "annotationdefaults": {
           "arrowcolor": "#2a3f5f",
           "arrowhead": 0,
           "arrowwidth": 1
          },
          "autotypenumbers": "strict",
          "coloraxis": {
           "colorbar": {
            "outlinewidth": 0,
            "ticks": ""
           }
          },
          "colorscale": {
           "diverging": [
            [
             0,
             "#8e0152"
            ],
            [
             0.1,
             "#c51b7d"
            ],
            [
             0.2,
             "#de77ae"
            ],
            [
             0.3,
             "#f1b6da"
            ],
            [
             0.4,
             "#fde0ef"
            ],
            [
             0.5,
             "#f7f7f7"
            ],
            [
             0.6,
             "#e6f5d0"
            ],
            [
             0.7,
             "#b8e186"
            ],
            [
             0.8,
             "#7fbc41"
            ],
            [
             0.9,
             "#4d9221"
            ],
            [
             1,
             "#276419"
            ]
           ],
           "sequential": [
            [
             0,
             "#0d0887"
            ],
            [
             0.1111111111111111,
             "#46039f"
            ],
            [
             0.2222222222222222,
             "#7201a8"
            ],
            [
             0.3333333333333333,
             "#9c179e"
            ],
            [
             0.4444444444444444,
             "#bd3786"
            ],
            [
             0.5555555555555556,
             "#d8576b"
            ],
            [
             0.6666666666666666,
             "#ed7953"
            ],
            [
             0.7777777777777778,
             "#fb9f3a"
            ],
            [
             0.8888888888888888,
             "#fdca26"
            ],
            [
             1,
             "#f0f921"
            ]
           ],
           "sequentialminus": [
            [
             0,
             "#0d0887"
            ],
            [
             0.1111111111111111,
             "#46039f"
            ],
            [
             0.2222222222222222,
             "#7201a8"
            ],
            [
             0.3333333333333333,
             "#9c179e"
            ],
            [
             0.4444444444444444,
             "#bd3786"
            ],
            [
             0.5555555555555556,
             "#d8576b"
            ],
            [
             0.6666666666666666,
             "#ed7953"
            ],
            [
             0.7777777777777778,
             "#fb9f3a"
            ],
            [
             0.8888888888888888,
             "#fdca26"
            ],
            [
             1,
             "#f0f921"
            ]
           ]
          },
          "colorway": [
           "#636efa",
           "#EF553B",
           "#00cc96",
           "#ab63fa",
           "#FFA15A",
           "#19d3f3",
           "#FF6692",
           "#B6E880",
           "#FF97FF",
           "#FECB52"
          ],
          "font": {
           "color": "#2a3f5f"
          },
          "geo": {
           "bgcolor": "white",
           "lakecolor": "white",
           "landcolor": "#E5ECF6",
           "showlakes": true,
           "showland": true,
           "subunitcolor": "white"
          },
          "hoverlabel": {
           "align": "left"
          },
          "hovermode": "closest",
          "mapbox": {
           "style": "light"
          },
          "paper_bgcolor": "white",
          "plot_bgcolor": "#E5ECF6",
          "polar": {
           "angularaxis": {
            "gridcolor": "white",
            "linecolor": "white",
            "ticks": ""
           },
           "bgcolor": "#E5ECF6",
           "radialaxis": {
            "gridcolor": "white",
            "linecolor": "white",
            "ticks": ""
           }
          },
          "scene": {
           "xaxis": {
            "backgroundcolor": "#E5ECF6",
            "gridcolor": "white",
            "gridwidth": 2,
            "linecolor": "white",
            "showbackground": true,
            "ticks": "",
            "zerolinecolor": "white"
           },
           "yaxis": {
            "backgroundcolor": "#E5ECF6",
            "gridcolor": "white",
            "gridwidth": 2,
            "linecolor": "white",
            "showbackground": true,
            "ticks": "",
            "zerolinecolor": "white"
           },
           "zaxis": {
            "backgroundcolor": "#E5ECF6",
            "gridcolor": "white",
            "gridwidth": 2,
            "linecolor": "white",
            "showbackground": true,
            "ticks": "",
            "zerolinecolor": "white"
           }
          },
          "shapedefaults": {
           "line": {
            "color": "#2a3f5f"
           }
          },
          "ternary": {
           "aaxis": {
            "gridcolor": "white",
            "linecolor": "white",
            "ticks": ""
           },
           "baxis": {
            "gridcolor": "white",
            "linecolor": "white",
            "ticks": ""
           },
           "bgcolor": "#E5ECF6",
           "caxis": {
            "gridcolor": "white",
            "linecolor": "white",
            "ticks": ""
           }
          },
          "title": {
           "x": 0.05
          },
          "xaxis": {
           "automargin": true,
           "gridcolor": "white",
           "linecolor": "white",
           "ticks": "",
           "title": {
            "standoff": 15
           },
           "zerolinecolor": "white",
           "zerolinewidth": 2
          },
          "yaxis": {
           "automargin": true,
           "gridcolor": "white",
           "linecolor": "white",
           "ticks": "",
           "title": {
            "standoff": 15
           },
           "zerolinecolor": "white",
           "zerolinewidth": 2
          }
         }
        },
        "title": {
         "text": "Noisy SED before and after interpolation",
         "x": 0.5
        },
        "width": 900,
        "xaxis": {
         "title": {
          "text": "Wavelength [nm]"
         }
        },
        "yaxis": {
         "title": {
          "text": "Flux unit"
         }
        }
       }
      }
     },
     "metadata": {},
     "output_type": "display_data"
    }
   ],
   "source": [
    "# Apply various interpolations to one SED and compare to ground truth\n",
    "test_SED = SED_list[display_star]\n",
    "filt_SED = gen_poly_fieldPSF.sim_psf_toolkit.filter_SED(test_SED,8)\n",
    "\n",
    "interp_kind = 'cubic'\n",
    "gen_poly_fieldPSF.sim_psf_toolkit.extrapolate = True\n",
    "\n",
    "colors = plotly.colors.qualitative.Plotly\n",
    "\n",
    "fig = go.Figure()\n",
    "\n",
    "for idx,sigma in enumerate(sigma_list):\n",
    "    filt_SED = gen_poly_fieldPSF.sim_psf_toolkit.filter_SED(test_SED,8)\n",
    "    # Add noise and normalise\n",
    "    filt_SED[:,1] = filt_SED[:,1] + gen_poly_fieldPSF.sim_psf_toolkit.SED_gen_noise(len(filt_SED), sigma)/len(filt_SED)\n",
    "    filt_SED[:,1] = filt_SED[:,1]/np.sum(filt_SED[:,1])\n",
    "    interp_SED_1 = gen_poly_fieldPSF.sim_psf_toolkit.interp_SED(filt_SED, 1, 8, interp_kind)\n",
    "    interp_SED_2 = gen_poly_fieldPSF.sim_psf_toolkit.interp_SED(filt_SED, 2, 8, interp_kind)\n",
    "    # Plot traces\n",
    "    fig.add_trace(go.Scatter(x=filt_SED[:,0],y=filt_SED[:,1]*len(filt_SED),name='Bins - 8 bins',marker=dict(size=15),\n",
    "                line=dict(color=colors[idx]),legendgroup=sigma,legendgrouptitle_text='sigma = {}'.format(sigma),opacity=0.8))\n",
    "    fig.add_trace(go.Scatter(x=interp_SED_1[:,0],y=interp_SED_1[:,1]*sum(interp_SED_1[:,2])/interp_SED_1[:,2],name='Interp - 16 bins',marker=dict(size=11),\n",
    "                line=dict(color=colors[idx]),legendgroup=sigma,legendgrouptitle_text='sigma = {}'.format(sigma),opacity=0.8))\n",
    "    fig.add_trace(go.Scatter(x=interp_SED_2[:,0],y=interp_SED_2[:,1]*sum(interp_SED_2[:,2])/interp_SED_2[:,2],name='Interp - 24 bins',mode='lines+markers',marker=dict(size=7),\n",
    "                line=dict(color=colors[idx]),legendgroup=sigma,legendgrouptitle_text='sigma = {}'.format(sigma),opacity=0.8))\n",
    "\n",
    "fig.add_trace(go.Scatter(x=test_SED[:,0],y=test_SED[:,1]*len(test_SED),name='GT - 350 bins',\n",
    "            line=dict(color='black')))\n",
    "\n",
    "fig.update_layout(legend_title_text='Sigma value:', title={'text':'Noisy SED before and after interpolation', 'x':0.5}, width=900, height=660)\n",
    "\n",
    "fig.update_xaxes(title_text=\"Wavelength [nm]\")\n",
    "fig.update_yaxes(title_text=\"Flux unit\")\n",
    "\n",
    "#fig.write_image('../outputs/plots/noisy_SED_interp_vs_GT.pdf', engine='kaleido')\n",
    "fig.show()"
   ]
  },
  {
   "cell_type": "markdown",
   "metadata": {},
   "source": [
    "# Final analysis\n",
    "\n",
    "We will change some aspects of the simulation to see if the number of SED points has a meaningful impact even if the measurements are noisy. Wi will modify two aspects of the polychromatic PSF generation.\n",
    "\n",
    "- Use linear interpolation instead of cubic splines for the new SED points.\n",
    "- Make noise proportional to each bin value. Constant SED of 1/N assumption doesn't holds."
   ]
  },
  {
   "cell_type": "code",
   "execution_count": 97,
   "metadata": {},
   "outputs": [
    {
     "data": {
      "application/vnd.plotly.v1+json": {
       "config": {
        "plotlyServerURL": "https://plot.ly"
       },
       "data": [
        {
         "legendgroup": "0.1",
         "legendgrouptitle": {
          "text": "sigma = 0.1"
         },
         "line": {
          "color": "#636EFA"
         },
         "marker": {
          "size": 15
         },
         "name": "Bins - 8 bins",
         "opacity": 0.8,
         "type": "scatter",
         "x": [
          571.875,
          615.625,
          659.375,
          703.125,
          746.875,
          790.625,
          834.375,
          878.125
         ],
         "y": [
          2.100495708824157,
          1.485736743973452,
          1.2457884788925404,
          0.8468335110651767,
          0.8351031467299049,
          0.6437689144079511,
          0.3880949873405651,
          0.4541785087662519
         ]
        },
        {
         "legendgroup": "0.1",
         "legendgrouptitle": {
          "text": "sigma = 0.1"
         },
         "line": {
          "color": "#636EFA"
         },
         "marker": {
          "size": 11
         },
         "name": "Interp - 16 bins",
         "opacity": 0.8,
         "type": "scatter",
         "x": [
          550,
          571.875,
          593.75,
          615.625,
          637.5,
          659.375,
          681.25,
          703.125,
          725,
          746.875,
          768.75,
          790.625,
          812.5,
          834.375,
          856.25,
          878.125,
          900
         ],
         "y": [
          2.382529452560324,
          2.078385503300595,
          1.774241554040866,
          1.470097604781137,
          1.3513863421036554,
          1.2326750794261738,
          1.035297332326105,
          0.8379195852260363,
          0.8321161410484449,
          0.8263126968708534,
          0.7316525904320481,
          0.6369924839932428,
          0.5105011559328164,
          0.38400982787238996,
          0.41670378491338955,
          0.44939774195438903,
          0.48209169899538856
         ]
        },
        {
         "legendgroup": "0.1",
         "legendgrouptitle": {
          "text": "sigma = 0.1"
         },
         "line": {
          "color": "#636EFA"
         },
         "marker": {
          "size": 7
         },
         "mode": "lines+markers",
         "name": "Interp - 24 bins",
         "opacity": 0.8,
         "type": "scatter",
         "x": [
          557.2916666666666,
          571.875,
          586.4583333333334,
          601.0416666666666,
          615.625,
          630.2083333333334,
          644.7916666666666,
          659.375,
          673.9583333333334,
          688.5416666666666,
          703.125,
          717.7083333333334,
          732.2916666666666,
          746.875,
          761.4583333333334,
          776.0416666666666,
          790.625,
          805.2083333333334,
          819.7916666666666,
          834.375,
          848.9583333333334,
          863.5416666666666,
          878.125,
          892.7083333333334
         ],
         "y": [
          2.283819236452832,
          2.0808191796056255,
          1.8778191227584187,
          1.674819065911214,
          1.4718190090640078,
          1.3925854976606518,
          1.3133519862572967,
          1.2341184748539407,
          1.1023792310543838,
          0.970639987254828,
          0.8389007434552711,
          0.8350272503253631,
          0.831153757195455,
          0.827280264065547,
          0.7640996318845981,
          0.7009189997036499,
          0.6377383675227011,
          0.5533120725086346,
          0.46888577749456845,
          0.38445948248050177,
          0.40628097573735217,
          0.4281024689942024,
          0.4499239622510528,
          0.4717454555079032
         ]
        },
        {
         "legendgroup": "0.05",
         "legendgrouptitle": {
          "text": "sigma = 0.05"
         },
         "line": {
          "color": "#EF553B"
         },
         "marker": {
          "size": 15
         },
         "name": "Bins - 8 bins",
         "opacity": 0.8,
         "type": "scatter",
         "x": [
          571.875,
          615.625,
          659.375,
          703.125,
          746.875,
          790.625,
          834.375,
          878.125
         ],
         "y": [
          2.023912318321446,
          1.6234405418729265,
          1.1990221066444557,
          0.9422483753434441,
          0.7214456971415929,
          0.5867437307268614,
          0.467781327202551,
          0.4354059027467235
         ]
        },
        {
         "legendgroup": "0.05",
         "legendgrouptitle": {
          "text": "sigma = 0.05"
         },
         "line": {
          "color": "#EF553B"
         },
         "marker": {
          "size": 11
         },
         "name": "Interp - 16 bins",
         "opacity": 0.8,
         "type": "scatter",
         "x": [
          550,
          571.875,
          593.75,
          615.625,
          637.5,
          659.375,
          681.25,
          703.125,
          725,
          746.875,
          768.75,
          790.625,
          812.5,
          834.375,
          856.25,
          878.125,
          900
         ],
         "y": [
          2.2114291595718196,
          2.0123383432724826,
          1.8132475269731454,
          1.6141567106738082,
          1.4031610358438098,
          1.1921653610138112,
          1.0645126904004134,
          0.9368600197870157,
          0.8270900234238951,
          0.7173200270607745,
          0.6503541981864837,
          0.5833883693121927,
          0.5242473176340335,
          0.46510626595587434,
          0.44901112501957713,
          0.43291598408327997,
          0.4168208431469828
         ]
        },
        {
         "legendgroup": "0.05",
         "legendgrouptitle": {
          "text": "sigma = 0.05"
         },
         "line": {
          "color": "#EF553B"
         },
         "marker": {
          "size": 7
         },
         "mode": "lines+markers",
         "name": "Interp - 24 bins",
         "opacity": 0.8,
         "type": "scatter",
         "x": [
          557.2916666666666,
          571.875,
          586.4583333333334,
          601.0416666666666,
          615.625,
          630.2083333333334,
          644.7916666666666,
          659.375,
          673.9583333333334,
          688.5416666666666,
          703.125,
          717.7083333333334,
          732.2916666666666,
          746.875,
          761.4583333333334,
          776.0416666666666,
          790.625,
          805.2083333333334,
          819.7916666666666,
          834.375,
          848.9583333333334,
          863.5416666666666,
          878.125,
          892.7083333333334
         ],
         "y": [
          2.1464293989216063,
          2.013617799345796,
          1.8808061997699865,
          1.7479946001941775,
          1.6151830006183676,
          1.4744297825712986,
          1.3336765645242306,
          1.1929233464771616,
          1.1077674578760572,
          1.0226115692749531,
          0.9374556806738485,
          0.8642291548430565,
          0.791002629012265,
          0.717776103181473,
          0.6731038324307094,
          0.6284315616799461,
          0.5837592909291824,
          0.5443068550008352,
          0.5048544190724882,
          0.46540198314414094,
          0.45466506693232644,
          0.44392815072051206,
          0.4331912345086976,
          0.42245431829688307
         ]
        },
        {
         "legendgroup": "0.02",
         "legendgrouptitle": {
          "text": "sigma = 0.02"
         },
         "line": {
          "color": "#00CC96"
         },
         "marker": {
          "size": 15
         },
         "name": "Bins - 8 bins",
         "opacity": 0.8,
         "type": "scatter",
         "x": [
          571.875,
          615.625,
          659.375,
          703.125,
          746.875,
          790.625,
          834.375,
          878.125
         ],
         "y": [
          2.0522162770924495,
          1.5919451093379138,
          1.174085251328921,
          0.9756182583128531,
          0.7419732619688427,
          0.5945781691237869,
          0.47942804983826076,
          0.3901556229969737
         ]
        },
        {
         "legendgroup": "0.02",
         "legendgrouptitle": {
          "text": "sigma = 0.02"
         },
         "line": {
          "color": "#00CC96"
         },
         "marker": {
          "size": 11
         },
         "name": "Interp - 16 bins",
         "opacity": 0.8,
         "type": "scatter",
         "x": [
          550,
          571.875,
          593.75,
          615.625,
          637.5,
          659.375,
          681.25,
          703.125,
          725,
          746.875,
          768.75,
          790.625,
          812.5,
          834.375,
          856.25,
          878.125,
          900
         ],
         "y": [
          2.2691976504820275,
          2.0403884404925012,
          1.811579230502975,
          1.582770020513449,
          1.3750442477612386,
          1.1673184750090282,
          1.0686569053466393,
          0.96999533568425,
          0.8538461376098028,
          0.7376969395353554,
          0.6644241449027012,
          0.5911513502700468,
          0.5339081213438063,
          0.4766648924175659,
          0.43228593737883503,
          0.3879069823401043,
          0.34352802730137355
         ]
        },
        {
         "legendgroup": "0.02",
         "legendgrouptitle": {
          "text": "sigma = 0.02"
         },
         "line": {
          "color": "#00CC96"
         },
         "marker": {
          "size": 7
         },
         "mode": "lines+markers",
         "name": "Interp - 24 bins",
         "opacity": 0.8,
         "type": "scatter",
         "x": [
          557.2916666666666,
          571.875,
          586.4583333333334,
          601.0416666666666,
          615.625,
          630.2083333333334,
          644.7916666666666,
          659.375,
          673.9583333333334,
          688.5416666666666,
          703.125,
          717.7083333333334,
          732.2916666666666,
          746.875,
          761.4583333333334,
          776.0416666666666,
          790.625,
          805.2083333333334,
          819.7916666666666,
          834.375,
          848.9583333333334,
          863.5416666666666,
          878.125,
          892.7083333333334
         ],
         "y": [
          2.194333127076052,
          2.0416959074951095,
          1.8890586879141673,
          1.736421468333226,
          1.5837842487522837,
          1.445211660744784,
          1.3066390727372854,
          1.1680664847297857,
          1.1022499571807072,
          1.0364334296316293,
          0.9706169020825508,
          0.8931344849567221,
          0.8156520678308941,
          0.7381696507050653,
          0.6892898191451132,
          0.6404099875851615,
          0.5915301560252093,
          0.5533435493604834,
          0.5151569426957577,
          0.4769703360310317,
          0.4473654075173167,
          0.4177604790036019,
          0.3881555504898869,
          0.358550621976172
         ]
        },
        {
         "legendgroup": "0.01",
         "legendgrouptitle": {
          "text": "sigma = 0.01"
         },
         "line": {
          "color": "#AB63FA"
         },
         "marker": {
          "size": 15
         },
         "name": "Bins - 8 bins",
         "opacity": 0.8,
         "type": "scatter",
         "x": [
          571.875,
          615.625,
          659.375,
          703.125,
          746.875,
          790.625,
          834.375,
          878.125
         ],
         "y": [
          2.063594473239687,
          1.5472639185357593,
          1.2258034919442191,
          0.9496969535023179,
          0.7533457665296636,
          0.5797916300227998,
          0.47786446034560587,
          0.40263930587994684
         ]
        },
        {
         "legendgroup": "0.01",
         "legendgrouptitle": {
          "text": "sigma = 0.01"
         },
         "line": {
          "color": "#AB63FA"
         },
         "marker": {
          "size": 11
         },
         "name": "Interp - 16 bins",
         "opacity": 0.8,
         "type": "scatter",
         "x": [
          550,
          571.875,
          593.75,
          615.625,
          637.5,
          659.375,
          681.25,
          703.125,
          725,
          746.875,
          768.75,
          790.625,
          812.5,
          834.375,
          856.25,
          878.125,
          900
         ],
         "y": [
          2.3058670877069756,
          2.0494689758511133,
          1.793070863995251,
          1.536672752139389,
          1.3770427522031798,
          1.2174127522669707,
          1.0803044706000928,
          0.9431961889332148,
          0.8456926165767155,
          0.7481890442202159,
          0.6620059731241217,
          0.5758229020280273,
          0.525208167699492,
          0.4745934333709566,
          0.4372383177510407,
          0.39988320213112477,
          0.3625280865112089
         ]
        },
        {
         "legendgroup": "0.01",
         "legendgrouptitle": {
          "text": "sigma = 0.01"
         },
         "line": {
          "color": "#AB63FA"
         },
         "marker": {
          "size": 7
         },
         "mode": "lines+markers",
         "name": "Interp - 24 bins",
         "opacity": 0.8,
         "type": "scatter",
         "x": [
          557.2916666666666,
          571.875,
          586.4583333333334,
          601.0416666666666,
          615.625,
          630.2083333333334,
          644.7916666666666,
          659.375,
          673.9583333333334,
          688.5416666666666,
          703.125,
          717.7083333333334,
          732.2916666666666,
          746.875,
          761.4583333333334,
          776.0416666666666,
          790.625,
          805.2083333333334,
          819.7916666666666,
          834.375,
          848.9583333333334,
          863.5416666666666,
          878.125,
          892.7083333333334
         ],
         "y": [
          2.222091097268407,
          2.051028918627859,
          1.8799667399873115,
          1.7089045613467653,
          1.5378423827062173,
          1.4313413817127731,
          1.3248403807193296,
          1.2183393797258852,
          1.1268642857720614,
          1.0353891918182385,
          0.9439140978644147,
          0.8788622400647929,
          0.8138103822651716,
          0.7487585244655497,
          0.6912594118670963,
          0.6337602992686431,
          0.5762611866701896,
          0.5424923470212488,
          0.5087235073723084,
          0.47495466772336764,
          0.4500323022072572,
          0.42510993669114694,
          0.4001875711750365,
          0.37526520565892596
         ]
        },
        {
         "legendgroup": "0.005",
         "legendgrouptitle": {
          "text": "sigma = 0.005"
         },
         "line": {
          "color": "#FFA15A"
         },
         "marker": {
          "size": 15
         },
         "name": "Bins - 8 bins",
         "opacity": 0.8,
         "type": "scatter",
         "x": [
          571.875,
          615.625,
          659.375,
          703.125,
          746.875,
          790.625,
          834.375,
          878.125
         ],
         "y": [
          2.0628926039168562,
          1.5633678933601294,
          1.2020678606856068,
          0.961357502910403,
          0.7417345321887243,
          0.588282658638803,
          0.48114390464162093,
          0.3991530436578551
         ]
        },
        {
         "legendgroup": "0.005",
         "legendgrouptitle": {
          "text": "sigma = 0.005"
         },
         "line": {
          "color": "#FFA15A"
         },
         "marker": {
          "size": 11
         },
         "name": "Interp - 16 bins",
         "opacity": 0.8,
         "type": "scatter",
         "x": [
          550,
          571.875,
          593.75,
          615.625,
          637.5,
          659.375,
          681.25,
          703.125,
          725,
          746.875,
          768.75,
          790.625,
          812.5,
          834.375,
          856.25,
          878.125,
          900
         ],
         "y": [
          2.2976650694844207,
          2.049521593903025,
          1.8013781183216286,
          1.5532346427402326,
          1.3737555420254608,
          1.194276441310689,
          1.0747013661953666,
          0.9551262910800439,
          0.8460265686425896,
          0.7369268462051355,
          0.6606982224104971,
          0.5844695986158587,
          0.5312474411840657,
          0.4780252837522727,
          0.4372955725278822,
          0.3965658613034917,
          0.3558361500791012
         ]
        },
        {
         "legendgroup": "0.005",
         "legendgrouptitle": {
          "text": "sigma = 0.005"
         },
         "line": {
          "color": "#FFA15A"
         },
         "marker": {
          "size": 7
         },
         "mode": "lines+markers",
         "name": "Interp - 24 bins",
         "opacity": 0.8,
         "type": "scatter",
         "x": [
          557.2916666666666,
          571.875,
          586.4583333333334,
          601.0416666666666,
          615.625,
          630.2083333333334,
          644.7916666666666,
          659.375,
          673.9583333333334,
          688.5416666666666,
          703.125,
          717.7083333333334,
          732.2916666666666,
          746.875,
          761.4583333333334,
          776.0416666666666,
          790.625,
          805.2083333333334,
          819.7916666666666,
          834.375,
          848.9583333333334,
          863.5416666666666,
          878.125,
          892.7083333333334
         ],
         "y": [
          2.216546905184644,
          2.0509986958481536,
          1.8854504865116635,
          1.7199022771751746,
          1.5543540678386842,
          1.434615099618632,
          1.3148761313985808,
          1.1951371631785286,
          1.1153629941408878,
          1.0355888251032477,
          0.9558146560656069,
          0.8830290885776388,
          0.8102435210896715,
          0.7374579536017034,
          0.6866022454682533,
          0.6357465373348036,
          0.5848908292013536,
          0.5493838192378055,
          0.5138768092742575,
          0.4783697993107092,
          0.45119708907042555,
          0.424024378830142,
          0.3968516685898582,
          0.36967895834957454
         ]
        },
        {
         "line": {
          "color": "black"
         },
         "name": "GT - 350 bins",
         "type": "scatter",
         "x": [
          550.5,
          551.5,
          552.5,
          553.5,
          554.5,
          555.5,
          556.5,
          557.5,
          558.5,
          559.5,
          560.5,
          561.5,
          562.5,
          563.5,
          564.5,
          565.5,
          566.5,
          567.5,
          568.5,
          569.5,
          570.5,
          571.5,
          572.5,
          573.5,
          574.5,
          575.5,
          576.5,
          577.5,
          578.5,
          579.5,
          580.5,
          581.5,
          582.5,
          583.5,
          584.5,
          585.5,
          586.5,
          587.5,
          588.5,
          589.5,
          590.5,
          591.5,
          592.5,
          593.5,
          594.5,
          595.5,
          596.5,
          597.5,
          598.5,
          599.5,
          600.5,
          601.5,
          602.5,
          603.5,
          604.5,
          605.5,
          606.5,
          607.5,
          608.5,
          609.5,
          610.5,
          611.5,
          612.5,
          613.5,
          614.5,
          615.5,
          616.5,
          617.5,
          618.5,
          619.5,
          620.5,
          621.5,
          622.5,
          623.5,
          624.5,
          625.5,
          626.5,
          627.5,
          628.5,
          629.5,
          630.5,
          631.5,
          632.5,
          633.5,
          634.5,
          635.5,
          636.5,
          637.5,
          638.5,
          639.5,
          640.5,
          641.5,
          642.5,
          643.5,
          644.5,
          645.5,
          646.5,
          647.5,
          648.5,
          649.5,
          650.5,
          651.5,
          652.5,
          653.5,
          654.5,
          655.5,
          656.5,
          657.5,
          658.5,
          659.5,
          660.5,
          661.5,
          662.5,
          663.5,
          664.5,
          665.5,
          666.5,
          667.5,
          668.5,
          669.5,
          670.5,
          671.5,
          672.5,
          673.5,
          674.5,
          675.5,
          676.5,
          677.5,
          678.5,
          679.5,
          680.5,
          681.5,
          682.5,
          683.5,
          684.5,
          685.5,
          686.5,
          687.5,
          688.5,
          689.5,
          690.5,
          691.5,
          692.5,
          693.5,
          694.5,
          695.5,
          696.5,
          697.5,
          698.5,
          699.5,
          700.5,
          701.5,
          702.5,
          703.5,
          704.5,
          705.5,
          706.5,
          707.5,
          708.5,
          709.5,
          710.5,
          711.5,
          712.5,
          713.5,
          714.5,
          715.5,
          716.5,
          717.5,
          718.5,
          719.5,
          720.5,
          721.5,
          722.5,
          723.5,
          724.5,
          725.5,
          726.5,
          727.5,
          728.5,
          729.5,
          730.5,
          731.5,
          732.5,
          733.5,
          734.5,
          735.5,
          736.5,
          737.5,
          738.5,
          739.5,
          740.5,
          741.5,
          742.5,
          743.5,
          744.5,
          745.5,
          746.5,
          747.5,
          748.5,
          749.5,
          750.5,
          751.5,
          752.5,
          753.5,
          754.5,
          755.5,
          756.5,
          757.5,
          758.5,
          759.5,
          760.5,
          761.5,
          762.5,
          763.5,
          764.5,
          765.5,
          766.5,
          767.5,
          768.5,
          769.5,
          770.5,
          771.5,
          772.5,
          773.5,
          774.5,
          775.5,
          776.5,
          777.5,
          778.5,
          779.5,
          780.5,
          781.5,
          782.5,
          783.5,
          784.5,
          785.5,
          786.5,
          787.5,
          788.5,
          789.5,
          790.5,
          791.5,
          792.5,
          793.5,
          794.5,
          795.5,
          796.5,
          797.5,
          798.5,
          799.5,
          800.5,
          801.5,
          802.5,
          803.5,
          804.5,
          805.5,
          806.5,
          807.5,
          808.5,
          809.5,
          810.5,
          811.5,
          812.5,
          813.5,
          814.5,
          815.5,
          816.5,
          817.5,
          818.5,
          819.5,
          820.5,
          821.5,
          822.5,
          823.5,
          824.5,
          825.5,
          826.5,
          827.5,
          828.5,
          829.5,
          830.5,
          831.5,
          832.5,
          833.5,
          834.5,
          835.5,
          836.5,
          837.5,
          838.5,
          839.5,
          840.5,
          841.5,
          842.5,
          843.5,
          844.5,
          845.5,
          846.5,
          847.5,
          848.5,
          849.5,
          850.5,
          851.5,
          852.5,
          853.5,
          854.5,
          855.5,
          856.5,
          857.5,
          858.5,
          859.5,
          860.5,
          861.5,
          862.5,
          863.5,
          864.5,
          865.5,
          866.5,
          867.5,
          868.5,
          869.5,
          870.5,
          871.5,
          872.5,
          873.5,
          874.5,
          875.5,
          876.5,
          877.5,
          878.5,
          879.5,
          880.5,
          881.5,
          882.5,
          883.5,
          884.5,
          885.5,
          886.5,
          887.5,
          888.5,
          889.5,
          890.5,
          891.5,
          892.5,
          893.5,
          894.5,
          895.5,
          896.5,
          897.5,
          898.5,
          899.5
         ],
         "y": [
          2.4184988062324497,
          2.3948798426474154,
          2.3750185205502694,
          2.348146569397454,
          2.335606789575722,
          2.3290857328287546,
          2.3205390996576316,
          2.3055909025068284,
          2.280980032940891,
          2.240338570574815,
          2.2483202233802104,
          2.2282291967401204,
          2.216494542942652,
          2.203212283790183,
          2.1888557498560632,
          2.1761535526807316,
          2.1568769330565387,
          2.132167452954488,
          2.126523449916952,
          2.133312495297353,
          2.0917359730241336,
          2.0834306456355005,
          2.058657358715964,
          2.042187078937152,
          2.022258469650659,
          2.0119565689367263,
          1.9998483552259736,
          1.9548726697667287,
          1.9042993862281408,
          1.9155456278408547,
          1.8714284341077678,
          1.8863603895232242,
          1.9275331886603588,
          1.9203566618792274,
          1.903176386240399,
          1.882181623039922,
          1.877631616891272,
          1.7873403296541883,
          1.774560404173925,
          1.6253696237784319,
          1.7876106385355417,
          1.815512779759751,
          1.7914413678325443,
          1.786297378219301,
          1.7652040044827177,
          1.7489738703624496,
          1.740835600823229,
          1.7258444790861165,
          1.7179045907430717,
          1.7187955659399567,
          1.7012544917513557,
          1.6836878948357699,
          1.6846090332554549,
          1.6733836738739098,
          1.6559516513370092,
          1.6511580191579445,
          1.6374012693081919,
          1.6235459089223137,
          1.6190098242611,
          1.6165932860643717,
          1.6013504174291677,
          1.5922457646360328,
          1.5770759838099697,
          1.5757163185355556,
          1.5677683093248436,
          1.5575371761721246,
          1.5328300163179764,
          1.5078966322927405,
          1.5145685051537545,
          1.5147761673415805,
          1.4978545993445669,
          1.5017908999213985,
          1.4940644743859588,
          1.4736984983687003,
          1.4796998195841375,
          1.4815200540683944,
          1.4665880986529571,
          1.4240962385798221,
          1.3543391453333635,
          1.4131771519222096,
          1.4051920187449358,
          1.3787609146947681,
          1.4025979815832006,
          1.4042546385899164,
          1.3958251779381536,
          1.382578882628288,
          1.3716435542353023,
          1.36107830538372,
          1.349897030712441,
          1.3477136774305039,
          1.3218962789521256,
          1.3203834773157648,
          1.3317689338029988,
          1.3271644018284983,
          1.314187255276003,
          1.3015279826869786,
          1.2956867585772107,
          1.2898652565746682,
          1.2859335964936325,
          1.2771340563004858,
          1.2819021657525076,
          1.2706837671147053,
          1.238877808784411,
          1.2348301363079128,
          1.2453547808210619,
          1.1732240739641964,
          1.0390917024951873,
          1.1863369550193403,
          1.231667638408579,
          1.227351977298674,
          1.2241117510944033,
          1.2087493896919432,
          1.20422838664212,
          1.1966980220549484,
          1.1896096646943577,
          1.1756371317890923,
          1.1605520400116698,
          1.139189517517697,
          1.1077025932748175,
          1.1369876022524983,
          1.1398357065602327,
          1.138118723107917,
          1.1348123698382673,
          1.127981559995489,
          1.1164220849151196,
          1.1093464889180116,
          1.1056909383380886,
          1.095710391959498,
          1.0864444819367103,
          1.079863098744116,
          1.0828434571826473,
          1.0711760905745216,
          1.0698500688947787,
          1.0653337063408097,
          1.0474968005438512,
          1.0424665030781433,
          1.0374362056124353,
          1.0324059081466885,
          1.0273756106809417,
          1.0223453132152338,
          1.0173150157495259,
          1.012284718283779,
          1.0072544208180323,
          1.0022241233523632,
          0.9971938258866164,
          0.9921635284208696,
          0.98713555120305,
          0.9908386668650904,
          0.9881576204067877,
          0.9698323024250943,
          0.9672788696017343,
          0.9635873551792129,
          0.9612566661551081,
          0.96024387794304,
          0.9502018449948468,
          0.943825803742171,
          0.9222451779447582,
          0.9299797243479235,
          0.9335761086061323,
          0.9348302026007171,
          0.9250607987817849,
          0.9222289362094238,
          0.9270457708675461,
          0.9289982594825996,
          0.9249703091133654,
          0.9172984094037662,
          0.9012944994545469,
          0.853336135308902,
          0.8360363669027981,
          0.853717816089844,
          0.8599964069303578,
          0.8872581597318296,
          0.8851003291768966,
          0.865418826292641,
          0.8469357314531856,
          0.8462245754692344,
          0.8418230651866865,
          0.8288772419809742,
          0.8339145001904247,
          0.8256288949089974,
          0.8235777957578572,
          0.8177945778458207,
          0.8149835975046094,
          0.8122596264600046,
          0.8102027266890466,
          0.8044357505123445,
          0.7958253105237623,
          0.7942823456645431,
          0.786030383977826,
          0.7823226278199702,
          0.7722701537562215,
          0.7650855061073936,
          0.7618255577958588,
          0.7493983099977397,
          0.7488310093840655,
          0.7479272728236785,
          0.7417565735109211,
          0.7346426934233263,
          0.7325533101816606,
          0.7274928494931332,
          0.7248802503481366,
          0.7226829755787534,
          0.7185598950452066,
          0.7121188868511152,
          0.7087498868879383,
          0.7071721183101232,
          0.7030768807515464,
          0.698983963440819,
          0.6948898860062058,
          0.6907958085715926,
          0.686702891260943,
          0.6826088138262909,
          0.6785147363916388,
          0.6744218190809892,
          0.6703265815224124,
          0.6662336642117628,
          0.6621407469010354,
          0.6580455093424586,
          0.653952592031809,
          0.6498596747211594,
          0.6457644371625437,
          0.6416715198518552,
          0.637577442417242,
          0.6330169951530074,
          0.6317304176877148,
          0.6295957896118587,
          0.6254181832525296,
          0.6240724394655617,
          0.6188681234067184,
          0.6164875490525301,
          0.6142148662260982,
          0.6120315129441611,
          0.6106300832074085,
          0.6048793487660797,
          0.6026530708978406,
          0.6019349541701469,
          0.5932224232735095,
          0.5930159212097053,
          0.5903928809490755,
          0.5865447497927556,
          0.5835040649086243,
          0.582285934756599,
          0.5773554079509802,
          0.5738866373276752,
          0.5738703955923408,
          0.5681776673487238,
          0.5658411777048011,
          0.5629385475712068,
          0.5609384938740358,
          0.5592864773631745,
          0.5602215372703057,
          0.5601797728079672,
          0.5579755372948025,
          0.5579094102294235,
          0.5557724619056792,
          0.5578641653952332,
          0.5535949092434822,
          0.5500263679601658,
          0.543475147990391,
          0.5379193143733862,
          0.534568876393432,
          0.5350097234960494,
          0.5356570726625487,
          0.5321210148499012,
          0.5283923764608567,
          0.5183503435127024,
          0.5109939975186661,
          0.5123977475033459,
          0.5129058817953058,
          0.5116506276767963,
          0.5122190884143951,
          0.5067491039699945,
          0.4912800111637028,
          0.479721696207297,
          0.4847229905741879,
          0.4995586557013876,
          0.4999148137553644,
          0.49602955863248255,
          0.4886500101593694,
          0.48989598328628703,
          0.4920213303705123,
          0.4878715669860756,
          0.4825605195234006,
          0.4824549482435325,
          0.47928664972445856,
          0.470614723166235,
          0.46421083893866677,
          0.46740814055667435,
          0.46901143186145466,
          0.46993721077695505,
          0.47089895353505384,
          0.46821558682878517,
          0.4660960403643777,
          0.4631667273798157,
          0.4590958524242794,
          0.4585610352813907,
          0.4565099361302116,
          0.454623574580576,
          0.44684262321925683,
          0.44884035666850064,
          0.4467973783850665,
          0.4481234000647316,
          0.44442260465061834,
          0.43859414190435264,
          0.43652216052202375,
          0.4334478320432211,
          0.4371277452261846,
          0.4309582060373518,
          0.4255009829564338,
          0.4186075264201672,
          0.4173012268476495,
          0.42021777846869,
          0.41909361835701375,
          0.4213697815552975,
          0.41680353367128387,
          0.418192202044515,
          0.41465498410798163,
          0.41674320722564495,
          0.41955882806267164,
          0.4199706720664331,
          0.4190588146383789,
          0.41580930744247735,
          0.41446704402736123,
          0.40970473519506,
          0.40593781271552887,
          0.4012184284696074,
          0.40652831580827997,
          0.40410829723968034,
          0.40539371458100937,
          0.4067104552691214,
          0.40617563812619384,
          0.40251428692649194,
          0.40375445943363064,
          0.4016001092505106,
          0.39418227668691075,
          0.38472262596380147,
          0.37388010748716227,
          0.3769706777013382,
          0.3811575650522592,
          0.3842713377455509,
          0.3835833842406766,
          0.38149052062715905,
          0.38077008365157705,
          0.3961730493924509,
          0.3971162301672493,
          0.3842957003485914,
          0.37623747936223473,
          0.3683776395720151,
          0.3652719877464683,
          0.35393641658924
         ]
        }
       ],
       "layout": {
        "height": 660,
        "legend": {
         "title": {
          "text": "Sigma value:"
         }
        },
        "template": {
         "data": {
          "bar": [
           {
            "error_x": {
             "color": "#2a3f5f"
            },
            "error_y": {
             "color": "#2a3f5f"
            },
            "marker": {
             "line": {
              "color": "#E5ECF6",
              "width": 0.5
             },
             "pattern": {
              "fillmode": "overlay",
              "size": 10,
              "solidity": 0.2
             }
            },
            "type": "bar"
           }
          ],
          "barpolar": [
           {
            "marker": {
             "line": {
              "color": "#E5ECF6",
              "width": 0.5
             },
             "pattern": {
              "fillmode": "overlay",
              "size": 10,
              "solidity": 0.2
             }
            },
            "type": "barpolar"
           }
          ],
          "carpet": [
           {
            "aaxis": {
             "endlinecolor": "#2a3f5f",
             "gridcolor": "white",
             "linecolor": "white",
             "minorgridcolor": "white",
             "startlinecolor": "#2a3f5f"
            },
            "baxis": {
             "endlinecolor": "#2a3f5f",
             "gridcolor": "white",
             "linecolor": "white",
             "minorgridcolor": "white",
             "startlinecolor": "#2a3f5f"
            },
            "type": "carpet"
           }
          ],
          "choropleth": [
           {
            "colorbar": {
             "outlinewidth": 0,
             "ticks": ""
            },
            "type": "choropleth"
           }
          ],
          "contour": [
           {
            "colorbar": {
             "outlinewidth": 0,
             "ticks": ""
            },
            "colorscale": [
             [
              0,
              "#0d0887"
             ],
             [
              0.1111111111111111,
              "#46039f"
             ],
             [
              0.2222222222222222,
              "#7201a8"
             ],
             [
              0.3333333333333333,
              "#9c179e"
             ],
             [
              0.4444444444444444,
              "#bd3786"
             ],
             [
              0.5555555555555556,
              "#d8576b"
             ],
             [
              0.6666666666666666,
              "#ed7953"
             ],
             [
              0.7777777777777778,
              "#fb9f3a"
             ],
             [
              0.8888888888888888,
              "#fdca26"
             ],
             [
              1,
              "#f0f921"
             ]
            ],
            "type": "contour"
           }
          ],
          "contourcarpet": [
           {
            "colorbar": {
             "outlinewidth": 0,
             "ticks": ""
            },
            "type": "contourcarpet"
           }
          ],
          "heatmap": [
           {
            "colorbar": {
             "outlinewidth": 0,
             "ticks": ""
            },
            "colorscale": [
             [
              0,
              "#0d0887"
             ],
             [
              0.1111111111111111,
              "#46039f"
             ],
             [
              0.2222222222222222,
              "#7201a8"
             ],
             [
              0.3333333333333333,
              "#9c179e"
             ],
             [
              0.4444444444444444,
              "#bd3786"
             ],
             [
              0.5555555555555556,
              "#d8576b"
             ],
             [
              0.6666666666666666,
              "#ed7953"
             ],
             [
              0.7777777777777778,
              "#fb9f3a"
             ],
             [
              0.8888888888888888,
              "#fdca26"
             ],
             [
              1,
              "#f0f921"
             ]
            ],
            "type": "heatmap"
           }
          ],
          "heatmapgl": [
           {
            "colorbar": {
             "outlinewidth": 0,
             "ticks": ""
            },
            "colorscale": [
             [
              0,
              "#0d0887"
             ],
             [
              0.1111111111111111,
              "#46039f"
             ],
             [
              0.2222222222222222,
              "#7201a8"
             ],
             [
              0.3333333333333333,
              "#9c179e"
             ],
             [
              0.4444444444444444,
              "#bd3786"
             ],
             [
              0.5555555555555556,
              "#d8576b"
             ],
             [
              0.6666666666666666,
              "#ed7953"
             ],
             [
              0.7777777777777778,
              "#fb9f3a"
             ],
             [
              0.8888888888888888,
              "#fdca26"
             ],
             [
              1,
              "#f0f921"
             ]
            ],
            "type": "heatmapgl"
           }
          ],
          "histogram": [
           {
            "marker": {
             "pattern": {
              "fillmode": "overlay",
              "size": 10,
              "solidity": 0.2
             }
            },
            "type": "histogram"
           }
          ],
          "histogram2d": [
           {
            "colorbar": {
             "outlinewidth": 0,
             "ticks": ""
            },
            "colorscale": [
             [
              0,
              "#0d0887"
             ],
             [
              0.1111111111111111,
              "#46039f"
             ],
             [
              0.2222222222222222,
              "#7201a8"
             ],
             [
              0.3333333333333333,
              "#9c179e"
             ],
             [
              0.4444444444444444,
              "#bd3786"
             ],
             [
              0.5555555555555556,
              "#d8576b"
             ],
             [
              0.6666666666666666,
              "#ed7953"
             ],
             [
              0.7777777777777778,
              "#fb9f3a"
             ],
             [
              0.8888888888888888,
              "#fdca26"
             ],
             [
              1,
              "#f0f921"
             ]
            ],
            "type": "histogram2d"
           }
          ],
          "histogram2dcontour": [
           {
            "colorbar": {
             "outlinewidth": 0,
             "ticks": ""
            },
            "colorscale": [
             [
              0,
              "#0d0887"
             ],
             [
              0.1111111111111111,
              "#46039f"
             ],
             [
              0.2222222222222222,
              "#7201a8"
             ],
             [
              0.3333333333333333,
              "#9c179e"
             ],
             [
              0.4444444444444444,
              "#bd3786"
             ],
             [
              0.5555555555555556,
              "#d8576b"
             ],
             [
              0.6666666666666666,
              "#ed7953"
             ],
             [
              0.7777777777777778,
              "#fb9f3a"
             ],
             [
              0.8888888888888888,
              "#fdca26"
             ],
             [
              1,
              "#f0f921"
             ]
            ],
            "type": "histogram2dcontour"
           }
          ],
          "mesh3d": [
           {
            "colorbar": {
             "outlinewidth": 0,
             "ticks": ""
            },
            "type": "mesh3d"
           }
          ],
          "parcoords": [
           {
            "line": {
             "colorbar": {
              "outlinewidth": 0,
              "ticks": ""
             }
            },
            "type": "parcoords"
           }
          ],
          "pie": [
           {
            "automargin": true,
            "type": "pie"
           }
          ],
          "scatter": [
           {
            "fillpattern": {
             "fillmode": "overlay",
             "size": 10,
             "solidity": 0.2
            },
            "type": "scatter"
           }
          ],
          "scatter3d": [
           {
            "line": {
             "colorbar": {
              "outlinewidth": 0,
              "ticks": ""
             }
            },
            "marker": {
             "colorbar": {
              "outlinewidth": 0,
              "ticks": ""
             }
            },
            "type": "scatter3d"
           }
          ],
          "scattercarpet": [
           {
            "marker": {
             "colorbar": {
              "outlinewidth": 0,
              "ticks": ""
             }
            },
            "type": "scattercarpet"
           }
          ],
          "scattergeo": [
           {
            "marker": {
             "colorbar": {
              "outlinewidth": 0,
              "ticks": ""
             }
            },
            "type": "scattergeo"
           }
          ],
          "scattergl": [
           {
            "marker": {
             "colorbar": {
              "outlinewidth": 0,
              "ticks": ""
             }
            },
            "type": "scattergl"
           }
          ],
          "scattermapbox": [
           {
            "marker": {
             "colorbar": {
              "outlinewidth": 0,
              "ticks": ""
             }
            },
            "type": "scattermapbox"
           }
          ],
          "scatterpolar": [
           {
            "marker": {
             "colorbar": {
              "outlinewidth": 0,
              "ticks": ""
             }
            },
            "type": "scatterpolar"
           }
          ],
          "scatterpolargl": [
           {
            "marker": {
             "colorbar": {
              "outlinewidth": 0,
              "ticks": ""
             }
            },
            "type": "scatterpolargl"
           }
          ],
          "scatterternary": [
           {
            "marker": {
             "colorbar": {
              "outlinewidth": 0,
              "ticks": ""
             }
            },
            "type": "scatterternary"
           }
          ],
          "surface": [
           {
            "colorbar": {
             "outlinewidth": 0,
             "ticks": ""
            },
            "colorscale": [
             [
              0,
              "#0d0887"
             ],
             [
              0.1111111111111111,
              "#46039f"
             ],
             [
              0.2222222222222222,
              "#7201a8"
             ],
             [
              0.3333333333333333,
              "#9c179e"
             ],
             [
              0.4444444444444444,
              "#bd3786"
             ],
             [
              0.5555555555555556,
              "#d8576b"
             ],
             [
              0.6666666666666666,
              "#ed7953"
             ],
             [
              0.7777777777777778,
              "#fb9f3a"
             ],
             [
              0.8888888888888888,
              "#fdca26"
             ],
             [
              1,
              "#f0f921"
             ]
            ],
            "type": "surface"
           }
          ],
          "table": [
           {
            "cells": {
             "fill": {
              "color": "#EBF0F8"
             },
             "line": {
              "color": "white"
             }
            },
            "header": {
             "fill": {
              "color": "#C8D4E3"
             },
             "line": {
              "color": "white"
             }
            },
            "type": "table"
           }
          ]
         },
         "layout": {
          "annotationdefaults": {
           "arrowcolor": "#2a3f5f",
           "arrowhead": 0,
           "arrowwidth": 1
          },
          "autotypenumbers": "strict",
          "coloraxis": {
           "colorbar": {
            "outlinewidth": 0,
            "ticks": ""
           }
          },
          "colorscale": {
           "diverging": [
            [
             0,
             "#8e0152"
            ],
            [
             0.1,
             "#c51b7d"
            ],
            [
             0.2,
             "#de77ae"
            ],
            [
             0.3,
             "#f1b6da"
            ],
            [
             0.4,
             "#fde0ef"
            ],
            [
             0.5,
             "#f7f7f7"
            ],
            [
             0.6,
             "#e6f5d0"
            ],
            [
             0.7,
             "#b8e186"
            ],
            [
             0.8,
             "#7fbc41"
            ],
            [
             0.9,
             "#4d9221"
            ],
            [
             1,
             "#276419"
            ]
           ],
           "sequential": [
            [
             0,
             "#0d0887"
            ],
            [
             0.1111111111111111,
             "#46039f"
            ],
            [
             0.2222222222222222,
             "#7201a8"
            ],
            [
             0.3333333333333333,
             "#9c179e"
            ],
            [
             0.4444444444444444,
             "#bd3786"
            ],
            [
             0.5555555555555556,
             "#d8576b"
            ],
            [
             0.6666666666666666,
             "#ed7953"
            ],
            [
             0.7777777777777778,
             "#fb9f3a"
            ],
            [
             0.8888888888888888,
             "#fdca26"
            ],
            [
             1,
             "#f0f921"
            ]
           ],
           "sequentialminus": [
            [
             0,
             "#0d0887"
            ],
            [
             0.1111111111111111,
             "#46039f"
            ],
            [
             0.2222222222222222,
             "#7201a8"
            ],
            [
             0.3333333333333333,
             "#9c179e"
            ],
            [
             0.4444444444444444,
             "#bd3786"
            ],
            [
             0.5555555555555556,
             "#d8576b"
            ],
            [
             0.6666666666666666,
             "#ed7953"
            ],
            [
             0.7777777777777778,
             "#fb9f3a"
            ],
            [
             0.8888888888888888,
             "#fdca26"
            ],
            [
             1,
             "#f0f921"
            ]
           ]
          },
          "colorway": [
           "#636efa",
           "#EF553B",
           "#00cc96",
           "#ab63fa",
           "#FFA15A",
           "#19d3f3",
           "#FF6692",
           "#B6E880",
           "#FF97FF",
           "#FECB52"
          ],
          "font": {
           "color": "#2a3f5f"
          },
          "geo": {
           "bgcolor": "white",
           "lakecolor": "white",
           "landcolor": "#E5ECF6",
           "showlakes": true,
           "showland": true,
           "subunitcolor": "white"
          },
          "hoverlabel": {
           "align": "left"
          },
          "hovermode": "closest",
          "mapbox": {
           "style": "light"
          },
          "paper_bgcolor": "white",
          "plot_bgcolor": "#E5ECF6",
          "polar": {
           "angularaxis": {
            "gridcolor": "white",
            "linecolor": "white",
            "ticks": ""
           },
           "bgcolor": "#E5ECF6",
           "radialaxis": {
            "gridcolor": "white",
            "linecolor": "white",
            "ticks": ""
           }
          },
          "scene": {
           "xaxis": {
            "backgroundcolor": "#E5ECF6",
            "gridcolor": "white",
            "gridwidth": 2,
            "linecolor": "white",
            "showbackground": true,
            "ticks": "",
            "zerolinecolor": "white"
           },
           "yaxis": {
            "backgroundcolor": "#E5ECF6",
            "gridcolor": "white",
            "gridwidth": 2,
            "linecolor": "white",
            "showbackground": true,
            "ticks": "",
            "zerolinecolor": "white"
           },
           "zaxis": {
            "backgroundcolor": "#E5ECF6",
            "gridcolor": "white",
            "gridwidth": 2,
            "linecolor": "white",
            "showbackground": true,
            "ticks": "",
            "zerolinecolor": "white"
           }
          },
          "shapedefaults": {
           "line": {
            "color": "#2a3f5f"
           }
          },
          "ternary": {
           "aaxis": {
            "gridcolor": "white",
            "linecolor": "white",
            "ticks": ""
           },
           "baxis": {
            "gridcolor": "white",
            "linecolor": "white",
            "ticks": ""
           },
           "bgcolor": "#E5ECF6",
           "caxis": {
            "gridcolor": "white",
            "linecolor": "white",
            "ticks": ""
           }
          },
          "title": {
           "x": 0.05
          },
          "xaxis": {
           "automargin": true,
           "gridcolor": "white",
           "linecolor": "white",
           "ticks": "",
           "title": {
            "standoff": 15
           },
           "zerolinecolor": "white",
           "zerolinewidth": 2
          },
          "yaxis": {
           "automargin": true,
           "gridcolor": "white",
           "linecolor": "white",
           "ticks": "",
           "title": {
            "standoff": 15
           },
           "zerolinecolor": "white",
           "zerolinewidth": 2
          }
         }
        },
        "title": {
         "text": "Noisy SED before and after interpolation",
         "x": 0.5
        },
        "width": 900,
        "xaxis": {
         "range": [
          520,
          920
         ],
         "title": {
          "text": "Wavelength [nm]"
         }
        },
        "yaxis": {
         "title": {
          "text": "Flux unit"
         }
        }
       }
      }
     },
     "metadata": {},
     "output_type": "display_data"
    }
   ],
   "source": [
    "# Apply various interpolations to one SED and compare to ground truth\n",
    "test_SED = SED_list[display_star]\n",
    "filt_SED = gen_poly_fieldPSF.sim_psf_toolkit.filter_SED(test_SED,8)\n",
    "\n",
    "interp_kind = 'linear'\n",
    "# Do not allow extrapolation\n",
    "gen_poly_fieldPSF.sim_psf_toolkit.extrapolate = True\n",
    "\n",
    "colors = plotly.colors.qualitative.Plotly\n",
    "\n",
    "fig = go.Figure()\n",
    "\n",
    "for idx,sigma in enumerate(sigma_list):\n",
    "    filt_SED = gen_poly_fieldPSF.sim_psf_toolkit.filter_SED(test_SED,8)\n",
    "    # Add noise and normalise. Noise is scaled for each bin value.\n",
    "    filt_SED[:,1] = filt_SED[:,1] + gen_poly_fieldPSF.sim_psf_toolkit.SED_gen_noise(len(filt_SED), sigma) * (filt_SED[:,1])\n",
    "    filt_SED[:,1] = filt_SED[:,1]/np.sum(filt_SED[:,1])\n",
    "    interp_SED_1 = gen_poly_fieldPSF.sim_psf_toolkit.interp_SED(filt_SED, 1, 8, interp_kind)\n",
    "    interp_SED_2 = gen_poly_fieldPSF.sim_psf_toolkit.interp_SED(filt_SED, 2, 8, interp_kind)\n",
    "    # Plot traces\n",
    "    fig.add_trace(go.Scatter(x=filt_SED[:,0],y=filt_SED[:,1]*len(filt_SED),name='Bins - 8 bins',marker=dict(size=15),\n",
    "                line=dict(color=colors[idx]),legendgroup=sigma,legendgrouptitle_text='sigma = {}'.format(sigma),opacity=0.8))\n",
    "    fig.add_trace(go.Scatter(x=interp_SED_1[:,0],y=interp_SED_1[:,1]*sum(interp_SED_1[:,2])/interp_SED_1[:,2],name='Interp - 16 bins',marker=dict(size=11),\n",
    "                line=dict(color=colors[idx]),legendgroup=sigma,legendgrouptitle_text='sigma = {}'.format(sigma),opacity=0.8))\n",
    "    fig.add_trace(go.Scatter(x=interp_SED_2[:,0],y=interp_SED_2[:,1]*sum(interp_SED_2[:,2])/interp_SED_2[:,2],name='Interp - 24 bins',mode='lines+markers',marker=dict(size=7),\n",
    "                line=dict(color=colors[idx]),legendgroup=sigma,legendgrouptitle_text='sigma = {}'.format(sigma),opacity=0.8))\n",
    "\n",
    "fig.add_trace(go.Scatter(x=test_SED[:,0],y=test_SED[:,1]*len(test_SED),name='GT - 350 bins',\n",
    "            line=dict(color='black')))\n",
    "\n",
    "fig.update_layout(legend_title_text='Sigma value:', title={'text':'Noisy SED before and after interpolation', 'x':0.5}, width=900, height=660,\n",
    "                    xaxis=dict(range=[520, 920]))\n",
    "\n",
    "fig.update_xaxes(title_text=\"Wavelength [nm]\")\n",
    "fig.update_yaxes(title_text=\"Flux unit\")\n",
    "\n",
    "#fig.write_image('../outputs/plots/noisy_SED_interp_LINEAR_vs_GT.pdf', engine='kaleido')\n",
    "fig.show()"
   ]
  },
  {
   "cell_type": "markdown",
   "metadata": {},
   "source": [
    "# Generate PSFs by interpolating SED points linearly and with no extrapolation"
   ]
  },
  {
   "cell_type": "code",
   "execution_count": 104,
   "metadata": {},
   "outputs": [],
   "source": [
    "generate_PSF = False"
   ]
  },
  {
   "cell_type": "markdown",
   "metadata": {},
   "source": [
    "#### Without Noise"
   ]
  },
  {
   "cell_type": "code",
   "execution_count": 93,
   "metadata": {},
   "outputs": [],
   "source": [
    "SED_points_per_bin_list = [0,1,2]\n",
    "n_bins = 8\n",
    "gen_poly_fieldPSF.sim_psf_toolkit.SED_sigma = 0\n",
    "gen_poly_fieldPSF.sim_psf_toolkit.extrapolate = True\n",
    "gen_poly_fieldPSF.sim_psf_toolkit.SED_interp_kind = 'linear'\n",
    "\n",
    "if generate_PSF:\n",
    "    # Generate all the polychromatic PSFs\n",
    "    interp_poly_psf = []\n",
    "\n",
    "    for points_per_bin in SED_points_per_bin_list:\n",
    "\n",
    "        # Set right number of bins\n",
    "        gen_poly_fieldPSF.n_bins = n_bins\n",
    "\n",
    "        ########### add parameter to control the upsampling ############\n",
    "        gen_poly_fieldPSF.sim_psf_toolkit.interp_pts_per_bin = points_per_bin\n",
    "\n",
    "        psf_list = []\n",
    "        # Generate polychromatic PSF at 3x Euclid resolution\n",
    "        for it in range(n_SEDs):\n",
    "            _psf, _, _ = gen_poly_fieldPSF.get_poly_PSF(xv_flat=pos_np[0, 0],\n",
    "                                                                yv_flat=pos_np[0, 1],\n",
    "                                                                SED=SED_list[it])\n",
    "            psf_list.append(_psf)\n",
    "\n",
    "        interp_poly_psf.append(psf_list)\n",
    "\n",
    "    gen_poly_fieldPSF.sim_psf_toolkit.interp_pts_per_bin = 0\n",
    "    np.save('../outputs/predictions/interp_extra_linear_poly_psf.npy',np.array(interp_poly_psf),allow_pickle=True)\n",
    "\n",
    "# Load numpy psf array\n",
    "interp_poly_psf_np = np.load('../outputs/predictions/interp_extra_linear_poly_psf.npy', allow_pickle=True)"
   ]
  },
  {
   "cell_type": "code",
   "execution_count": 94,
   "metadata": {},
   "outputs": [],
   "source": [
    "abs_rmse_mat_interp = np.zeros((len(SED_points_per_bin_list), len(SED_name)))\n",
    "rel_rmse_mat_interp = np.zeros((len(SED_points_per_bin_list), len(SED_name)))\n",
    "\n",
    "for n_points in range(len(SED_points_per_bin_list)):\n",
    "    for star_id in range(len(SED_name)):\n",
    "        abs_rmse_mat_interp[n_points, star_id], rel_rmse_mat_interp[n_points, star_id] = get_RMSE(gt_poly_psf_np[star_id,:,:],interp_poly_psf_np[n_points,star_id])"
   ]
  },
  {
   "cell_type": "code",
   "execution_count": 95,
   "metadata": {},
   "outputs": [
    {
     "name": "stdout",
     "output_type": "stream",
     "text": [
      "\t\t\t\tRelative PSF error [%]\n",
      "------  ----  ----  -----  ----  ----  ----  ----  ----  ----  ----  ----  ----  ----  --------\n",
      "n_bins  O5V   B0V   B5-7V  A0V   A5V   F0V   F5V   G0V   G5V   K0V   K5V   M0V   M5V   Avg RMSE\n",
      "8       0.31  0.31  0.26   0.25  0.23  0.19  0.17  0.16  0.15  0.14  0.11  0.11  0.12  ->  0.19\n",
      "16      0.06  0.06  0.07   0.06  0.06  0.08  0.06  0.05  0.05  0.04  0.04  0.03  0.12  ->  0.06\n",
      "24      0.13  0.13  0.1    0.09  0.08  0.05  0.05  0.05  0.05  0.04  0.04  0.03  0.11  ->  0.07\n",
      "------  ----  ----  -----  ----  ----  ----  ----  ----  ----  ----  ----  ----  ----  --------\n"
     ]
    }
   ],
   "source": [
    "rel_rmse_mean_interp = np.around(np.mean(rel_rmse_mat_interp, axis=1), decimals=2)\n",
    "table = (np.around(rel_rmse_mat_interp, decimals=2)).tolist()\n",
    "\n",
    "table.insert(0,SED_name.copy())\n",
    "table[0].insert(0,'n_bins')\n",
    "table[0].append('Avg RMSE')\n",
    "for idx, n_points in enumerate(SED_points_per_bin_list):\n",
    "    table[idx+1].insert(0, n_bins*(n_points+1))\n",
    "    table[idx+1].append('->  '+str(rel_rmse_mean_interp[idx]))\n",
    "print('\\t\\t\\t\\tRelative PSF error [%]')\n",
    "print(tabulate(table))"
   ]
  },
  {
   "cell_type": "markdown",
   "metadata": {},
   "source": [
    "#### With noise"
   ]
  },
  {
   "cell_type": "code",
   "execution_count": 99,
   "metadata": {},
   "outputs": [],
   "source": [
    "generate_PSF = False"
   ]
  },
  {
   "cell_type": "code",
   "execution_count": 100,
   "metadata": {},
   "outputs": [],
   "source": [
    "SED_points_per_bin_list = [0,1,2]\n",
    "sigma_list = [0.1, 0.05, 0.02, 0.01, 0.005]\n",
    "n_realisations = 10\n",
    "n_bins = 8\n",
    "gen_poly_fieldPSF.sim_psf_toolkit.SED_sigma = 0\n",
    "gen_poly_fieldPSF.sim_psf_toolkit.SED_interp_kind = 'linear'\n",
    "gen_poly_fieldPSF.sim_psf_toolkit.extrapolate = True\n",
    "\n",
    "if generate_PSF:\n",
    "    noisy_interp_poly_psf = []\n",
    "\n",
    "    for sigma in sigma_list:\n",
    "        gen_poly_fieldPSF.sim_psf_toolkit.SED_sigma = sigma\n",
    "        # Generate all the polychromatic PSFs\n",
    "        interp_poly_psf = []\n",
    "\n",
    "        for realisation in range(n_realisations):\n",
    "\n",
    "            interp_poly_psf_realisation = []\n",
    "\n",
    "            for points_per_bin in SED_points_per_bin_list:\n",
    "\n",
    "                # Set right number of bins\n",
    "                gen_poly_fieldPSF.n_bins = n_bins\n",
    "\n",
    "                # Set number of points per bin to add\n",
    "                gen_poly_fieldPSF.sim_psf_toolkit.interp_pts_per_bin = points_per_bin\n",
    "\n",
    "                psf_list = []\n",
    "                # Generate polychromatic PSF at 3x Euclid resolution\n",
    "                for it in range(n_SEDs):\n",
    "                    _psf, _, _ = gen_poly_fieldPSF.get_poly_PSF(xv_flat=pos_np[0, 0],\n",
    "                                                                        yv_flat=pos_np[0, 1],\n",
    "                                                                        SED=SED_list[it])\n",
    "                    psf_list.append(_psf)\n",
    "\n",
    "                interp_poly_psf_realisation.append(psf_list)\n",
    "\n",
    "            interp_poly_psf.append(interp_poly_psf_realisation)\n",
    "        \n",
    "        noisy_interp_poly_psf.append(interp_poly_psf)\n",
    "\n",
    "    gen_poly_fieldPSF.sim_psf_toolkit.interp_pts_per_bin = 0\n",
    "    np.save('../outputs/predictions/noisy_interp_extra_linear_poly_psf.npy',np.array(noisy_interp_poly_psf),allow_pickle=True)\n",
    "\n",
    "# Load numpy PSF array\n",
    "noisy_interp_poly_psf_np = np.load('../outputs/predictions/noisy_interp_extra_linear_poly_psf.npy',allow_pickle=True)"
   ]
  },
  {
   "cell_type": "code",
   "execution_count": 101,
   "metadata": {},
   "outputs": [],
   "source": [
    "abs_rmse_mat_noisy_interp = np.zeros((len(sigma_list),n_realisations,len(SED_points_per_bin_list), len(SED_name)))\n",
    "rel_rmse_mat_noisy_interp = np.zeros((len(sigma_list),n_realisations,len(SED_points_per_bin_list), len(SED_name)))\n",
    "\n",
    "for sigma_id in range(len(sigma_list)):\n",
    "    for realisation in range(n_realisations):\n",
    "        for n_points in range(len(SED_points_per_bin_list)):\n",
    "            for star_id in range(len(SED_name)):\n",
    "                abs_rmse_mat_noisy_interp[sigma_id, realisation, n_points, star_id], rel_rmse_mat_noisy_interp[sigma_id, realisation, n_points, star_id] = get_RMSE(gt_poly_psf_np[star_id,:,:],noisy_interp_poly_psf_np[sigma_id,realisation,n_points,star_id])\n",
    "\n",
    "# Average for every star and for each set of 10 realisations\n",
    "rel_rmse_mean_noisy_interp = np.mean(rel_rmse_mat_noisy_interp, axis=3)\n",
    "rel_rmse_mean_noisy_interp = np.around(np.mean(rel_rmse_mean_noisy_interp, axis=1), decimals=2)"
   ]
  },
  {
   "cell_type": "code",
   "execution_count": 102,
   "metadata": {},
   "outputs": [
    {
     "name": "stdout",
     "output_type": "stream",
     "text": [
      "--------  ----  ----  ----  ----  -----  ----\n",
      "sigma ->  0.1   0.05  0.02  0.01  0.005  0\n",
      "n_bins\n",
      "8         0.65  0.37  0.24  0.21  0.19   0.19\n",
      "16        0.6   0.3   0.15  0.08  0.07   0.06\n",
      "24        0.57  0.32  0.16  0.1   0.08   0.07\n",
      "--------  ----  ----  ----  ----  -----  ----\n"
     ]
    }
   ],
   "source": [
    "table = (np.around(rel_rmse_mean_noisy_interp.T, decimals=2)).tolist()\n",
    "\n",
    "table.insert(0,[])\n",
    "table.insert(0,sigma_list.copy())\n",
    "table[0].append(0)\n",
    "table[0].insert(0, 'sigma ->')\n",
    "table[1].insert(0,'n_bins')\n",
    "for idx, n_points in enumerate(SED_points_per_bin_list):\n",
    "    table[idx+2].insert(0, n_bins*(n_points+1))\n",
    "    table[idx+2].append(rel_rmse_mean_interp[idx])\n",
    "print(tabulate(table))"
   ]
  },
  {
   "cell_type": "code",
   "execution_count": 105,
   "metadata": {},
   "outputs": [
    {
     "data": {
      "image/svg+xml": "<svg class=\"main-svg\" xmlns=\"http://www.w3.org/2000/svg\" xmlns:xlink=\"http://www.w3.org/1999/xlink\" width=\"900\" height=\"520\" style=\"\" viewBox=\"0 0 900 520\"><rect x=\"0\" y=\"0\" width=\"900\" height=\"520\" style=\"fill: rgb(255, 255, 255); fill-opacity: 1;\"/><defs id=\"defs-b9f4dc\"><g class=\"clips\"><clipPath id=\"clipb9f4dcxyplot\" class=\"plotclip\"><rect width=\"660\" height=\"340\"/></clipPath><clipPath class=\"axesclip\" id=\"clipb9f4dcx\"><rect x=\"80\" y=\"0\" width=\"660\" height=\"520\"/></clipPath><clipPath class=\"axesclip\" id=\"clipb9f4dcy\"><rect x=\"0\" y=\"100\" width=\"900\" height=\"340\"/></clipPath><clipPath class=\"axesclip\" id=\"clipb9f4dcxy\"><rect x=\"80\" y=\"100\" width=\"660\" height=\"340\"/></clipPath></g><g class=\"gradients\"/><g class=\"patterns\"/></defs><g class=\"bglayer\"><rect class=\"bg\" x=\"80\" y=\"100\" width=\"660\" height=\"340\" style=\"fill: rgb(229, 236, 246); fill-opacity: 1; stroke-width: 0;\"/></g><g class=\"layer-below\"><g class=\"imagelayer\"/><g class=\"shapelayer\"/></g><g class=\"cartesianlayer\"><g class=\"subplot xy\"><g class=\"layer-subplot\"><g class=\"shapelayer\"/><g class=\"imagelayer\"/></g><g class=\"minor-gridlayer\"><g class=\"x\"/><g class=\"y\"/></g><g class=\"gridlayer\"><g class=\"x\"><path class=\"xgrid crisp\" transform=\"translate(116.75,0)\" d=\"M0,100v340\" style=\"stroke: rgb(255, 255, 255); stroke-opacity: 1; stroke-width: 1px;\"/><path class=\"xgrid crisp\" transform=\"translate(410,0)\" d=\"M0,100v340\" style=\"stroke: rgb(255, 255, 255); stroke-opacity: 1; stroke-width: 1px;\"/><path class=\"xgrid crisp\" transform=\"translate(703.25,0)\" d=\"M0,100v340\" style=\"stroke: rgb(255, 255, 255); stroke-opacity: 1; stroke-width: 1px;\"/></g><g class=\"y\"><path class=\"ygrid crisp\" transform=\"translate(0,419.25)\" d=\"M80,0h660\" style=\"stroke: rgb(255, 255, 255); stroke-opacity: 1; stroke-width: 1px;\"/><path class=\"ygrid crisp\" transform=\"translate(0,399.94)\" d=\"M80,0h660\" style=\"stroke: rgb(255, 255, 255); stroke-opacity: 1; stroke-width: 1px;\"/><path class=\"ygrid crisp\" transform=\"translate(0,383.21)\" d=\"M80,0h660\" style=\"stroke: rgb(255, 255, 255); stroke-opacity: 1; stroke-width: 1px;\"/><path class=\"ygrid crisp\" transform=\"translate(0,368.45)\" d=\"M80,0h660\" style=\"stroke: rgb(255, 255, 255); stroke-opacity: 1; stroke-width: 1px;\"/><path class=\"ygrid crisp\" transform=\"translate(0,355.25)\" d=\"M80,0h660\" style=\"stroke: rgb(255, 255, 255); stroke-opacity: 1; stroke-width: 1px;\"/><path class=\"ygrid crisp\" transform=\"translate(0,268.40999999999997)\" d=\"M80,0h660\" style=\"stroke: rgb(255, 255, 255); stroke-opacity: 1; stroke-width: 1px;\"/><path class=\"ygrid crisp\" transform=\"translate(0,217.62)\" d=\"M80,0h660\" style=\"stroke: rgb(255, 255, 255); stroke-opacity: 1; stroke-width: 1px;\"/><path class=\"ygrid crisp\" transform=\"translate(0,181.57999999999998)\" d=\"M80,0h660\" style=\"stroke: rgb(255, 255, 255); stroke-opacity: 1; stroke-width: 1px;\"/><path class=\"ygrid crisp\" transform=\"translate(0,153.62)\" d=\"M80,0h660\" style=\"stroke: rgb(255, 255, 255); stroke-opacity: 1; stroke-width: 1px;\"/><path class=\"ygrid crisp\" transform=\"translate(0,130.78)\" d=\"M80,0h660\" style=\"stroke: rgb(255, 255, 255); stroke-opacity: 1; stroke-width: 1px;\"/><path class=\"ygrid crisp\" transform=\"translate(0,111.47)\" d=\"M80,0h660\" style=\"stroke: rgb(255, 255, 255); stroke-opacity: 1; stroke-width: 1px;\"/></g></g><g class=\"zerolinelayer\"/><path class=\"xlines-below\"/><path class=\"ylines-below\"/><g class=\"overlines-below\"/><g class=\"xaxislayer-below\"/><g class=\"yaxislayer-below\"/><g class=\"overaxes-below\"/><g class=\"plot\" transform=\"translate(80,100)\" clip-path=\"url(#clipb9f4dcxyplot)\"><g class=\"scatterlayer mlayer\"><g class=\"trace scatter trace521b39\" style=\"stroke-miterlimit: 2; opacity: 1;\"><g class=\"fills\"/><g class=\"errorbars\"/><g class=\"lines\"><path class=\"js-line\" d=\"M36.75,20.75L330,30.78L623.25,37.2\" style=\"vector-effect: non-scaling-stroke; fill: none; stroke: rgb(99, 110, 250); stroke-opacity: 1; stroke-width: 2px; opacity: 1;\"/></g><g class=\"points\"><path class=\"point\" transform=\"translate(36.75,20.75)\" d=\"M3,0A3,3 0 1,1 0,-3A3,3 0 0,1 3,0Z\" style=\"opacity: 1; stroke-width: 0px; fill: rgb(99, 110, 250); fill-opacity: 1;\"/><path class=\"point\" transform=\"translate(330,30.78)\" d=\"M3,0A3,3 0 1,1 0,-3A3,3 0 0,1 3,0Z\" style=\"opacity: 1; stroke-width: 0px; fill: rgb(99, 110, 250); fill-opacity: 1;\"/><path class=\"point\" transform=\"translate(623.25,37.2)\" d=\"M3,0A3,3 0 1,1 0,-3A3,3 0 0,1 3,0Z\" style=\"opacity: 1; stroke-width: 0px; fill: rgb(99, 110, 250); fill-opacity: 1;\"/></g><g class=\"text\"/></g><g class=\"trace scatter trace96627e\" style=\"stroke-miterlimit: 2; opacity: 1;\"><g class=\"fills\"/><g class=\"errorbars\"/><g class=\"lines\"><path class=\"js-line\" d=\"M36.75,91.34L330,117.62L623.25,109.53\" style=\"vector-effect: non-scaling-stroke; fill: none; stroke: rgb(239, 85, 59); stroke-opacity: 1; stroke-width: 2px; opacity: 1;\"/></g><g class=\"points\"><path class=\"point\" transform=\"translate(36.75,91.34)\" d=\"M3,0A3,3 0 1,1 0,-3A3,3 0 0,1 3,0Z\" style=\"opacity: 1; stroke-width: 0px; fill: rgb(239, 85, 59); fill-opacity: 1;\"/><path class=\"point\" transform=\"translate(330,117.62)\" d=\"M3,0A3,3 0 1,1 0,-3A3,3 0 0,1 3,0Z\" style=\"opacity: 1; stroke-width: 0px; fill: rgb(239, 85, 59); fill-opacity: 1;\"/><path class=\"point\" transform=\"translate(623.25,109.53)\" d=\"M3,0A3,3 0 1,1 0,-3A3,3 0 0,1 3,0Z\" style=\"opacity: 1; stroke-width: 0px; fill: rgb(239, 85, 59); fill-opacity: 1;\"/></g><g class=\"text\"/></g><g class=\"trace scatter trace4e071c\" style=\"stroke-miterlimit: 2; opacity: 1;\"><g class=\"fills\"/><g class=\"errorbars\"/><g class=\"lines\"><path class=\"js-line\" d=\"M36.75,145.57L330,204.46L623.25,196.37\" style=\"vector-effect: non-scaling-stroke; fill: none; stroke: rgb(0, 204, 150); stroke-opacity: 1; stroke-width: 2px; opacity: 1;\"/></g><g class=\"points\"><path class=\"point\" transform=\"translate(36.75,145.57)\" d=\"M3,0A3,3 0 1,1 0,-3A3,3 0 0,1 3,0Z\" style=\"opacity: 1; stroke-width: 0px; fill: rgb(0, 204, 150); fill-opacity: 1;\"/><path class=\"point\" transform=\"translate(330,204.46)\" d=\"M3,0A3,3 0 1,1 0,-3A3,3 0 0,1 3,0Z\" style=\"opacity: 1; stroke-width: 0px; fill: rgb(0, 204, 150); fill-opacity: 1;\"/><path class=\"point\" transform=\"translate(623.25,196.37)\" d=\"M3,0A3,3 0 1,1 0,-3A3,3 0 0,1 3,0Z\" style=\"opacity: 1; stroke-width: 0px; fill: rgb(0, 204, 150); fill-opacity: 1;\"/></g><g class=\"text\"/></g><g class=\"trace scatter trace11e5ef\" style=\"stroke-miterlimit: 2; opacity: 1;\"><g class=\"fills\"/><g class=\"errorbars\"/><g class=\"lines\"><path class=\"js-line\" d=\"M36.75,162.3L330,283.21L623.25,255.25\" style=\"vector-effect: non-scaling-stroke; fill: none; stroke: rgb(171, 99, 250); stroke-opacity: 1; stroke-width: 2px; opacity: 1;\"/></g><g class=\"points\"><path class=\"point\" transform=\"translate(36.75,162.3)\" d=\"M3,0A3,3 0 1,1 0,-3A3,3 0 0,1 3,0Z\" style=\"opacity: 1; stroke-width: 0px; fill: rgb(171, 99, 250); fill-opacity: 1;\"/><path class=\"point\" transform=\"translate(330,283.21)\" d=\"M3,0A3,3 0 1,1 0,-3A3,3 0 0,1 3,0Z\" style=\"opacity: 1; stroke-width: 0px; fill: rgb(171, 99, 250); fill-opacity: 1;\"/><path class=\"point\" transform=\"translate(623.25,255.25)\" d=\"M3,0A3,3 0 1,1 0,-3A3,3 0 0,1 3,0Z\" style=\"opacity: 1; stroke-width: 0px; fill: rgb(171, 99, 250); fill-opacity: 1;\"/></g><g class=\"text\"/></g><g class=\"trace scatter tracea08abd\" style=\"stroke-miterlimit: 2; opacity: 1;\"><g class=\"fills\"/><g class=\"errorbars\"/><g class=\"lines\"><path class=\"js-line\" d=\"M36.75,174.84L330,299.94L623.25,283.21\" style=\"vector-effect: non-scaling-stroke; fill: none; stroke: rgb(255, 161, 90); stroke-opacity: 1; stroke-width: 2px; opacity: 1;\"/></g><g class=\"points\"><path class=\"point\" transform=\"translate(36.75,174.84)\" d=\"M3,0A3,3 0 1,1 0,-3A3,3 0 0,1 3,0Z\" style=\"opacity: 1; stroke-width: 0px; fill: rgb(255, 161, 90); fill-opacity: 1;\"/><path class=\"point\" transform=\"translate(330,299.94)\" d=\"M3,0A3,3 0 1,1 0,-3A3,3 0 0,1 3,0Z\" style=\"opacity: 1; stroke-width: 0px; fill: rgb(255, 161, 90); fill-opacity: 1;\"/><path class=\"point\" transform=\"translate(623.25,283.21)\" d=\"M3,0A3,3 0 1,1 0,-3A3,3 0 0,1 3,0Z\" style=\"opacity: 1; stroke-width: 0px; fill: rgb(255, 161, 90); fill-opacity: 1;\"/></g><g class=\"text\"/></g><g class=\"trace scatter tracecda539\" style=\"stroke-miterlimit: 2; opacity: 1;\"><g class=\"fills\"/><g class=\"errorbars\"/><g class=\"lines\"><path class=\"js-line\" d=\"M36.75,174.84L330,319.25L623.25,299.94\" style=\"vector-effect: non-scaling-stroke; fill: none; stroke: rgb(0, 0, 0); stroke-opacity: 1; stroke-width: 2px; opacity: 1; stroke-dasharray: 3px, 3px;\"/></g><g class=\"points\"><path class=\"point\" transform=\"translate(36.75,174.84)\" d=\"M3,0A3,3 0 1,1 0,-3A3,3 0 0,1 3,0Z\" style=\"opacity: 1; stroke-width: 0px; fill: rgb(0, 0, 0); fill-opacity: 1;\"/><path class=\"point\" transform=\"translate(330,319.25)\" d=\"M3,0A3,3 0 1,1 0,-3A3,3 0 0,1 3,0Z\" style=\"opacity: 1; stroke-width: 0px; fill: rgb(0, 0, 0); fill-opacity: 1;\"/><path class=\"point\" transform=\"translate(623.25,299.94)\" d=\"M3,0A3,3 0 1,1 0,-3A3,3 0 0,1 3,0Z\" style=\"opacity: 1; stroke-width: 0px; fill: rgb(0, 0, 0); fill-opacity: 1;\"/></g><g class=\"text\"/></g></g></g><g class=\"overplot\"/><path class=\"xlines-above crisp\" d=\"M0,0\" style=\"fill: none;\"/><path class=\"ylines-above crisp\" d=\"M0,0\" style=\"fill: none;\"/><g class=\"overlines-above\"/><g class=\"xaxislayer-above\"><g class=\"xtick\"><text text-anchor=\"middle\" x=\"0\" y=\"453\" transform=\"translate(116.75,0)\" style=\"font-family: 'Open Sans', verdana, arial, sans-serif; font-size: 12px; fill: rgb(42, 63, 95); fill-opacity: 1; white-space: pre; opacity: 1;\">8</text></g><g class=\"xtick\"><text text-anchor=\"middle\" x=\"0\" y=\"453\" style=\"font-family: 'Open Sans', verdana, arial, sans-serif; font-size: 12px; fill: rgb(42, 63, 95); fill-opacity: 1; white-space: pre; opacity: 1;\" transform=\"translate(410,0)\">16</text></g><g class=\"xtick\"><text text-anchor=\"middle\" x=\"0\" y=\"453\" style=\"font-family: 'Open Sans', verdana, arial, sans-serif; font-size: 12px; fill: rgb(42, 63, 95); fill-opacity: 1; white-space: pre; opacity: 1;\" transform=\"translate(703.25,0)\">24</text></g></g><g class=\"yaxislayer-above\"><g class=\"ytick\"><text text-anchor=\"end\" x=\"79\" y=\"3.15\" transform=\"translate(0,419.25)\" style=\"font-family: 'Open Sans', verdana, arial, sans-serif; font-size: 9px; fill: rgb(42, 63, 95); fill-opacity: 1; white-space: pre; opacity: 1;\">6</text></g><g class=\"ytick\"><text text-anchor=\"end\" x=\"79\" y=\"3.15\" style=\"font-family: 'Open Sans', verdana, arial, sans-serif; font-size: 9px; fill: rgb(42, 63, 95); fill-opacity: 1; white-space: pre; opacity: 1;\" transform=\"translate(0,399.94)\">7</text></g><g class=\"ytick\"><text text-anchor=\"end\" x=\"79\" y=\"3.15\" style=\"font-family: 'Open Sans', verdana, arial, sans-serif; font-size: 9px; fill: rgb(42, 63, 95); fill-opacity: 1; white-space: pre; opacity: 1;\" transform=\"translate(0,383.21)\">8</text></g><g class=\"ytick\"><text text-anchor=\"end\" x=\"79\" y=\"3.15\" style=\"font-family: 'Open Sans', verdana, arial, sans-serif; font-size: 9px; fill: rgb(42, 63, 95); fill-opacity: 1; white-space: pre; opacity: 1;\" transform=\"translate(0,368.45)\">9</text></g><g class=\"ytick\"><text text-anchor=\"end\" x=\"76\" y=\"2.1999999999999993\" style=\"font-family: 'Open Sans', verdana, arial, sans-serif; font-size: 12px; fill: rgb(42, 63, 95); fill-opacity: 1; white-space: pre; opacity: 1;\" transform=\"translate(0,355.25)\">0.1</text></g><g class=\"ytick\"><text text-anchor=\"end\" x=\"79\" y=\"3.15\" style=\"font-family: 'Open Sans', verdana, arial, sans-serif; font-size: 9px; fill: rgb(42, 63, 95); fill-opacity: 1; white-space: pre; opacity: 1;\" transform=\"translate(0,268.40999999999997)\">2</text></g><g class=\"ytick\"><text text-anchor=\"end\" x=\"79\" y=\"3.15\" style=\"font-family: 'Open Sans', verdana, arial, sans-serif; font-size: 9px; fill: rgb(42, 63, 95); fill-opacity: 1; white-space: pre; opacity: 1;\" transform=\"translate(0,217.62)\">3</text></g><g class=\"ytick\"><text text-anchor=\"end\" x=\"79\" y=\"3.15\" style=\"font-family: 'Open Sans', verdana, arial, sans-serif; font-size: 9px; fill: rgb(42, 63, 95); fill-opacity: 1; white-space: pre; opacity: 1;\" transform=\"translate(0,181.57999999999998)\">4</text></g><g class=\"ytick\"><text text-anchor=\"end\" x=\"79\" y=\"3.15\" style=\"font-family: 'Open Sans', verdana, arial, sans-serif; font-size: 9px; fill: rgb(42, 63, 95); fill-opacity: 1; white-space: pre; opacity: 1;\" transform=\"translate(0,153.62)\">5</text></g><g class=\"ytick\"><text text-anchor=\"end\" x=\"79\" y=\"3.15\" style=\"font-family: 'Open Sans', verdana, arial, sans-serif; font-size: 9px; fill: rgb(42, 63, 95); fill-opacity: 1; white-space: pre; opacity: 1;\" transform=\"translate(0,130.78)\">6</text></g><g class=\"ytick\"><text text-anchor=\"end\" x=\"79\" y=\"3.15\" style=\"font-family: 'Open Sans', verdana, arial, sans-serif; font-size: 9px; fill: rgb(42, 63, 95); fill-opacity: 1; white-space: pre; opacity: 1;\" transform=\"translate(0,111.47)\">7</text></g></g><g class=\"overaxes-above\"/></g></g><g class=\"polarlayer\"/><g class=\"smithlayer\"/><g class=\"ternarylayer\"/><g class=\"geolayer\"/><g class=\"funnelarealayer\"/><g class=\"pielayer\"/><g class=\"iciclelayer\"/><g class=\"treemaplayer\"/><g class=\"sunburstlayer\"/><g class=\"glimages\"/><defs id=\"topdefs-b9f4dc\"><g class=\"clips\"/><clipPath id=\"legendb9f4dc\"><rect width=\"135\" height=\"143\" x=\"0\" y=\"0\"/></clipPath></defs><g class=\"layer-above\"><g class=\"imagelayer\"/><g class=\"shapelayer\"/></g><g class=\"infolayer\"><g class=\"legend\" pointer-events=\"all\" transform=\"translate(753.2,100)\"><rect class=\"bg\" shape-rendering=\"crispEdges\" width=\"135\" height=\"143\" x=\"0\" y=\"0\" style=\"stroke: rgb(68, 68, 68); stroke-opacity: 1; fill: rgb(255, 255, 255); fill-opacity: 1; stroke-width: 0px;\"/><g class=\"scrollbox\" transform=\"\" clip-path=\"url(#legendb9f4dc)\"><text class=\"legendtitletext\" text-anchor=\"start\" x=\"2\" y=\"18.2\" style=\"font-family: 'Open Sans', verdana, arial, sans-serif; font-size: 14px; fill: rgb(42, 63, 95); fill-opacity: 1; white-space: pre;\">Sigma values:</text><g class=\"groups\"><g class=\"traces\" transform=\"translate(0,32.7)\" style=\"opacity: 1;\"><text class=\"legendtext\" text-anchor=\"start\" x=\"40\" y=\"4.680000000000001\" style=\"font-family: 'Open Sans', verdana, arial, sans-serif; font-size: 12px; fill: rgb(42, 63, 95); fill-opacity: 1; white-space: pre;\">sigma = 0.1</text><g class=\"layers\" style=\"opacity: 1;\"><g class=\"legendfill\"/><g class=\"legendlines\"><path class=\"js-line\" d=\"M5,0h30\" style=\"fill: none; stroke: rgb(99, 110, 250); stroke-opacity: 1; stroke-width: 2px;\"/></g><g class=\"legendsymbols\"><g class=\"legendpoints\"><path class=\"scatterpts\" transform=\"translate(20,0)\" d=\"M3,0A3,3 0 1,1 0,-3A3,3 0 0,1 3,0Z\" style=\"opacity: 1; stroke-width: 0px; fill: rgb(99, 110, 250); fill-opacity: 1;\"/></g></g></g><rect class=\"legendtoggle\" x=\"0\" y=\"-9.5\" width=\"129.046875\" height=\"19\" style=\"fill: rgb(0, 0, 0); fill-opacity: 0;\"/></g><g class=\"traces\" transform=\"translate(0,51.7)\" style=\"opacity: 1;\"><text class=\"legendtext\" text-anchor=\"start\" x=\"40\" y=\"4.680000000000001\" style=\"font-family: 'Open Sans', verdana, arial, sans-serif; font-size: 12px; fill: rgb(42, 63, 95); fill-opacity: 1; white-space: pre;\">sigma = 0.05</text><g class=\"layers\" style=\"opacity: 1;\"><g class=\"legendfill\"/><g class=\"legendlines\"><path class=\"js-line\" d=\"M5,0h30\" style=\"fill: none; stroke: rgb(239, 85, 59); stroke-opacity: 1; stroke-width: 2px;\"/></g><g class=\"legendsymbols\"><g class=\"legendpoints\"><path class=\"scatterpts\" transform=\"translate(20,0)\" d=\"M3,0A3,3 0 1,1 0,-3A3,3 0 0,1 3,0Z\" style=\"opacity: 1; stroke-width: 0px; fill: rgb(239, 85, 59); fill-opacity: 1;\"/></g></g></g><rect class=\"legendtoggle\" x=\"0\" y=\"-9.5\" width=\"129.046875\" height=\"19\" style=\"fill: rgb(0, 0, 0); fill-opacity: 0;\"/></g><g class=\"traces\" transform=\"translate(0,70.7)\" style=\"opacity: 1;\"><text class=\"legendtext\" text-anchor=\"start\" x=\"40\" y=\"4.680000000000001\" style=\"font-family: 'Open Sans', verdana, arial, sans-serif; font-size: 12px; fill: rgb(42, 63, 95); fill-opacity: 1; white-space: pre;\">sigma = 0.02</text><g class=\"layers\" style=\"opacity: 1;\"><g class=\"legendfill\"/><g class=\"legendlines\"><path class=\"js-line\" d=\"M5,0h30\" style=\"fill: none; stroke: rgb(0, 204, 150); stroke-opacity: 1; stroke-width: 2px;\"/></g><g class=\"legendsymbols\"><g class=\"legendpoints\"><path class=\"scatterpts\" transform=\"translate(20,0)\" d=\"M3,0A3,3 0 1,1 0,-3A3,3 0 0,1 3,0Z\" style=\"opacity: 1; stroke-width: 0px; fill: rgb(0, 204, 150); fill-opacity: 1;\"/></g></g></g><rect class=\"legendtoggle\" x=\"0\" y=\"-9.5\" width=\"129.046875\" height=\"19\" style=\"fill: rgb(0, 0, 0); fill-opacity: 0;\"/></g><g class=\"traces\" transform=\"translate(0,89.7)\" style=\"opacity: 1;\"><text class=\"legendtext\" text-anchor=\"start\" x=\"40\" y=\"4.680000000000001\" style=\"font-family: 'Open Sans', verdana, arial, sans-serif; font-size: 12px; fill: rgb(42, 63, 95); fill-opacity: 1; white-space: pre;\">sigma = 0.01</text><g class=\"layers\" style=\"opacity: 1;\"><g class=\"legendfill\"/><g class=\"legendlines\"><path class=\"js-line\" d=\"M5,0h30\" style=\"fill: none; stroke: rgb(171, 99, 250); stroke-opacity: 1; stroke-width: 2px;\"/></g><g class=\"legendsymbols\"><g class=\"legendpoints\"><path class=\"scatterpts\" transform=\"translate(20,0)\" d=\"M3,0A3,3 0 1,1 0,-3A3,3 0 0,1 3,0Z\" style=\"opacity: 1; stroke-width: 0px; fill: rgb(171, 99, 250); fill-opacity: 1;\"/></g></g></g><rect class=\"legendtoggle\" x=\"0\" y=\"-9.5\" width=\"129.046875\" height=\"19\" style=\"fill: rgb(0, 0, 0); fill-opacity: 0;\"/></g><g class=\"traces\" transform=\"translate(0,108.7)\" style=\"opacity: 1;\"><text class=\"legendtext\" text-anchor=\"start\" x=\"40\" y=\"4.680000000000001\" style=\"font-family: 'Open Sans', verdana, arial, sans-serif; font-size: 12px; fill: rgb(42, 63, 95); fill-opacity: 1; white-space: pre;\">sigma = 0.005</text><g class=\"layers\" style=\"opacity: 1;\"><g class=\"legendfill\"/><g class=\"legendlines\"><path class=\"js-line\" d=\"M5,0h30\" style=\"fill: none; stroke: rgb(255, 161, 90); stroke-opacity: 1; stroke-width: 2px;\"/></g><g class=\"legendsymbols\"><g class=\"legendpoints\"><path class=\"scatterpts\" transform=\"translate(20,0)\" d=\"M3,0A3,3 0 1,1 0,-3A3,3 0 0,1 3,0Z\" style=\"opacity: 1; stroke-width: 0px; fill: rgb(255, 161, 90); fill-opacity: 1;\"/></g></g></g><rect class=\"legendtoggle\" x=\"0\" y=\"-9.5\" width=\"129.046875\" height=\"19\" style=\"fill: rgb(0, 0, 0); fill-opacity: 0;\"/></g><g class=\"traces\" transform=\"translate(0,127.7)\" style=\"opacity: 1;\"><text class=\"legendtext\" text-anchor=\"start\" x=\"40\" y=\"4.680000000000001\" style=\"font-family: 'Open Sans', verdana, arial, sans-serif; font-size: 12px; fill: rgb(42, 63, 95); fill-opacity: 1; white-space: pre;\">sigma = 0</text><g class=\"layers\" style=\"opacity: 1;\"><g class=\"legendfill\"/><g class=\"legendlines\"><path class=\"js-line\" d=\"M5,0h30\" style=\"fill: none; stroke: rgb(0, 0, 0); stroke-opacity: 1; stroke-dasharray: 3px, 3px; stroke-width: 2px;\"/></g><g class=\"legendsymbols\"><g class=\"legendpoints\"><path class=\"scatterpts\" transform=\"translate(20,0)\" d=\"M3,0A3,3 0 1,1 0,-3A3,3 0 0,1 3,0Z\" style=\"opacity: 1; stroke-width: 0px; fill: rgb(0, 0, 0); fill-opacity: 1;\"/></g></g></g><rect class=\"legendtoggle\" x=\"0\" y=\"-9.5\" width=\"129.046875\" height=\"19\" style=\"fill: rgb(0, 0, 0); fill-opacity: 0;\"/></g></g></g><rect class=\"scrollbar\" rx=\"20\" ry=\"3\" width=\"0\" height=\"0\" x=\"0\" y=\"0\" style=\"fill: rgb(128, 139, 164); fill-opacity: 1;\"/></g><g class=\"g-gtitle\"/><g class=\"g-xtitle\"><text class=\"xtitle\" x=\"410\" y=\"480.3\" text-anchor=\"middle\" style=\"font-family: 'Open Sans', verdana, arial, sans-serif; font-size: 14px; fill: rgb(42, 63, 95); opacity: 1; font-weight: normal; white-space: pre;\">Number of bins</text></g><g class=\"g-ytitle\"><text class=\"ytitle\" transform=\"rotate(-90,31.575000000000003,270)\" x=\"31.575000000000003\" y=\"270\" text-anchor=\"middle\" style=\"font-family: 'Open Sans', verdana, arial, sans-serif; font-size: 14px; fill: rgb(42, 63, 95); opacity: 1; font-weight: normal; white-space: pre;\">SR PSF relative error [%] (log)</text></g></g></svg>"
     },
     "metadata": {},
     "output_type": "display_data"
    }
   ],
   "source": [
    "fig = go.Figure()\n",
    "number_of_bins = [n_bins *(n_points + 1) for n_points in SED_points_per_bin_list]\n",
    "\n",
    "for sigma_id in range(len(sigma_list)):\n",
    "    fig.add_trace(go.Scatter(\n",
    "        #legendgroup=SED_name[star_id],\n",
    "        #legendgrouptitle_text=SED_name[star_id],\n",
    "        x=number_of_bins,\n",
    "        y=rel_rmse_mean_noisy_interp[sigma_id,:],\n",
    "        name='sigma = {}'.format(sigma_list[sigma_id]),\n",
    "    ))\n",
    "# Sigma = 0, no Gaussian noise\n",
    "fig.add_trace(go.Scatter(\n",
    "        x=number_of_bins,\n",
    "        y=rel_rmse_mean_interp,\n",
    "        name='sigma = 0',\n",
    "        line=dict(color='black', dash='dot')\n",
    "    ))\n",
    "\n",
    "fig.update_xaxes(tickvals=number_of_bins, title_text=\"Number of bins\")\n",
    "fig.update_yaxes(title_text=\"SR PSF relative error [%] (log)\", type=\"log\")\n",
    "fig.update_layout(legend_title_text='Sigma values:', width=900, height=520)\n",
    "\n",
    "#fig.write_image('../outputs/plots/noisy_interpolated_LINEAR_SED_PSF_errors.pdf', engine='kaleido')\n",
    "fig.show(interactive)"
   ]
  },
  {
   "cell_type": "code",
   "execution_count": null,
   "metadata": {},
   "outputs": [],
   "source": []
  }
 ],
 "metadata": {
  "interpreter": {
   "hash": "31f2aee4e71d21fbe5cf8b01ff0e069b9275f58929596ceb00d14d90e3e16cd6"
  },
  "kernelspec": {
   "display_name": "Python 3.8.2 64-bit",
   "language": "python",
   "name": "python3"
  },
  "language_info": {
   "codemirror_mode": {
    "name": "ipython",
    "version": 3
   },
   "file_extension": ".py",
   "mimetype": "text/x-python",
   "name": "python",
   "nbconvert_exporter": "python",
   "pygments_lexer": "ipython3",
   "version": "3.8.2"
  },
  "orig_nbformat": 4
 },
 "nbformat": 4,
 "nbformat_minor": 2
}
